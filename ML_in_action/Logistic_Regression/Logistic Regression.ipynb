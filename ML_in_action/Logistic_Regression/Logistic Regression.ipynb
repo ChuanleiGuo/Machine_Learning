{
 "cells": [
  {
   "cell_type": "code",
   "execution_count": 7,
   "metadata": {
    "collapsed": false
   },
   "outputs": [],
   "source": [
    "import numpy as np\n",
    "import matplotlib.pyplot as plt\n",
    "%matplotlib inline"
   ]
  },
  {
   "cell_type": "markdown",
   "metadata": {},
   "source": [
    "## 梯度上升法"
   ]
  },
  {
   "cell_type": "markdown",
   "metadata": {},
   "source": [
    "要找到某函数的最大值，最好的方法是沿着这个函数的梯度方向探寻"
   ]
  },
  {
   "cell_type": "code",
   "execution_count": 8,
   "metadata": {
    "collapsed": true
   },
   "outputs": [],
   "source": [
    "def sigmoid(in_x):\n",
    "    return 1.0/(1+np.exp(-in_x))"
   ]
  },
  {
   "cell_type": "code",
   "execution_count": 9,
   "metadata": {
    "collapsed": true
   },
   "outputs": [],
   "source": [
    "def load_dataset():\n",
    "    data_mat = []\n",
    "    label_mat = []\n",
    "    with open(\"testSet.txt\") as file:\n",
    "        for line in file:\n",
    "            line_arr = line.strip().split()\n",
    "            data_mat.append([1.0, float(line_arr[0]), float(line_arr[1])])\n",
    "            label_mat.append(int(line_arr[2]))\n",
    "    return data_mat, label_mat"
   ]
  },
  {
   "cell_type": "code",
   "execution_count": 11,
   "metadata": {
    "collapsed": true
   },
   "outputs": [],
   "source": [
    "def grad_ascent(data_mat_in, class_labels):\n",
    "    data_mat = np.mat(data_mat_in)\n",
    "    label_mat = np.mat(class_labels).transpose()\n",
    "    m, n = np.shape(data_mat)\n",
    "    alpha = 0.001\n",
    "    max_cycles = 500\n",
    "    weights = np.ones((n, 1))\n",
    "    for k in range(max_cycles):\n",
    "        h = sigmoid(data_mat * weights)\n",
    "        error = (label_mat - h)\n",
    "        weights = weights + alpha * data_mat.transpose() * error\n",
    "    return weights"
   ]
  },
  {
   "cell_type": "markdown",
   "metadata": {},
   "source": [
    "## 随机梯度上升 "
   ]
  },
  {
   "cell_type": "markdown",
   "metadata": {},
   "source": [
    "在线学习方法：可以在新样本到来时对分类器进行增量式更新"
   ]
  },
  {
   "cell_type": "code",
   "execution_count": 23,
   "metadata": {
    "collapsed": true
   },
   "outputs": [],
   "source": [
    "def stoc_grad_ascent0(data_mat, class_labels):\n",
    "    m, n = np.shape(data_mat)\n",
    "    alpha = 0.01\n",
    "    weights = np.ones(n)\n",
    "    for i in range(m):\n",
    "        h = sigmoid(np.sum(data_mat[i] * weights))\n",
    "        error = class_labels[i] - h\n",
    "        weights = weights + alpha * error * data_mat[i]\n",
    "    return weights"
   ]
  },
  {
   "cell_type": "code",
   "execution_count": 29,
   "metadata": {
    "collapsed": true
   },
   "outputs": [],
   "source": [
    "def stoc_grad_ascent1(data_mat, class_labels, num_iter=150):\n",
    "    m, n = np.shape(data_mat)\n",
    "    weights = np.ones(n)\n",
    "    for j in range(num_iter):\n",
    "        data_index = list(range(m))\n",
    "        for i in range(m):\n",
    "            alpha = 4 / (1.0 + j + i) + 0.01\n",
    "            rand_index = int(np.random.uniform(0, len(data_index)))\n",
    "            h = sigmoid(np.sum(data_mat[rand_index] * weights))\n",
    "            error = class_labels[rand_index] - h\n",
    "            weights = weights + alpha * error * data_mat[rand_index]\n",
    "            del(data_index[rand_index])\n",
    "    return weights"
   ]
  },
  {
   "cell_type": "code",
   "execution_count": 12,
   "metadata": {
    "collapsed": true
   },
   "outputs": [],
   "source": [
    "data_arr, label_mat = load_dataset()"
   ]
  },
  {
   "cell_type": "code",
   "execution_count": 15,
   "metadata": {
    "collapsed": false
   },
   "outputs": [],
   "source": [
    "weights = grad_ascent(data_arr, label_mat)"
   ]
  },
  {
   "cell_type": "code",
   "execution_count": 21,
   "metadata": {
    "collapsed": true
   },
   "outputs": [],
   "source": [
    "def plot_best_fit(weights):\n",
    "    data_mat, label_mat = load_dataset()\n",
    "    data_arr = np.array(data_mat)\n",
    "    n = np.shape(data_arr)[0]\n",
    "    x_cord1, y_cord1 = [], []\n",
    "    x_cord2, y_cord2 = [], []\n",
    "    \n",
    "    for i in range(n):\n",
    "        if int(label_mat[i]) == 1:\n",
    "            x_cord1.append(data_arr[i, 1])\n",
    "            y_cord1.append(data_arr[i, 2])\n",
    "        else:\n",
    "            x_cord2.append(data_arr[i, 1])\n",
    "            y_cord2.append(data_arr[i, 2])\n",
    "    \n",
    "    fig = plt.figure()\n",
    "    ax = fig.add_subplot(1, 1, 1)\n",
    "    ax.scatter(x_cord1, y_cord1, s=30, c='red', marker='s')\n",
    "    ax.scatter(x_cord2, y_cord2, s=30, c='green')\n",
    "    x = np.arange(-3.0, 3.0, 0.1)\n",
    "    y = (-weights[0]-weights[1]*x)/weights[2]\n",
    "    ax.plot(x, y.T)\n",
    "    plt.xlabel(\"X1\")\n",
    "    plt.ylabel(\"X2\")\n",
    "    plt.show()"
   ]
  },
  {
   "cell_type": "code",
   "execution_count": 22,
   "metadata": {
    "collapsed": false
   },
   "outputs": [
    {
     "data": {
      "image/png": "[encoded data removed]",
      "text/plain": [
       "<matplotlib.figure.Figure at 0x110296fd0>"
      ]
     },
     "metadata": {},
     "output_type": "display_data"
    }
   ],
   "source": [
    "plot_best_fit(weights)"
   ]
  },
  {
   "cell_type": "code",
   "execution_count": 25,
   "metadata": {
    "collapsed": false
   },
   "outputs": [
    {
     "data": {
      "image/png": "[encoded data removed]",
      "text/plain": [
       "<matplotlib.figure.Figure at 0x11016f780>"
      ]
     },
     "metadata": {},
     "output_type": "display_data"
    }
   ],
   "source": [
    "data_arr, label_mat = load_dataset()\n",
    "weights = stoc_grad_ascent0(np.array(data_arr), label_mat)\n",
    "plot_best_fit(weights)"
   ]
  },
  {
   "cell_type": "code",
   "execution_count": 30,
   "metadata": {
    "collapsed": false
   },
   "outputs": [
    {
     "data": {
      "image/png": "[encoded data removed]",
      "text/plain": [
       "<matplotlib.figure.Figure at 0x1104cdeb8>"
      ]
     },
     "metadata": {},
     "output_type": "display_data"
    }
   ],
   "source": [
    "data_arr, label_mat = load_dataset()\n",
    "weights = stoc_grad_ascent1(np.array(data_arr), label_mat)\n",
    "plot_best_fit(weights)"
   ]
  },
  {
   "cell_type": "markdown",
   "metadata": {},
   "source": [
    "# 从疝气病预测病马的死亡率"
   ]
  },
  {
   "cell_type": "code",
   "execution_count": 44,
   "metadata": {
    "collapsed": true
   },
   "outputs": [],
   "source": [
    "def classify_vector(in_x, weights):\n",
    "    prob = sigmoid(np.sum(in_x * weights))\n",
    "    if prob > 0.5:\n",
    "        return 1.0\n",
    "    else:\n",
    "        return 0.0"
   ]
  },
  {
   "cell_type": "code",
   "execution_count": 45,
   "metadata": {
    "collapsed": true
   },
   "outputs": [],
   "source": [
    "def colic_test():\n",
    "    training_set = []\n",
    "    training_labels = []\n",
    "    with open(\"horseColicTraining.txt\") as fr_traing:\n",
    "        for line in fr_traing:\n",
    "            cur_line = line.strip().split('\\t')\n",
    "            line_arr = []\n",
    "            for i in range(21):\n",
    "                line_arr.append(float(cur_line[i]))\n",
    "            training_set.append(line_arr)\n",
    "            training_labels.append(float(cur_line[21]))\n",
    "    train_weights = stoc_grad_ascent1(np.array(training_set), training_labels, 500)\n",
    "    \n",
    "    error_count = 0\n",
    "    num_test_vec = 0.0\n",
    "    \n",
    "    with open(\"horseColicTest.txt\") as fr_test:\n",
    "        for line in fr_test:\n",
    "            num_test_vec += 1.0\n",
    "            cur_line = line.strip().split('\\t')\n",
    "            line_arr = []\n",
    "            for i in range(21):\n",
    "                line_arr.append(float(cur_line[i]))\n",
    "            if int(classify_vector(np.array(line_arr), train_weights)) != int(cur_line[21]):\n",
    "                error_count += 1\n",
    "    error_rate = (float(error_count) / num_test_vec)\n",
    "    print(\"the error rate of this test is: {}\".format(error_rate))\n",
    "    return error_rate"
   ]
  },
  {
   "cell_type": "code",
   "execution_count": 46,
   "metadata": {
    "collapsed": true
   },
   "outputs": [],
   "source": [
    "def multi_test():\n",
    "    num_tests, error_sum = 10, 0.0\n",
    "    for k in range(num_tests):\n",
    "        error_sum += colic_test()\n",
    "    print(\"after {} iterations the average error rate is: {}\".format(num_tests, error_sum/(float(num_tests))))"
   ]
  },
  {
   "cell_type": "code",
   "execution_count": 47,
   "metadata": {
    "collapsed": false
   },
   "outputs": [
    {
     "name": "stderr",
     "output_type": "stream",
     "text": [
      "/usr/local/lib/python3.5/site-packages/ipykernel/__main__.py:2: RuntimeWarning: overflow encountered in exp\n",
      "  from ipykernel import kernelapp as app\n"
     ]
    },
    {
     "name": "stdout",
     "output_type": "stream",
     "text": [
      "the error rate of this test is: 0.3582089552238806\n",
      "the error rate of this test is: 0.3880597014925373\n",
      "the error rate of this test is: 0.4925373134328358\n",
      "the error rate of this test is: 0.3582089552238806\n",
      "the error rate of this test is: 0.43283582089552236\n",
      "the error rate of this test is: 0.417910447761194\n",
      "the error rate of this test is: 0.373134328358209\n",
      "the error rate of this test is: 0.29850746268656714\n",
      "the error rate of this test is: 0.29850746268656714\n",
      "the error rate of this test is: 0.417910447761194\n",
      "after 10 iterations the average error rate is: 0.3835820895522387\n"
     ]
    }
   ],
   "source": [
    "multi_test()"
   ]
  },
  {
   "cell_type": "code",
   "execution_count": null,
   "metadata": {
    "collapsed": true
   },
   "outputs": [],
   "source": []
  }
 ],
 "metadata": {
  "kernelspec": {
   "display_name": "Python 3",
   "language": "python",
   "name": "python3"
  },
  "language_info": {
   "codemirror_mode": {
    "name": "ipython",
    "version": 3
   },
   "file_extension": ".py",
   "mimetype": "text/x-python",
   "name": "python",
   "nbconvert_exporter": "python",
   "pygments_lexer": "ipython3",
   "version": "3.5.2"
  }
 },
 "nbformat": 4,
 "nbformat_minor": 2
}
