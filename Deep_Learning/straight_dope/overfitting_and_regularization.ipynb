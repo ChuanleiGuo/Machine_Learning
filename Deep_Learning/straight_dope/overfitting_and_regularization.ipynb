{
 "cells": [
  {
   "cell_type": "code",
   "execution_count": 1,
   "metadata": {
    "collapsed": true
   },
   "outputs": [],
   "source": [
    "import mxnet as mx\n",
    "import mxnet.ndarray as nd\n",
    "from mxnet import autograd\n",
    "import numpy as np"
   ]
  },
  {
   "cell_type": "code",
   "execution_count": 2,
   "metadata": {
    "collapsed": true
   },
   "outputs": [],
   "source": [
    "ctx = mx.gpu()\n",
    "mx.random.seed(1)"
   ]
  },
  {
   "cell_type": "code",
   "execution_count": 3,
   "metadata": {
    "collapsed": true
   },
   "outputs": [],
   "source": [
    "%matplotlib inline\n",
    "import matplotlib\n",
    "import matplotlib.pyplot as plt"
   ]
  },
  {
   "cell_type": "code",
   "execution_count": 4,
   "metadata": {
    "collapsed": true
   },
   "outputs": [],
   "source": [
    "mnist = mx.test_utils.get_mnist()\n",
    "num_examples = 1000\n",
    "batch_size = 64\n",
    "train_data = mx.gluon.data.DataLoader(\n",
    "    mx.gluon.data.ArrayDataset(mnist[\"train_data\"][:num_examples],\n",
    "        mnist[\"train_label\"][:num_examples].astype(np.float32)),\n",
    "        batch_size, shuffle=True)\n",
    "test_data = mx.gluon.data.DataLoader(\n",
    "    mx.gluon.data.ArrayDataset(mnist[\"test_data\"][:num_examples],\n",
    "        mnist[\"test_label\"][:num_examples].astype(np.float32)),\n",
    "        batch_size, shuffle=False)"
   ]
  },
  {
   "cell_type": "code",
   "execution_count": 24,
   "metadata": {
    "collapsed": true
   },
   "outputs": [],
   "source": [
    "W = nd.random_normal(shape=(784, 10))\n",
    "b = nd.random_normal(shape=10)\n",
    "W = W.as_in_context(ctx)\n",
    "b = b.as_in_context(ctx)\n",
    "\n",
    "params = [W, b]\n",
    "\n",
    "for param in params:\n",
    "    param.attach_grad()\n",
    "    \n",
    "def net(X):\n",
    "    y_linear = nd.dot(X, W) + b\n",
    "    y_hat = nd.softmax(y_linear, axis=1)\n",
    "    return y_hat"
   ]
  },
  {
   "cell_type": "code",
   "execution_count": 25,
   "metadata": {
    "collapsed": true
   },
   "outputs": [],
   "source": [
    "def cross_entropy(y_hat, y):\n",
    "    return - nd.sum(y * nd.log(y_hat), axis=0, exclude=True)\n",
    "\n",
    "def SGD(params, lr):\n",
    "    for param in params:\n",
    "        param[:] = param - lr * param.grad"
   ]
  },
  {
   "cell_type": "code",
   "execution_count": 26,
   "metadata": {
    "collapsed": true
   },
   "outputs": [],
   "source": [
    "def evaluate_accuracy(data_iterator, net):\n",
    "    numerator = 0.\n",
    "    denominator = 0.\n",
    "    loss_avg = 0.\n",
    "    for i, (data, label) in enumerate(data_iterator):\n",
    "        data = data.as_in_context(ctx).reshape((-1,784))\n",
    "        label = label.as_in_context(ctx)\n",
    "        label_one_hot = nd.one_hot(label, 10)\n",
    "        output = net(data)\n",
    "        loss = cross_entropy(output, label_one_hot)\n",
    "        predictions = nd.argmax(output, axis=1)\n",
    "        numerator += nd.sum(predictions == label)\n",
    "        denominator += data.shape[0]\n",
    "        loss_avg = loss_avg*i/(i+1) + nd.mean(loss).asscalar()/(i+1)\n",
    "    return (numerator / denominator).asscalar(), loss_avg"
   ]
  },
  {
   "cell_type": "code",
   "execution_count": 27,
   "metadata": {
    "collapsed": true
   },
   "outputs": [],
   "source": [
    "def plot_learningcurves(loss_tr, loss_ts, acc_tr, acc_ts):\n",
    "    xs = list(range(len(loss_tr)))\n",
    "    \n",
    "    f = plt.figure(figsize=(12, 6))\n",
    "    fg1 = f.add_subplot(121)\n",
    "    fg2 = f.add_subplot(122)\n",
    "    \n",
    "    fg1.set_xlabel(\"epoch\", fontsize=14)\n",
    "    fg1.set_title(\"Comparing loss functions\")\n",
    "    fg1.semilogy(xs, loss_tr)\n",
    "    fg1.semilogy(xs, loss_ts)\n",
    "    fg1.grid(True, which=\"both\")\n",
    "    fg1.legend(['training loss', 'testing loss'], fontsize=14)\n",
    "    \n",
    "    fg2.set_title('Comparing accuracy')\n",
    "    fg1.set_xlabel('epoch',fontsize=14)\n",
    "    fg2.plot(xs, acc_tr)\n",
    "    fg2.plot(xs, acc_ts)\n",
    "    fg2.grid(True,which=\"both\")\n",
    "    fg2.legend(['training accuracy', 'testing accuracy'], fontsize=14)"
   ]
  },
  {
   "cell_type": "code",
   "execution_count": 28,
   "metadata": {},
   "outputs": [
    {
     "name": "stdout",
     "output_type": "stream",
     "text": [
      "Completed epoch 100. Train Loss: 0.493218569085, Test Loss 1.44212992489, Train_acc 0.89, Test_acc 0.704\n",
      "Completed epoch 200. Train Loss: 0.227533431258, Test Loss 1.27099385858, Train_acc 0.958, Test_acc 0.729\n",
      "Completed epoch 300. Train Loss: 0.131176914088, Test Loss 1.21520712972, Train_acc 0.974, Test_acc 0.74\n",
      "Completed epoch 400. Train Loss: 0.0819587702863, Test Loss 1.1850660257, Train_acc 0.989, Test_acc 0.746\n",
      "Completed epoch 500. Train Loss: 0.0539330674801, Test Loss 1.16768796369, Train_acc 0.996, Test_acc 0.757\n",
      "Completed epoch 600. Train Loss: 0.0398483007448, Test Loss 1.1561536938, Train_acc 0.999, Test_acc 0.759\n",
      "Completed epoch 700. Train Loss: 0.0312213023426, Test Loss 1.14654841647, Train_acc 1.0, Test_acc 0.761\n",
      "Completed epoch 800. Train Loss: 0.0253794399323, Test Loss 1.139177531, Train_acc 1.0, Test_acc 0.763\n",
      "Completed epoch 900. Train Loss: 0.0217395906802, Test Loss 1.13346815482, Train_acc 1.0, Test_acc 0.768\n",
      "Completed epoch 1000. Train Loss: 0.0190815619426, Test Loss 1.12935979292, Train_acc 1.0, Test_acc 0.772\n"
     ]
    },
    {
     "data": {
      "image/png": "[encoded data removed]",
      "text/plain": [
       "<matplotlib.figure.Figure at 0x7eff19222518>"
      ]
     },
     "metadata": {},
     "output_type": "display_data"
    }
   ],
   "source": [
    "epochs = 1000\n",
    "moving_loss = 0.\n",
    "niter=0\n",
    "\n",
    "loss_seq_train = []\n",
    "loss_seq_test = []\n",
    "acc_seq_train = []\n",
    "acc_seq_test = []\n",
    "\n",
    "\n",
    "for e in range(epochs):\n",
    "    for i, (data, label) in enumerate(train_data):\n",
    "        data = data.as_in_context(ctx).reshape((-1,784))\n",
    "        label = label.as_in_context(ctx)\n",
    "        label_one_hot = nd.one_hot(label, 10)\n",
    "        with autograd.record():\n",
    "            output = net(data)\n",
    "            loss = cross_entropy(output, label_one_hot)\n",
    "        loss.backward()\n",
    "        SGD(params, .001)\n",
    "\n",
    "        ##########################\n",
    "        #  Keep a moving average of the losses\n",
    "        ##########################\n",
    "        niter +=1\n",
    "        moving_loss = .99 * moving_loss + .01 * nd.mean(loss).asscalar()\n",
    "        est_loss = moving_loss/(1-0.99**niter)\n",
    "\n",
    "    test_accuracy, test_loss = evaluate_accuracy(test_data, net)\n",
    "    train_accuracy, train_loss = evaluate_accuracy(train_data, net)\n",
    "\n",
    "    # save them for later\n",
    "    loss_seq_train.append(train_loss)\n",
    "    loss_seq_test.append(test_loss)\n",
    "    acc_seq_train.append(train_accuracy)\n",
    "    acc_seq_test.append(test_accuracy)\n",
    "\n",
    "\n",
    "    if e % 100 == 99:\n",
    "        print(\"Completed epoch %s. Train Loss: %s, Test Loss %s, Train_acc %s, Test_acc %s\" %\n",
    "              (e+1, train_loss, test_loss, train_accuracy, test_accuracy))\n",
    "\n",
    "\n",
    "## Plotting the learning curves\n",
    "plot_learningcurves(loss_seq_train,loss_seq_test,acc_seq_train,acc_seq_test)"
   ]
  },
  {
   "cell_type": "code",
   "execution_count": 29,
   "metadata": {
    "collapsed": true
   },
   "outputs": [],
   "source": [
    "def l2_penalty(params):\n",
    "    penalty = nd.zeros(shape=1)\n",
    "    penalty = penalty.as_in_context(ctx)\n",
    "    for param in params:\n",
    "        penalty = penalty + nd.sum(param ** 2)\n",
    "        return penalty"
   ]
  },
  {
   "cell_type": "code",
   "execution_count": 30,
   "metadata": {
    "collapsed": true
   },
   "outputs": [],
   "source": [
    "for param in params:\n",
    "    param[:] = nd.random_normal(shape=param.shape)"
   ]
  },
  {
   "cell_type": "code",
   "execution_count": 31,
   "metadata": {},
   "outputs": [
    {
     "name": "stdout",
     "output_type": "stream",
     "text": [
      "Completed epoch 100. Train Loss: 0.38153540995, Test Loss 1.15425642207, Train_acc 0.892, Test_acc 0.717\n",
      "Completed epoch 200. Train Loss: 0.188725554384, Test Loss 0.805607581511, Train_acc 0.966, Test_acc 0.769\n",
      "Completed epoch 300. Train Loss: 0.141792318318, Test Loss 0.662871800363, Train_acc 0.985, Test_acc 0.787\n",
      "Completed epoch 400. Train Loss: 0.131049188785, Test Loss 0.587457111105, Train_acc 0.991, Test_acc 0.803\n",
      "Completed epoch 500. Train Loss: 0.127413894515, Test Loss 0.545308243483, Train_acc 0.993, Test_acc 0.814\n",
      "Completed epoch 600. Train Loss: 0.127126353327, Test Loss 0.52313391678, Train_acc 0.993, Test_acc 0.821\n",
      "Completed epoch 700. Train Loss: 0.126942903735, Test Loss 0.510197125375, Train_acc 0.992, Test_acc 0.828\n",
      "Completed epoch 800. Train Loss: 0.127379112411, Test Loss 0.502014454454, Train_acc 0.993, Test_acc 0.831\n",
      "Completed epoch 900. Train Loss: 0.128119588364, Test Loss 0.497514149174, Train_acc 0.994, Test_acc 0.836\n",
      "Completed epoch 1000. Train Loss: 0.127834530547, Test Loss 0.494088202715, Train_acc 0.994, Test_acc 0.835\n"
     ]
    }
   ],
   "source": [
    "epochs = 1000\n",
    "moving_loss = 0.\n",
    "l2_strength = .1\n",
    "niter=0\n",
    "\n",
    "loss_seq_train = []\n",
    "loss_seq_test = []\n",
    "acc_seq_train = []\n",
    "acc_seq_test = []\n",
    "\n",
    "\n",
    "for e in range(epochs):\n",
    "    for i, (data, label) in enumerate(train_data):\n",
    "        data = data.as_in_context(ctx).reshape((-1,784))\n",
    "        label = label.as_in_context(ctx)\n",
    "        label_one_hot = nd.one_hot(label, 10)\n",
    "        with autograd.record():\n",
    "            output = net(data)\n",
    "            loss = nd.sum(cross_entropy(output, label_one_hot)) + l2_strength * l2_penalty(params)\n",
    "        loss.backward()\n",
    "        SGD(params, .001)\n",
    "\n",
    "        ##########################\n",
    "        #  Keep a moving average of the losses\n",
    "        ##########################\n",
    "        niter +=1\n",
    "        moving_loss = .99 * moving_loss + .01 * nd.mean(loss).asscalar()\n",
    "        est_loss = moving_loss/(1-0.99**niter)\n",
    "\n",
    "\n",
    "    test_accuracy, test_loss = evaluate_accuracy(test_data, net)\n",
    "    train_accuracy, train_loss = evaluate_accuracy(train_data, net)\n",
    "\n",
    "    # save them for later\n",
    "    loss_seq_train.append(train_loss)\n",
    "    loss_seq_test.append(test_loss)\n",
    "    acc_seq_train.append(train_accuracy)\n",
    "    acc_seq_test.append(test_accuracy)\n",
    "\n",
    "    if e % 100 == 99:\n",
    "        print(\"Completed epoch %s. Train Loss: %s, Test Loss %s, Train_acc %s, Test_acc %s\" %\n",
    "              (e+1, train_loss, test_loss, train_accuracy, test_accuracy))"
   ]
  },
  {
   "cell_type": "code",
   "execution_count": null,
   "metadata": {
    "collapsed": true
   },
   "outputs": [],
   "source": []
  }
 ],
 "metadata": {
  "kernelspec": {
   "display_name": "Python 3",
   "language": "python",
   "name": "python3"
  },
  "language_info": {
   "codemirror_mode": {
    "name": "ipython",
    "version": 3
   },
   "file_extension": ".py",
   "mimetype": "text/x-python",
   "name": "python",
   "nbconvert_exporter": "python",
   "pygments_lexer": "ipython3",
   "version": "3.6.2"
  }
 },
 "nbformat": 4,
 "nbformat_minor": 2
}
