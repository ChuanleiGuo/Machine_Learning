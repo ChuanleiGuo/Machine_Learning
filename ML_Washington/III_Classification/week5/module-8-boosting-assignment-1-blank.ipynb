{
 "cells": [
  {
   "cell_type": "markdown",
   "metadata": {},
   "source": [
    "# Exploring Ensemble Methods"
   ]
  },
  {
   "cell_type": "markdown",
   "metadata": {},
   "source": [
    "In this assignment, we will explore the use of boosting. We will use the pre-implemented gradient boosted trees in GraphLab Create. You will:\n",
    "\n",
    "* Use SFrames to do some feature engineering.\n",
    "* Train a boosted ensemble of decision-trees (gradient boosted trees) on the LendingClub dataset.\n",
    "* Predict whether a loan will default along with prediction probabilities (on a validation set).\n",
    "* Evaluate the trained model and compare it with a baseline.\n",
    "* Find the most positive and negative loans using the learned model.\n",
    "* Explore how the number of trees influences classification performance.\n",
    "\n",
    "Let's get started!\n",
    "\n",
    "## Fire up Graphlab Create"
   ]
  },
  {
   "cell_type": "code",
   "execution_count": 1,
   "metadata": {
    "collapsed": false
   },
   "outputs": [],
   "source": [
    "import graphlab"
   ]
  },
  {
   "cell_type": "markdown",
   "metadata": {},
   "source": [
    "# Load LendingClub dataset\n",
    "\n",
    "We will be using the [LendingClub](https://www.lendingclub.com/) data. As discussed earlier, the [LendingClub](https://www.lendingclub.com/) is a peer-to-peer leading company that directly connects borrowers and potential lenders/investors. \n",
    "\n",
    "Just like we did in previous assignments, we will build a classification model to predict whether or not a loan provided by lending club is likely to default.\n",
    "\n",
    "Let us start by loading the data."
   ]
  },
  {
   "cell_type": "code",
   "execution_count": 2,
   "metadata": {
    "collapsed": false
   },
   "outputs": [
    {
     "name": "stdout",
     "output_type": "stream",
     "text": [
      "This non-commercial license of GraphLab Create for academic use is assigned to chuanleiguo@gmail.com and will expire on January 25, 2018.\n"
     ]
    },
    {
     "name": "stderr",
     "output_type": "stream",
     "text": [
      "[INFO] graphlab.cython.cy_server: GraphLab Create v2.1 started. Logging: /tmp/graphlab_server_1493342860.log\n"
     ]
    }
   ],
   "source": [
    "loans = graphlab.SFrame('lending-club-data.gl/')"
   ]
  },
  {
   "cell_type": "markdown",
   "metadata": {},
   "source": [
    "Let's quickly explore what the dataset looks like. First, let's print out the column names to see what features we have in this dataset. We have done this in previous assignments, so we won't belabor this here."
   ]
  },
  {
   "cell_type": "code",
   "execution_count": 3,
   "metadata": {
    "collapsed": false
   },
   "outputs": [
    {
     "data": {
      "text/plain": [
       "['id',\n",
       " 'member_id',\n",
       " 'loan_amnt',\n",
       " 'funded_amnt',\n",
       " 'funded_amnt_inv',\n",
       " 'term',\n",
       " 'int_rate',\n",
       " 'installment',\n",
       " 'grade',\n",
       " 'sub_grade',\n",
       " 'emp_title',\n",
       " 'emp_length',\n",
       " 'home_ownership',\n",
       " 'annual_inc',\n",
       " 'is_inc_v',\n",
       " 'issue_d',\n",
       " 'loan_status',\n",
       " 'pymnt_plan',\n",
       " 'url',\n",
       " 'desc',\n",
       " 'purpose',\n",
       " 'title',\n",
       " 'zip_code',\n",
       " 'addr_state',\n",
       " 'dti',\n",
       " 'delinq_2yrs',\n",
       " 'earliest_cr_line',\n",
       " 'inq_last_6mths',\n",
       " 'mths_since_last_delinq',\n",
       " 'mths_since_last_record',\n",
       " 'open_acc',\n",
       " 'pub_rec',\n",
       " 'revol_bal',\n",
       " 'revol_util',\n",
       " 'total_acc',\n",
       " 'initial_list_status',\n",
       " 'out_prncp',\n",
       " 'out_prncp_inv',\n",
       " 'total_pymnt',\n",
       " 'total_pymnt_inv',\n",
       " 'total_rec_prncp',\n",
       " 'total_rec_int',\n",
       " 'total_rec_late_fee',\n",
       " 'recoveries',\n",
       " 'collection_recovery_fee',\n",
       " 'last_pymnt_d',\n",
       " 'last_pymnt_amnt',\n",
       " 'next_pymnt_d',\n",
       " 'last_credit_pull_d',\n",
       " 'collections_12_mths_ex_med',\n",
       " 'mths_since_last_major_derog',\n",
       " 'policy_code',\n",
       " 'not_compliant',\n",
       " 'status',\n",
       " 'inactive_loans',\n",
       " 'bad_loans',\n",
       " 'emp_length_num',\n",
       " 'grade_num',\n",
       " 'sub_grade_num',\n",
       " 'delinq_2yrs_zero',\n",
       " 'pub_rec_zero',\n",
       " 'collections_12_mths_zero',\n",
       " 'short_emp',\n",
       " 'payment_inc_ratio',\n",
       " 'final_d',\n",
       " 'last_delinq_none',\n",
       " 'last_record_none',\n",
       " 'last_major_derog_none']"
      ]
     },
     "execution_count": 3,
     "metadata": {},
     "output_type": "execute_result"
    }
   ],
   "source": [
    "loans.column_names()"
   ]
  },
  {
   "cell_type": "markdown",
   "metadata": {},
   "source": [
    "## Modifying the target column\n",
    "\n",
    "The target column (label column) of the dataset that we are interested in is called `bad_loans`. In this column **1** means a risky (bad) loan **0** means a safe  loan.\n",
    "\n",
    "As in past assignments, in order to make this more intuitive and consistent with the lectures, we reassign the target to be:\n",
    "* **+1** as a safe  loan, \n",
    "* **-1** as a risky (bad) loan. \n",
    "\n",
    "We put this in a new column called `safe_loans`."
   ]
  },
  {
   "cell_type": "code",
   "execution_count": 4,
   "metadata": {
    "collapsed": true
   },
   "outputs": [],
   "source": [
    "loans['safe_loans'] = loans['bad_loans'].apply(lambda x : +1 if x==0 else -1)\n",
    "loans = loans.remove_column('bad_loans')"
   ]
  },
  {
   "cell_type": "markdown",
   "metadata": {},
   "source": [
    "## Selecting features\n",
    "\n",
    "In this assignment, we will be using a subset of features (categorical and numeric). The features we will be using are **described in the code comments** below. If you are a finance geek, the [LendingClub](https://www.lendingclub.com/) website has a lot more details about these features.\n",
    "\n",
    "The features we will be using are described in the code comments below:"
   ]
  },
  {
   "cell_type": "code",
   "execution_count": 5,
   "metadata": {
    "collapsed": false
   },
   "outputs": [],
   "source": [
    "target = 'safe_loans'\n",
    "features = ['grade',                     # grade of the loan (categorical)\n",
    "            'sub_grade_num',             # sub-grade of the loan as a number from 0 to 1\n",
    "            'short_emp',                 # one year or less of employment\n",
    "            'emp_length_num',            # number of years of employment\n",
    "            'home_ownership',            # home_ownership status: own, mortgage or rent\n",
    "            'dti',                       # debt to income ratio\n",
    "            'purpose',                   # the purpose of the loan\n",
    "            'payment_inc_ratio',         # ratio of the monthly payment to income\n",
    "            'delinq_2yrs',               # number of delinquincies \n",
    "            'delinq_2yrs_zero',          # no delinquincies in last 2 years\n",
    "            'inq_last_6mths',            # number of creditor inquiries in last 6 months\n",
    "            'last_delinq_none',          # has borrower had a delinquincy\n",
    "            'last_major_derog_none',     # has borrower had 90 day or worse rating\n",
    "            'open_acc',                  # number of open credit accounts\n",
    "            'pub_rec',                   # number of derogatory public records\n",
    "            'pub_rec_zero',              # no derogatory public records\n",
    "            'revol_util',                # percent of available credit being used\n",
    "            'total_rec_late_fee',        # total late fees received to day\n",
    "            'int_rate',                  # interest rate of the loan\n",
    "            'total_rec_int',             # interest received to date\n",
    "            'annual_inc',                # annual income of borrower\n",
    "            'funded_amnt',               # amount committed to the loan\n",
    "            'funded_amnt_inv',           # amount committed by investors for the loan\n",
    "            'installment',               # monthly payment owed by the borrower\n",
    "           ]"
   ]
  },
  {
   "cell_type": "markdown",
   "metadata": {},
   "source": [
    "## Skipping observations with missing values\n",
    "\n",
    "Recall from the lectures that one common approach to coping with missing values is to **skip** observations that contain missing values.\n",
    "\n",
    "We run the following code to do so:"
   ]
  },
  {
   "cell_type": "code",
   "execution_count": 6,
   "metadata": {
    "collapsed": false
   },
   "outputs": [
    {
     "name": "stdout",
     "output_type": "stream",
     "text": [
      "Dropping 29 observations; keeping 122578 \n"
     ]
    }
   ],
   "source": [
    "loans, loans_with_na = loans[[target] + features].dropna_split()\n",
    "\n",
    "# Count the number of rows with missing data\n",
    "num_rows_with_na = loans_with_na.num_rows()\n",
    "num_rows = loans.num_rows()\n",
    "print 'Dropping %s observations; keeping %s ' % (num_rows_with_na, num_rows)"
   ]
  },
  {
   "cell_type": "markdown",
   "metadata": {},
   "source": [
    "Fortunately, there are not too many missing values. We are retaining most of the data."
   ]
  },
  {
   "cell_type": "markdown",
   "metadata": {},
   "source": [
    "## Make sure the classes are balanced"
   ]
  },
  {
   "cell_type": "markdown",
   "metadata": {},
   "source": [
    "We saw in an earlier assignment that this dataset is also imbalanced. We will undersample the larger class (safe loans) in order to balance out our dataset. We used `seed=1` to make sure everyone gets the same results."
   ]
  },
  {
   "cell_type": "code",
   "execution_count": 7,
   "metadata": {
    "collapsed": false
   },
   "outputs": [
    {
     "name": "stdout",
     "output_type": "stream",
     "text": [
      "Percentage of safe loans                 : 0.502247166849\n",
      "Percentage of risky loans                : 0.497752833151\n",
      "Total number of loans in our new dataset : 46503\n"
     ]
    }
   ],
   "source": [
    "safe_loans_raw = loans[loans[target] == 1]\n",
    "risky_loans_raw = loans[loans[target] == -1]\n",
    "\n",
    "# Undersample the safe loans.\n",
    "percentage = len(risky_loans_raw)/float(len(safe_loans_raw))\n",
    "safe_loans = safe_loans_raw.sample(percentage, seed = 1)\n",
    "risky_loans = risky_loans_raw\n",
    "loans_data = risky_loans.append(safe_loans)\n",
    "\n",
    "print \"Percentage of safe loans                 :\", len(safe_loans) / float(len(loans_data))\n",
    "print \"Percentage of risky loans                :\", len(risky_loans) / float(len(loans_data))\n",
    "print \"Total number of loans in our new dataset :\", len(loans_data)"
   ]
  },
  {
   "cell_type": "markdown",
   "metadata": {},
   "source": [
    "**Checkpoint:** You should now see that the dataset is balanced (approximately 50-50 safe vs risky loans)."
   ]
  },
  {
   "cell_type": "markdown",
   "metadata": {},
   "source": [
    "**Note:** There are many approaches for dealing with imbalanced data, including some where we modify the learning algorithm. These approaches are beyond the scope of this course, but some of them are reviewed in this [paper](http://ieeexplore.ieee.org/xpl/login.jsp?tp=&arnumber=5128907&url=http%3A%2F%2Fieeexplore.ieee.org%2Fiel5%2F69%2F5173046%2F05128907.pdf%3Farnumber%3D5128907 ). For this assignment, we use the simplest possible approach, where we subsample the overly represented class to get a more balanced dataset. In general, and especially when the data is highly imbalanced, we recommend using more advanced methods."
   ]
  },
  {
   "cell_type": "markdown",
   "metadata": {},
   "source": [
    "## Split data into training and validation sets"
   ]
  },
  {
   "cell_type": "markdown",
   "metadata": {},
   "source": [
    "We split the data into training data and validation data. We used `seed=1` to make sure everyone gets the same results. We will use the validation data to help us select model parameters."
   ]
  },
  {
   "cell_type": "code",
   "execution_count": 8,
   "metadata": {
    "collapsed": false
   },
   "outputs": [],
   "source": [
    "train_data, validation_data = loans_data.random_split(.8, seed=1)"
   ]
  },
  {
   "cell_type": "markdown",
   "metadata": {},
   "source": [
    "# Gradient boosted tree classifier"
   ]
  },
  {
   "cell_type": "markdown",
   "metadata": {},
   "source": [
    "Gradient boosted trees are a powerful variant of boosting methods; they have been used to win many [Kaggle](https://www.kaggle.com/) competitions, and have been widely used in industry.  We will explore the predictive power of multiple decision trees as opposed to a single decision tree.\n",
    "\n",
    "**Additional reading:** If you are interested in gradient boosted trees, here is some additional reading material:\n",
    "* [GraphLab Create user guide](https://dato.com/learn/userguide/supervised-learning/boosted_trees_classifier.html)\n",
    "* [Advanced material on boosted trees](http://homes.cs.washington.edu/~tqchen/pdf/BoostedTree.pdf)\n",
    "\n",
    "\n",
    "We will now train models to predict `safe_loans` using the features above. In this section, we will experiment with training an ensemble of 5 trees. To cap the ensemble classifier at 5 trees, we call the function with **max_iterations=5** (recall that each iterations corresponds to adding a tree). We set `validation_set=None` to make sure everyone gets the same results."
   ]
  },
  {
   "cell_type": "code",
   "execution_count": 9,
   "metadata": {
    "collapsed": false
   },
   "outputs": [
    {
     "data": {
      "text/html": [
       "<pre>Boosted trees classifier:</pre>"
      ],
      "text/plain": [
       "Boosted trees classifier:"
      ]
     },
     "metadata": {},
     "output_type": "display_data"
    },
    {
     "data": {
      "text/html": [
       "<pre>--------------------------------------------------------</pre>"
      ],
      "text/plain": [
       "--------------------------------------------------------"
      ]
     },
     "metadata": {},
     "output_type": "display_data"
    },
    {
     "data": {
      "text/html": [
       "<pre>Number of examples          : 37219</pre>"
      ],
      "text/plain": [
       "Number of examples          : 37219"
      ]
     },
     "metadata": {},
     "output_type": "display_data"
    },
    {
     "data": {
      "text/html": [
       "<pre>Number of classes           : 2</pre>"
      ],
      "text/plain": [
       "Number of classes           : 2"
      ]
     },
     "metadata": {},
     "output_type": "display_data"
    },
    {
     "data": {
      "text/html": [
       "<pre>Number of feature columns   : 24</pre>"
      ],
      "text/plain": [
       "Number of feature columns   : 24"
      ]
     },
     "metadata": {},
     "output_type": "display_data"
    },
    {
     "data": {
      "text/html": [
       "<pre>Number of unpacked features : 24</pre>"
      ],
      "text/plain": [
       "Number of unpacked features : 24"
      ]
     },
     "metadata": {},
     "output_type": "display_data"
    },
    {
     "data": {
      "text/html": [
       "<pre>+-----------+--------------+-------------------+-------------------+</pre>"
      ],
      "text/plain": [
       "+-----------+--------------+-------------------+-------------------+"
      ]
     },
     "metadata": {},
     "output_type": "display_data"
    },
    {
     "data": {
      "text/html": [
       "<pre>| Iteration | Elapsed Time | Training-accuracy | Training-log_loss |</pre>"
      ],
      "text/plain": [
       "| Iteration | Elapsed Time | Training-accuracy | Training-log_loss |"
      ]
     },
     "metadata": {},
     "output_type": "display_data"
    },
    {
     "data": {
      "text/html": [
       "<pre>+-----------+--------------+-------------------+-------------------+</pre>"
      ],
      "text/plain": [
       "+-----------+--------------+-------------------+-------------------+"
      ]
     },
     "metadata": {},
     "output_type": "display_data"
    },
    {
     "data": {
      "text/html": [
       "<pre>| 1         | 0.048172     | 0.657541          | 0.657139          |</pre>"
      ],
      "text/plain": [
       "| 1         | 0.048172     | 0.657541          | 0.657139          |"
      ]
     },
     "metadata": {},
     "output_type": "display_data"
    },
    {
     "data": {
      "text/html": [
       "<pre>| 2         | 0.093306     | 0.656976          | 0.636157          |</pre>"
      ],
      "text/plain": [
       "| 2         | 0.093306     | 0.656976          | 0.636157          |"
      ]
     },
     "metadata": {},
     "output_type": "display_data"
    },
    {
     "data": {
      "text/html": [
       "<pre>| 3         | 0.138829     | 0.664983          | 0.623206          |</pre>"
      ],
      "text/plain": [
       "| 3         | 0.138829     | 0.664983          | 0.623206          |"
      ]
     },
     "metadata": {},
     "output_type": "display_data"
    },
    {
     "data": {
      "text/html": [
       "<pre>| 4         | 0.177000     | 0.668476          | 0.613783          |</pre>"
      ],
      "text/plain": [
       "| 4         | 0.177000     | 0.668476          | 0.613783          |"
      ]
     },
     "metadata": {},
     "output_type": "display_data"
    },
    {
     "data": {
      "text/html": [
       "<pre>| 5         | 0.219607     | 0.673339          | 0.606229          |</pre>"
      ],
      "text/plain": [
       "| 5         | 0.219607     | 0.673339          | 0.606229          |"
      ]
     },
     "metadata": {},
     "output_type": "display_data"
    },
    {
     "data": {
      "text/html": [
       "<pre>+-----------+--------------+-------------------+-------------------+</pre>"
      ],
      "text/plain": [
       "+-----------+--------------+-------------------+-------------------+"
      ]
     },
     "metadata": {},
     "output_type": "display_data"
    }
   ],
   "source": [
    "model_5 = graphlab.boosted_trees_classifier.create(train_data, validation_set=None, \n",
    "        target = target, features = features, max_iterations = 5)"
   ]
  },
  {
   "cell_type": "markdown",
   "metadata": {},
   "source": [
    "# Making predictions\n",
    "\n",
    "Just like we did in previous sections, let us consider a few positive and negative examples **from the validation set**. We will do the following:\n",
    "* Predict whether or not a loan is likely to default.\n",
    "* Predict the probability with which the loan is likely to default."
   ]
  },
  {
   "cell_type": "code",
   "execution_count": 10,
   "metadata": {
    "collapsed": false
   },
   "outputs": [
    {
     "data": {
      "text/html": [
       "<div style=\"max-height:1000px;max-width:1500px;overflow:auto;\"><table frame=\"box\" rules=\"cols\">\n",
       "    <tr>\n",
       "        <th style=\"padding-left: 1em; padding-right: 1em; text-align: center\">safe_loans</th>\n",
       "        <th style=\"padding-left: 1em; padding-right: 1em; text-align: center\">grade</th>\n",
       "        <th style=\"padding-left: 1em; padding-right: 1em; text-align: center\">sub_grade_num</th>\n",
       "        <th style=\"padding-left: 1em; padding-right: 1em; text-align: center\">short_emp</th>\n",
       "        <th style=\"padding-left: 1em; padding-right: 1em; text-align: center\">emp_length_num</th>\n",
       "        <th style=\"padding-left: 1em; padding-right: 1em; text-align: center\">home_ownership</th>\n",
       "        <th style=\"padding-left: 1em; padding-right: 1em; text-align: center\">dti</th>\n",
       "        <th style=\"padding-left: 1em; padding-right: 1em; text-align: center\">purpose</th>\n",
       "    </tr>\n",
       "    <tr>\n",
       "        <td style=\"padding-left: 1em; padding-right: 1em; text-align: center; vertical-align: top\">1</td>\n",
       "        <td style=\"padding-left: 1em; padding-right: 1em; text-align: center; vertical-align: top\">B</td>\n",
       "        <td style=\"padding-left: 1em; padding-right: 1em; text-align: center; vertical-align: top\">0.2</td>\n",
       "        <td style=\"padding-left: 1em; padding-right: 1em; text-align: center; vertical-align: top\">0</td>\n",
       "        <td style=\"padding-left: 1em; padding-right: 1em; text-align: center; vertical-align: top\">3</td>\n",
       "        <td style=\"padding-left: 1em; padding-right: 1em; text-align: center; vertical-align: top\">MORTGAGE</td>\n",
       "        <td style=\"padding-left: 1em; padding-right: 1em; text-align: center; vertical-align: top\">29.44</td>\n",
       "        <td style=\"padding-left: 1em; padding-right: 1em; text-align: center; vertical-align: top\">credit_card</td>\n",
       "    </tr>\n",
       "    <tr>\n",
       "        <td style=\"padding-left: 1em; padding-right: 1em; text-align: center; vertical-align: top\">1</td>\n",
       "        <td style=\"padding-left: 1em; padding-right: 1em; text-align: center; vertical-align: top\">B</td>\n",
       "        <td style=\"padding-left: 1em; padding-right: 1em; text-align: center; vertical-align: top\">0.6</td>\n",
       "        <td style=\"padding-left: 1em; padding-right: 1em; text-align: center; vertical-align: top\">1</td>\n",
       "        <td style=\"padding-left: 1em; padding-right: 1em; text-align: center; vertical-align: top\">1</td>\n",
       "        <td style=\"padding-left: 1em; padding-right: 1em; text-align: center; vertical-align: top\">RENT</td>\n",
       "        <td style=\"padding-left: 1em; padding-right: 1em; text-align: center; vertical-align: top\">12.19</td>\n",
       "        <td style=\"padding-left: 1em; padding-right: 1em; text-align: center; vertical-align: top\">credit_card</td>\n",
       "    </tr>\n",
       "    <tr>\n",
       "        <td style=\"padding-left: 1em; padding-right: 1em; text-align: center; vertical-align: top\">-1</td>\n",
       "        <td style=\"padding-left: 1em; padding-right: 1em; text-align: center; vertical-align: top\">D</td>\n",
       "        <td style=\"padding-left: 1em; padding-right: 1em; text-align: center; vertical-align: top\">0.4</td>\n",
       "        <td style=\"padding-left: 1em; padding-right: 1em; text-align: center; vertical-align: top\">0</td>\n",
       "        <td style=\"padding-left: 1em; padding-right: 1em; text-align: center; vertical-align: top\">3</td>\n",
       "        <td style=\"padding-left: 1em; padding-right: 1em; text-align: center; vertical-align: top\">RENT</td>\n",
       "        <td style=\"padding-left: 1em; padding-right: 1em; text-align: center; vertical-align: top\">13.97</td>\n",
       "        <td style=\"padding-left: 1em; padding-right: 1em; text-align: center; vertical-align: top\">other</td>\n",
       "    </tr>\n",
       "    <tr>\n",
       "        <td style=\"padding-left: 1em; padding-right: 1em; text-align: center; vertical-align: top\">-1</td>\n",
       "        <td style=\"padding-left: 1em; padding-right: 1em; text-align: center; vertical-align: top\">A</td>\n",
       "        <td style=\"padding-left: 1em; padding-right: 1em; text-align: center; vertical-align: top\">1.0</td>\n",
       "        <td style=\"padding-left: 1em; padding-right: 1em; text-align: center; vertical-align: top\">0</td>\n",
       "        <td style=\"padding-left: 1em; padding-right: 1em; text-align: center; vertical-align: top\">11</td>\n",
       "        <td style=\"padding-left: 1em; padding-right: 1em; text-align: center; vertical-align: top\">MORTGAGE</td>\n",
       "        <td style=\"padding-left: 1em; padding-right: 1em; text-align: center; vertical-align: top\">16.33</td>\n",
       "        <td style=\"padding-left: 1em; padding-right: 1em; text-align: center; vertical-align: top\">debt_consolidation</td>\n",
       "    </tr>\n",
       "</table>\n",
       "<table frame=\"box\" rules=\"cols\">\n",
       "    <tr>\n",
       "        <th style=\"padding-left: 1em; padding-right: 1em; text-align: center\">payment_inc_ratio</th>\n",
       "        <th style=\"padding-left: 1em; padding-right: 1em; text-align: center\">delinq_2yrs</th>\n",
       "        <th style=\"padding-left: 1em; padding-right: 1em; text-align: center\">delinq_2yrs_zero</th>\n",
       "        <th style=\"padding-left: 1em; padding-right: 1em; text-align: center\">inq_last_6mths</th>\n",
       "        <th style=\"padding-left: 1em; padding-right: 1em; text-align: center\">last_delinq_none</th>\n",
       "        <th style=\"padding-left: 1em; padding-right: 1em; text-align: center\">last_major_derog_none</th>\n",
       "        <th style=\"padding-left: 1em; padding-right: 1em; text-align: center\">open_acc</th>\n",
       "    </tr>\n",
       "    <tr>\n",
       "        <td style=\"padding-left: 1em; padding-right: 1em; text-align: center; vertical-align: top\">6.30496</td>\n",
       "        <td style=\"padding-left: 1em; padding-right: 1em; text-align: center; vertical-align: top\">0</td>\n",
       "        <td style=\"padding-left: 1em; padding-right: 1em; text-align: center; vertical-align: top\">1</td>\n",
       "        <td style=\"padding-left: 1em; padding-right: 1em; text-align: center; vertical-align: top\">0</td>\n",
       "        <td style=\"padding-left: 1em; padding-right: 1em; text-align: center; vertical-align: top\">1</td>\n",
       "        <td style=\"padding-left: 1em; padding-right: 1em; text-align: center; vertical-align: top\">1</td>\n",
       "        <td style=\"padding-left: 1em; padding-right: 1em; text-align: center; vertical-align: top\">8</td>\n",
       "    </tr>\n",
       "    <tr>\n",
       "        <td style=\"padding-left: 1em; padding-right: 1em; text-align: center; vertical-align: top\">13.4952</td>\n",
       "        <td style=\"padding-left: 1em; padding-right: 1em; text-align: center; vertical-align: top\">0</td>\n",
       "        <td style=\"padding-left: 1em; padding-right: 1em; text-align: center; vertical-align: top\">1</td>\n",
       "        <td style=\"padding-left: 1em; padding-right: 1em; text-align: center; vertical-align: top\">0</td>\n",
       "        <td style=\"padding-left: 1em; padding-right: 1em; text-align: center; vertical-align: top\">1</td>\n",
       "        <td style=\"padding-left: 1em; padding-right: 1em; text-align: center; vertical-align: top\">1</td>\n",
       "        <td style=\"padding-left: 1em; padding-right: 1em; text-align: center; vertical-align: top\">8</td>\n",
       "    </tr>\n",
       "    <tr>\n",
       "        <td style=\"padding-left: 1em; padding-right: 1em; text-align: center; vertical-align: top\">2.96736</td>\n",
       "        <td style=\"padding-left: 1em; padding-right: 1em; text-align: center; vertical-align: top\">3</td>\n",
       "        <td style=\"padding-left: 1em; padding-right: 1em; text-align: center; vertical-align: top\">0</td>\n",
       "        <td style=\"padding-left: 1em; padding-right: 1em; text-align: center; vertical-align: top\">0</td>\n",
       "        <td style=\"padding-left: 1em; padding-right: 1em; text-align: center; vertical-align: top\">0</td>\n",
       "        <td style=\"padding-left: 1em; padding-right: 1em; text-align: center; vertical-align: top\">1</td>\n",
       "        <td style=\"padding-left: 1em; padding-right: 1em; text-align: center; vertical-align: top\">14</td>\n",
       "    </tr>\n",
       "    <tr>\n",
       "        <td style=\"padding-left: 1em; padding-right: 1em; text-align: center; vertical-align: top\">1.90524</td>\n",
       "        <td style=\"padding-left: 1em; padding-right: 1em; text-align: center; vertical-align: top\">0</td>\n",
       "        <td style=\"padding-left: 1em; padding-right: 1em; text-align: center; vertical-align: top\">1</td>\n",
       "        <td style=\"padding-left: 1em; padding-right: 1em; text-align: center; vertical-align: top\">0</td>\n",
       "        <td style=\"padding-left: 1em; padding-right: 1em; text-align: center; vertical-align: top\">1</td>\n",
       "        <td style=\"padding-left: 1em; padding-right: 1em; text-align: center; vertical-align: top\">1</td>\n",
       "        <td style=\"padding-left: 1em; padding-right: 1em; text-align: center; vertical-align: top\">17</td>\n",
       "    </tr>\n",
       "</table>\n",
       "<table frame=\"box\" rules=\"cols\">\n",
       "    <tr>\n",
       "        <th style=\"padding-left: 1em; padding-right: 1em; text-align: center\">pub_rec</th>\n",
       "        <th style=\"padding-left: 1em; padding-right: 1em; text-align: center\">pub_rec_zero</th>\n",
       "        <th style=\"padding-left: 1em; padding-right: 1em; text-align: center\">revol_util</th>\n",
       "        <th style=\"padding-left: 1em; padding-right: 1em; text-align: center\">total_rec_late_fee</th>\n",
       "        <th style=\"padding-left: 1em; padding-right: 1em; text-align: center\">int_rate</th>\n",
       "        <th style=\"padding-left: 1em; padding-right: 1em; text-align: center\">total_rec_int</th>\n",
       "        <th style=\"padding-left: 1em; padding-right: 1em; text-align: center\">annual_inc</th>\n",
       "        <th style=\"padding-left: 1em; padding-right: 1em; text-align: center\">funded_amnt</th>\n",
       "        <th style=\"padding-left: 1em; padding-right: 1em; text-align: center\">funded_amnt_inv</th>\n",
       "    </tr>\n",
       "    <tr>\n",
       "        <td style=\"padding-left: 1em; padding-right: 1em; text-align: center; vertical-align: top\">0</td>\n",
       "        <td style=\"padding-left: 1em; padding-right: 1em; text-align: center; vertical-align: top\">1</td>\n",
       "        <td style=\"padding-left: 1em; padding-right: 1em; text-align: center; vertical-align: top\">93.9</td>\n",
       "        <td style=\"padding-left: 1em; padding-right: 1em; text-align: center; vertical-align: top\">0.0</td>\n",
       "        <td style=\"padding-left: 1em; padding-right: 1em; text-align: center; vertical-align: top\">9.91</td>\n",
       "        <td style=\"padding-left: 1em; padding-right: 1em; text-align: center; vertical-align: top\">823.48</td>\n",
       "        <td style=\"padding-left: 1em; padding-right: 1em; text-align: center; vertical-align: top\">92000</td>\n",
       "        <td style=\"padding-left: 1em; padding-right: 1em; text-align: center; vertical-align: top\">15000</td>\n",
       "        <td style=\"padding-left: 1em; padding-right: 1em; text-align: center; vertical-align: top\">15000</td>\n",
       "    </tr>\n",
       "    <tr>\n",
       "        <td style=\"padding-left: 1em; padding-right: 1em; text-align: center; vertical-align: top\">0</td>\n",
       "        <td style=\"padding-left: 1em; padding-right: 1em; text-align: center; vertical-align: top\">1</td>\n",
       "        <td style=\"padding-left: 1em; padding-right: 1em; text-align: center; vertical-align: top\">59.1</td>\n",
       "        <td style=\"padding-left: 1em; padding-right: 1em; text-align: center; vertical-align: top\">0.0</td>\n",
       "        <td style=\"padding-left: 1em; padding-right: 1em; text-align: center; vertical-align: top\">11.71</td>\n",
       "        <td style=\"padding-left: 1em; padding-right: 1em; text-align: center; vertical-align: top\">1622.21</td>\n",
       "        <td style=\"padding-left: 1em; padding-right: 1em; text-align: center; vertical-align: top\">25000</td>\n",
       "        <td style=\"padding-left: 1em; padding-right: 1em; text-align: center; vertical-align: top\">8500</td>\n",
       "        <td style=\"padding-left: 1em; padding-right: 1em; text-align: center; vertical-align: top\">8500</td>\n",
       "    </tr>\n",
       "    <tr>\n",
       "        <td style=\"padding-left: 1em; padding-right: 1em; text-align: center; vertical-align: top\">0</td>\n",
       "        <td style=\"padding-left: 1em; padding-right: 1em; text-align: center; vertical-align: top\">1</td>\n",
       "        <td style=\"padding-left: 1em; padding-right: 1em; text-align: center; vertical-align: top\">59.5</td>\n",
       "        <td style=\"padding-left: 1em; padding-right: 1em; text-align: center; vertical-align: top\">0.0</td>\n",
       "        <td style=\"padding-left: 1em; padding-right: 1em; text-align: center; vertical-align: top\">16.77</td>\n",
       "        <td style=\"padding-left: 1em; padding-right: 1em; text-align: center; vertical-align: top\">719.11</td>\n",
       "        <td style=\"padding-left: 1em; padding-right: 1em; text-align: center; vertical-align: top\">50004</td>\n",
       "        <td style=\"padding-left: 1em; padding-right: 1em; text-align: center; vertical-align: top\">5000</td>\n",
       "        <td style=\"padding-left: 1em; padding-right: 1em; text-align: center; vertical-align: top\">5000</td>\n",
       "    </tr>\n",
       "    <tr>\n",
       "        <td style=\"padding-left: 1em; padding-right: 1em; text-align: center; vertical-align: top\">0</td>\n",
       "        <td style=\"padding-left: 1em; padding-right: 1em; text-align: center; vertical-align: top\">1</td>\n",
       "        <td style=\"padding-left: 1em; padding-right: 1em; text-align: center; vertical-align: top\">62.1</td>\n",
       "        <td style=\"padding-left: 1em; padding-right: 1em; text-align: center; vertical-align: top\">0.0</td>\n",
       "        <td style=\"padding-left: 1em; padding-right: 1em; text-align: center; vertical-align: top\">8.9</td>\n",
       "        <td style=\"padding-left: 1em; padding-right: 1em; text-align: center; vertical-align: top\">696.99</td>\n",
       "        <td style=\"padding-left: 1em; padding-right: 1em; text-align: center; vertical-align: top\">100000</td>\n",
       "        <td style=\"padding-left: 1em; padding-right: 1em; text-align: center; vertical-align: top\">5000</td>\n",
       "        <td style=\"padding-left: 1em; padding-right: 1em; text-align: center; vertical-align: top\">5000</td>\n",
       "    </tr>\n",
       "</table>\n",
       "<table frame=\"box\" rules=\"cols\">\n",
       "    <tr>\n",
       "        <th style=\"padding-left: 1em; padding-right: 1em; text-align: center\">installment</th>\n",
       "    </tr>\n",
       "    <tr>\n",
       "        <td style=\"padding-left: 1em; padding-right: 1em; text-align: center; vertical-align: top\">483.38</td>\n",
       "    </tr>\n",
       "    <tr>\n",
       "        <td style=\"padding-left: 1em; padding-right: 1em; text-align: center; vertical-align: top\">281.15</td>\n",
       "    </tr>\n",
       "    <tr>\n",
       "        <td style=\"padding-left: 1em; padding-right: 1em; text-align: center; vertical-align: top\">123.65</td>\n",
       "    </tr>\n",
       "    <tr>\n",
       "        <td style=\"padding-left: 1em; padding-right: 1em; text-align: center; vertical-align: top\">158.77</td>\n",
       "    </tr>\n",
       "</table>\n",
       "[4 rows x 25 columns]<br/>\n",
       "</div>"
      ],
      "text/plain": [
       "Columns:\n",
       "\tsafe_loans\tint\n",
       "\tgrade\tstr\n",
       "\tsub_grade_num\tfloat\n",
       "\tshort_emp\tint\n",
       "\temp_length_num\tint\n",
       "\thome_ownership\tstr\n",
       "\tdti\tfloat\n",
       "\tpurpose\tstr\n",
       "\tpayment_inc_ratio\tfloat\n",
       "\tdelinq_2yrs\tint\n",
       "\tdelinq_2yrs_zero\tint\n",
       "\tinq_last_6mths\tint\n",
       "\tlast_delinq_none\tint\n",
       "\tlast_major_derog_none\tint\n",
       "\topen_acc\tint\n",
       "\tpub_rec\tint\n",
       "\tpub_rec_zero\tint\n",
       "\trevol_util\tfloat\n",
       "\ttotal_rec_late_fee\tfloat\n",
       "\tint_rate\tfloat\n",
       "\ttotal_rec_int\tfloat\n",
       "\tannual_inc\tint\n",
       "\tfunded_amnt\tint\n",
       "\tfunded_amnt_inv\tint\n",
       "\tinstallment\tfloat\n",
       "\n",
       "Rows: 4\n",
       "\n",
       "Data:\n",
       "+------------+-------+---------------+-----------+----------------+----------------+\n",
       "| safe_loans | grade | sub_grade_num | short_emp | emp_length_num | home_ownership |\n",
       "+------------+-------+---------------+-----------+----------------+----------------+\n",
       "|     1      |   B   |      0.2      |     0     |       3        |    MORTGAGE    |\n",
       "|     1      |   B   |      0.6      |     1     |       1        |      RENT      |\n",
       "|     -1     |   D   |      0.4      |     0     |       3        |      RENT      |\n",
       "|     -1     |   A   |      1.0      |     0     |       11       |    MORTGAGE    |\n",
       "+------------+-------+---------------+-----------+----------------+----------------+\n",
       "+-------+--------------------+-------------------+-------------+------------------+\n",
       "|  dti  |      purpose       | payment_inc_ratio | delinq_2yrs | delinq_2yrs_zero |\n",
       "+-------+--------------------+-------------------+-------------+------------------+\n",
       "| 29.44 |    credit_card     |      6.30496      |      0      |        1         |\n",
       "| 12.19 |    credit_card     |      13.4952      |      0      |        1         |\n",
       "| 13.97 |       other        |      2.96736      |      3      |        0         |\n",
       "| 16.33 | debt_consolidation |      1.90524      |      0      |        1         |\n",
       "+-------+--------------------+-------------------+-------------+------------------+\n",
       "+----------------+------------------+-----------------------+----------+---------+\n",
       "| inq_last_6mths | last_delinq_none | last_major_derog_none | open_acc | pub_rec |\n",
       "+----------------+------------------+-----------------------+----------+---------+\n",
       "|       0        |        1         |           1           |    8     |    0    |\n",
       "|       0        |        1         |           1           |    8     |    0    |\n",
       "|       0        |        0         |           1           |    14    |    0    |\n",
       "|       0        |        1         |           1           |    17    |    0    |\n",
       "+----------------+------------------+-----------------------+----------+---------+\n",
       "+--------------+------------+--------------------+----------+-----+\n",
       "| pub_rec_zero | revol_util | total_rec_late_fee | int_rate | ... |\n",
       "+--------------+------------+--------------------+----------+-----+\n",
       "|      1       |    93.9    |        0.0         |   9.91   | ... |\n",
       "|      1       |    59.1    |        0.0         |  11.71   | ... |\n",
       "|      1       |    59.5    |        0.0         |  16.77   | ... |\n",
       "|      1       |    62.1    |        0.0         |   8.9    | ... |\n",
       "+--------------+------------+--------------------+----------+-----+\n",
       "[4 rows x 25 columns]"
      ]
     },
     "execution_count": 10,
     "metadata": {},
     "output_type": "execute_result"
    }
   ],
   "source": [
    "# Select all positive and negative examples.\n",
    "validation_safe_loans = validation_data[validation_data[target] == 1]\n",
    "validation_risky_loans = validation_data[validation_data[target] == -1]\n",
    "\n",
    "# Select 2 examples from the validation set for positive & negative loans\n",
    "sample_validation_data_risky = validation_risky_loans[0:2]\n",
    "sample_validation_data_safe = validation_safe_loans[0:2]\n",
    "\n",
    "# Append the 4 examples into a single dataset\n",
    "sample_validation_data = sample_validation_data_safe.append(sample_validation_data_risky)\n",
    "sample_validation_data"
   ]
  },
  {
   "cell_type": "markdown",
   "metadata": {},
   "source": [
    "### Predicting on sample validation data\n",
    "\n",
    "For each row in the **sample_validation_data**, write code to make **model_5** predict whether or not the loan is classified as a **safe loan**.\n",
    "\n",
    "**Hint:** Use the `predict` method in `model_5` for this."
   ]
  },
  {
   "cell_type": "code",
   "execution_count": 11,
   "metadata": {
    "collapsed": false
   },
   "outputs": [
    {
     "data": {
      "text/plain": [
       "dtype: int\n",
       "Rows: 4\n",
       "[1, 1, -1, 1]"
      ]
     },
     "execution_count": 11,
     "metadata": {},
     "output_type": "execute_result"
    }
   ],
   "source": [
    "model_5.predict(sample_validation_data)"
   ]
  },
  {
   "cell_type": "markdown",
   "metadata": {},
   "source": [
    "**Quiz Question:** What percentage of the predictions on `sample_validation_data` did `model_5` get correct?\n",
    "\n",
    "### Prediction probabilities\n",
    "\n",
    "For each row in the **sample_validation_data**, what is the probability (according **model_5**) of a loan being classified as **safe**? \n",
    "\n",
    "**Hint:** Set `output_type='probability'` to make **probability** predictions using `model_5` on `sample_validation_data`:"
   ]
  },
  {
   "cell_type": "code",
   "execution_count": 12,
   "metadata": {
    "collapsed": false
   },
   "outputs": [
    {
     "data": {
      "text/plain": [
       "dtype: float\n",
       "Rows: 4\n",
       "[0.7045905590057373, 0.5963408946990967, 0.44925159215927124, 0.6119099855422974]"
      ]
     },
     "execution_count": 12,
     "metadata": {},
     "output_type": "execute_result"
    }
   ],
   "source": [
    "model_5.predict(sample_validation_data, output_type='probability')"
   ]
  },
  {
   "cell_type": "markdown",
   "metadata": {},
   "source": [
    "**Quiz Question:** According to **model_5**, which loan is the least likely to be a safe loan?\n",
    "\n",
    "**Checkpoint:** Can you verify that for all the predictions with `probability >= 0.5`, the model predicted the label **+1**?"
   ]
  },
  {
   "cell_type": "markdown",
   "metadata": {
    "collapsed": true
   },
   "source": [
    "## Evaluating the model on the validation data"
   ]
  },
  {
   "cell_type": "markdown",
   "metadata": {},
   "source": [
    "Recall that the accuracy is defined as follows:\n",
    "$$\n",
    "\\mbox{accuracy} = \\frac{\\mbox{# correctly classified examples}}{\\mbox{# total examples}}\n",
    "$$\n",
    "\n",
    "Evaluate the accuracy of the **model_5** on the **validation_data**.\n",
    "\n",
    "**Hint**: Use the `.evaluate()` method in the model."
   ]
  },
  {
   "cell_type": "code",
   "execution_count": 14,
   "metadata": {
    "collapsed": false
   },
   "outputs": [
    {
     "data": {
      "text/plain": [
       "{'accuracy': 0.66813873330461,\n",
       " 'auc': 0.7247215702188436,\n",
       " 'confusion_matrix': Columns:\n",
       " \ttarget_label\tint\n",
       " \tpredicted_label\tint\n",
       " \tcount\tint\n",
       " \n",
       " Rows: 4\n",
       " \n",
       " Data:\n",
       " +--------------+-----------------+-------+\n",
       " | target_label | predicted_label | count |\n",
       " +--------------+-----------------+-------+\n",
       " |      -1      |        1        |  1618 |\n",
       " |      1       |        -1       |  1463 |\n",
       " |      -1      |        -1       |  3054 |\n",
       " |      1       |        1        |  3149 |\n",
       " +--------------+-----------------+-------+\n",
       " [4 rows x 3 columns],\n",
       " 'f1_score': 0.6715001599317625,\n",
       " 'log_loss': 0.6176131769693981,\n",
       " 'precision': 0.6605831760016782,\n",
       " 'recall': 0.6827840416305291,\n",
       " 'roc_curve': Columns:\n",
       " \tthreshold\tfloat\n",
       " \tfpr\tfloat\n",
       " \ttpr\tfloat\n",
       " \tp\tint\n",
       " \tn\tint\n",
       " \n",
       " Rows: 100001\n",
       " \n",
       " Data:\n",
       " +-----------+-----+-----+------+------+\n",
       " | threshold | fpr | tpr |  p   |  n   |\n",
       " +-----------+-----+-----+------+------+\n",
       " |    0.0    | 1.0 | 1.0 | 4612 | 4672 |\n",
       " |   1e-05   | 1.0 | 1.0 | 4612 | 4672 |\n",
       " |   2e-05   | 1.0 | 1.0 | 4612 | 4672 |\n",
       " |   3e-05   | 1.0 | 1.0 | 4612 | 4672 |\n",
       " |   4e-05   | 1.0 | 1.0 | 4612 | 4672 |\n",
       " |   5e-05   | 1.0 | 1.0 | 4612 | 4672 |\n",
       " |   6e-05   | 1.0 | 1.0 | 4612 | 4672 |\n",
       " |   7e-05   | 1.0 | 1.0 | 4612 | 4672 |\n",
       " |   8e-05   | 1.0 | 1.0 | 4612 | 4672 |\n",
       " |   9e-05   | 1.0 | 1.0 | 4612 | 4672 |\n",
       " +-----------+-----+-----+------+------+\n",
       " [100001 rows x 5 columns]\n",
       " Note: Only the head of the SFrame is printed.\n",
       " You can use print_rows(num_rows=m, num_columns=n) to print more rows and columns.}"
      ]
     },
     "execution_count": 14,
     "metadata": {},
     "output_type": "execute_result"
    }
   ],
   "source": [
    "model_5.evaluate(validation_data)"
   ]
  },
  {
   "cell_type": "code",
   "execution_count": 15,
   "metadata": {
    "collapsed": false
   },
   "outputs": [
    {
     "data": {
      "application/javascript": [
       "$(\"head\").append($(\"<link/>\").attr({\n",
       "  rel:  \"stylesheet\",\n",
       "  type: \"text/css\",\n",
       "  href: \"//cdnjs.cloudflare.com/ajax/libs/font-awesome/4.1.0/css/font-awesome.min.css\"\n",
       "}));\n",
       "$(\"head\").append($(\"<link/>\").attr({\n",
       "  rel:  \"stylesheet\",\n",
       "  type: \"text/css\",\n",
       "  href: \"https://static.turi.com/products/graphlab-create/2.1/canvas/css/canvas.css\"\n",
       "}));\n",
       "\n",
       "            (function(){\n",
       "\n",
       "                var e = null;\n",
       "                if (typeof element == 'undefined') {\n",
       "                    var scripts = document.getElementsByTagName('script');\n",
       "                    var thisScriptTag = scripts[scripts.length-1];\n",
       "                    var parentDiv = thisScriptTag.parentNode;\n",
       "                    e = document.createElement('div');\n",
       "                    parentDiv.appendChild(e);\n",
       "                } else {\n",
       "                    e = element[0];\n",
       "                }\n",
       "\n",
       "                if (typeof requirejs !== 'undefined') {\n",
       "                    // disable load timeout; ipython_app.js is large and can take a while to load.\n",
       "                    requirejs.config({waitSeconds: 0});\n",
       "                }\n",
       "\n",
       "                require(['https://static.turi.com/products/graphlab-create/2.1/canvas/js/ipython_app.js'], function(IPythonApp){\n",
       "                    var app = new IPythonApp();\n",
       "                    app.attachView('model','Evaluation', {\"comparison\": null, \"selected_variable\": {\"comparison\": null, \"name\": [\"model_5\"], \"view_file\": \"model\", \"view_component\": \"Evaluation\", \"view_params\": {\"model_type\": \"regression\", \"view\": \"Evaluation\"}, \"view_components\": [\"Summary\", \"Evaluation\", \"Comparison\"], \"model_type\": \"regression\", \"attributes\": {\"section_titles\": [\"Schema\", \"Settings\"], \"sections\": [[[\"Number of examples\", 37219], [\"Number of feature columns\", 24], [\"Number of unpacked features\", 24], [\"Number of classes\", 2]], [[\"Number of trees\", 5], [\"Max tree depth\", 6], [\"Training time (sec)\", 0.22], [\"Training accuracy\", 0.6733], [\"Validation accuracy\", null], [\"Training log_loss\", 0.6062], [\"Validation log_loss\", null]]]}, \"evaluations\": [[\"validation_data\", {\"f1_score\": 0.6715001599317625, \"auc\": 0.7247215702188436, \"recall\": 0.6827840416305291, \"precision\": 0.6605831760016782, \"log_loss\": 0.6176131769693981, \"roc_curve\": [{\"threshold\": 0.0, \"p\": 4612, \"fpr\": 1.0, \"tpr\": 1.0, \"n\": 4672}, {\"threshold\": 0.001, \"p\": 4612, \"fpr\": 1.0, \"tpr\": 1.0, \"n\": 4672}, {\"threshold\": 0.002, \"p\": 4612, \"fpr\": 1.0, \"tpr\": 1.0, \"n\": 4672}, {\"threshold\": 0.003, \"p\": 4612, \"fpr\": 1.0, \"tpr\": 1.0, \"n\": 4672}, {\"threshold\": 0.004, \"p\": 4612, \"fpr\": 1.0, \"tpr\": 1.0, \"n\": 4672}, {\"threshold\": 0.005, \"p\": 4612, \"fpr\": 1.0, \"tpr\": 1.0, \"n\": 4672}, {\"threshold\": 0.006, \"p\": 4612, \"fpr\": 1.0, \"tpr\": 1.0, \"n\": 4672}, {\"threshold\": 0.007, \"p\": 4612, \"fpr\": 1.0, \"tpr\": 1.0, \"n\": 4672}, {\"threshold\": 0.008, \"p\": 4612, \"fpr\": 1.0, \"tpr\": 1.0, \"n\": 4672}, {\"threshold\": 0.009, \"p\": 4612, \"fpr\": 1.0, \"tpr\": 1.0, \"n\": 4672}, {\"threshold\": 0.01, \"p\": 4612, \"fpr\": 1.0, \"tpr\": 1.0, \"n\": 4672}, {\"threshold\": 0.011, \"p\": 4612, \"fpr\": 1.0, \"tpr\": 1.0, \"n\": 4672}, {\"threshold\": 0.012, \"p\": 4612, \"fpr\": 1.0, \"tpr\": 1.0, \"n\": 4672}, {\"threshold\": 0.013, \"p\": 4612, \"fpr\": 1.0, \"tpr\": 1.0, \"n\": 4672}, {\"threshold\": 0.014, \"p\": 4612, \"fpr\": 1.0, \"tpr\": 1.0, \"n\": 4672}, {\"threshold\": 0.015, \"p\": 4612, \"fpr\": 1.0, \"tpr\": 1.0, \"n\": 4672}, {\"threshold\": 0.016, \"p\": 4612, \"fpr\": 1.0, \"tpr\": 1.0, \"n\": 4672}, {\"threshold\": 0.017, \"p\": 4612, \"fpr\": 1.0, \"tpr\": 1.0, \"n\": 4672}, {\"threshold\": 0.018, \"p\": 4612, \"fpr\": 1.0, \"tpr\": 1.0, \"n\": 4672}, {\"threshold\": 0.019, \"p\": 4612, \"fpr\": 1.0, \"tpr\": 1.0, \"n\": 4672}, {\"threshold\": 0.02, \"p\": 4612, \"fpr\": 1.0, \"tpr\": 1.0, \"n\": 4672}, {\"threshold\": 0.021, \"p\": 4612, \"fpr\": 1.0, \"tpr\": 1.0, \"n\": 4672}, {\"threshold\": 0.022, \"p\": 4612, \"fpr\": 1.0, \"tpr\": 1.0, \"n\": 4672}, {\"threshold\": 0.023, \"p\": 4612, \"fpr\": 1.0, \"tpr\": 1.0, \"n\": 4672}, {\"threshold\": 0.024, \"p\": 4612, \"fpr\": 1.0, \"tpr\": 1.0, \"n\": 4672}, {\"threshold\": 0.025, \"p\": 4612, \"fpr\": 1.0, \"tpr\": 1.0, \"n\": 4672}, {\"threshold\": 0.026, \"p\": 4612, \"fpr\": 1.0, \"tpr\": 1.0, \"n\": 4672}, {\"threshold\": 0.027, \"p\": 4612, \"fpr\": 1.0, \"tpr\": 1.0, \"n\": 4672}, {\"threshold\": 0.028, \"p\": 4612, \"fpr\": 1.0, \"tpr\": 1.0, \"n\": 4672}, {\"threshold\": 0.029, \"p\": 4612, \"fpr\": 1.0, \"tpr\": 1.0, \"n\": 4672}, {\"threshold\": 0.03, \"p\": 4612, \"fpr\": 1.0, \"tpr\": 1.0, \"n\": 4672}, {\"threshold\": 0.031, \"p\": 4612, \"fpr\": 1.0, \"tpr\": 1.0, \"n\": 4672}, {\"threshold\": 0.032, \"p\": 4612, \"fpr\": 1.0, \"tpr\": 1.0, \"n\": 4672}, {\"threshold\": 0.033, \"p\": 4612, \"fpr\": 1.0, \"tpr\": 1.0, \"n\": 4672}, {\"threshold\": 0.034, \"p\": 4612, \"fpr\": 1.0, \"tpr\": 1.0, \"n\": 4672}, {\"threshold\": 0.035, \"p\": 4612, \"fpr\": 1.0, \"tpr\": 1.0, \"n\": 4672}, {\"threshold\": 0.036, \"p\": 4612, \"fpr\": 1.0, \"tpr\": 1.0, \"n\": 4672}, {\"threshold\": 0.037, \"p\": 4612, \"fpr\": 1.0, \"tpr\": 1.0, \"n\": 4672}, {\"threshold\": 0.038, \"p\": 4612, \"fpr\": 1.0, \"tpr\": 1.0, \"n\": 4672}, {\"threshold\": 0.039, \"p\": 4612, \"fpr\": 1.0, \"tpr\": 1.0, \"n\": 4672}, {\"threshold\": 0.04, \"p\": 4612, \"fpr\": 1.0, \"tpr\": 1.0, \"n\": 4672}, {\"threshold\": 0.041, \"p\": 4612, \"fpr\": 1.0, \"tpr\": 1.0, \"n\": 4672}, {\"threshold\": 0.042, \"p\": 4612, \"fpr\": 1.0, \"tpr\": 1.0, \"n\": 4672}, {\"threshold\": 0.043, \"p\": 4612, \"fpr\": 1.0, \"tpr\": 1.0, \"n\": 4672}, {\"threshold\": 0.044, \"p\": 4612, \"fpr\": 1.0, \"tpr\": 1.0, \"n\": 4672}, {\"threshold\": 0.045, \"p\": 4612, \"fpr\": 1.0, \"tpr\": 1.0, \"n\": 4672}, {\"threshold\": 0.046, \"p\": 4612, \"fpr\": 1.0, \"tpr\": 1.0, \"n\": 4672}, {\"threshold\": 0.047, \"p\": 4612, \"fpr\": 1.0, \"tpr\": 1.0, \"n\": 4672}, {\"threshold\": 0.048, \"p\": 4612, \"fpr\": 1.0, \"tpr\": 1.0, \"n\": 4672}, {\"threshold\": 0.049, \"p\": 4612, \"fpr\": 1.0, \"tpr\": 1.0, \"n\": 4672}, {\"threshold\": 0.05, \"p\": 4612, \"fpr\": 1.0, \"tpr\": 1.0, \"n\": 4672}, {\"threshold\": 0.051, \"p\": 4612, \"fpr\": 1.0, \"tpr\": 1.0, \"n\": 4672}, {\"threshold\": 0.052, \"p\": 4612, \"fpr\": 1.0, \"tpr\": 1.0, \"n\": 4672}, {\"threshold\": 0.053, \"p\": 4612, \"fpr\": 1.0, \"tpr\": 1.0, \"n\": 4672}, {\"threshold\": 0.054, \"p\": 4612, \"fpr\": 1.0, \"tpr\": 1.0, \"n\": 4672}, {\"threshold\": 0.055, \"p\": 4612, \"fpr\": 1.0, \"tpr\": 1.0, \"n\": 4672}, {\"threshold\": 0.056, \"p\": 4612, \"fpr\": 1.0, \"tpr\": 1.0, \"n\": 4672}, {\"threshold\": 0.057, \"p\": 4612, \"fpr\": 1.0, \"tpr\": 1.0, \"n\": 4672}, {\"threshold\": 0.058, \"p\": 4612, \"fpr\": 1.0, \"tpr\": 1.0, \"n\": 4672}, {\"threshold\": 0.059, \"p\": 4612, \"fpr\": 1.0, \"tpr\": 1.0, \"n\": 4672}, {\"threshold\": 0.06, \"p\": 4612, \"fpr\": 1.0, \"tpr\": 1.0, \"n\": 4672}, {\"threshold\": 0.061, \"p\": 4612, \"fpr\": 1.0, \"tpr\": 1.0, \"n\": 4672}, {\"threshold\": 0.062, \"p\": 4612, \"fpr\": 1.0, \"tpr\": 1.0, \"n\": 4672}, {\"threshold\": 0.063, \"p\": 4612, \"fpr\": 1.0, \"tpr\": 1.0, \"n\": 4672}, {\"threshold\": 0.064, \"p\": 4612, \"fpr\": 1.0, \"tpr\": 1.0, \"n\": 4672}, {\"threshold\": 0.065, \"p\": 4612, \"fpr\": 1.0, \"tpr\": 1.0, \"n\": 4672}, {\"threshold\": 0.066, \"p\": 4612, \"fpr\": 1.0, \"tpr\": 1.0, \"n\": 4672}, {\"threshold\": 0.067, \"p\": 4612, \"fpr\": 1.0, \"tpr\": 1.0, \"n\": 4672}, {\"threshold\": 0.068, \"p\": 4612, \"fpr\": 1.0, \"tpr\": 1.0, \"n\": 4672}, {\"threshold\": 0.069, \"p\": 4612, \"fpr\": 1.0, \"tpr\": 1.0, \"n\": 4672}, {\"threshold\": 0.07, \"p\": 4612, \"fpr\": 1.0, \"tpr\": 1.0, \"n\": 4672}, {\"threshold\": 0.071, \"p\": 4612, \"fpr\": 1.0, \"tpr\": 1.0, \"n\": 4672}, {\"threshold\": 0.072, \"p\": 4612, \"fpr\": 1.0, \"tpr\": 1.0, \"n\": 4672}, {\"threshold\": 0.073, \"p\": 4612, \"fpr\": 1.0, \"tpr\": 1.0, \"n\": 4672}, {\"threshold\": 0.074, \"p\": 4612, \"fpr\": 1.0, \"tpr\": 1.0, \"n\": 4672}, {\"threshold\": 0.075, \"p\": 4612, \"fpr\": 1.0, \"tpr\": 1.0, \"n\": 4672}, {\"threshold\": 0.076, \"p\": 4612, \"fpr\": 1.0, \"tpr\": 1.0, \"n\": 4672}, {\"threshold\": 0.077, \"p\": 4612, \"fpr\": 1.0, \"tpr\": 1.0, \"n\": 4672}, {\"threshold\": 0.078, \"p\": 4612, \"fpr\": 1.0, \"tpr\": 1.0, \"n\": 4672}, {\"threshold\": 0.079, \"p\": 4612, \"fpr\": 1.0, \"tpr\": 1.0, \"n\": 4672}, {\"threshold\": 0.08, \"p\": 4612, \"fpr\": 1.0, \"tpr\": 1.0, \"n\": 4672}, {\"threshold\": 0.081, \"p\": 4612, \"fpr\": 1.0, \"tpr\": 1.0, \"n\": 4672}, {\"threshold\": 0.082, \"p\": 4612, \"fpr\": 1.0, \"tpr\": 1.0, \"n\": 4672}, {\"threshold\": 0.083, \"p\": 4612, \"fpr\": 1.0, \"tpr\": 1.0, \"n\": 4672}, {\"threshold\": 0.084, \"p\": 4612, \"fpr\": 1.0, \"tpr\": 1.0, \"n\": 4672}, {\"threshold\": 0.085, \"p\": 4612, \"fpr\": 1.0, \"tpr\": 1.0, \"n\": 4672}, {\"threshold\": 0.086, \"p\": 4612, \"fpr\": 1.0, \"tpr\": 1.0, \"n\": 4672}, {\"threshold\": 0.087, \"p\": 4612, \"fpr\": 1.0, \"tpr\": 1.0, \"n\": 4672}, {\"threshold\": 0.088, \"p\": 4612, \"fpr\": 1.0, \"tpr\": 1.0, \"n\": 4672}, {\"threshold\": 0.089, \"p\": 4612, \"fpr\": 1.0, \"tpr\": 1.0, \"n\": 4672}, {\"threshold\": 0.09, \"p\": 4612, \"fpr\": 1.0, \"tpr\": 1.0, \"n\": 4672}, {\"threshold\": 0.091, \"p\": 4612, \"fpr\": 1.0, \"tpr\": 1.0, \"n\": 4672}, {\"threshold\": 0.092, \"p\": 4612, \"fpr\": 1.0, \"tpr\": 1.0, \"n\": 4672}, {\"threshold\": 0.093, \"p\": 4612, \"fpr\": 1.0, \"tpr\": 1.0, \"n\": 4672}, {\"threshold\": 0.094, \"p\": 4612, \"fpr\": 1.0, \"tpr\": 1.0, \"n\": 4672}, {\"threshold\": 0.095, \"p\": 4612, \"fpr\": 1.0, \"tpr\": 1.0, \"n\": 4672}, {\"threshold\": 0.096, \"p\": 4612, \"fpr\": 1.0, \"tpr\": 1.0, \"n\": 4672}, {\"threshold\": 0.097, \"p\": 4612, \"fpr\": 1.0, \"tpr\": 1.0, \"n\": 4672}, {\"threshold\": 0.098, \"p\": 4612, \"fpr\": 1.0, \"tpr\": 1.0, \"n\": 4672}, {\"threshold\": 0.099, \"p\": 4612, \"fpr\": 1.0, \"tpr\": 1.0, \"n\": 4672}, {\"threshold\": 0.1, \"p\": 4612, \"fpr\": 1.0, \"tpr\": 1.0, \"n\": 4672}, {\"threshold\": 0.101, \"p\": 4612, \"fpr\": 1.0, \"tpr\": 1.0, \"n\": 4672}, {\"threshold\": 0.102, \"p\": 4612, \"fpr\": 1.0, \"tpr\": 1.0, \"n\": 4672}, {\"threshold\": 0.103, \"p\": 4612, \"fpr\": 1.0, \"tpr\": 1.0, \"n\": 4672}, {\"threshold\": 0.104, \"p\": 4612, \"fpr\": 1.0, \"tpr\": 1.0, \"n\": 4672}, {\"threshold\": 0.105, \"p\": 4612, \"fpr\": 1.0, \"tpr\": 1.0, \"n\": 4672}, {\"threshold\": 0.106, \"p\": 4612, \"fpr\": 1.0, \"tpr\": 1.0, \"n\": 4672}, {\"threshold\": 0.107, \"p\": 4612, \"fpr\": 1.0, \"tpr\": 1.0, \"n\": 4672}, {\"threshold\": 0.108, \"p\": 4612, \"fpr\": 1.0, \"tpr\": 1.0, \"n\": 4672}, {\"threshold\": 0.109, \"p\": 4612, \"fpr\": 1.0, \"tpr\": 1.0, \"n\": 4672}, {\"threshold\": 0.11, \"p\": 4612, \"fpr\": 1.0, \"tpr\": 1.0, \"n\": 4672}, {\"threshold\": 0.111, \"p\": 4612, \"fpr\": 1.0, \"tpr\": 1.0, \"n\": 4672}, {\"threshold\": 0.112, \"p\": 4612, \"fpr\": 1.0, \"tpr\": 1.0, \"n\": 4672}, {\"threshold\": 0.113, \"p\": 4612, \"fpr\": 1.0, \"tpr\": 1.0, \"n\": 4672}, {\"threshold\": 0.114, \"p\": 4612, \"fpr\": 1.0, \"tpr\": 1.0, \"n\": 4672}, {\"threshold\": 0.115, \"p\": 4612, \"fpr\": 1.0, \"tpr\": 1.0, \"n\": 4672}, {\"threshold\": 0.116, \"p\": 4612, \"fpr\": 1.0, \"tpr\": 1.0, \"n\": 4672}, {\"threshold\": 0.117, \"p\": 4612, \"fpr\": 1.0, \"tpr\": 1.0, \"n\": 4672}, {\"threshold\": 0.118, \"p\": 4612, \"fpr\": 1.0, \"tpr\": 1.0, \"n\": 4672}, {\"threshold\": 0.119, \"p\": 4612, \"fpr\": 1.0, \"tpr\": 1.0, \"n\": 4672}, {\"threshold\": 0.12, \"p\": 4612, \"fpr\": 1.0, \"tpr\": 1.0, \"n\": 4672}, {\"threshold\": 0.121, \"p\": 4612, \"fpr\": 1.0, \"tpr\": 1.0, \"n\": 4672}, {\"threshold\": 0.122, \"p\": 4612, \"fpr\": 1.0, \"tpr\": 1.0, \"n\": 4672}, {\"threshold\": 0.123, \"p\": 4612, \"fpr\": 1.0, \"tpr\": 1.0, \"n\": 4672}, {\"threshold\": 0.124, \"p\": 4612, \"fpr\": 1.0, \"tpr\": 1.0, \"n\": 4672}, {\"threshold\": 0.125, \"p\": 4612, \"fpr\": 1.0, \"tpr\": 1.0, \"n\": 4672}, {\"threshold\": 0.126, \"p\": 4612, \"fpr\": 1.0, \"tpr\": 1.0, \"n\": 4672}, {\"threshold\": 0.127, \"p\": 4612, \"fpr\": 1.0, \"tpr\": 1.0, \"n\": 4672}, {\"threshold\": 0.128, \"p\": 4612, \"fpr\": 1.0, \"tpr\": 1.0, \"n\": 4672}, {\"threshold\": 0.129, \"p\": 4612, \"fpr\": 1.0, \"tpr\": 1.0, \"n\": 4672}, {\"threshold\": 0.13, \"p\": 4612, \"fpr\": 1.0, \"tpr\": 1.0, \"n\": 4672}, {\"threshold\": 0.131, \"p\": 4612, \"fpr\": 1.0, \"tpr\": 1.0, \"n\": 4672}, {\"threshold\": 0.132, \"p\": 4612, \"fpr\": 1.0, \"tpr\": 1.0, \"n\": 4672}, {\"threshold\": 0.133, \"p\": 4612, \"fpr\": 1.0, \"tpr\": 1.0, \"n\": 4672}, {\"threshold\": 0.134, \"p\": 4612, \"fpr\": 1.0, \"tpr\": 1.0, \"n\": 4672}, {\"threshold\": 0.135, \"p\": 4612, \"fpr\": 0.998929794520548, \"tpr\": 1.0, \"n\": 4672}, {\"threshold\": 0.136, \"p\": 4612, \"fpr\": 0.998929794520548, \"tpr\": 1.0, \"n\": 4672}, {\"threshold\": 0.137, \"p\": 4612, \"fpr\": 0.998929794520548, \"tpr\": 1.0, \"n\": 4672}, {\"threshold\": 0.138, \"p\": 4612, \"fpr\": 0.998929794520548, \"tpr\": 1.0, \"n\": 4672}, {\"threshold\": 0.139, \"p\": 4612, \"fpr\": 0.998929794520548, \"tpr\": 1.0, \"n\": 4672}, {\"threshold\": 0.14, \"p\": 4612, \"fpr\": 0.998929794520548, \"tpr\": 1.0, \"n\": 4672}, {\"threshold\": 0.141, \"p\": 4612, \"fpr\": 0.998929794520548, \"tpr\": 1.0, \"n\": 4672}, {\"threshold\": 0.142, \"p\": 4612, \"fpr\": 0.9985017123287672, \"tpr\": 1.0, \"n\": 4672}, {\"threshold\": 0.143, \"p\": 4612, \"fpr\": 0.9985017123287672, \"tpr\": 1.0, \"n\": 4672}, {\"threshold\": 0.144, \"p\": 4612, \"fpr\": 0.9985017123287672, \"tpr\": 1.0, \"n\": 4672}, {\"threshold\": 0.145, \"p\": 4612, \"fpr\": 0.9985017123287672, \"tpr\": 1.0, \"n\": 4672}, {\"threshold\": 0.146, \"p\": 4612, \"fpr\": 0.9982876712328768, \"tpr\": 1.0, \"n\": 4672}, {\"threshold\": 0.147, \"p\": 4612, \"fpr\": 0.9982876712328768, \"tpr\": 1.0, \"n\": 4672}, {\"threshold\": 0.148, \"p\": 4612, \"fpr\": 0.9982876712328768, \"tpr\": 1.0, \"n\": 4672}, {\"threshold\": 0.149, \"p\": 4612, \"fpr\": 0.9982876712328768, \"tpr\": 1.0, \"n\": 4672}, {\"threshold\": 0.15, \"p\": 4612, \"fpr\": 0.9982876712328768, \"tpr\": 1.0, \"n\": 4672}, {\"threshold\": 0.151, \"p\": 4612, \"fpr\": 0.9982876712328768, \"tpr\": 1.0, \"n\": 4672}, {\"threshold\": 0.152, \"p\": 4612, \"fpr\": 0.9982876712328768, \"tpr\": 1.0, \"n\": 4672}, {\"threshold\": 0.153, \"p\": 4612, \"fpr\": 0.9961472602739726, \"tpr\": 1.0, \"n\": 4672}, {\"threshold\": 0.154, \"p\": 4612, \"fpr\": 0.9959332191780822, \"tpr\": 1.0, \"n\": 4672}, {\"threshold\": 0.155, \"p\": 4612, \"fpr\": 0.995291095890411, \"tpr\": 1.0, \"n\": 4672}, {\"threshold\": 0.156, \"p\": 4612, \"fpr\": 0.9933647260273972, \"tpr\": 0.9997831743278404, \"n\": 4672}, {\"threshold\": 0.157, \"p\": 4612, \"fpr\": 0.9929366438356164, \"tpr\": 0.9997831743278404, \"n\": 4672}, {\"threshold\": 0.158, \"p\": 4612, \"fpr\": 0.9929366438356164, \"tpr\": 0.9997831743278404, \"n\": 4672}, {\"threshold\": 0.159, \"p\": 4612, \"fpr\": 0.992722602739726, \"tpr\": 0.9997831743278404, \"n\": 4672}, {\"threshold\": 0.16, \"p\": 4612, \"fpr\": 0.992722602739726, \"tpr\": 0.9997831743278404, \"n\": 4672}, {\"threshold\": 0.161, \"p\": 4612, \"fpr\": 0.992722602739726, \"tpr\": 0.9997831743278404, \"n\": 4672}, {\"threshold\": 0.162, \"p\": 4612, \"fpr\": 0.9920804794520548, \"tpr\": 0.9995663486556808, \"n\": 4672}, {\"threshold\": 0.163, \"p\": 4612, \"fpr\": 0.9920804794520548, \"tpr\": 0.9995663486556808, \"n\": 4672}, {\"threshold\": 0.164, \"p\": 4612, \"fpr\": 0.9920804794520548, \"tpr\": 0.9995663486556808, \"n\": 4672}, {\"threshold\": 0.165, \"p\": 4612, \"fpr\": 0.9912243150684932, \"tpr\": 0.9995663486556808, \"n\": 4672}, {\"threshold\": 0.166, \"p\": 4612, \"fpr\": 0.9910102739726028, \"tpr\": 0.9995663486556808, \"n\": 4672}, {\"threshold\": 0.167, \"p\": 4612, \"fpr\": 0.990582191780822, \"tpr\": 0.9995663486556808, \"n\": 4672}, {\"threshold\": 0.168, \"p\": 4612, \"fpr\": 0.9903681506849316, \"tpr\": 0.9995663486556808, \"n\": 4672}, {\"threshold\": 0.169, \"p\": 4612, \"fpr\": 0.9892979452054794, \"tpr\": 0.9995663486556808, \"n\": 4672}, {\"threshold\": 0.17, \"p\": 4612, \"fpr\": 0.9892979452054794, \"tpr\": 0.9995663486556808, \"n\": 4672}, {\"threshold\": 0.171, \"p\": 4612, \"fpr\": 0.9892979452054794, \"tpr\": 0.9995663486556808, \"n\": 4672}, {\"threshold\": 0.172, \"p\": 4612, \"fpr\": 0.9892979452054794, \"tpr\": 0.9995663486556808, \"n\": 4672}, {\"threshold\": 0.173, \"p\": 4612, \"fpr\": 0.9865154109589042, \"tpr\": 0.9993495229835212, \"n\": 4672}, {\"threshold\": 0.174, \"p\": 4612, \"fpr\": 0.985445205479452, \"tpr\": 0.9993495229835212, \"n\": 4672}, {\"threshold\": 0.175, \"p\": 4612, \"fpr\": 0.9845890410958904, \"tpr\": 0.9993495229835212, \"n\": 4672}, {\"threshold\": 0.176, \"p\": 4612, \"fpr\": 0.9845890410958904, \"tpr\": 0.9993495229835212, \"n\": 4672}, {\"threshold\": 0.177, \"p\": 4612, \"fpr\": 0.9845890410958904, \"tpr\": 0.9993495229835212, \"n\": 4672}, {\"threshold\": 0.178, \"p\": 4612, \"fpr\": 0.9824486301369864, \"tpr\": 0.9991326973113617, \"n\": 4672}, {\"threshold\": 0.179, \"p\": 4612, \"fpr\": 0.9815924657534246, \"tpr\": 0.9991326973113617, \"n\": 4672}, {\"threshold\": 0.18, \"p\": 4612, \"fpr\": 0.980736301369863, \"tpr\": 0.9991326973113617, \"n\": 4672}, {\"threshold\": 0.181, \"p\": 4612, \"fpr\": 0.9794520547945206, \"tpr\": 0.998915871639202, \"n\": 4672}, {\"threshold\": 0.182, \"p\": 4612, \"fpr\": 0.9790239726027398, \"tpr\": 0.9986990459670425, \"n\": 4672}, {\"threshold\": 0.183, \"p\": 4612, \"fpr\": 0.978167808219178, \"tpr\": 0.9986990459670425, \"n\": 4672}, {\"threshold\": 0.184, \"p\": 4612, \"fpr\": 0.9779537671232876, \"tpr\": 0.9986990459670425, \"n\": 4672}, {\"threshold\": 0.185, \"p\": 4612, \"fpr\": 0.9775256849315068, \"tpr\": 0.9986990459670425, \"n\": 4672}, {\"threshold\": 0.186, \"p\": 4612, \"fpr\": 0.9775256849315068, \"tpr\": 0.9986990459670425, \"n\": 4672}, {\"threshold\": 0.187, \"p\": 4612, \"fpr\": 0.9775256849315068, \"tpr\": 0.9986990459670425, \"n\": 4672}, {\"threshold\": 0.188, \"p\": 4612, \"fpr\": 0.9773116438356164, \"tpr\": 0.9986990459670425, \"n\": 4672}, {\"threshold\": 0.189, \"p\": 4612, \"fpr\": 0.9773116438356164, \"tpr\": 0.9986990459670425, \"n\": 4672}, {\"threshold\": 0.19, \"p\": 4612, \"fpr\": 0.977097602739726, \"tpr\": 0.9984822202948829, \"n\": 4672}, {\"threshold\": 0.191, \"p\": 4612, \"fpr\": 0.9766695205479452, \"tpr\": 0.9984822202948829, \"n\": 4672}, {\"threshold\": 0.192, \"p\": 4612, \"fpr\": 0.9758133561643836, \"tpr\": 0.9984822202948829, \"n\": 4672}, {\"threshold\": 0.193, \"p\": 4612, \"fpr\": 0.9751712328767124, \"tpr\": 0.9984822202948829, \"n\": 4672}, {\"threshold\": 0.194, \"p\": 4612, \"fpr\": 0.974957191780822, \"tpr\": 0.9984822202948829, \"n\": 4672}, {\"threshold\": 0.195, \"p\": 4612, \"fpr\": 0.9736729452054794, \"tpr\": 0.9982653946227233, \"n\": 4672}, {\"threshold\": 0.196, \"p\": 4612, \"fpr\": 0.9721746575342466, \"tpr\": 0.9982653946227233, \"n\": 4672}, {\"threshold\": 0.197, \"p\": 4612, \"fpr\": 0.9719606164383562, \"tpr\": 0.9982653946227233, \"n\": 4672}, {\"threshold\": 0.198, \"p\": 4612, \"fpr\": 0.9719606164383562, \"tpr\": 0.9982653946227233, \"n\": 4672}, {\"threshold\": 0.199, \"p\": 4612, \"fpr\": 0.9717465753424658, \"tpr\": 0.9982653946227233, \"n\": 4672}, {\"threshold\": 0.2, \"p\": 4612, \"fpr\": 0.969820205479452, \"tpr\": 0.9980485689505637, \"n\": 4672}, {\"threshold\": 0.201, \"p\": 4612, \"fpr\": 0.9696061643835616, \"tpr\": 0.9980485689505637, \"n\": 4672}, {\"threshold\": 0.202, \"p\": 4612, \"fpr\": 0.9693921232876712, \"tpr\": 0.9978317432784042, \"n\": 4672}, {\"threshold\": 0.203, \"p\": 4612, \"fpr\": 0.9683219178082192, \"tpr\": 0.9976149176062445, \"n\": 4672}, {\"threshold\": 0.204, \"p\": 4612, \"fpr\": 0.9672517123287672, \"tpr\": 0.9976149176062445, \"n\": 4672}, {\"threshold\": 0.205, \"p\": 4612, \"fpr\": 0.9657534246575342, \"tpr\": 0.9976149176062445, \"n\": 4672}, {\"threshold\": 0.206, \"p\": 4612, \"fpr\": 0.9655393835616438, \"tpr\": 0.997398091934085, \"n\": 4672}, {\"threshold\": 0.207, \"p\": 4612, \"fpr\": 0.965111301369863, \"tpr\": 0.997398091934085, \"n\": 4672}, {\"threshold\": 0.208, \"p\": 4612, \"fpr\": 0.9644691780821918, \"tpr\": 0.9971812662619254, \"n\": 4672}, {\"threshold\": 0.209, \"p\": 4612, \"fpr\": 0.9644691780821918, \"tpr\": 0.9971812662619254, \"n\": 4672}, {\"threshold\": 0.21, \"p\": 4612, \"fpr\": 0.964041095890411, \"tpr\": 0.9971812662619254, \"n\": 4672}, {\"threshold\": 0.211, \"p\": 4612, \"fpr\": 0.9633989726027398, \"tpr\": 0.9971812662619254, \"n\": 4672}, {\"threshold\": 0.212, \"p\": 4612, \"fpr\": 0.9621147260273972, \"tpr\": 0.9969644405897659, \"n\": 4672}, {\"threshold\": 0.213, \"p\": 4612, \"fpr\": 0.961472602739726, \"tpr\": 0.9967476149176062, \"n\": 4672}, {\"threshold\": 0.214, \"p\": 4612, \"fpr\": 0.960402397260274, \"tpr\": 0.9965307892454467, \"n\": 4672}, {\"threshold\": 0.215, \"p\": 4612, \"fpr\": 0.9597602739726028, \"tpr\": 0.9965307892454467, \"n\": 4672}, {\"threshold\": 0.216, \"p\": 4612, \"fpr\": 0.9595462328767124, \"tpr\": 0.9965307892454467, \"n\": 4672}, {\"threshold\": 0.217, \"p\": 4612, \"fpr\": 0.959332191780822, \"tpr\": 0.9965307892454467, \"n\": 4672}, {\"threshold\": 0.218, \"p\": 4612, \"fpr\": 0.958904109589041, \"tpr\": 0.9965307892454467, \"n\": 4672}, {\"threshold\": 0.219, \"p\": 4612, \"fpr\": 0.957833904109589, \"tpr\": 0.996313963573287, \"n\": 4672}, {\"threshold\": 0.22, \"p\": 4612, \"fpr\": 0.9576198630136986, \"tpr\": 0.996313963573287, \"n\": 4672}, {\"threshold\": 0.221, \"p\": 4612, \"fpr\": 0.9571917808219178, \"tpr\": 0.996313963573287, \"n\": 4672}, {\"threshold\": 0.222, \"p\": 4612, \"fpr\": 0.956763698630137, \"tpr\": 0.9960971379011275, \"n\": 4672}, {\"threshold\": 0.223, \"p\": 4612, \"fpr\": 0.9554794520547946, \"tpr\": 0.9956634865568084, \"n\": 4672}, {\"threshold\": 0.224, \"p\": 4612, \"fpr\": 0.9548373287671232, \"tpr\": 0.9956634865568084, \"n\": 4672}, {\"threshold\": 0.225, \"p\": 4612, \"fpr\": 0.9535530821917808, \"tpr\": 0.9950130095403296, \"n\": 4672}, {\"threshold\": 0.226, \"p\": 4612, \"fpr\": 0.953125, \"tpr\": 0.9950130095403296, \"n\": 4672}, {\"threshold\": 0.227, \"p\": 4612, \"fpr\": 0.9524828767123288, \"tpr\": 0.9950130095403296, \"n\": 4672}, {\"threshold\": 0.228, \"p\": 4612, \"fpr\": 0.9518407534246576, \"tpr\": 0.99479618386817, \"n\": 4672}, {\"threshold\": 0.229, \"p\": 4612, \"fpr\": 0.9507705479452054, \"tpr\": 0.99479618386817, \"n\": 4672}, {\"threshold\": 0.23, \"p\": 4612, \"fpr\": 0.9503424657534246, \"tpr\": 0.99479618386817, \"n\": 4672}, {\"threshold\": 0.231, \"p\": 4612, \"fpr\": 0.9501284246575342, \"tpr\": 0.9945793581960104, \"n\": 4672}, {\"threshold\": 0.232, \"p\": 4612, \"fpr\": 0.949486301369863, \"tpr\": 0.9945793581960104, \"n\": 4672}, {\"threshold\": 0.233, \"p\": 4612, \"fpr\": 0.9490582191780822, \"tpr\": 0.9945793581960104, \"n\": 4672}, {\"threshold\": 0.234, \"p\": 4612, \"fpr\": 0.9479880136986302, \"tpr\": 0.9945793581960104, \"n\": 4672}, {\"threshold\": 0.235, \"p\": 4612, \"fpr\": 0.9475599315068494, \"tpr\": 0.9945793581960104, \"n\": 4672}, {\"threshold\": 0.236, \"p\": 4612, \"fpr\": 0.946917808219178, \"tpr\": 0.9945793581960104, \"n\": 4672}, {\"threshold\": 0.237, \"p\": 4612, \"fpr\": 0.9467037671232876, \"tpr\": 0.9945793581960104, \"n\": 4672}, {\"threshold\": 0.238, \"p\": 4612, \"fpr\": 0.9462756849315068, \"tpr\": 0.9945793581960104, \"n\": 4672}, {\"threshold\": 0.239, \"p\": 4612, \"fpr\": 0.9452054794520548, \"tpr\": 0.9943625325238509, \"n\": 4672}, {\"threshold\": 0.24, \"p\": 4612, \"fpr\": 0.9443493150684932, \"tpr\": 0.9943625325238509, \"n\": 4672}, {\"threshold\": 0.241, \"p\": 4612, \"fpr\": 0.943279109589041, \"tpr\": 0.9943625325238509, \"n\": 4672}, {\"threshold\": 0.242, \"p\": 4612, \"fpr\": 0.9426369863013698, \"tpr\": 0.9943625325238509, \"n\": 4672}, {\"threshold\": 0.243, \"p\": 4612, \"fpr\": 0.9424229452054794, \"tpr\": 0.9943625325238509, \"n\": 4672}, {\"threshold\": 0.244, \"p\": 4612, \"fpr\": 0.9409246575342466, \"tpr\": 0.9932784041630529, \"n\": 4672}, {\"threshold\": 0.245, \"p\": 4612, \"fpr\": 0.9404965753424658, \"tpr\": 0.9932784041630529, \"n\": 4672}, {\"threshold\": 0.246, \"p\": 4612, \"fpr\": 0.9402825342465754, \"tpr\": 0.9932784041630529, \"n\": 4672}, {\"threshold\": 0.247, \"p\": 4612, \"fpr\": 0.940068493150685, \"tpr\": 0.9930615784908933, \"n\": 4672}, {\"threshold\": 0.248, \"p\": 4612, \"fpr\": 0.9398544520547946, \"tpr\": 0.9930615784908933, \"n\": 4672}, {\"threshold\": 0.249, \"p\": 4612, \"fpr\": 0.9396404109589042, \"tpr\": 0.9930615784908933, \"n\": 4672}, {\"threshold\": 0.25, \"p\": 4612, \"fpr\": 0.9383561643835616, \"tpr\": 0.9930615784908933, \"n\": 4672}, {\"threshold\": 0.251, \"p\": 4612, \"fpr\": 0.9383561643835616, \"tpr\": 0.9930615784908933, \"n\": 4672}, {\"threshold\": 0.252, \"p\": 4612, \"fpr\": 0.9383561643835616, \"tpr\": 0.9928447528187337, \"n\": 4672}, {\"threshold\": 0.253, \"p\": 4612, \"fpr\": 0.9377140410958904, \"tpr\": 0.9926279271465741, \"n\": 4672}, {\"threshold\": 0.254, \"p\": 4612, \"fpr\": 0.9377140410958904, \"tpr\": 0.9926279271465741, \"n\": 4672}, {\"threshold\": 0.255, \"p\": 4612, \"fpr\": 0.9372859589041096, \"tpr\": 0.9926279271465741, \"n\": 4672}, {\"threshold\": 0.256, \"p\": 4612, \"fpr\": 0.9368578767123288, \"tpr\": 0.9926279271465741, \"n\": 4672}, {\"threshold\": 0.257, \"p\": 4612, \"fpr\": 0.9368578767123288, \"tpr\": 0.9926279271465741, \"n\": 4672}, {\"threshold\": 0.258, \"p\": 4612, \"fpr\": 0.936429794520548, \"tpr\": 0.9926279271465741, \"n\": 4672}, {\"threshold\": 0.259, \"p\": 4612, \"fpr\": 0.936429794520548, \"tpr\": 0.9924111014744146, \"n\": 4672}, {\"threshold\": 0.26, \"p\": 4612, \"fpr\": 0.9357876712328768, \"tpr\": 0.9921942758022549, \"n\": 4672}, {\"threshold\": 0.261, \"p\": 4612, \"fpr\": 0.9220890410958904, \"tpr\": 0.9891587163920208, \"n\": 4672}, {\"threshold\": 0.262, \"p\": 4612, \"fpr\": 0.9214469178082192, \"tpr\": 0.9891587163920208, \"n\": 4672}, {\"threshold\": 0.263, \"p\": 4612, \"fpr\": 0.9210188356164384, \"tpr\": 0.9891587163920208, \"n\": 4672}, {\"threshold\": 0.264, \"p\": 4612, \"fpr\": 0.9034674657534246, \"tpr\": 0.9835212489158717, \"n\": 4672}, {\"threshold\": 0.265, \"p\": 4612, \"fpr\": 0.9032534246575342, \"tpr\": 0.9835212489158717, \"n\": 4672}, {\"threshold\": 0.266, \"p\": 4612, \"fpr\": 0.902611301369863, \"tpr\": 0.9835212489158717, \"n\": 4672}, {\"threshold\": 0.267, \"p\": 4612, \"fpr\": 0.9023972602739726, \"tpr\": 0.9835212489158717, \"n\": 4672}, {\"threshold\": 0.268, \"p\": 4612, \"fpr\": 0.9023972602739726, \"tpr\": 0.9835212489158717, \"n\": 4672}, {\"threshold\": 0.269, \"p\": 4612, \"fpr\": 0.9019691780821918, \"tpr\": 0.9835212489158717, \"n\": 4672}, {\"threshold\": 0.27, \"p\": 4612, \"fpr\": 0.901541095890411, \"tpr\": 0.9835212489158717, \"n\": 4672}, {\"threshold\": 0.271, \"p\": 4612, \"fpr\": 0.9008989726027398, \"tpr\": 0.9835212489158717, \"n\": 4672}, {\"threshold\": 0.272, \"p\": 4612, \"fpr\": 0.9002568493150684, \"tpr\": 0.983304423243712, \"n\": 4672}, {\"threshold\": 0.273, \"p\": 4612, \"fpr\": 0.8994006849315068, \"tpr\": 0.983304423243712, \"n\": 4672}, {\"threshold\": 0.274, \"p\": 4612, \"fpr\": 0.8985445205479452, \"tpr\": 0.983304423243712, \"n\": 4672}, {\"threshold\": 0.275, \"p\": 4612, \"fpr\": 0.8983304794520548, \"tpr\": 0.983304423243712, \"n\": 4672}, {\"threshold\": 0.276, \"p\": 4612, \"fpr\": 0.897902397260274, \"tpr\": 0.983304423243712, \"n\": 4672}, {\"threshold\": 0.277, \"p\": 4612, \"fpr\": 0.8959760273972602, \"tpr\": 0.9822202948829142, \"n\": 4672}, {\"threshold\": 0.278, \"p\": 4612, \"fpr\": 0.8959760273972602, \"tpr\": 0.9822202948829142, \"n\": 4672}, {\"threshold\": 0.279, \"p\": 4612, \"fpr\": 0.8949058219178082, \"tpr\": 0.9820034692107545, \"n\": 4672}, {\"threshold\": 0.28, \"p\": 4612, \"fpr\": 0.8910530821917808, \"tpr\": 0.9809193408499567, \"n\": 4672}, {\"threshold\": 0.281, \"p\": 4612, \"fpr\": 0.8908390410958904, \"tpr\": 0.9809193408499567, \"n\": 4672}, {\"threshold\": 0.282, \"p\": 4612, \"fpr\": 0.8904109589041096, \"tpr\": 0.9809193408499567, \"n\": 4672}, {\"threshold\": 0.283, \"p\": 4612, \"fpr\": 0.8901969178082192, \"tpr\": 0.9809193408499567, \"n\": 4672}, {\"threshold\": 0.284, \"p\": 4612, \"fpr\": 0.8681506849315068, \"tpr\": 0.9741977450130095, \"n\": 4672}, {\"threshold\": 0.285, \"p\": 4612, \"fpr\": 0.8681506849315068, \"tpr\": 0.9741977450130095, \"n\": 4672}, {\"threshold\": 0.286, \"p\": 4612, \"fpr\": 0.8675085616438356, \"tpr\": 0.9741977450130095, \"n\": 4672}, {\"threshold\": 0.287, \"p\": 4612, \"fpr\": 0.8668664383561644, \"tpr\": 0.97398091934085, \"n\": 4672}, {\"threshold\": 0.288, \"p\": 4612, \"fpr\": 0.865154109589041, \"tpr\": 0.9737640936686903, \"n\": 4672}, {\"threshold\": 0.289, \"p\": 4612, \"fpr\": 0.8647260273972602, \"tpr\": 0.9737640936686903, \"n\": 4672}, {\"threshold\": 0.29, \"p\": 4612, \"fpr\": 0.8627996575342466, \"tpr\": 0.9733304423243712, \"n\": 4672}, {\"threshold\": 0.291, \"p\": 4612, \"fpr\": 0.8625856164383562, \"tpr\": 0.9733304423243712, \"n\": 4672}, {\"threshold\": 0.292, \"p\": 4612, \"fpr\": 0.861943493150685, \"tpr\": 0.9731136166522116, \"n\": 4672}, {\"threshold\": 0.293, \"p\": 4612, \"fpr\": 0.8615154109589042, \"tpr\": 0.9726799653078925, \"n\": 4672}, {\"threshold\": 0.294, \"p\": 4612, \"fpr\": 0.8615154109589042, \"tpr\": 0.9726799653078925, \"n\": 4672}, {\"threshold\": 0.295, \"p\": 4612, \"fpr\": 0.8578767123287672, \"tpr\": 0.9718126626192541, \"n\": 4672}, {\"threshold\": 0.296, \"p\": 4612, \"fpr\": 0.848458904109589, \"tpr\": 0.9683434518647008, \"n\": 4672}, {\"threshold\": 0.297, \"p\": 4612, \"fpr\": 0.8482448630136986, \"tpr\": 0.9683434518647008, \"n\": 4672}, {\"threshold\": 0.298, \"p\": 4612, \"fpr\": 0.8482448630136986, \"tpr\": 0.9683434518647008, \"n\": 4672}, {\"threshold\": 0.299, \"p\": 4612, \"fpr\": 0.8441780821917808, \"tpr\": 0.9674761491760624, \"n\": 4672}, {\"threshold\": 0.3, \"p\": 4612, \"fpr\": 0.8326198630136986, \"tpr\": 0.9655247181266262, \"n\": 4672}, {\"threshold\": 0.301, \"p\": 4612, \"fpr\": 0.8321917808219178, \"tpr\": 0.9655247181266262, \"n\": 4672}, {\"threshold\": 0.302, \"p\": 4612, \"fpr\": 0.8321917808219178, \"tpr\": 0.9655247181266262, \"n\": 4672}, {\"threshold\": 0.303, \"p\": 4612, \"fpr\": 0.831763698630137, \"tpr\": 0.9653078924544666, \"n\": 4672}, {\"threshold\": 0.304, \"p\": 4612, \"fpr\": 0.831763698630137, \"tpr\": 0.9653078924544666, \"n\": 4672}, {\"threshold\": 0.305, \"p\": 4612, \"fpr\": 0.8315496575342466, \"tpr\": 0.965091066782307, \"n\": 4672}, {\"threshold\": 0.306, \"p\": 4612, \"fpr\": 0.8309075342465754, \"tpr\": 0.965091066782307, \"n\": 4672}, {\"threshold\": 0.307, \"p\": 4612, \"fpr\": 0.8304794520547946, \"tpr\": 0.9648742411101474, \"n\": 4672}, {\"threshold\": 0.308, \"p\": 4612, \"fpr\": 0.8302654109589042, \"tpr\": 0.9644405897658282, \"n\": 4672}, {\"threshold\": 0.309, \"p\": 4612, \"fpr\": 0.8296232876712328, \"tpr\": 0.9642237640936687, \"n\": 4672}, {\"threshold\": 0.31, \"p\": 4612, \"fpr\": 0.8268407534246576, \"tpr\": 0.9635732870771899, \"n\": 4672}, {\"threshold\": 0.311, \"p\": 4612, \"fpr\": 0.8247003424657534, \"tpr\": 0.9631396357328708, \"n\": 4672}, {\"threshold\": 0.312, \"p\": 4612, \"fpr\": 0.820847602739726, \"tpr\": 0.9616218560277537, \"n\": 4672}, {\"threshold\": 0.313, \"p\": 4612, \"fpr\": 0.8169948630136986, \"tpr\": 0.9592367736339983, \"n\": 4672}, {\"threshold\": 0.314, \"p\": 4612, \"fpr\": 0.8163527397260274, \"tpr\": 0.9588031222896791, \"n\": 4672}, {\"threshold\": 0.315, \"p\": 4612, \"fpr\": 0.8148544520547946, \"tpr\": 0.95836947094536, \"n\": 4672}, {\"threshold\": 0.316, \"p\": 4612, \"fpr\": 0.8105736301369864, \"tpr\": 0.9564180398959237, \"n\": 4672}, {\"threshold\": 0.317, \"p\": 4612, \"fpr\": 0.8092893835616438, \"tpr\": 0.9559843885516045, \"n\": 4672}, {\"threshold\": 0.318, \"p\": 4612, \"fpr\": 0.8086472602739726, \"tpr\": 0.9559843885516045, \"n\": 4672}, {\"threshold\": 0.319, \"p\": 4612, \"fpr\": 0.8080051369863014, \"tpr\": 0.955767562879445, \"n\": 4672}, {\"threshold\": 0.32, \"p\": 4612, \"fpr\": 0.806720890410959, \"tpr\": 0.9555507372072853, \"n\": 4672}, {\"threshold\": 0.321, \"p\": 4612, \"fpr\": 0.8009417808219178, \"tpr\": 0.952081526452732, \"n\": 4672}, {\"threshold\": 0.322, \"p\": 4612, \"fpr\": 0.8007277397260274, \"tpr\": 0.952081526452732, \"n\": 4672}, {\"threshold\": 0.323, \"p\": 4612, \"fpr\": 0.7947345890410958, \"tpr\": 0.9496964440589766, \"n\": 4672}, {\"threshold\": 0.324, \"p\": 4612, \"fpr\": 0.7934503424657534, \"tpr\": 0.949479618386817, \"n\": 4672}, {\"threshold\": 0.325, \"p\": 4612, \"fpr\": 0.793236301369863, \"tpr\": 0.949479618386817, \"n\": 4672}, {\"threshold\": 0.326, \"p\": 4612, \"fpr\": 0.7915239726027398, \"tpr\": 0.9492627927146574, \"n\": 4672}, {\"threshold\": 0.327, \"p\": 4612, \"fpr\": 0.7908818493150684, \"tpr\": 0.9483954900260191, \"n\": 4672}, {\"threshold\": 0.328, \"p\": 4612, \"fpr\": 0.7900256849315068, \"tpr\": 0.9479618386816999, \"n\": 4672}, {\"threshold\": 0.329, \"p\": 4612, \"fpr\": 0.789597602739726, \"tpr\": 0.9475281873373808, \"n\": 4672}, {\"threshold\": 0.33, \"p\": 4612, \"fpr\": 0.7878852739726028, \"tpr\": 0.9462272333044233, \"n\": 4672}, {\"threshold\": 0.331, \"p\": 4612, \"fpr\": 0.7853167808219178, \"tpr\": 0.9447094535993061, \"n\": 4672}, {\"threshold\": 0.332, \"p\": 4612, \"fpr\": 0.7853167808219178, \"tpr\": 0.9444926279271466, \"n\": 4672}, {\"threshold\": 0.333, \"p\": 4612, \"fpr\": 0.7814640410958904, \"tpr\": 0.9429748482220295, \"n\": 4672}, {\"threshold\": 0.334, \"p\": 4612, \"fpr\": 0.7771832191780822, \"tpr\": 0.9425411968777103, \"n\": 4672}, {\"threshold\": 0.335, \"p\": 4612, \"fpr\": 0.7771832191780822, \"tpr\": 0.9425411968777103, \"n\": 4672}, {\"threshold\": 0.336, \"p\": 4612, \"fpr\": 0.7741866438356164, \"tpr\": 0.9421075455333912, \"n\": 4672}, {\"threshold\": 0.337, \"p\": 4612, \"fpr\": 0.7731164383561644, \"tpr\": 0.9418907198612315, \"n\": 4672}, {\"threshold\": 0.338, \"p\": 4612, \"fpr\": 0.770333904109589, \"tpr\": 0.9412402428447528, \"n\": 4672}, {\"threshold\": 0.339, \"p\": 4612, \"fpr\": 0.7658390410958904, \"tpr\": 0.9395056374674762, \"n\": 4672}, {\"threshold\": 0.34, \"p\": 4612, \"fpr\": 0.7617722602739726, \"tpr\": 0.9382046834345187, \"n\": 4672}, {\"threshold\": 0.341, \"p\": 4612, \"fpr\": 0.7611301369863014, \"tpr\": 0.9377710320901995, \"n\": 4672}, {\"threshold\": 0.342, \"p\": 4612, \"fpr\": 0.7604880136986302, \"tpr\": 0.9373373807458804, \"n\": 4672}, {\"threshold\": 0.343, \"p\": 4612, \"fpr\": 0.752568493150685, \"tpr\": 0.9345186470078057, \"n\": 4672}, {\"threshold\": 0.344, \"p\": 4612, \"fpr\": 0.7523544520547946, \"tpr\": 0.9345186470078057, \"n\": 4672}, {\"threshold\": 0.345, \"p\": 4612, \"fpr\": 0.7523544520547946, \"tpr\": 0.9343018213356461, \"n\": 4672}, {\"threshold\": 0.346, \"p\": 4612, \"fpr\": 0.7517123287671232, \"tpr\": 0.9343018213356461, \"n\": 4672}, {\"threshold\": 0.347, \"p\": 4612, \"fpr\": 0.75, \"tpr\": 0.9332176929748482, \"n\": 4672}, {\"threshold\": 0.348, \"p\": 4612, \"fpr\": 0.7487157534246576, \"tpr\": 0.9323503902862099, \"n\": 4672}, {\"threshold\": 0.349, \"p\": 4612, \"fpr\": 0.7467893835616438, \"tpr\": 0.9314830875975716, \"n\": 4672}, {\"threshold\": 0.35, \"p\": 4612, \"fpr\": 0.7457191780821918, \"tpr\": 0.9301821335646141, \"n\": 4672}, {\"threshold\": 0.351, \"p\": 4612, \"fpr\": 0.7403681506849316, \"tpr\": 0.9282307025151778, \"n\": 4672}, {\"threshold\": 0.352, \"p\": 4612, \"fpr\": 0.7373715753424658, \"tpr\": 0.9267129228100607, \"n\": 4672}, {\"threshold\": 0.353, \"p\": 4612, \"fpr\": 0.7339469178082192, \"tpr\": 0.926062445793582, \"n\": 4672}, {\"threshold\": 0.354, \"p\": 4612, \"fpr\": 0.733304794520548, \"tpr\": 0.924978317432784, \"n\": 4672}, {\"threshold\": 0.355, \"p\": 4612, \"fpr\": 0.7315924657534246, \"tpr\": 0.9245446660884649, \"n\": 4672}, {\"threshold\": 0.356, \"p\": 4612, \"fpr\": 0.7303082191780822, \"tpr\": 0.9243278404163053, \"n\": 4672}, {\"threshold\": 0.357, \"p\": 4612, \"fpr\": 0.7277397260273972, \"tpr\": 0.9221595836947094, \"n\": 4672}, {\"threshold\": 0.358, \"p\": 4612, \"fpr\": 0.7268835616438356, \"tpr\": 0.9217259323503902, \"n\": 4672}, {\"threshold\": 0.359, \"p\": 4612, \"fpr\": 0.7251712328767124, \"tpr\": 0.9206418039895924, \"n\": 4672}, {\"threshold\": 0.36, \"p\": 4612, \"fpr\": 0.724529109589041, \"tpr\": 0.9204249783174328, \"n\": 4672}, {\"threshold\": 0.361, \"p\": 4612, \"fpr\": 0.7181078767123288, \"tpr\": 0.9184735472679966, \"n\": 4672}, {\"threshold\": 0.362, \"p\": 4612, \"fpr\": 0.7116866438356164, \"tpr\": 0.9169557675628794, \"n\": 4672}, {\"threshold\": 0.363, \"p\": 4612, \"fpr\": 0.7097602739726028, \"tpr\": 0.9167389418907199, \"n\": 4672}, {\"threshold\": 0.364, \"p\": 4612, \"fpr\": 0.709332191780822, \"tpr\": 0.9160884648742411, \"n\": 4672}, {\"threshold\": 0.365, \"p\": 4612, \"fpr\": 0.7082619863013698, \"tpr\": 0.915654813529922, \"n\": 4672}, {\"threshold\": 0.366, \"p\": 4612, \"fpr\": 0.7069777397260274, \"tpr\": 0.9150043365134432, \"n\": 4672}, {\"threshold\": 0.367, \"p\": 4612, \"fpr\": 0.7059075342465754, \"tpr\": 0.914570685169124, \"n\": 4672}, {\"threshold\": 0.368, \"p\": 4612, \"fpr\": 0.7044092465753424, \"tpr\": 0.9143538594969645, \"n\": 4672}, {\"threshold\": 0.369, \"p\": 4612, \"fpr\": 0.7009845890410958, \"tpr\": 0.9126192541196878, \"n\": 4672}, {\"threshold\": 0.37, \"p\": 4612, \"fpr\": 0.6939212328767124, \"tpr\": 0.909366869037294, \"n\": 4672}, {\"threshold\": 0.371, \"p\": 4612, \"fpr\": 0.6930650684931506, \"tpr\": 0.9084995663486557, \"n\": 4672}, {\"threshold\": 0.372, \"p\": 4612, \"fpr\": 0.6919948630136986, \"tpr\": 0.9082827406764961, \"n\": 4672}, {\"threshold\": 0.373, \"p\": 4612, \"fpr\": 0.6904965753424658, \"tpr\": 0.9080659150043365, \"n\": 4672}, {\"threshold\": 0.374, \"p\": 4612, \"fpr\": 0.6883561643835616, \"tpr\": 0.9058976582827407, \"n\": 4672}, {\"threshold\": 0.375, \"p\": 4612, \"fpr\": 0.679152397260274, \"tpr\": 0.901561144839549, \"n\": 4672}, {\"threshold\": 0.376, \"p\": 4612, \"fpr\": 0.6785102739726028, \"tpr\": 0.9013443191673894, \"n\": 4672}, {\"threshold\": 0.377, \"p\": 4612, \"fpr\": 0.6772260273972602, \"tpr\": 0.9011274934952298, \"n\": 4672}, {\"threshold\": 0.378, \"p\": 4612, \"fpr\": 0.671875, \"tpr\": 0.8980919340849957, \"n\": 4672}, {\"threshold\": 0.379, \"p\": 4612, \"fpr\": 0.6712328767123288, \"tpr\": 0.8980919340849957, \"n\": 4672}, {\"threshold\": 0.38, \"p\": 4612, \"fpr\": 0.666095890410959, \"tpr\": 0.8939722463139635, \"n\": 4672}, {\"threshold\": 0.381, \"p\": 4612, \"fpr\": 0.6648116438356164, \"tpr\": 0.8933217692974849, \"n\": 4672}, {\"threshold\": 0.382, \"p\": 4612, \"fpr\": 0.664597602739726, \"tpr\": 0.8933217692974849, \"n\": 4672}, {\"threshold\": 0.383, \"p\": 4612, \"fpr\": 0.6633133561643836, \"tpr\": 0.8922376409366869, \"n\": 4672}, {\"threshold\": 0.384, \"p\": 4612, \"fpr\": 0.662457191780822, \"tpr\": 0.8913703382480486, \"n\": 4672}, {\"threshold\": 0.385, \"p\": 4612, \"fpr\": 0.6605308219178082, \"tpr\": 0.8900693842150911, \"n\": 4672}, {\"threshold\": 0.386, \"p\": 4612, \"fpr\": 0.655179794520548, \"tpr\": 0.8863833477883781, \"n\": 4672}, {\"threshold\": 0.387, \"p\": 4612, \"fpr\": 0.6545376712328768, \"tpr\": 0.8861665221162186, \"n\": 4672}, {\"threshold\": 0.388, \"p\": 4612, \"fpr\": 0.6506849315068494, \"tpr\": 0.8829141370338248, \"n\": 4672}, {\"threshold\": 0.389, \"p\": 4612, \"fpr\": 0.6436215753424658, \"tpr\": 0.8813963573287077, \"n\": 4672}, {\"threshold\": 0.39, \"p\": 4612, \"fpr\": 0.6414811643835616, \"tpr\": 0.8798785776235907, \"n\": 4672}, {\"threshold\": 0.391, \"p\": 4612, \"fpr\": 0.6382705479452054, \"tpr\": 0.8787944492627927, \"n\": 4672}, {\"threshold\": 0.392, \"p\": 4612, \"fpr\": 0.6372003424657534, \"tpr\": 0.8781439722463139, \"n\": 4672}, {\"threshold\": 0.393, \"p\": 4612, \"fpr\": 0.634845890410959, \"tpr\": 0.8757588898525586, \"n\": 4672}, {\"threshold\": 0.394, \"p\": 4612, \"fpr\": 0.6316352739726028, \"tpr\": 0.8731569817866436, \"n\": 4672}, {\"threshold\": 0.395, \"p\": 4612, \"fpr\": 0.630779109589041, \"tpr\": 0.8722896790980053, \"n\": 4672}, {\"threshold\": 0.396, \"p\": 4612, \"fpr\": 0.6303510273972602, \"tpr\": 0.8722896790980053, \"n\": 4672}, {\"threshold\": 0.397, \"p\": 4612, \"fpr\": 0.6198630136986302, \"tpr\": 0.8681699913269731, \"n\": 4672}, {\"threshold\": 0.398, \"p\": 4612, \"fpr\": 0.617722602739726, \"tpr\": 0.8668690372940157, \"n\": 4672}, {\"threshold\": 0.399, \"p\": 4612, \"fpr\": 0.6149400684931506, \"tpr\": 0.8649176062445794, \"n\": 4672}, {\"threshold\": 0.4, \"p\": 4612, \"fpr\": 0.6115154109589042, \"tpr\": 0.8627493495229835, \"n\": 4672}, {\"threshold\": 0.401, \"p\": 4612, \"fpr\": 0.6095890410958904, \"tpr\": 0.861448395490026, \"n\": 4672}, {\"threshold\": 0.402, \"p\": 4612, \"fpr\": 0.6072345890410958, \"tpr\": 0.8594969644405898, \"n\": 4672}, {\"threshold\": 0.403, \"p\": 4612, \"fpr\": 0.6070205479452054, \"tpr\": 0.8594969644405898, \"n\": 4672}, {\"threshold\": 0.404, \"p\": 4612, \"fpr\": 0.6059503424657534, \"tpr\": 0.8586296617519514, \"n\": 4672}, {\"threshold\": 0.405, \"p\": 4612, \"fpr\": 0.599529109589041, \"tpr\": 0.8568950563746748, \"n\": 4672}, {\"threshold\": 0.406, \"p\": 4612, \"fpr\": 0.5986729452054794, \"tpr\": 0.856244579358196, \"n\": 4672}, {\"threshold\": 0.407, \"p\": 4612, \"fpr\": 0.5971746575342466, \"tpr\": 0.8555941023417173, \"n\": 4672}, {\"threshold\": 0.408, \"p\": 4612, \"fpr\": 0.5913955479452054, \"tpr\": 0.8529921942758023, \"n\": 4672}, {\"threshold\": 0.409, \"p\": 4612, \"fpr\": 0.590111301369863, \"tpr\": 0.852558542931483, \"n\": 4672}, {\"threshold\": 0.41, \"p\": 4612, \"fpr\": 0.5862585616438356, \"tpr\": 0.8493061578490894, \"n\": 4672}, {\"threshold\": 0.411, \"p\": 4612, \"fpr\": 0.5832619863013698, \"tpr\": 0.8475715524718127, \"n\": 4672}, {\"threshold\": 0.412, \"p\": 4612, \"fpr\": 0.5811215753424658, \"tpr\": 0.8456201214223764, \"n\": 4672}, {\"threshold\": 0.413, \"p\": 4612, \"fpr\": 0.5794092465753424, \"tpr\": 0.8451864700780573, \"n\": 4672}, {\"threshold\": 0.414, \"p\": 4612, \"fpr\": 0.578125, \"tpr\": 0.8443191673894189, \"n\": 4672}, {\"threshold\": 0.415, \"p\": 4612, \"fpr\": 0.5766267123287672, \"tpr\": 0.8438855160450998, \"n\": 4672}, {\"threshold\": 0.416, \"p\": 4612, \"fpr\": 0.5699914383561644, \"tpr\": 0.8404163052905465, \"n\": 4672}, {\"threshold\": 0.417, \"p\": 4612, \"fpr\": 0.5669948630136986, \"tpr\": 0.8388985255854293, \"n\": 4672}, {\"threshold\": 0.418, \"p\": 4612, \"fpr\": 0.5654965753424658, \"tpr\": 0.8373807458803122, \"n\": 4672}, {\"threshold\": 0.419, \"p\": 4612, \"fpr\": 0.5622859589041096, \"tpr\": 0.8356461405030355, \"n\": 4672}, {\"threshold\": 0.42, \"p\": 4612, \"fpr\": 0.5586472602739726, \"tpr\": 0.8341283607979185, \"n\": 4672}, {\"threshold\": 0.421, \"p\": 4612, \"fpr\": 0.555222602739726, \"tpr\": 0.8319601040763226, \"n\": 4672}, {\"threshold\": 0.422, \"p\": 4612, \"fpr\": 0.553082191780822, \"tpr\": 0.8297918473547268, \"n\": 4672}, {\"threshold\": 0.423, \"p\": 4612, \"fpr\": 0.5500856164383562, \"tpr\": 0.8291413703382481, \"n\": 4672}, {\"threshold\": 0.424, \"p\": 4612, \"fpr\": 0.5496575342465754, \"tpr\": 0.8287077189939289, \"n\": 4672}, {\"threshold\": 0.425, \"p\": 4612, \"fpr\": 0.5488013698630136, \"tpr\": 0.8284908933217693, \"n\": 4672}, {\"threshold\": 0.426, \"p\": 4612, \"fpr\": 0.5475171232876712, \"tpr\": 0.8271899392888118, \"n\": 4672}, {\"threshold\": 0.427, \"p\": 4612, \"fpr\": 0.5425941780821918, \"tpr\": 0.8230702515177797, \"n\": 4672}, {\"threshold\": 0.428, \"p\": 4612, \"fpr\": 0.5387414383561644, \"tpr\": 0.821335646140503, \"n\": 4672}, {\"threshold\": 0.429, \"p\": 4612, \"fpr\": 0.534888698630137, \"tpr\": 0.8180832610581092, \"n\": 4672}, {\"threshold\": 0.43, \"p\": 4612, \"fpr\": 0.5196917808219178, \"tpr\": 0.8076756287944492, \"n\": 4672}, {\"threshold\": 0.431, \"p\": 4612, \"fpr\": 0.5164811643835616, \"tpr\": 0.80724197745013, \"n\": 4672}, {\"threshold\": 0.432, \"p\": 4612, \"fpr\": 0.5077054794520548, \"tpr\": 0.8026886383347789, \"n\": 4672}, {\"threshold\": 0.433, \"p\": 4612, \"fpr\": 0.5055650684931506, \"tpr\": 0.8016045099739809, \"n\": 4672}, {\"threshold\": 0.434, \"p\": 4612, \"fpr\": 0.5004280821917808, \"tpr\": 0.7987857762359063, \"n\": 4672}, {\"threshold\": 0.435, \"p\": 4612, \"fpr\": 0.4995719178082192, \"tpr\": 0.7981352992194276, \"n\": 4672}, {\"threshold\": 0.436, \"p\": 4612, \"fpr\": 0.4987157534246575, \"tpr\": 0.7972679965307893, \"n\": 4672}, {\"threshold\": 0.437, \"p\": 4612, \"fpr\": 0.4972174657534247, \"tpr\": 0.7966175195143105, \"n\": 4672}, {\"threshold\": 0.438, \"p\": 4612, \"fpr\": 0.4946489726027397, \"tpr\": 0.7948829141370338, \"n\": 4672}, {\"threshold\": 0.439, \"p\": 4612, \"fpr\": 0.4931506849315068, \"tpr\": 0.7940156114483955, \"n\": 4672}, {\"threshold\": 0.44, \"p\": 4612, \"fpr\": 0.4918664383561644, \"tpr\": 0.7924978317432784, \"n\": 4672}, {\"threshold\": 0.441, \"p\": 4612, \"fpr\": 0.4905821917808219, \"tpr\": 0.7924978317432784, \"n\": 4672}, {\"threshold\": 0.442, \"p\": 4612, \"fpr\": 0.4895119863013699, \"tpr\": 0.7911968777103209, \"n\": 4672}, {\"threshold\": 0.443, \"p\": 4612, \"fpr\": 0.4875856164383562, \"tpr\": 0.7903295750216826, \"n\": 4672}, {\"threshold\": 0.444, \"p\": 4612, \"fpr\": 0.4860873287671233, \"tpr\": 0.7898959236773634, \"n\": 4672}, {\"threshold\": 0.445, \"p\": 4612, \"fpr\": 0.4858732876712329, \"tpr\": 0.7898959236773634, \"n\": 4672}, {\"threshold\": 0.446, \"p\": 4612, \"fpr\": 0.4845890410958904, \"tpr\": 0.7888117953165655, \"n\": 4672}, {\"threshold\": 0.447, \"p\": 4612, \"fpr\": 0.4775256849315068, \"tpr\": 0.7836079791847355, \"n\": 4672}, {\"threshold\": 0.448, \"p\": 4612, \"fpr\": 0.4753852739726027, \"tpr\": 0.782307025151778, \"n\": 4672}, {\"threshold\": 0.449, \"p\": 4612, \"fpr\": 0.4715325342465753, \"tpr\": 0.7775368603642672, \"n\": 4672}, {\"threshold\": 0.45, \"p\": 4612, \"fpr\": 0.4663955479452055, \"tpr\": 0.7738508239375542, \"n\": 4672}, {\"threshold\": 0.451, \"p\": 4612, \"fpr\": 0.4638270547945205, \"tpr\": 0.7725498699045967, \"n\": 4672}, {\"threshold\": 0.452, \"p\": 4612, \"fpr\": 0.4591181506849315, \"tpr\": 0.769297484822203, \"n\": 4672}, {\"threshold\": 0.453, \"p\": 4612, \"fpr\": 0.456763698630137, \"tpr\": 0.7677797051170858, \"n\": 4672}, {\"threshold\": 0.454, \"p\": 4612, \"fpr\": 0.4554794520547945, \"tpr\": 0.7673460537727667, \"n\": 4672}, {\"threshold\": 0.455, \"p\": 4612, \"fpr\": 0.4537671232876712, \"tpr\": 0.7658282740676496, \"n\": 4672}, {\"threshold\": 0.456, \"p\": 4612, \"fpr\": 0.4505565068493151, \"tpr\": 0.7643104943625325, \"n\": 4672}, {\"threshold\": 0.457, \"p\": 4612, \"fpr\": 0.4490582191780822, \"tpr\": 0.763009540329575, \"n\": 4672}, {\"threshold\": 0.458, \"p\": 4612, \"fpr\": 0.4454195205479452, \"tpr\": 0.76040763226366, \"n\": 4672}, {\"threshold\": 0.459, \"p\": 4612, \"fpr\": 0.442208904109589, \"tpr\": 0.7591066782307025, \"n\": 4672}, {\"threshold\": 0.46, \"p\": 4612, \"fpr\": 0.4417808219178082, \"tpr\": 0.7586730268863834, \"n\": 4672}, {\"threshold\": 0.461, \"p\": 4612, \"fpr\": 0.4400684931506849, \"tpr\": 0.7571552471812663, \"n\": 4672}, {\"threshold\": 0.462, \"p\": 4612, \"fpr\": 0.4394263698630137, \"tpr\": 0.7556374674761491, \"n\": 4672}, {\"threshold\": 0.463, \"p\": 4612, \"fpr\": 0.4389982876712329, \"tpr\": 0.7554206418039896, \"n\": 4672}, {\"threshold\": 0.464, \"p\": 4612, \"fpr\": 0.4370719178082192, \"tpr\": 0.7543365134431916, \"n\": 4672}, {\"threshold\": 0.465, \"p\": 4612, \"fpr\": 0.4362157534246575, \"tpr\": 0.7539028620988725, \"n\": 4672}, {\"threshold\": 0.466, \"p\": 4612, \"fpr\": 0.4351455479452055, \"tpr\": 0.7532523850823938, \"n\": 4672}, {\"threshold\": 0.467, \"p\": 4612, \"fpr\": 0.4285102739726027, \"tpr\": 0.7493495229835212, \"n\": 4672}, {\"threshold\": 0.468, \"p\": 4612, \"fpr\": 0.4274400684931507, \"tpr\": 0.7491326973113617, \"n\": 4672}, {\"threshold\": 0.469, \"p\": 4612, \"fpr\": 0.4235873287671233, \"tpr\": 0.7465307892454467, \"n\": 4672}, {\"threshold\": 0.47, \"p\": 4612, \"fpr\": 0.4220890410958904, \"tpr\": 0.7452298352124892, \"n\": 4672}, {\"threshold\": 0.471, \"p\": 4612, \"fpr\": 0.4208047945205479, \"tpr\": 0.7437120555073721, \"n\": 4672}, {\"threshold\": 0.472, \"p\": 4612, \"fpr\": 0.4195205479452055, \"tpr\": 0.7428447528187337, \"n\": 4672}, {\"threshold\": 0.473, \"p\": 4612, \"fpr\": 0.4175941780821918, \"tpr\": 0.7415437987857763, \"n\": 4672}, {\"threshold\": 0.474, \"p\": 4612, \"fpr\": 0.4128852739726027, \"tpr\": 0.7372072853425846, \"n\": 4672}, {\"threshold\": 0.475, \"p\": 4612, \"fpr\": 0.4105308219178082, \"tpr\": 0.7354726799653079, \"n\": 4672}, {\"threshold\": 0.476, \"p\": 4612, \"fpr\": 0.4079623287671233, \"tpr\": 0.7348222029488292, \"n\": 4672}, {\"threshold\": 0.477, \"p\": 4612, \"fpr\": 0.4058219178082192, \"tpr\": 0.7326539462272333, \"n\": 4672}, {\"threshold\": 0.478, \"p\": 4612, \"fpr\": 0.401541095890411, \"tpr\": 0.7296183868169991, \"n\": 4672}, {\"threshold\": 0.479, \"p\": 4612, \"fpr\": 0.3970462328767123, \"tpr\": 0.7265828274067649, \"n\": 4672}, {\"threshold\": 0.48, \"p\": 4612, \"fpr\": 0.394263698630137, \"tpr\": 0.7237640936686903, \"n\": 4672}, {\"threshold\": 0.481, \"p\": 4612, \"fpr\": 0.3910530821917808, \"tpr\": 0.7220294882914137, \"n\": 4672}, {\"threshold\": 0.482, \"p\": 4612, \"fpr\": 0.3820633561643836, \"tpr\": 0.7144405897658282, \"n\": 4672}, {\"threshold\": 0.483, \"p\": 4612, \"fpr\": 0.3816352739726027, \"tpr\": 0.7140069384215091, \"n\": 4672}, {\"threshold\": 0.484, \"p\": 4612, \"fpr\": 0.3773544520547945, \"tpr\": 0.7103209019947961, \"n\": 4672}, {\"threshold\": 0.485, \"p\": 4612, \"fpr\": 0.3739297945205479, \"tpr\": 0.7079358196010408, \"n\": 4672}, {\"threshold\": 0.486, \"p\": 4612, \"fpr\": 0.3735017123287671, \"tpr\": 0.7077189939288812, \"n\": 4672}, {\"threshold\": 0.487, \"p\": 4612, \"fpr\": 0.370291095890411, \"tpr\": 0.7059843885516045, \"n\": 4672}, {\"threshold\": 0.488, \"p\": 4612, \"fpr\": 0.3692208904109589, \"tpr\": 0.704683434518647, \"n\": 4672}, {\"threshold\": 0.489, \"p\": 4612, \"fpr\": 0.367722602739726, \"tpr\": 0.7031656548135299, \"n\": 4672}, {\"threshold\": 0.49, \"p\": 4612, \"fpr\": 0.3655821917808219, \"tpr\": 0.7018647007805724, \"n\": 4672}, {\"threshold\": 0.491, \"p\": 4612, \"fpr\": 0.3645119863013699, \"tpr\": 0.7007805724197745, \"n\": 4672}, {\"threshold\": 0.492, \"p\": 4612, \"fpr\": 0.3627996575342466, \"tpr\": 0.6986123156981786, \"n\": 4672}, {\"threshold\": 0.493, \"p\": 4612, \"fpr\": 0.3619434931506849, \"tpr\": 0.6983954900260191, \"n\": 4672}, {\"threshold\": 0.494, \"p\": 4612, \"fpr\": 0.3604452054794521, \"tpr\": 0.6964440589765828, \"n\": 4672}, {\"threshold\": 0.495, \"p\": 4612, \"fpr\": 0.3602311643835616, \"tpr\": 0.6960104076322636, \"n\": 4672}, {\"threshold\": 0.496, \"p\": 4612, \"fpr\": 0.3589469178082192, \"tpr\": 0.6936253252385083, \"n\": 4672}, {\"threshold\": 0.497, \"p\": 4612, \"fpr\": 0.3544520547945205, \"tpr\": 0.6886383347788378, \"n\": 4672}, {\"threshold\": 0.498, \"p\": 4612, \"fpr\": 0.3533818493150685, \"tpr\": 0.687987857762359, \"n\": 4672}, {\"threshold\": 0.499, \"p\": 4612, \"fpr\": 0.3482448630136986, \"tpr\": 0.6843018213356461, \"n\": 4672}, {\"threshold\": 0.5, \"p\": 4612, \"fpr\": 0.3463184931506849, \"tpr\": 0.6827840416305291, \"n\": 4672}, {\"threshold\": 0.501, \"p\": 4612, \"fpr\": 0.3458904109589041, \"tpr\": 0.6827840416305291, \"n\": 4672}, {\"threshold\": 0.502, \"p\": 4612, \"fpr\": 0.3351883561643836, \"tpr\": 0.6747614917606245, \"n\": 4672}, {\"threshold\": 0.503, \"p\": 4612, \"fpr\": 0.3321917808219178, \"tpr\": 0.6715091066782307, \"n\": 4672}, {\"threshold\": 0.504, \"p\": 4612, \"fpr\": 0.3274828767123288, \"tpr\": 0.6660884648742411, \"n\": 4672}, {\"threshold\": 0.505, \"p\": 4612, \"fpr\": 0.3195633561643836, \"tpr\": 0.6584995663486557, \"n\": 4672}, {\"threshold\": 0.506, \"p\": 4612, \"fpr\": 0.3165667808219178, \"tpr\": 0.6541630529054641, \"n\": 4672}, {\"threshold\": 0.507, \"p\": 4612, \"fpr\": 0.3165667808219178, \"tpr\": 0.6537294015611448, \"n\": 4672}, {\"threshold\": 0.508, \"p\": 4612, \"fpr\": 0.3116438356164384, \"tpr\": 0.6472246313963573, \"n\": 4672}, {\"threshold\": 0.509, \"p\": 4612, \"fpr\": 0.3107876712328767, \"tpr\": 0.646357328707719, \"n\": 4672}, {\"threshold\": 0.51, \"p\": 4612, \"fpr\": 0.3082191780821918, \"tpr\": 0.6450563746747615, \"n\": 4672}, {\"threshold\": 0.511, \"p\": 4612, \"fpr\": 0.3054366438356164, \"tpr\": 0.6435385949696444, \"n\": 4672}, {\"threshold\": 0.512, \"p\": 4612, \"fpr\": 0.3039383561643836, \"tpr\": 0.6422376409366869, \"n\": 4672}, {\"threshold\": 0.513, \"p\": 4612, \"fpr\": 0.3026541095890411, \"tpr\": 0.6396357328707719, \"n\": 4672}, {\"threshold\": 0.514, \"p\": 4612, \"fpr\": 0.3007277397260274, \"tpr\": 0.6381179531656548, \"n\": 4672}, {\"threshold\": 0.515, \"p\": 4612, \"fpr\": 0.2977311643835616, \"tpr\": 0.6361665221162186, \"n\": 4672}, {\"threshold\": 0.516, \"p\": 4612, \"fpr\": 0.2962328767123288, \"tpr\": 0.6348655680832611, \"n\": 4672}, {\"threshold\": 0.517, \"p\": 4612, \"fpr\": 0.2943065068493151, \"tpr\": 0.6294449262792715, \"n\": 4672}, {\"threshold\": 0.518, \"p\": 4612, \"fpr\": 0.2917380136986301, \"tpr\": 0.6266261925411969, \"n\": 4672}, {\"threshold\": 0.519, \"p\": 4612, \"fpr\": 0.2874571917808219, \"tpr\": 0.6207718993928881, \"n\": 4672}, {\"threshold\": 0.52, \"p\": 4612, \"fpr\": 0.2866010273972603, \"tpr\": 0.6201214223764093, \"n\": 4672}, {\"threshold\": 0.521, \"p\": 4612, \"fpr\": 0.2863869863013699, \"tpr\": 0.6199045967042498, \"n\": 4672}, {\"threshold\": 0.522, \"p\": 4612, \"fpr\": 0.2861729452054795, \"tpr\": 0.6199045967042498, \"n\": 4672}, {\"threshold\": 0.523, \"p\": 4612, \"fpr\": 0.2831763698630137, \"tpr\": 0.6164353859496965, \"n\": 4672}, {\"threshold\": 0.524, \"p\": 4612, \"fpr\": 0.2788955479452055, \"tpr\": 0.6105810928013877, \"n\": 4672}, {\"threshold\": 0.525, \"p\": 4612, \"fpr\": 0.2716181506849315, \"tpr\": 0.5997398091934085, \"n\": 4672}, {\"threshold\": 0.526, \"p\": 4612, \"fpr\": 0.2679794520547945, \"tpr\": 0.5956201214223764, \"n\": 4672}, {\"threshold\": 0.527, \"p\": 4612, \"fpr\": 0.2673373287671233, \"tpr\": 0.593235039028621, \"n\": 4672}, {\"threshold\": 0.528, \"p\": 4612, \"fpr\": 0.2604880136986301, \"tpr\": 0.5865134431916739, \"n\": 4672}, {\"threshold\": 0.529, \"p\": 4612, \"fpr\": 0.258347602739726, \"tpr\": 0.5826105810928014, \"n\": 4672}, {\"threshold\": 0.53, \"p\": 4612, \"fpr\": 0.2579195205479452, \"tpr\": 0.5823937554206418, \"n\": 4672}, {\"threshold\": 0.531, \"p\": 4612, \"fpr\": 0.2544948630136986, \"tpr\": 0.5804423243712056, \"n\": 4672}, {\"threshold\": 0.532, \"p\": 4612, \"fpr\": 0.2529965753424658, \"tpr\": 0.5791413703382481, \"n\": 4672}, {\"threshold\": 0.533, \"p\": 4612, \"fpr\": 0.2527825342465753, \"tpr\": 0.5771899392888118, \"n\": 4672}, {\"threshold\": 0.534, \"p\": 4612, \"fpr\": 0.2525684931506849, \"tpr\": 0.5767562879444926, \"n\": 4672}, {\"threshold\": 0.535, \"p\": 4612, \"fpr\": 0.2504280821917808, \"tpr\": 0.5732870771899393, \"n\": 4672}, {\"threshold\": 0.536, \"p\": 4612, \"fpr\": 0.25, \"tpr\": 0.5728534258456202, \"n\": 4672}, {\"threshold\": 0.537, \"p\": 4612, \"fpr\": 0.2457191780821918, \"tpr\": 0.5656981786643539, \"n\": 4672}, {\"threshold\": 0.538, \"p\": 4612, \"fpr\": 0.24529109589041095, \"tpr\": 0.5646140503035559, \"n\": 4672}, {\"threshold\": 0.539, \"p\": 4612, \"fpr\": 0.24336472602739725, \"tpr\": 0.563529921942758, \"n\": 4672}, {\"threshold\": 0.54, \"p\": 4612, \"fpr\": 0.2377996575342466, \"tpr\": 0.5578924544666088, \"n\": 4672}, {\"threshold\": 0.541, \"p\": 4612, \"fpr\": 0.2365154109589041, \"tpr\": 0.5555073720728534, \"n\": 4672}, {\"threshold\": 0.542, \"p\": 4612, \"fpr\": 0.2339469178082192, \"tpr\": 0.5526886383347789, \"n\": 4672}, {\"threshold\": 0.543, \"p\": 4612, \"fpr\": 0.2322345890410959, \"tpr\": 0.5509540329575021, \"n\": 4672}, {\"threshold\": 0.544, \"p\": 4612, \"fpr\": 0.23159246575342465, \"tpr\": 0.5503035559410234, \"n\": 4672}, {\"threshold\": 0.545, \"p\": 4612, \"fpr\": 0.2303082191780822, \"tpr\": 0.5481352992194276, \"n\": 4672}, {\"threshold\": 0.546, \"p\": 4612, \"fpr\": 0.22581335616438356, \"tpr\": 0.5440156114483955, \"n\": 4672}, {\"threshold\": 0.547, \"p\": 4612, \"fpr\": 0.22324486301369864, \"tpr\": 0.5394622723330442, \"n\": 4672}, {\"threshold\": 0.548, \"p\": 4612, \"fpr\": 0.22153253424657535, \"tpr\": 0.5385949696444059, \"n\": 4672}, {\"threshold\": 0.549, \"p\": 4612, \"fpr\": 0.2208904109589041, \"tpr\": 0.5364267129228101, \"n\": 4672}, {\"threshold\": 0.55, \"p\": 4612, \"fpr\": 0.21939212328767124, \"tpr\": 0.5353425845620121, \"n\": 4672}, {\"threshold\": 0.551, \"p\": 4612, \"fpr\": 0.21789383561643835, \"tpr\": 0.5329575021682568, \"n\": 4672}, {\"threshold\": 0.552, \"p\": 4612, \"fpr\": 0.21618150684931506, \"tpr\": 0.5314397224631396, \"n\": 4672}, {\"threshold\": 0.553, \"p\": 4612, \"fpr\": 0.2148972602739726, \"tpr\": 0.5294882914137033, \"n\": 4672}, {\"threshold\": 0.554, \"p\": 4612, \"fpr\": 0.2127568493150685, \"tpr\": 0.52601908065915, \"n\": 4672}, {\"threshold\": 0.555, \"p\": 4612, \"fpr\": 0.21168664383561644, \"tpr\": 0.5242844752818734, \"n\": 4672}, {\"threshold\": 0.556, \"p\": 4612, \"fpr\": 0.21168664383561644, \"tpr\": 0.5238508239375542, \"n\": 4672}, {\"threshold\": 0.557, \"p\": 4612, \"fpr\": 0.21040239726027396, \"tpr\": 0.5221162185602776, \"n\": 4672}, {\"threshold\": 0.558, \"p\": 4612, \"fpr\": 0.20976027397260275, \"tpr\": 0.5210320901994796, \"n\": 4672}, {\"threshold\": 0.559, \"p\": 4612, \"fpr\": 0.20569349315068494, \"tpr\": 0.5136600173460538, \"n\": 4672}, {\"threshold\": 0.56, \"p\": 4612, \"fpr\": 0.2035530821917808, \"tpr\": 0.5112749349522984, \"n\": 4672}, {\"threshold\": 0.561, \"p\": 4612, \"fpr\": 0.2026969178082192, \"tpr\": 0.5101908065915004, \"n\": 4672}, {\"threshold\": 0.562, \"p\": 4612, \"fpr\": 0.1969178082191781, \"tpr\": 0.5021682567215958, \"n\": 4672}, {\"threshold\": 0.563, \"p\": 4612, \"fpr\": 0.19584760273972604, \"tpr\": 0.4991326973113617, \"n\": 4672}, {\"threshold\": 0.564, \"p\": 4612, \"fpr\": 0.1934931506849315, \"tpr\": 0.49522983521248914, \"n\": 4672}, {\"threshold\": 0.565, \"p\": 4612, \"fpr\": 0.1915667808219178, \"tpr\": 0.4924111014744146, \"n\": 4672}, {\"threshold\": 0.566, \"p\": 4612, \"fpr\": 0.19049657534246575, \"tpr\": 0.48959236773633996, \"n\": 4672}, {\"threshold\": 0.567, \"p\": 4612, \"fpr\": 0.1896404109589041, \"tpr\": 0.48850823937554205, \"n\": 4672}, {\"threshold\": 0.568, \"p\": 4612, \"fpr\": 0.1892123287671233, \"tpr\": 0.48742411101474414, \"n\": 4672}, {\"threshold\": 0.569, \"p\": 4612, \"fpr\": 0.18857020547945205, \"tpr\": 0.48438855160451, \"n\": 4672}, {\"threshold\": 0.57, \"p\": 4612, \"fpr\": 0.1870719178082192, \"tpr\": 0.4822202948829141, \"n\": 4672}, {\"threshold\": 0.571, \"p\": 4612, \"fpr\": 0.1832191780821918, \"tpr\": 0.4787510841283608, \"n\": 4672}, {\"threshold\": 0.572, \"p\": 4612, \"fpr\": 0.18279109589041095, \"tpr\": 0.47658282740676494, \"n\": 4672}, {\"threshold\": 0.573, \"p\": 4612, \"fpr\": 0.18086472602739725, \"tpr\": 0.4735472679965308, \"n\": 4672}, {\"threshold\": 0.574, \"p\": 4612, \"fpr\": 0.17915239726027396, \"tpr\": 0.46986123156981785, \"n\": 4672}, {\"threshold\": 0.575, \"p\": 4612, \"fpr\": 0.1780821917808219, \"tpr\": 0.46617519514310496, \"n\": 4672}, {\"threshold\": 0.576, \"p\": 4612, \"fpr\": 0.1752996575342466, \"tpr\": 0.462489158716392, \"n\": 4672}, {\"threshold\": 0.577, \"p\": 4612, \"fpr\": 0.171875, \"tpr\": 0.45945359930615787, \"n\": 4672}, {\"threshold\": 0.578, \"p\": 4612, \"fpr\": 0.17080479452054795, \"tpr\": 0.45685169124024283, \"n\": 4672}, {\"threshold\": 0.579, \"p\": 4612, \"fpr\": 0.1675941780821918, \"tpr\": 0.454683434518647, \"n\": 4672}, {\"threshold\": 0.58, \"p\": 4612, \"fpr\": 0.16309931506849315, \"tpr\": 0.45208152645273203, \"n\": 4672}, {\"threshold\": 0.581, \"p\": 4612, \"fpr\": 0.1618150684931507, \"tpr\": 0.4503469210754553, \"n\": 4672}, {\"threshold\": 0.582, \"p\": 4612, \"fpr\": 0.1603167808219178, \"tpr\": 0.44861231569817867, \"n\": 4672}, {\"threshold\": 0.583, \"p\": 4612, \"fpr\": 0.1601027397260274, \"tpr\": 0.44774501300954034, \"n\": 4672}, {\"threshold\": 0.584, \"p\": 4612, \"fpr\": 0.15710616438356165, \"tpr\": 0.44319167389418906, \"n\": 4672}, {\"threshold\": 0.585, \"p\": 4612, \"fpr\": 0.15625, \"tpr\": 0.43993928881179534, \"n\": 4672}, {\"threshold\": 0.586, \"p\": 4612, \"fpr\": 0.1560359589041096, \"tpr\": 0.43907198612315695, \"n\": 4672}, {\"threshold\": 0.587, \"p\": 4612, \"fpr\": 0.15517979452054795, \"tpr\": 0.4362532523850824, \"n\": 4672}, {\"threshold\": 0.588, \"p\": 4612, \"fpr\": 0.1547517123287671, \"tpr\": 0.43430182133564615, \"n\": 4672}, {\"threshold\": 0.589, \"p\": 4612, \"fpr\": 0.1543236301369863, \"tpr\": 0.433868169991327, \"n\": 4672}, {\"threshold\": 0.59, \"p\": 4612, \"fpr\": 0.15346746575342465, \"tpr\": 0.4316999132697311, \"n\": 4672}, {\"threshold\": 0.591, \"p\": 4612, \"fpr\": 0.152611301369863, \"tpr\": 0.4297484822202949, \"n\": 4672}, {\"threshold\": 0.592, \"p\": 4612, \"fpr\": 0.152611301369863, \"tpr\": 0.4295316565481353, \"n\": 4672}, {\"threshold\": 0.593, \"p\": 4612, \"fpr\": 0.15089897260273974, \"tpr\": 0.42606244579358193, \"n\": 4672}, {\"threshold\": 0.594, \"p\": 4612, \"fpr\": 0.1502568493150685, \"tpr\": 0.4243278404163053, \"n\": 4672}, {\"threshold\": 0.595, \"p\": 4612, \"fpr\": 0.14897260273972604, \"tpr\": 0.4228100607111882, \"n\": 4672}, {\"threshold\": 0.596, \"p\": 4612, \"fpr\": 0.14704623287671234, \"tpr\": 0.4204249783174328, \"n\": 4672}, {\"threshold\": 0.597, \"p\": 4612, \"fpr\": 0.14554794520547945, \"tpr\": 0.4160884648742411, \"n\": 4672}, {\"threshold\": 0.598, \"p\": 4612, \"fpr\": 0.144263698630137, \"tpr\": 0.41457068516912404, \"n\": 4672}, {\"threshold\": 0.599, \"p\": 4612, \"fpr\": 0.1429794520547945, \"tpr\": 0.41153512575888984, \"n\": 4672}, {\"threshold\": 0.6, \"p\": 4612, \"fpr\": 0.1410530821917808, \"tpr\": 0.406764960971379, \"n\": 4672}, {\"threshold\": 0.601, \"p\": 4612, \"fpr\": 0.13805650684931506, \"tpr\": 0.4043798785776236, \"n\": 4672}, {\"threshold\": 0.602, \"p\": 4612, \"fpr\": 0.1363441780821918, \"tpr\": 0.39960971379011273, \"n\": 4672}, {\"threshold\": 0.603, \"p\": 4612, \"fpr\": 0.13356164383561644, \"tpr\": 0.3954900260190807, \"n\": 4672}, {\"threshold\": 0.604, \"p\": 4612, \"fpr\": 0.13206335616438356, \"tpr\": 0.3924544666088465, \"n\": 4672}, {\"threshold\": 0.605, \"p\": 4612, \"fpr\": 0.13142123287671234, \"tpr\": 0.39158716392020815, \"n\": 4672}, {\"threshold\": 0.606, \"p\": 4612, \"fpr\": 0.12949486301369864, \"tpr\": 0.38811795316565484, \"n\": 4672}, {\"threshold\": 0.607, \"p\": 4612, \"fpr\": 0.12821061643835616, \"tpr\": 0.3852992194275802, \"n\": 4672}, {\"threshold\": 0.608, \"p\": 4612, \"fpr\": 0.1271404109589041, \"tpr\": 0.38356461405030357, \"n\": 4672}, {\"threshold\": 0.609, \"p\": 4612, \"fpr\": 0.1267123287671233, \"tpr\": 0.3820468343451865, \"n\": 4672}, {\"threshold\": 0.61, \"p\": 4612, \"fpr\": 0.12564212328767124, \"tpr\": 0.38074588031222895, \"n\": 4672}, {\"threshold\": 0.611, \"p\": 4612, \"fpr\": 0.1252140410958904, \"tpr\": 0.3798785776235906, \"n\": 4672}, {\"threshold\": 0.612, \"p\": 4612, \"fpr\": 0.12221746575342465, \"tpr\": 0.3738074588031223, \"n\": 4672}, {\"threshold\": 0.613, \"p\": 4612, \"fpr\": 0.12157534246575342, \"tpr\": 0.37294015611448394, \"n\": 4672}, {\"threshold\": 0.614, \"p\": 4612, \"fpr\": 0.11943493150684932, \"tpr\": 0.36925411968777105, \"n\": 4672}, {\"threshold\": 0.615, \"p\": 4612, \"fpr\": 0.11857876712328767, \"tpr\": 0.366652211621856, \"n\": 4672}, {\"threshold\": 0.616, \"p\": 4612, \"fpr\": 0.11643835616438356, \"tpr\": 0.3633998265394623, \"n\": 4672}, {\"threshold\": 0.617, \"p\": 4612, \"fpr\": 0.1153681506849315, \"tpr\": 0.36101474414570683, \"n\": 4672}, {\"threshold\": 0.618, \"p\": 4612, \"fpr\": 0.11494006849315068, \"tpr\": 0.36079791847354725, \"n\": 4672}, {\"threshold\": 0.619, \"p\": 4612, \"fpr\": 0.11365582191780822, \"tpr\": 0.35949696444058976, \"n\": 4672}, {\"threshold\": 0.62, \"p\": 4612, \"fpr\": 0.11365582191780822, \"tpr\": 0.3579791847354727, \"n\": 4672}, {\"threshold\": 0.621, \"p\": 4612, \"fpr\": 0.11215753424657535, \"tpr\": 0.35624457935819603, \"n\": 4672}, {\"threshold\": 0.622, \"p\": 4612, \"fpr\": 0.11023116438356165, \"tpr\": 0.35169124024284476, \"n\": 4672}, {\"threshold\": 0.623, \"p\": 4612, \"fpr\": 0.10894691780821918, \"tpr\": 0.34865568083261056, \"n\": 4672}, {\"threshold\": 0.624, \"p\": 4612, \"fpr\": 0.1076626712328767, \"tpr\": 0.3434518647007806, \"n\": 4672}, {\"threshold\": 0.625, \"p\": 4612, \"fpr\": 0.10595034246575342, \"tpr\": 0.3412836079791847, \"n\": 4672}, {\"threshold\": 0.626, \"p\": 4612, \"fpr\": 0.10509417808219178, \"tpr\": 0.3393321769297485, \"n\": 4672}, {\"threshold\": 0.627, \"p\": 4612, \"fpr\": 0.10102739726027397, \"tpr\": 0.33326105810928014, \"n\": 4672}, {\"threshold\": 0.628, \"p\": 4612, \"fpr\": 0.09931506849315068, \"tpr\": 0.33000867302688636, \"n\": 4672}, {\"threshold\": 0.629, \"p\": 4612, \"fpr\": 0.09888698630136987, \"tpr\": 0.32762359063313096, \"n\": 4672}, {\"threshold\": 0.63, \"p\": 4612, \"fpr\": 0.09803082191780822, \"tpr\": 0.3258889852558543, \"n\": 4672}, {\"threshold\": 0.631, \"p\": 4612, \"fpr\": 0.0976027397260274, \"tpr\": 0.32545533391153514, \"n\": 4672}, {\"threshold\": 0.632, \"p\": 4612, \"fpr\": 0.09738869863013698, \"tpr\": 0.3245880312228968, \"n\": 4672}, {\"threshold\": 0.633, \"p\": 4612, \"fpr\": 0.09738869863013698, \"tpr\": 0.32350390286209885, \"n\": 4672}, {\"threshold\": 0.634, \"p\": 4612, \"fpr\": 0.0939640410958904, \"tpr\": 0.3183000867302689, \"n\": 4672}, {\"threshold\": 0.635, \"p\": 4612, \"fpr\": 0.09267979452054795, \"tpr\": 0.31699913269731134, \"n\": 4672}, {\"threshold\": 0.636, \"p\": 4612, \"fpr\": 0.09118150684931507, \"tpr\": 0.3137467476149176, \"n\": 4672}, {\"threshold\": 0.637, \"p\": 4612, \"fpr\": 0.09053938356164383, \"tpr\": 0.3096270598438855, \"n\": 4672}, {\"threshold\": 0.638, \"p\": 4612, \"fpr\": 0.09032534246575342, \"tpr\": 0.30897658282740675, \"n\": 4672}, {\"threshold\": 0.639, \"p\": 4612, \"fpr\": 0.08882705479452055, \"tpr\": 0.3048568950563747, \"n\": 4672}, {\"threshold\": 0.64, \"p\": 4612, \"fpr\": 0.0879708904109589, \"tpr\": 0.30333911535125757, \"n\": 4672}, {\"threshold\": 0.641, \"p\": 4612, \"fpr\": 0.0877568493150685, \"tpr\": 0.30333911535125757, \"n\": 4672}, {\"threshold\": 0.642, \"p\": 4612, \"fpr\": 0.0877568493150685, \"tpr\": 0.3020381613183001, \"n\": 4672}, {\"threshold\": 0.643, \"p\": 4612, \"fpr\": 0.08711472602739725, \"tpr\": 0.3003035559410234, \"n\": 4672}, {\"threshold\": 0.644, \"p\": 4612, \"fpr\": 0.08454623287671233, \"tpr\": 0.29466608846487424, \"n\": 4672}, {\"threshold\": 0.645, \"p\": 4612, \"fpr\": 0.0819777397260274, \"tpr\": 0.2885949696444059, \"n\": 4672}, {\"threshold\": 0.646, \"p\": 4612, \"fpr\": 0.0802654109589041, \"tpr\": 0.28577623590633133, \"n\": 4672}, {\"threshold\": 0.647, \"p\": 4612, \"fpr\": 0.07876712328767123, \"tpr\": 0.2831743278404163, \"n\": 4672}, {\"threshold\": 0.648, \"p\": 4612, \"fpr\": 0.0783390410958904, \"tpr\": 0.28252385082393755, \"n\": 4672}, {\"threshold\": 0.649, \"p\": 4612, \"fpr\": 0.0764126712328767, \"tpr\": 0.27818733738074586, \"n\": 4672}, {\"threshold\": 0.65, \"p\": 4612, \"fpr\": 0.07384417808219178, \"tpr\": 0.2712489158716392, \"n\": 4672}, {\"threshold\": 0.651, \"p\": 4612, \"fpr\": 0.07363013698630137, \"tpr\": 0.2697311361665221, \"n\": 4672}, {\"threshold\": 0.652, \"p\": 4612, \"fpr\": 0.07277397260273973, \"tpr\": 0.2688638334778838, \"n\": 4672}, {\"threshold\": 0.653, \"p\": 4612, \"fpr\": 0.07277397260273973, \"tpr\": 0.2673460537727667, \"n\": 4672}, {\"threshold\": 0.654, \"p\": 4612, \"fpr\": 0.0721318493150685, \"tpr\": 0.26517779705117084, \"n\": 4672}, {\"threshold\": 0.655, \"p\": 4612, \"fpr\": 0.07106164383561644, \"tpr\": 0.2634431916738942, \"n\": 4672}, {\"threshold\": 0.656, \"p\": 4612, \"fpr\": 0.06956335616438356, \"tpr\": 0.26170858629661753, \"n\": 4672}, {\"threshold\": 0.657, \"p\": 4612, \"fpr\": 0.0684931506849315, \"tpr\": 0.25823937554206416, \"n\": 4672}, {\"threshold\": 0.658, \"p\": 4612, \"fpr\": 0.06785102739726027, \"tpr\": 0.2541196877710321, \"n\": 4672}, {\"threshold\": 0.659, \"p\": 4612, \"fpr\": 0.06720890410958905, \"tpr\": 0.2513009540329575, \"n\": 4672}, {\"threshold\": 0.66, \"p\": 4612, \"fpr\": 0.06678082191780822, \"tpr\": 0.2508673026886383, \"n\": 4672}, {\"threshold\": 0.661, \"p\": 4612, \"fpr\": 0.0663527397260274, \"tpr\": 0.24956634865568084, \"n\": 4672}, {\"threshold\": 0.662, \"p\": 4612, \"fpr\": 0.06613869863013698, \"tpr\": 0.2486990459670425, \"n\": 4672}, {\"threshold\": 0.663, \"p\": 4612, \"fpr\": 0.06571061643835617, \"tpr\": 0.247398091934085, \"n\": 4672}, {\"threshold\": 0.664, \"p\": 4612, \"fpr\": 0.06528253424657535, \"tpr\": 0.24566348655680834, \"n\": 4672}, {\"threshold\": 0.665, \"p\": 4612, \"fpr\": 0.06357020547945205, \"tpr\": 0.24002601908065915, \"n\": 4672}, {\"threshold\": 0.666, \"p\": 4612, \"fpr\": 0.06292808219178082, \"tpr\": 0.23764093668690373, \"n\": 4672}, {\"threshold\": 0.667, \"p\": 4612, \"fpr\": 0.0625, \"tpr\": 0.23655680832610582, \"n\": 4672}, {\"threshold\": 0.668, \"p\": 4612, \"fpr\": 0.06014554794520548, \"tpr\": 0.23265394622723332, \"n\": 4672}, {\"threshold\": 0.669, \"p\": 4612, \"fpr\": 0.05950342465753425, \"tpr\": 0.22810060711188204, \"n\": 4672}, {\"threshold\": 0.67, \"p\": 4612, \"fpr\": 0.05843321917808219, \"tpr\": 0.2261491760624458, \"n\": 4672}, {\"threshold\": 0.671, \"p\": 4612, \"fpr\": 0.05843321917808219, \"tpr\": 0.22376409366869038, \"n\": 4672}, {\"threshold\": 0.672, \"p\": 4612, \"fpr\": 0.05779109589041096, \"tpr\": 0.22246313963573286, \"n\": 4672}, {\"threshold\": 0.673, \"p\": 4612, \"fpr\": 0.05757705479452055, \"tpr\": 0.2220294882914137, \"n\": 4672}, {\"threshold\": 0.674, \"p\": 4612, \"fpr\": 0.056934931506849314, \"tpr\": 0.2194275802254987, \"n\": 4672}, {\"threshold\": 0.675, \"p\": 4612, \"fpr\": 0.05586472602739726, \"tpr\": 0.21660884648742412, \"n\": 4672}, {\"threshold\": 0.676, \"p\": 4612, \"fpr\": 0.055222602739726026, \"tpr\": 0.21487424111014744, \"n\": 4672}, {\"threshold\": 0.677, \"p\": 4612, \"fpr\": 0.0545804794520548, \"tpr\": 0.21379011274934953, \"n\": 4672}, {\"threshold\": 0.678, \"p\": 4612, \"fpr\": 0.05115582191780822, \"tpr\": 0.21162185602775369, \"n\": 4672}, {\"threshold\": 0.679, \"p\": 4612, \"fpr\": 0.05051369863013699, \"tpr\": 0.20923677363399826, \"n\": 4672}, {\"threshold\": 0.68, \"p\": 4612, \"fpr\": 0.049443493150684935, \"tpr\": 0.20685169124024286, \"n\": 4672}, {\"threshold\": 0.681, \"p\": 4612, \"fpr\": 0.04901541095890411, \"tpr\": 0.204683434518647, \"n\": 4672}, {\"threshold\": 0.682, \"p\": 4612, \"fpr\": 0.04901541095890411, \"tpr\": 0.20403295750216827, \"n\": 4672}, {\"threshold\": 0.683, \"p\": 4612, \"fpr\": 0.04858732876712329, \"tpr\": 0.20273200346921075, \"n\": 4672}, {\"threshold\": 0.684, \"p\": 4612, \"fpr\": 0.047303082191780824, \"tpr\": 0.19861231569817867, \"n\": 4672}, {\"threshold\": 0.685, \"p\": 4612, \"fpr\": 0.04666095890410959, \"tpr\": 0.19210754553339116, \"n\": 4672}, {\"threshold\": 0.686, \"p\": 4612, \"fpr\": 0.04601883561643835, \"tpr\": 0.19058976582827405, \"n\": 4672}, {\"threshold\": 0.687, \"p\": 4612, \"fpr\": 0.04580479452054795, \"tpr\": 0.1899392888117953, \"n\": 4672}, {\"threshold\": 0.688, \"p\": 4612, \"fpr\": 0.04580479452054795, \"tpr\": 0.18928881179531656, \"n\": 4672}, {\"threshold\": 0.689, \"p\": 4612, \"fpr\": 0.04580479452054795, \"tpr\": 0.1888551604509974, \"n\": 4672}, {\"threshold\": 0.69, \"p\": 4612, \"fpr\": 0.04580479452054795, \"tpr\": 0.1888551604509974, \"n\": 4672}, {\"threshold\": 0.691, \"p\": 4612, \"fpr\": 0.04409246575342466, \"tpr\": 0.18647007805724197, \"n\": 4672}, {\"threshold\": 0.692, \"p\": 4612, \"fpr\": 0.04238013698630137, \"tpr\": 0.18408499566348654, \"n\": 4672}, {\"threshold\": 0.693, \"p\": 4612, \"fpr\": 0.0410958904109589, \"tpr\": 0.18104943625325237, \"n\": 4672}, {\"threshold\": 0.694, \"p\": 4612, \"fpr\": 0.039383561643835614, \"tpr\": 0.17432784041630528, \"n\": 4672}, {\"threshold\": 0.695, \"p\": 4612, \"fpr\": 0.039383561643835614, \"tpr\": 0.17367736339982653, \"n\": 4672}, {\"threshold\": 0.696, \"p\": 4612, \"fpr\": 0.0391695205479452, \"tpr\": 0.17324371205550737, \"n\": 4672}, {\"threshold\": 0.697, \"p\": 4612, \"fpr\": 0.038527397260273974, \"tpr\": 0.17107545533391152, \"n\": 4672}, {\"threshold\": 0.698, \"p\": 4612, \"fpr\": 0.03788527397260274, \"tpr\": 0.17064180398959236, \"n\": 4672}, {\"threshold\": 0.699, \"p\": 4612, \"fpr\": 0.03724315068493151, \"tpr\": 0.17064180398959236, \"n\": 4672}, {\"threshold\": 0.7, \"p\": 4612, \"fpr\": 0.0370291095890411, \"tpr\": 0.1689071986123157, \"n\": 4672}, {\"threshold\": 0.701, \"p\": 4612, \"fpr\": 0.03638698630136986, \"tpr\": 0.16587163920208153, \"n\": 4672}, {\"threshold\": 0.702, \"p\": 4612, \"fpr\": 0.03574486301369863, \"tpr\": 0.16413703382480485, \"n\": 4672}, {\"threshold\": 0.703, \"p\": 4612, \"fpr\": 0.03531678082191781, \"tpr\": 0.16305290546400694, \"n\": 4672}, {\"threshold\": 0.704, \"p\": 4612, \"fpr\": 0.03488869863013699, \"tpr\": 0.16131830008673026, \"n\": 4672}, {\"threshold\": 0.705, \"p\": 4612, \"fpr\": 0.033818493150684935, \"tpr\": 0.15719861231569818, \"n\": 4672}, {\"threshold\": 0.706, \"p\": 4612, \"fpr\": 0.03360445205479452, \"tpr\": 0.1558976582827407, \"n\": 4672}, {\"threshold\": 0.707, \"p\": 4612, \"fpr\": 0.03360445205479452, \"tpr\": 0.1558976582827407, \"n\": 4672}, {\"threshold\": 0.708, \"p\": 4612, \"fpr\": 0.0331763698630137, \"tpr\": 0.15351257588898526, \"n\": 4672}, {\"threshold\": 0.709, \"p\": 4612, \"fpr\": 0.03296232876712329, \"tpr\": 0.1530789245446661, \"n\": 4672}, {\"threshold\": 0.71, \"p\": 4612, \"fpr\": 0.03296232876712329, \"tpr\": 0.1528620988725065, \"n\": 4672}, {\"threshold\": 0.711, \"p\": 4612, \"fpr\": 0.03296232876712329, \"tpr\": 0.1528620988725065, \"n\": 4672}, {\"threshold\": 0.712, \"p\": 4612, \"fpr\": 0.032748287671232876, \"tpr\": 0.1513443191673894, \"n\": 4672}, {\"threshold\": 0.713, \"p\": 4612, \"fpr\": 0.030179794520547944, \"tpr\": 0.14440589765828274, \"n\": 4672}, {\"threshold\": 0.714, \"p\": 4612, \"fpr\": 0.02889554794520548, \"tpr\": 0.14245446660884648, \"n\": 4672}, {\"threshold\": 0.715, \"p\": 4612, \"fpr\": 0.028039383561643837, \"tpr\": 0.13898525585429314, \"n\": 4672}, {\"threshold\": 0.716, \"p\": 4612, \"fpr\": 0.028039383561643837, \"tpr\": 0.13768430182133565, \"n\": 4672}, {\"threshold\": 0.717, \"p\": 4612, \"fpr\": 0.027825342465753425, \"tpr\": 0.13768430182133565, \"n\": 4672}, {\"threshold\": 0.718, \"p\": 4612, \"fpr\": 0.027825342465753425, \"tpr\": 0.13725065047701648, \"n\": 4672}, {\"threshold\": 0.719, \"p\": 4612, \"fpr\": 0.02696917808219178, \"tpr\": 0.13573287077189938, \"n\": 4672}, {\"threshold\": 0.72, \"p\": 4612, \"fpr\": 0.02675513698630137, \"tpr\": 0.13486556808326106, \"n\": 4672}, {\"threshold\": 0.721, \"p\": 4612, \"fpr\": 0.02632705479452055, \"tpr\": 0.1316131830008673, \"n\": 4672}, {\"threshold\": 0.722, \"p\": 4612, \"fpr\": 0.026113013698630137, \"tpr\": 0.13117953165654814, \"n\": 4672}, {\"threshold\": 0.723, \"p\": 4612, \"fpr\": 0.025684931506849314, \"tpr\": 0.12857762359063313, \"n\": 4672}, {\"threshold\": 0.724, \"p\": 4612, \"fpr\": 0.025256849315068493, \"tpr\": 0.12597571552471812, \"n\": 4672}, {\"threshold\": 0.725, \"p\": 4612, \"fpr\": 0.025256849315068493, \"tpr\": 0.12554206418039895, \"n\": 4672}, {\"threshold\": 0.726, \"p\": 4612, \"fpr\": 0.025256849315068493, \"tpr\": 0.12467476149176063, \"n\": 4672}, {\"threshold\": 0.727, \"p\": 4612, \"fpr\": 0.02504280821917808, \"tpr\": 0.12402428447528187, \"n\": 4672}, {\"threshold\": 0.728, \"p\": 4612, \"fpr\": 0.024186643835616438, \"tpr\": 0.12142237640936687, \"n\": 4672}, {\"threshold\": 0.729, \"p\": 4612, \"fpr\": 0.023972602739726026, \"tpr\": 0.11947094535993062, \"n\": 4672}, {\"threshold\": 0.73, \"p\": 4612, \"fpr\": 0.023758561643835618, \"tpr\": 0.11903729401561144, \"n\": 4672}, {\"threshold\": 0.731, \"p\": 4612, \"fpr\": 0.023116438356164382, \"tpr\": 0.11513443191673894, \"n\": 4672}, {\"threshold\": 0.732, \"p\": 4612, \"fpr\": 0.022688356164383562, \"tpr\": 0.1131830008673027, \"n\": 4672}, {\"threshold\": 0.733, \"p\": 4612, \"fpr\": 0.02247431506849315, \"tpr\": 0.11253252385082393, \"n\": 4672}, {\"threshold\": 0.734, \"p\": 4612, \"fpr\": 0.02247431506849315, \"tpr\": 0.11209887250650477, \"n\": 4672}, {\"threshold\": 0.735, \"p\": 4612, \"fpr\": 0.02247431506849315, \"tpr\": 0.11101474414570685, \"n\": 4672}, {\"threshold\": 0.736, \"p\": 4612, \"fpr\": 0.02183219178082192, \"tpr\": 0.10689505637467477, \"n\": 4672}, {\"threshold\": 0.737, \"p\": 4612, \"fpr\": 0.02183219178082192, \"tpr\": 0.10646140503035559, \"n\": 4672}, {\"threshold\": 0.738, \"p\": 4612, \"fpr\": 0.021618150684931507, \"tpr\": 0.10602775368603642, \"n\": 4672}, {\"threshold\": 0.739, \"p\": 4612, \"fpr\": 0.021618150684931507, \"tpr\": 0.10537727666955768, \"n\": 4672}, {\"threshold\": 0.74, \"p\": 4612, \"fpr\": 0.021404109589041095, \"tpr\": 0.10537727666955768, \"n\": 4672}, {\"threshold\": 0.741, \"p\": 4612, \"fpr\": 0.020976027397260275, \"tpr\": 0.10429314830875976, \"n\": 4672}, {\"threshold\": 0.742, \"p\": 4612, \"fpr\": 0.020976027397260275, \"tpr\": 0.10385949696444059, \"n\": 4672}, {\"threshold\": 0.743, \"p\": 4612, \"fpr\": 0.0194777397260274, \"tpr\": 0.09908933217692975, \"n\": 4672}, {\"threshold\": 0.744, \"p\": 4612, \"fpr\": 0.0194777397260274, \"tpr\": 0.09800520381613183, \"n\": 4672}, {\"threshold\": 0.745, \"p\": 4612, \"fpr\": 0.01797945205479452, \"tpr\": 0.08976582827406765, \"n\": 4672}, {\"threshold\": 0.746, \"p\": 4612, \"fpr\": 0.01797945205479452, \"tpr\": 0.08976582827406765, \"n\": 4672}, {\"threshold\": 0.747, \"p\": 4612, \"fpr\": 0.01776541095890411, \"tpr\": 0.08803122289679098, \"n\": 4672}, {\"threshold\": 0.748, \"p\": 4612, \"fpr\": 0.017337328767123288, \"tpr\": 0.08803122289679098, \"n\": 4672}, {\"threshold\": 0.749, \"p\": 4612, \"fpr\": 0.016909246575342467, \"tpr\": 0.08673026886383348, \"n\": 4672}, {\"threshold\": 0.75, \"p\": 4612, \"fpr\": 0.016481164383561644, \"tpr\": 0.08629661751951431, \"n\": 4672}, {\"threshold\": 0.751, \"p\": 4612, \"fpr\": 0.015839041095890412, \"tpr\": 0.08412836079791847, \"n\": 4672}, {\"threshold\": 0.752, \"p\": 4612, \"fpr\": 0.015625, \"tpr\": 0.08304423243712056, \"n\": 4672}, {\"threshold\": 0.753, \"p\": 4612, \"fpr\": 0.015196917808219178, \"tpr\": 0.0823937554206418, \"n\": 4672}, {\"threshold\": 0.754, \"p\": 4612, \"fpr\": 0.015196917808219178, \"tpr\": 0.0823937554206418, \"n\": 4672}, {\"threshold\": 0.755, \"p\": 4612, \"fpr\": 0.015196917808219178, \"tpr\": 0.08174327840416305, \"n\": 4672}, {\"threshold\": 0.756, \"p\": 4612, \"fpr\": 0.015196917808219178, \"tpr\": 0.08174327840416305, \"n\": 4672}, {\"threshold\": 0.757, \"p\": 4612, \"fpr\": 0.015196917808219178, \"tpr\": 0.08065915004336513, \"n\": 4672}, {\"threshold\": 0.758, \"p\": 4612, \"fpr\": 0.015196917808219178, \"tpr\": 0.08065915004336513, \"n\": 4672}, {\"threshold\": 0.759, \"p\": 4612, \"fpr\": 0.014554794520547944, \"tpr\": 0.08044232437120555, \"n\": 4672}, {\"threshold\": 0.76, \"p\": 4612, \"fpr\": 0.01113013698630137, \"tpr\": 0.0704683434518647, \"n\": 4672}, {\"threshold\": 0.761, \"p\": 4612, \"fpr\": 0.01113013698630137, \"tpr\": 0.07025151777970512, \"n\": 4672}, {\"threshold\": 0.762, \"p\": 4612, \"fpr\": 0.01113013698630137, \"tpr\": 0.07003469210754554, \"n\": 4672}, {\"threshold\": 0.763, \"p\": 4612, \"fpr\": 0.01091609589041096, \"tpr\": 0.06938421509106678, \"n\": 4672}, {\"threshold\": 0.764, \"p\": 4612, \"fpr\": 0.01091609589041096, \"tpr\": 0.0691673894189072, \"n\": 4672}, {\"threshold\": 0.765, \"p\": 4612, \"fpr\": 0.01091609589041096, \"tpr\": 0.0691673894189072, \"n\": 4672}, {\"threshold\": 0.766, \"p\": 4612, \"fpr\": 0.01091609589041096, \"tpr\": 0.0691673894189072, \"n\": 4672}, {\"threshold\": 0.767, \"p\": 4612, \"fpr\": 0.01091609589041096, \"tpr\": 0.06786643538594969, \"n\": 4672}, {\"threshold\": 0.768, \"p\": 4612, \"fpr\": 0.01091609589041096, \"tpr\": 0.06764960971379011, \"n\": 4672}, {\"threshold\": 0.769, \"p\": 4612, \"fpr\": 0.010059931506849315, \"tpr\": 0.06439722463139635, \"n\": 4672}, {\"threshold\": 0.77, \"p\": 4612, \"fpr\": 0.010059931506849315, \"tpr\": 0.06439722463139635, \"n\": 4672}, {\"threshold\": 0.771, \"p\": 4612, \"fpr\": 0.010059931506849315, \"tpr\": 0.06374674761491761, \"n\": 4672}, {\"threshold\": 0.772, \"p\": 4612, \"fpr\": 0.010059931506849315, \"tpr\": 0.06374674761491761, \"n\": 4672}, {\"threshold\": 0.773, \"p\": 4612, \"fpr\": 0.009203767123287672, \"tpr\": 0.060277536860364266, \"n\": 4672}, {\"threshold\": 0.774, \"p\": 4612, \"fpr\": 0.009203767123287672, \"tpr\": 0.060060711188204684, \"n\": 4672}, {\"threshold\": 0.775, \"p\": 4612, \"fpr\": 0.009203767123287672, \"tpr\": 0.0598438855160451, \"n\": 4672}, {\"threshold\": 0.776, \"p\": 4612, \"fpr\": 0.009203767123287672, \"tpr\": 0.0598438855160451, \"n\": 4672}, {\"threshold\": 0.777, \"p\": 4612, \"fpr\": 0.00898972602739726, \"tpr\": 0.05919340849956635, \"n\": 4672}, {\"threshold\": 0.778, \"p\": 4612, \"fpr\": 0.008561643835616438, \"tpr\": 0.057892454466608845, \"n\": 4672}, {\"threshold\": 0.779, \"p\": 4612, \"fpr\": 0.008347602739726028, \"tpr\": 0.05485689505637467, \"n\": 4672}, {\"threshold\": 0.78, \"p\": 4612, \"fpr\": 0.007277397260273972, \"tpr\": 0.05160450997398092, \"n\": 4672}, {\"threshold\": 0.781, \"p\": 4612, \"fpr\": 0.007277397260273972, \"tpr\": 0.051387684301821335, \"n\": 4672}, {\"threshold\": 0.782, \"p\": 4612, \"fpr\": 0.007277397260273972, \"tpr\": 0.05117085862966175, \"n\": 4672}, {\"threshold\": 0.783, \"p\": 4612, \"fpr\": 0.007063356164383561, \"tpr\": 0.04986990459670425, \"n\": 4672}, {\"threshold\": 0.784, \"p\": 4612, \"fpr\": 0.007063356164383561, \"tpr\": 0.049653078924544666, \"n\": 4672}, {\"threshold\": 0.785, \"p\": 4612, \"fpr\": 0.007063356164383561, \"tpr\": 0.049653078924544666, \"n\": 4672}, {\"threshold\": 0.786, \"p\": 4612, \"fpr\": 0.007063356164383561, \"tpr\": 0.049219427580225496, \"n\": 4672}, {\"threshold\": 0.787, \"p\": 4612, \"fpr\": 0.007063356164383561, \"tpr\": 0.049002601908065914, \"n\": 4672}, {\"threshold\": 0.788, \"p\": 4612, \"fpr\": 0.007063356164383561, \"tpr\": 0.04813529921942758, \"n\": 4672}, {\"threshold\": 0.789, \"p\": 4612, \"fpr\": 0.006635273972602739, \"tpr\": 0.04748482220294883, \"n\": 4672}, {\"threshold\": 0.79, \"p\": 4612, \"fpr\": 0.006635273972602739, \"tpr\": 0.047267996530789246, \"n\": 4672}, {\"threshold\": 0.791, \"p\": 4612, \"fpr\": 0.0062071917808219175, \"tpr\": 0.04575021682567216, \"n\": 4672}, {\"threshold\": 0.792, \"p\": 4612, \"fpr\": 0.0062071917808219175, \"tpr\": 0.045316565481352995, \"n\": 4672}, {\"threshold\": 0.793, \"p\": 4612, \"fpr\": 0.005565068493150685, \"tpr\": 0.04184735472679965, \"n\": 4672}, {\"threshold\": 0.794, \"p\": 4612, \"fpr\": 0.005565068493150685, \"tpr\": 0.04184735472679965, \"n\": 4672}, {\"threshold\": 0.795, \"p\": 4612, \"fpr\": 0.005565068493150685, \"tpr\": 0.04141370338248049, \"n\": 4672}, {\"threshold\": 0.796, \"p\": 4612, \"fpr\": 0.005136986301369863, \"tpr\": 0.040763226366001735, \"n\": 4672}, {\"threshold\": 0.797, \"p\": 4612, \"fpr\": 0.005136986301369863, \"tpr\": 0.03816131830008673, \"n\": 4672}, {\"threshold\": 0.798, \"p\": 4612, \"fpr\": 0.003852739726027397, \"tpr\": 0.03360797918473547, \"n\": 4672}, {\"threshold\": 0.799, \"p\": 4612, \"fpr\": 0.003638698630136986, \"tpr\": 0.03360797918473547, \"n\": 4672}, {\"threshold\": 0.8, \"p\": 4612, \"fpr\": 0.003638698630136986, \"tpr\": 0.0331743278404163, \"n\": 4672}, {\"threshold\": 0.801, \"p\": 4612, \"fpr\": 0.003638698630136986, \"tpr\": 0.03295750216825672, \"n\": 4672}, {\"threshold\": 0.802, \"p\": 4612, \"fpr\": 0.003210616438356164, \"tpr\": 0.03274067649609714, \"n\": 4672}, {\"threshold\": 0.803, \"p\": 4612, \"fpr\": 0.003210616438356164, \"tpr\": 0.031873373807458805, \"n\": 4672}, {\"threshold\": 0.804, \"p\": 4612, \"fpr\": 0.0027825342465753423, \"tpr\": 0.0305724197745013, \"n\": 4672}, {\"threshold\": 0.805, \"p\": 4612, \"fpr\": 0.0027825342465753423, \"tpr\": 0.02992194275802255, \"n\": 4672}, {\"threshold\": 0.806, \"p\": 4612, \"fpr\": 0.0025684931506849314, \"tpr\": 0.0292714657415438, \"n\": 4672}, {\"threshold\": 0.807, \"p\": 4612, \"fpr\": 0.0023544520547945204, \"tpr\": 0.027970511708586297, \"n\": 4672}, {\"threshold\": 0.808, \"p\": 4612, \"fpr\": 0.0023544520547945204, \"tpr\": 0.027103209019947963, \"n\": 4672}, {\"threshold\": 0.809, \"p\": 4612, \"fpr\": 0.0021404109589041095, \"tpr\": 0.026886383347788378, \"n\": 4672}, {\"threshold\": 0.81, \"p\": 4612, \"fpr\": 0.0021404109589041095, \"tpr\": 0.026669557675628796, \"n\": 4672}, {\"threshold\": 0.811, \"p\": 4612, \"fpr\": 0.0021404109589041095, \"tpr\": 0.026669557675628796, \"n\": 4672}, {\"threshold\": 0.812, \"p\": 4612, \"fpr\": 0.0017123287671232876, \"tpr\": 0.02515177797051171, \"n\": 4672}, {\"threshold\": 0.813, \"p\": 4612, \"fpr\": 0.0017123287671232876, \"tpr\": 0.024718126626192542, \"n\": 4672}, {\"threshold\": 0.814, \"p\": 4612, \"fpr\": 0.0017123287671232876, \"tpr\": 0.022549869904596703, \"n\": 4672}, {\"threshold\": 0.815, \"p\": 4612, \"fpr\": 0.0017123287671232876, \"tpr\": 0.022549869904596703, \"n\": 4672}, {\"threshold\": 0.816, \"p\": 4612, \"fpr\": 0.0017123287671232876, \"tpr\": 0.022549869904596703, \"n\": 4672}, {\"threshold\": 0.817, \"p\": 4612, \"fpr\": 0.0017123287671232876, \"tpr\": 0.02233304423243712, \"n\": 4672}, {\"threshold\": 0.818, \"p\": 4612, \"fpr\": 0.0006421232876712328, \"tpr\": 0.020381613183000868, \"n\": 4672}, {\"threshold\": 0.819, \"p\": 4612, \"fpr\": 0.0006421232876712328, \"tpr\": 0.01777970511708586, \"n\": 4672}, {\"threshold\": 0.82, \"p\": 4612, \"fpr\": 0.0006421232876712328, \"tpr\": 0.01777970511708586, \"n\": 4672}, {\"threshold\": 0.821, \"p\": 4612, \"fpr\": 0.0, \"tpr\": 0.014527320034692108, \"n\": 4672}, {\"threshold\": 0.822, \"p\": 4612, \"fpr\": 0.0, \"tpr\": 0.014527320034692108, \"n\": 4672}, {\"threshold\": 0.823, \"p\": 4612, \"fpr\": 0.0, \"tpr\": 0.01409366869037294, \"n\": 4672}, {\"threshold\": 0.824, \"p\": 4612, \"fpr\": 0.0, \"tpr\": 0.01409366869037294, \"n\": 4672}, {\"threshold\": 0.825, \"p\": 4612, \"fpr\": 0.0, \"tpr\": 0.01409366869037294, \"n\": 4672}, {\"threshold\": 0.826, \"p\": 4612, \"fpr\": 0.0, \"tpr\": 0.013876843018213356, \"n\": 4672}, {\"threshold\": 0.827, \"p\": 4612, \"fpr\": 0.0, \"tpr\": 0.013876843018213356, \"n\": 4672}, {\"threshold\": 0.828, \"p\": 4612, \"fpr\": 0.0, \"tpr\": 0.012142237640936688, \"n\": 4672}, {\"threshold\": 0.829, \"p\": 4612, \"fpr\": 0.0, \"tpr\": 0.011708586296617519, \"n\": 4672}, {\"threshold\": 0.83, \"p\": 4612, \"fpr\": 0.0, \"tpr\": 0.011708586296617519, \"n\": 4672}, {\"threshold\": 0.831, \"p\": 4612, \"fpr\": 0.0, \"tpr\": 0.011708586296617519, \"n\": 4672}, {\"threshold\": 0.832, \"p\": 4612, \"fpr\": 0.0, \"tpr\": 0.011708586296617519, \"n\": 4672}, {\"threshold\": 0.833, \"p\": 4612, \"fpr\": 0.0, \"tpr\": 0.011708586296617519, \"n\": 4672}, {\"threshold\": 0.834, \"p\": 4612, \"fpr\": 0.0, \"tpr\": 0.004770164787510842, \"n\": 4672}, {\"threshold\": 0.835, \"p\": 4612, \"fpr\": 0.0, \"tpr\": 0.004770164787510842, \"n\": 4672}, {\"threshold\": 0.836, \"p\": 4612, \"fpr\": 0.0, \"tpr\": 0.004770164787510842, \"n\": 4672}, {\"threshold\": 0.837, \"p\": 4612, \"fpr\": 0.0, \"tpr\": 0.004553339115351257, \"n\": 4672}, {\"threshold\": 0.838, \"p\": 4612, \"fpr\": 0.0, \"tpr\": 0.004553339115351257, \"n\": 4672}, {\"threshold\": 0.839, \"p\": 4612, \"fpr\": 0.0, \"tpr\": 0.004553339115351257, \"n\": 4672}, {\"threshold\": 0.84, \"p\": 4612, \"fpr\": 0.0, \"tpr\": 0.004336513443191674, \"n\": 4672}, {\"threshold\": 0.841, \"p\": 4612, \"fpr\": 0.0, \"tpr\": 0.004336513443191674, \"n\": 4672}, {\"threshold\": 0.842, \"p\": 4612, \"fpr\": 0.0, \"tpr\": 0.0004336513443191674, \"n\": 4672}, {\"threshold\": 0.843, \"p\": 4612, \"fpr\": 0.0, \"tpr\": 0.0004336513443191674, \"n\": 4672}, {\"threshold\": 0.844, \"p\": 4612, \"fpr\": 0.0, \"tpr\": 0.0004336513443191674, \"n\": 4672}, {\"threshold\": 0.845, \"p\": 4612, \"fpr\": 0.0, \"tpr\": 0.0004336513443191674, \"n\": 4672}, {\"threshold\": 0.846, \"p\": 4612, \"fpr\": 0.0, \"tpr\": 0.0004336513443191674, \"n\": 4672}, {\"threshold\": 0.847, \"p\": 4612, \"fpr\": 0.0, \"tpr\": 0.0004336513443191674, \"n\": 4672}, {\"threshold\": 0.848, \"p\": 4612, \"fpr\": 0.0, \"tpr\": 0.0004336513443191674, \"n\": 4672}, {\"threshold\": 0.849, \"p\": 4612, \"fpr\": 0.0, \"tpr\": 0.0, \"n\": 4672}, {\"threshold\": 0.85, \"p\": 4612, \"fpr\": 0.0, \"tpr\": 0.0, \"n\": 4672}, {\"threshold\": 0.851, \"p\": 4612, \"fpr\": 0.0, \"tpr\": 0.0, \"n\": 4672}, {\"threshold\": 0.852, \"p\": 4612, \"fpr\": 0.0, \"tpr\": 0.0, \"n\": 4672}, {\"threshold\": 0.853, \"p\": 4612, \"fpr\": 0.0, \"tpr\": 0.0, \"n\": 4672}, {\"threshold\": 0.854, \"p\": 4612, \"fpr\": 0.0, \"tpr\": 0.0, \"n\": 4672}, {\"threshold\": 0.855, \"p\": 4612, \"fpr\": 0.0, \"tpr\": 0.0, \"n\": 4672}, {\"threshold\": 0.856, \"p\": 4612, \"fpr\": 0.0, \"tpr\": 0.0, \"n\": 4672}, {\"threshold\": 0.857, \"p\": 4612, \"fpr\": 0.0, \"tpr\": 0.0, \"n\": 4672}, {\"threshold\": 0.858, \"p\": 4612, \"fpr\": 0.0, \"tpr\": 0.0, \"n\": 4672}, {\"threshold\": 0.859, \"p\": 4612, \"fpr\": 0.0, \"tpr\": 0.0, \"n\": 4672}, {\"threshold\": 0.86, \"p\": 4612, \"fpr\": 0.0, \"tpr\": 0.0, \"n\": 4672}, {\"threshold\": 0.861, \"p\": 4612, \"fpr\": 0.0, \"tpr\": 0.0, \"n\": 4672}, {\"threshold\": 0.862, \"p\": 4612, \"fpr\": 0.0, \"tpr\": 0.0, \"n\": 4672}, {\"threshold\": 0.863, \"p\": 4612, \"fpr\": 0.0, \"tpr\": 0.0, \"n\": 4672}, {\"threshold\": 0.864, \"p\": 4612, \"fpr\": 0.0, \"tpr\": 0.0, \"n\": 4672}, {\"threshold\": 0.865, \"p\": 4612, \"fpr\": 0.0, \"tpr\": 0.0, \"n\": 4672}, {\"threshold\": 0.866, \"p\": 4612, \"fpr\": 0.0, \"tpr\": 0.0, \"n\": 4672}, {\"threshold\": 0.867, \"p\": 4612, \"fpr\": 0.0, \"tpr\": 0.0, \"n\": 4672}, {\"threshold\": 0.868, \"p\": 4612, \"fpr\": 0.0, \"tpr\": 0.0, \"n\": 4672}, {\"threshold\": 0.869, \"p\": 4612, \"fpr\": 0.0, \"tpr\": 0.0, \"n\": 4672}, {\"threshold\": 0.87, \"p\": 4612, \"fpr\": 0.0, \"tpr\": 0.0, \"n\": 4672}, {\"threshold\": 0.871, \"p\": 4612, \"fpr\": 0.0, \"tpr\": 0.0, \"n\": 4672}, {\"threshold\": 0.872, \"p\": 4612, \"fpr\": 0.0, \"tpr\": 0.0, \"n\": 4672}, {\"threshold\": 0.873, \"p\": 4612, \"fpr\": 0.0, \"tpr\": 0.0, \"n\": 4672}, {\"threshold\": 0.874, \"p\": 4612, \"fpr\": 0.0, \"tpr\": 0.0, \"n\": 4672}, {\"threshold\": 0.875, \"p\": 4612, \"fpr\": 0.0, \"tpr\": 0.0, \"n\": 4672}, {\"threshold\": 0.876, \"p\": 4612, \"fpr\": 0.0, \"tpr\": 0.0, \"n\": 4672}, {\"threshold\": 0.877, \"p\": 4612, \"fpr\": 0.0, \"tpr\": 0.0, \"n\": 4672}, {\"threshold\": 0.878, \"p\": 4612, \"fpr\": 0.0, \"tpr\": 0.0, \"n\": 4672}, {\"threshold\": 0.879, \"p\": 4612, \"fpr\": 0.0, \"tpr\": 0.0, \"n\": 4672}, {\"threshold\": 0.88, \"p\": 4612, \"fpr\": 0.0, \"tpr\": 0.0, \"n\": 4672}, {\"threshold\": 0.881, \"p\": 4612, \"fpr\": 0.0, \"tpr\": 0.0, \"n\": 4672}, {\"threshold\": 0.882, \"p\": 4612, \"fpr\": 0.0, \"tpr\": 0.0, \"n\": 4672}, {\"threshold\": 0.883, \"p\": 4612, \"fpr\": 0.0, \"tpr\": 0.0, \"n\": 4672}, {\"threshold\": 0.884, \"p\": 4612, \"fpr\": 0.0, \"tpr\": 0.0, \"n\": 4672}, {\"threshold\": 0.885, \"p\": 4612, \"fpr\": 0.0, \"tpr\": 0.0, \"n\": 4672}, {\"threshold\": 0.886, \"p\": 4612, \"fpr\": 0.0, \"tpr\": 0.0, \"n\": 4672}, {\"threshold\": 0.887, \"p\": 4612, \"fpr\": 0.0, \"tpr\": 0.0, \"n\": 4672}, {\"threshold\": 0.888, \"p\": 4612, \"fpr\": 0.0, \"tpr\": 0.0, \"n\": 4672}, {\"threshold\": 0.889, \"p\": 4612, \"fpr\": 0.0, \"tpr\": 0.0, \"n\": 4672}, {\"threshold\": 0.89, \"p\": 4612, \"fpr\": 0.0, \"tpr\": 0.0, \"n\": 4672}, {\"threshold\": 0.891, \"p\": 4612, \"fpr\": 0.0, \"tpr\": 0.0, \"n\": 4672}, {\"threshold\": 0.892, \"p\": 4612, \"fpr\": 0.0, \"tpr\": 0.0, \"n\": 4672}, {\"threshold\": 0.893, \"p\": 4612, \"fpr\": 0.0, \"tpr\": 0.0, \"n\": 4672}, {\"threshold\": 0.894, \"p\": 4612, \"fpr\": 0.0, \"tpr\": 0.0, \"n\": 4672}, {\"threshold\": 0.895, \"p\": 4612, \"fpr\": 0.0, \"tpr\": 0.0, \"n\": 4672}, {\"threshold\": 0.896, \"p\": 4612, \"fpr\": 0.0, \"tpr\": 0.0, \"n\": 4672}, {\"threshold\": 0.897, \"p\": 4612, \"fpr\": 0.0, \"tpr\": 0.0, \"n\": 4672}, {\"threshold\": 0.898, \"p\": 4612, \"fpr\": 0.0, \"tpr\": 0.0, \"n\": 4672}, {\"threshold\": 0.899, \"p\": 4612, \"fpr\": 0.0, \"tpr\": 0.0, \"n\": 4672}, {\"threshold\": 0.9, \"p\": 4612, \"fpr\": 0.0, \"tpr\": 0.0, \"n\": 4672}, {\"threshold\": 0.901, \"p\": 4612, \"fpr\": 0.0, \"tpr\": 0.0, \"n\": 4672}, {\"threshold\": 0.902, \"p\": 4612, \"fpr\": 0.0, \"tpr\": 0.0, \"n\": 4672}, {\"threshold\": 0.903, \"p\": 4612, \"fpr\": 0.0, \"tpr\": 0.0, \"n\": 4672}, {\"threshold\": 0.904, \"p\": 4612, \"fpr\": 0.0, \"tpr\": 0.0, \"n\": 4672}, {\"threshold\": 0.905, \"p\": 4612, \"fpr\": 0.0, \"tpr\": 0.0, \"n\": 4672}, {\"threshold\": 0.906, \"p\": 4612, \"fpr\": 0.0, \"tpr\": 0.0, \"n\": 4672}, {\"threshold\": 0.907, \"p\": 4612, \"fpr\": 0.0, \"tpr\": 0.0, \"n\": 4672}, {\"threshold\": 0.908, \"p\": 4612, \"fpr\": 0.0, \"tpr\": 0.0, \"n\": 4672}, {\"threshold\": 0.909, \"p\": 4612, \"fpr\": 0.0, \"tpr\": 0.0, \"n\": 4672}, {\"threshold\": 0.91, \"p\": 4612, \"fpr\": 0.0, \"tpr\": 0.0, \"n\": 4672}, {\"threshold\": 0.911, \"p\": 4612, \"fpr\": 0.0, \"tpr\": 0.0, \"n\": 4672}, {\"threshold\": 0.912, \"p\": 4612, \"fpr\": 0.0, \"tpr\": 0.0, \"n\": 4672}, {\"threshold\": 0.913, \"p\": 4612, \"fpr\": 0.0, \"tpr\": 0.0, \"n\": 4672}, {\"threshold\": 0.914, \"p\": 4612, \"fpr\": 0.0, \"tpr\": 0.0, \"n\": 4672}, {\"threshold\": 0.915, \"p\": 4612, \"fpr\": 0.0, \"tpr\": 0.0, \"n\": 4672}, {\"threshold\": 0.916, \"p\": 4612, \"fpr\": 0.0, \"tpr\": 0.0, \"n\": 4672}, {\"threshold\": 0.917, \"p\": 4612, \"fpr\": 0.0, \"tpr\": 0.0, \"n\": 4672}, {\"threshold\": 0.918, \"p\": 4612, \"fpr\": 0.0, \"tpr\": 0.0, \"n\": 4672}, {\"threshold\": 0.919, \"p\": 4612, \"fpr\": 0.0, \"tpr\": 0.0, \"n\": 4672}, {\"threshold\": 0.92, \"p\": 4612, \"fpr\": 0.0, \"tpr\": 0.0, \"n\": 4672}, {\"threshold\": 0.921, \"p\": 4612, \"fpr\": 0.0, \"tpr\": 0.0, \"n\": 4672}, {\"threshold\": 0.922, \"p\": 4612, \"fpr\": 0.0, \"tpr\": 0.0, \"n\": 4672}, {\"threshold\": 0.923, \"p\": 4612, \"fpr\": 0.0, \"tpr\": 0.0, \"n\": 4672}, {\"threshold\": 0.924, \"p\": 4612, \"fpr\": 0.0, \"tpr\": 0.0, \"n\": 4672}, {\"threshold\": 0.925, \"p\": 4612, \"fpr\": 0.0, \"tpr\": 0.0, \"n\": 4672}, {\"threshold\": 0.926, \"p\": 4612, \"fpr\": 0.0, \"tpr\": 0.0, \"n\": 4672}, {\"threshold\": 0.927, \"p\": 4612, \"fpr\": 0.0, \"tpr\": 0.0, \"n\": 4672}, {\"threshold\": 0.928, \"p\": 4612, \"fpr\": 0.0, \"tpr\": 0.0, \"n\": 4672}, {\"threshold\": 0.929, \"p\": 4612, \"fpr\": 0.0, \"tpr\": 0.0, \"n\": 4672}, {\"threshold\": 0.93, \"p\": 4612, \"fpr\": 0.0, \"tpr\": 0.0, \"n\": 4672}, {\"threshold\": 0.931, \"p\": 4612, \"fpr\": 0.0, \"tpr\": 0.0, \"n\": 4672}, {\"threshold\": 0.932, \"p\": 4612, \"fpr\": 0.0, \"tpr\": 0.0, \"n\": 4672}, {\"threshold\": 0.933, \"p\": 4612, \"fpr\": 0.0, \"tpr\": 0.0, \"n\": 4672}, {\"threshold\": 0.934, \"p\": 4612, \"fpr\": 0.0, \"tpr\": 0.0, \"n\": 4672}, {\"threshold\": 0.935, \"p\": 4612, \"fpr\": 0.0, \"tpr\": 0.0, \"n\": 4672}, {\"threshold\": 0.936, \"p\": 4612, \"fpr\": 0.0, \"tpr\": 0.0, \"n\": 4672}, {\"threshold\": 0.937, \"p\": 4612, \"fpr\": 0.0, \"tpr\": 0.0, \"n\": 4672}, {\"threshold\": 0.938, \"p\": 4612, \"fpr\": 0.0, \"tpr\": 0.0, \"n\": 4672}, {\"threshold\": 0.939, \"p\": 4612, \"fpr\": 0.0, \"tpr\": 0.0, \"n\": 4672}, {\"threshold\": 0.94, \"p\": 4612, \"fpr\": 0.0, \"tpr\": 0.0, \"n\": 4672}, {\"threshold\": 0.941, \"p\": 4612, \"fpr\": 0.0, \"tpr\": 0.0, \"n\": 4672}, {\"threshold\": 0.942, \"p\": 4612, \"fpr\": 0.0, \"tpr\": 0.0, \"n\": 4672}, {\"threshold\": 0.943, \"p\": 4612, \"fpr\": 0.0, \"tpr\": 0.0, \"n\": 4672}, {\"threshold\": 0.944, \"p\": 4612, \"fpr\": 0.0, \"tpr\": 0.0, \"n\": 4672}, {\"threshold\": 0.945, \"p\": 4612, \"fpr\": 0.0, \"tpr\": 0.0, \"n\": 4672}, {\"threshold\": 0.946, \"p\": 4612, \"fpr\": 0.0, \"tpr\": 0.0, \"n\": 4672}, {\"threshold\": 0.947, \"p\": 4612, \"fpr\": 0.0, \"tpr\": 0.0, \"n\": 4672}, {\"threshold\": 0.948, \"p\": 4612, \"fpr\": 0.0, \"tpr\": 0.0, \"n\": 4672}, {\"threshold\": 0.949, \"p\": 4612, \"fpr\": 0.0, \"tpr\": 0.0, \"n\": 4672}, {\"threshold\": 0.95, \"p\": 4612, \"fpr\": 0.0, \"tpr\": 0.0, \"n\": 4672}, {\"threshold\": 0.951, \"p\": 4612, \"fpr\": 0.0, \"tpr\": 0.0, \"n\": 4672}, {\"threshold\": 0.952, \"p\": 4612, \"fpr\": 0.0, \"tpr\": 0.0, \"n\": 4672}, {\"threshold\": 0.953, \"p\": 4612, \"fpr\": 0.0, \"tpr\": 0.0, \"n\": 4672}, {\"threshold\": 0.954, \"p\": 4612, \"fpr\": 0.0, \"tpr\": 0.0, \"n\": 4672}, {\"threshold\": 0.955, \"p\": 4612, \"fpr\": 0.0, \"tpr\": 0.0, \"n\": 4672}, {\"threshold\": 0.956, \"p\": 4612, \"fpr\": 0.0, \"tpr\": 0.0, \"n\": 4672}, {\"threshold\": 0.957, \"p\": 4612, \"fpr\": 0.0, \"tpr\": 0.0, \"n\": 4672}, {\"threshold\": 0.958, \"p\": 4612, \"fpr\": 0.0, \"tpr\": 0.0, \"n\": 4672}, {\"threshold\": 0.959, \"p\": 4612, \"fpr\": 0.0, \"tpr\": 0.0, \"n\": 4672}, {\"threshold\": 0.96, \"p\": 4612, \"fpr\": 0.0, \"tpr\": 0.0, \"n\": 4672}, {\"threshold\": 0.961, \"p\": 4612, \"fpr\": 0.0, \"tpr\": 0.0, \"n\": 4672}, {\"threshold\": 0.962, \"p\": 4612, \"fpr\": 0.0, \"tpr\": 0.0, \"n\": 4672}, {\"threshold\": 0.963, \"p\": 4612, \"fpr\": 0.0, \"tpr\": 0.0, \"n\": 4672}, {\"threshold\": 0.964, \"p\": 4612, \"fpr\": 0.0, \"tpr\": 0.0, \"n\": 4672}, {\"threshold\": 0.965, \"p\": 4612, \"fpr\": 0.0, \"tpr\": 0.0, \"n\": 4672}, {\"threshold\": 0.966, \"p\": 4612, \"fpr\": 0.0, \"tpr\": 0.0, \"n\": 4672}, {\"threshold\": 0.967, \"p\": 4612, \"fpr\": 0.0, \"tpr\": 0.0, \"n\": 4672}, {\"threshold\": 0.968, \"p\": 4612, \"fpr\": 0.0, \"tpr\": 0.0, \"n\": 4672}, {\"threshold\": 0.969, \"p\": 4612, \"fpr\": 0.0, \"tpr\": 0.0, \"n\": 4672}, {\"threshold\": 0.97, \"p\": 4612, \"fpr\": 0.0, \"tpr\": 0.0, \"n\": 4672}, {\"threshold\": 0.971, \"p\": 4612, \"fpr\": 0.0, \"tpr\": 0.0, \"n\": 4672}, {\"threshold\": 0.972, \"p\": 4612, \"fpr\": 0.0, \"tpr\": 0.0, \"n\": 4672}, {\"threshold\": 0.973, \"p\": 4612, \"fpr\": 0.0, \"tpr\": 0.0, \"n\": 4672}, {\"threshold\": 0.974, \"p\": 4612, \"fpr\": 0.0, \"tpr\": 0.0, \"n\": 4672}, {\"threshold\": 0.975, \"p\": 4612, \"fpr\": 0.0, \"tpr\": 0.0, \"n\": 4672}, {\"threshold\": 0.976, \"p\": 4612, \"fpr\": 0.0, \"tpr\": 0.0, \"n\": 4672}, {\"threshold\": 0.977, \"p\": 4612, \"fpr\": 0.0, \"tpr\": 0.0, \"n\": 4672}, {\"threshold\": 0.978, \"p\": 4612, \"fpr\": 0.0, \"tpr\": 0.0, \"n\": 4672}, {\"threshold\": 0.979, \"p\": 4612, \"fpr\": 0.0, \"tpr\": 0.0, \"n\": 4672}, {\"threshold\": 0.98, \"p\": 4612, \"fpr\": 0.0, \"tpr\": 0.0, \"n\": 4672}, {\"threshold\": 0.981, \"p\": 4612, \"fpr\": 0.0, \"tpr\": 0.0, \"n\": 4672}, {\"threshold\": 0.982, \"p\": 4612, \"fpr\": 0.0, \"tpr\": 0.0, \"n\": 4672}, {\"threshold\": 0.983, \"p\": 4612, \"fpr\": 0.0, \"tpr\": 0.0, \"n\": 4672}, {\"threshold\": 0.984, \"p\": 4612, \"fpr\": 0.0, \"tpr\": 0.0, \"n\": 4672}, {\"threshold\": 0.985, \"p\": 4612, \"fpr\": 0.0, \"tpr\": 0.0, \"n\": 4672}, {\"threshold\": 0.986, \"p\": 4612, \"fpr\": 0.0, \"tpr\": 0.0, \"n\": 4672}, {\"threshold\": 0.987, \"p\": 4612, \"fpr\": 0.0, \"tpr\": 0.0, \"n\": 4672}, {\"threshold\": 0.988, \"p\": 4612, \"fpr\": 0.0, \"tpr\": 0.0, \"n\": 4672}, {\"threshold\": 0.989, \"p\": 4612, \"fpr\": 0.0, \"tpr\": 0.0, \"n\": 4672}, {\"threshold\": 0.99, \"p\": 4612, \"fpr\": 0.0, \"tpr\": 0.0, \"n\": 4672}, {\"threshold\": 0.991, \"p\": 4612, \"fpr\": 0.0, \"tpr\": 0.0, \"n\": 4672}, {\"threshold\": 0.992, \"p\": 4612, \"fpr\": 0.0, \"tpr\": 0.0, \"n\": 4672}, {\"threshold\": 0.993, \"p\": 4612, \"fpr\": 0.0, \"tpr\": 0.0, \"n\": 4672}, {\"threshold\": 0.994, \"p\": 4612, \"fpr\": 0.0, \"tpr\": 0.0, \"n\": 4672}, {\"threshold\": 0.995, \"p\": 4612, \"fpr\": 0.0, \"tpr\": 0.0, \"n\": 4672}, {\"threshold\": 0.996, \"p\": 4612, \"fpr\": 0.0, \"tpr\": 0.0, \"n\": 4672}, {\"threshold\": 0.997, \"p\": 4612, \"fpr\": 0.0, \"tpr\": 0.0, \"n\": 4672}, {\"threshold\": 0.998, \"p\": 4612, \"fpr\": 0.0, \"tpr\": 0.0, \"n\": 4672}, {\"threshold\": 0.999, \"p\": 4612, \"fpr\": 0.0, \"tpr\": 0.0, \"n\": 4672}, {\"threshold\": 1.0, \"p\": 4612, \"fpr\": 0.0, \"tpr\": 0.0, \"n\": 4672}], \"confusion_matrix\": [{\"count\": 1618, \"target_label\": -1, \"predicted_label\": 1}, {\"count\": 1463, \"target_label\": 1, \"predicted_label\": -1}, {\"count\": 3054, \"target_label\": -1, \"predicted_label\": -1}, {\"count\": 3149, \"target_label\": 1, \"predicted_label\": 1}], \"accuracy\": 0.66813873330461}]], \"type\": \"Model\"}, \"ipython\": true, \"view_params\": {\"model_type\": \"regression\", \"view\": \"Evaluation\"}, \"model_type\": \"regression\", \"attributes\": {\"section_titles\": [\"Schema\", \"Settings\"], \"sections\": [[[\"Number of examples\", 37219], [\"Number of feature columns\", 24], [\"Number of unpacked features\", 24], [\"Number of classes\", 2]], [[\"Number of trees\", 5], [\"Max tree depth\", 6], [\"Training time (sec)\", 0.22], [\"Training accuracy\", 0.6733], [\"Validation accuracy\", null], [\"Training log_loss\", 0.6062], [\"Validation log_loss\", null]]]}, \"evaluations\": [[\"validation_data\", {\"f1_score\": 0.6715001599317625, \"auc\": 0.7247215702188436, \"recall\": 0.6827840416305291, \"precision\": 0.6605831760016782, \"log_loss\": 0.6176131769693981, \"roc_curve\": [{\"threshold\": 0.0, \"p\": 4612, \"fpr\": 1.0, \"tpr\": 1.0, \"n\": 4672}, {\"threshold\": 0.001, \"p\": 4612, \"fpr\": 1.0, \"tpr\": 1.0, \"n\": 4672}, {\"threshold\": 0.002, \"p\": 4612, \"fpr\": 1.0, \"tpr\": 1.0, \"n\": 4672}, {\"threshold\": 0.003, \"p\": 4612, \"fpr\": 1.0, \"tpr\": 1.0, \"n\": 4672}, {\"threshold\": 0.004, \"p\": 4612, \"fpr\": 1.0, \"tpr\": 1.0, \"n\": 4672}, {\"threshold\": 0.005, \"p\": 4612, \"fpr\": 1.0, \"tpr\": 1.0, \"n\": 4672}, {\"threshold\": 0.006, \"p\": 4612, \"fpr\": 1.0, \"tpr\": 1.0, \"n\": 4672}, {\"threshold\": 0.007, \"p\": 4612, \"fpr\": 1.0, \"tpr\": 1.0, \"n\": 4672}, {\"threshold\": 0.008, \"p\": 4612, \"fpr\": 1.0, \"tpr\": 1.0, \"n\": 4672}, {\"threshold\": 0.009, \"p\": 4612, \"fpr\": 1.0, \"tpr\": 1.0, \"n\": 4672}, {\"threshold\": 0.01, \"p\": 4612, \"fpr\": 1.0, \"tpr\": 1.0, \"n\": 4672}, {\"threshold\": 0.011, \"p\": 4612, \"fpr\": 1.0, \"tpr\": 1.0, \"n\": 4672}, {\"threshold\": 0.012, \"p\": 4612, \"fpr\": 1.0, \"tpr\": 1.0, \"n\": 4672}, {\"threshold\": 0.013, \"p\": 4612, \"fpr\": 1.0, \"tpr\": 1.0, \"n\": 4672}, {\"threshold\": 0.014, \"p\": 4612, \"fpr\": 1.0, \"tpr\": 1.0, \"n\": 4672}, {\"threshold\": 0.015, \"p\": 4612, \"fpr\": 1.0, \"tpr\": 1.0, \"n\": 4672}, {\"threshold\": 0.016, \"p\": 4612, \"fpr\": 1.0, \"tpr\": 1.0, \"n\": 4672}, {\"threshold\": 0.017, \"p\": 4612, \"fpr\": 1.0, \"tpr\": 1.0, \"n\": 4672}, {\"threshold\": 0.018, \"p\": 4612, \"fpr\": 1.0, \"tpr\": 1.0, \"n\": 4672}, {\"threshold\": 0.019, \"p\": 4612, \"fpr\": 1.0, \"tpr\": 1.0, \"n\": 4672}, {\"threshold\": 0.02, \"p\": 4612, \"fpr\": 1.0, \"tpr\": 1.0, \"n\": 4672}, {\"threshold\": 0.021, \"p\": 4612, \"fpr\": 1.0, \"tpr\": 1.0, \"n\": 4672}, {\"threshold\": 0.022, \"p\": 4612, \"fpr\": 1.0, \"tpr\": 1.0, \"n\": 4672}, {\"threshold\": 0.023, \"p\": 4612, \"fpr\": 1.0, \"tpr\": 1.0, \"n\": 4672}, {\"threshold\": 0.024, \"p\": 4612, \"fpr\": 1.0, \"tpr\": 1.0, \"n\": 4672}, {\"threshold\": 0.025, \"p\": 4612, \"fpr\": 1.0, \"tpr\": 1.0, \"n\": 4672}, {\"threshold\": 0.026, \"p\": 4612, \"fpr\": 1.0, \"tpr\": 1.0, \"n\": 4672}, {\"threshold\": 0.027, \"p\": 4612, \"fpr\": 1.0, \"tpr\": 1.0, \"n\": 4672}, {\"threshold\": 0.028, \"p\": 4612, \"fpr\": 1.0, \"tpr\": 1.0, \"n\": 4672}, {\"threshold\": 0.029, \"p\": 4612, \"fpr\": 1.0, \"tpr\": 1.0, \"n\": 4672}, {\"threshold\": 0.03, \"p\": 4612, \"fpr\": 1.0, \"tpr\": 1.0, \"n\": 4672}, {\"threshold\": 0.031, \"p\": 4612, \"fpr\": 1.0, \"tpr\": 1.0, \"n\": 4672}, {\"threshold\": 0.032, \"p\": 4612, \"fpr\": 1.0, \"tpr\": 1.0, \"n\": 4672}, {\"threshold\": 0.033, \"p\": 4612, \"fpr\": 1.0, \"tpr\": 1.0, \"n\": 4672}, {\"threshold\": 0.034, \"p\": 4612, \"fpr\": 1.0, \"tpr\": 1.0, \"n\": 4672}, {\"threshold\": 0.035, \"p\": 4612, \"fpr\": 1.0, \"tpr\": 1.0, \"n\": 4672}, {\"threshold\": 0.036, \"p\": 4612, \"fpr\": 1.0, \"tpr\": 1.0, \"n\": 4672}, {\"threshold\": 0.037, \"p\": 4612, \"fpr\": 1.0, \"tpr\": 1.0, \"n\": 4672}, {\"threshold\": 0.038, \"p\": 4612, \"fpr\": 1.0, \"tpr\": 1.0, \"n\": 4672}, {\"threshold\": 0.039, \"p\": 4612, \"fpr\": 1.0, \"tpr\": 1.0, \"n\": 4672}, {\"threshold\": 0.04, \"p\": 4612, \"fpr\": 1.0, \"tpr\": 1.0, \"n\": 4672}, {\"threshold\": 0.041, \"p\": 4612, \"fpr\": 1.0, \"tpr\": 1.0, \"n\": 4672}, {\"threshold\": 0.042, \"p\": 4612, \"fpr\": 1.0, \"tpr\": 1.0, \"n\": 4672}, {\"threshold\": 0.043, \"p\": 4612, \"fpr\": 1.0, \"tpr\": 1.0, \"n\": 4672}, {\"threshold\": 0.044, \"p\": 4612, \"fpr\": 1.0, \"tpr\": 1.0, \"n\": 4672}, {\"threshold\": 0.045, \"p\": 4612, \"fpr\": 1.0, \"tpr\": 1.0, \"n\": 4672}, {\"threshold\": 0.046, \"p\": 4612, \"fpr\": 1.0, \"tpr\": 1.0, \"n\": 4672}, {\"threshold\": 0.047, \"p\": 4612, \"fpr\": 1.0, \"tpr\": 1.0, \"n\": 4672}, {\"threshold\": 0.048, \"p\": 4612, \"fpr\": 1.0, \"tpr\": 1.0, \"n\": 4672}, {\"threshold\": 0.049, \"p\": 4612, \"fpr\": 1.0, \"tpr\": 1.0, \"n\": 4672}, {\"threshold\": 0.05, \"p\": 4612, \"fpr\": 1.0, \"tpr\": 1.0, \"n\": 4672}, {\"threshold\": 0.051, \"p\": 4612, \"fpr\": 1.0, \"tpr\": 1.0, \"n\": 4672}, {\"threshold\": 0.052, \"p\": 4612, \"fpr\": 1.0, \"tpr\": 1.0, \"n\": 4672}, {\"threshold\": 0.053, \"p\": 4612, \"fpr\": 1.0, \"tpr\": 1.0, \"n\": 4672}, {\"threshold\": 0.054, \"p\": 4612, \"fpr\": 1.0, \"tpr\": 1.0, \"n\": 4672}, {\"threshold\": 0.055, \"p\": 4612, \"fpr\": 1.0, \"tpr\": 1.0, \"n\": 4672}, {\"threshold\": 0.056, \"p\": 4612, \"fpr\": 1.0, \"tpr\": 1.0, \"n\": 4672}, {\"threshold\": 0.057, \"p\": 4612, \"fpr\": 1.0, \"tpr\": 1.0, \"n\": 4672}, {\"threshold\": 0.058, \"p\": 4612, \"fpr\": 1.0, \"tpr\": 1.0, \"n\": 4672}, {\"threshold\": 0.059, \"p\": 4612, \"fpr\": 1.0, \"tpr\": 1.0, \"n\": 4672}, {\"threshold\": 0.06, \"p\": 4612, \"fpr\": 1.0, \"tpr\": 1.0, \"n\": 4672}, {\"threshold\": 0.061, \"p\": 4612, \"fpr\": 1.0, \"tpr\": 1.0, \"n\": 4672}, {\"threshold\": 0.062, \"p\": 4612, \"fpr\": 1.0, \"tpr\": 1.0, \"n\": 4672}, {\"threshold\": 0.063, \"p\": 4612, \"fpr\": 1.0, \"tpr\": 1.0, \"n\": 4672}, {\"threshold\": 0.064, \"p\": 4612, \"fpr\": 1.0, \"tpr\": 1.0, \"n\": 4672}, {\"threshold\": 0.065, \"p\": 4612, \"fpr\": 1.0, \"tpr\": 1.0, \"n\": 4672}, {\"threshold\": 0.066, \"p\": 4612, \"fpr\": 1.0, \"tpr\": 1.0, \"n\": 4672}, {\"threshold\": 0.067, \"p\": 4612, \"fpr\": 1.0, \"tpr\": 1.0, \"n\": 4672}, {\"threshold\": 0.068, \"p\": 4612, \"fpr\": 1.0, \"tpr\": 1.0, \"n\": 4672}, {\"threshold\": 0.069, \"p\": 4612, \"fpr\": 1.0, \"tpr\": 1.0, \"n\": 4672}, {\"threshold\": 0.07, \"p\": 4612, \"fpr\": 1.0, \"tpr\": 1.0, \"n\": 4672}, {\"threshold\": 0.071, \"p\": 4612, \"fpr\": 1.0, \"tpr\": 1.0, \"n\": 4672}, {\"threshold\": 0.072, \"p\": 4612, \"fpr\": 1.0, \"tpr\": 1.0, \"n\": 4672}, {\"threshold\": 0.073, \"p\": 4612, \"fpr\": 1.0, \"tpr\": 1.0, \"n\": 4672}, {\"threshold\": 0.074, \"p\": 4612, \"fpr\": 1.0, \"tpr\": 1.0, \"n\": 4672}, {\"threshold\": 0.075, \"p\": 4612, \"fpr\": 1.0, \"tpr\": 1.0, \"n\": 4672}, {\"threshold\": 0.076, \"p\": 4612, \"fpr\": 1.0, \"tpr\": 1.0, \"n\": 4672}, {\"threshold\": 0.077, \"p\": 4612, \"fpr\": 1.0, \"tpr\": 1.0, \"n\": 4672}, {\"threshold\": 0.078, \"p\": 4612, \"fpr\": 1.0, \"tpr\": 1.0, \"n\": 4672}, {\"threshold\": 0.079, \"p\": 4612, \"fpr\": 1.0, \"tpr\": 1.0, \"n\": 4672}, {\"threshold\": 0.08, \"p\": 4612, \"fpr\": 1.0, \"tpr\": 1.0, \"n\": 4672}, {\"threshold\": 0.081, \"p\": 4612, \"fpr\": 1.0, \"tpr\": 1.0, \"n\": 4672}, {\"threshold\": 0.082, \"p\": 4612, \"fpr\": 1.0, \"tpr\": 1.0, \"n\": 4672}, {\"threshold\": 0.083, \"p\": 4612, \"fpr\": 1.0, \"tpr\": 1.0, \"n\": 4672}, {\"threshold\": 0.084, \"p\": 4612, \"fpr\": 1.0, \"tpr\": 1.0, \"n\": 4672}, {\"threshold\": 0.085, \"p\": 4612, \"fpr\": 1.0, \"tpr\": 1.0, \"n\": 4672}, {\"threshold\": 0.086, \"p\": 4612, \"fpr\": 1.0, \"tpr\": 1.0, \"n\": 4672}, {\"threshold\": 0.087, \"p\": 4612, \"fpr\": 1.0, \"tpr\": 1.0, \"n\": 4672}, {\"threshold\": 0.088, \"p\": 4612, \"fpr\": 1.0, \"tpr\": 1.0, \"n\": 4672}, {\"threshold\": 0.089, \"p\": 4612, \"fpr\": 1.0, \"tpr\": 1.0, \"n\": 4672}, {\"threshold\": 0.09, \"p\": 4612, \"fpr\": 1.0, \"tpr\": 1.0, \"n\": 4672}, {\"threshold\": 0.091, \"p\": 4612, \"fpr\": 1.0, \"tpr\": 1.0, \"n\": 4672}, {\"threshold\": 0.092, \"p\": 4612, \"fpr\": 1.0, \"tpr\": 1.0, \"n\": 4672}, {\"threshold\": 0.093, \"p\": 4612, \"fpr\": 1.0, \"tpr\": 1.0, \"n\": 4672}, {\"threshold\": 0.094, \"p\": 4612, \"fpr\": 1.0, \"tpr\": 1.0, \"n\": 4672}, {\"threshold\": 0.095, \"p\": 4612, \"fpr\": 1.0, \"tpr\": 1.0, \"n\": 4672}, {\"threshold\": 0.096, \"p\": 4612, \"fpr\": 1.0, \"tpr\": 1.0, \"n\": 4672}, {\"threshold\": 0.097, \"p\": 4612, \"fpr\": 1.0, \"tpr\": 1.0, \"n\": 4672}, {\"threshold\": 0.098, \"p\": 4612, \"fpr\": 1.0, \"tpr\": 1.0, \"n\": 4672}, {\"threshold\": 0.099, \"p\": 4612, \"fpr\": 1.0, \"tpr\": 1.0, \"n\": 4672}, {\"threshold\": 0.1, \"p\": 4612, \"fpr\": 1.0, \"tpr\": 1.0, \"n\": 4672}, {\"threshold\": 0.101, \"p\": 4612, \"fpr\": 1.0, \"tpr\": 1.0, \"n\": 4672}, {\"threshold\": 0.102, \"p\": 4612, \"fpr\": 1.0, \"tpr\": 1.0, \"n\": 4672}, {\"threshold\": 0.103, \"p\": 4612, \"fpr\": 1.0, \"tpr\": 1.0, \"n\": 4672}, {\"threshold\": 0.104, \"p\": 4612, \"fpr\": 1.0, \"tpr\": 1.0, \"n\": 4672}, {\"threshold\": 0.105, \"p\": 4612, \"fpr\": 1.0, \"tpr\": 1.0, \"n\": 4672}, {\"threshold\": 0.106, \"p\": 4612, \"fpr\": 1.0, \"tpr\": 1.0, \"n\": 4672}, {\"threshold\": 0.107, \"p\": 4612, \"fpr\": 1.0, \"tpr\": 1.0, \"n\": 4672}, {\"threshold\": 0.108, \"p\": 4612, \"fpr\": 1.0, \"tpr\": 1.0, \"n\": 4672}, {\"threshold\": 0.109, \"p\": 4612, \"fpr\": 1.0, \"tpr\": 1.0, \"n\": 4672}, {\"threshold\": 0.11, \"p\": 4612, \"fpr\": 1.0, \"tpr\": 1.0, \"n\": 4672}, {\"threshold\": 0.111, \"p\": 4612, \"fpr\": 1.0, \"tpr\": 1.0, \"n\": 4672}, {\"threshold\": 0.112, \"p\": 4612, \"fpr\": 1.0, \"tpr\": 1.0, \"n\": 4672}, {\"threshold\": 0.113, \"p\": 4612, \"fpr\": 1.0, \"tpr\": 1.0, \"n\": 4672}, {\"threshold\": 0.114, \"p\": 4612, \"fpr\": 1.0, \"tpr\": 1.0, \"n\": 4672}, {\"threshold\": 0.115, \"p\": 4612, \"fpr\": 1.0, \"tpr\": 1.0, \"n\": 4672}, {\"threshold\": 0.116, \"p\": 4612, \"fpr\": 1.0, \"tpr\": 1.0, \"n\": 4672}, {\"threshold\": 0.117, \"p\": 4612, \"fpr\": 1.0, \"tpr\": 1.0, \"n\": 4672}, {\"threshold\": 0.118, \"p\": 4612, \"fpr\": 1.0, \"tpr\": 1.0, \"n\": 4672}, {\"threshold\": 0.119, \"p\": 4612, \"fpr\": 1.0, \"tpr\": 1.0, \"n\": 4672}, {\"threshold\": 0.12, \"p\": 4612, \"fpr\": 1.0, \"tpr\": 1.0, \"n\": 4672}, {\"threshold\": 0.121, \"p\": 4612, \"fpr\": 1.0, \"tpr\": 1.0, \"n\": 4672}, {\"threshold\": 0.122, \"p\": 4612, \"fpr\": 1.0, \"tpr\": 1.0, \"n\": 4672}, {\"threshold\": 0.123, \"p\": 4612, \"fpr\": 1.0, \"tpr\": 1.0, \"n\": 4672}, {\"threshold\": 0.124, \"p\": 4612, \"fpr\": 1.0, \"tpr\": 1.0, \"n\": 4672}, {\"threshold\": 0.125, \"p\": 4612, \"fpr\": 1.0, \"tpr\": 1.0, \"n\": 4672}, {\"threshold\": 0.126, \"p\": 4612, \"fpr\": 1.0, \"tpr\": 1.0, \"n\": 4672}, {\"threshold\": 0.127, \"p\": 4612, \"fpr\": 1.0, \"tpr\": 1.0, \"n\": 4672}, {\"threshold\": 0.128, \"p\": 4612, \"fpr\": 1.0, \"tpr\": 1.0, \"n\": 4672}, {\"threshold\": 0.129, \"p\": 4612, \"fpr\": 1.0, \"tpr\": 1.0, \"n\": 4672}, {\"threshold\": 0.13, \"p\": 4612, \"fpr\": 1.0, \"tpr\": 1.0, \"n\": 4672}, {\"threshold\": 0.131, \"p\": 4612, \"fpr\": 1.0, \"tpr\": 1.0, \"n\": 4672}, {\"threshold\": 0.132, \"p\": 4612, \"fpr\": 1.0, \"tpr\": 1.0, \"n\": 4672}, {\"threshold\": 0.133, \"p\": 4612, \"fpr\": 1.0, \"tpr\": 1.0, \"n\": 4672}, {\"threshold\": 0.134, \"p\": 4612, \"fpr\": 1.0, \"tpr\": 1.0, \"n\": 4672}, {\"threshold\": 0.135, \"p\": 4612, \"fpr\": 0.998929794520548, \"tpr\": 1.0, \"n\": 4672}, {\"threshold\": 0.136, \"p\": 4612, \"fpr\": 0.998929794520548, \"tpr\": 1.0, \"n\": 4672}, {\"threshold\": 0.137, \"p\": 4612, \"fpr\": 0.998929794520548, \"tpr\": 1.0, \"n\": 4672}, {\"threshold\": 0.138, \"p\": 4612, \"fpr\": 0.998929794520548, \"tpr\": 1.0, \"n\": 4672}, {\"threshold\": 0.139, \"p\": 4612, \"fpr\": 0.998929794520548, \"tpr\": 1.0, \"n\": 4672}, {\"threshold\": 0.14, \"p\": 4612, \"fpr\": 0.998929794520548, \"tpr\": 1.0, \"n\": 4672}, {\"threshold\": 0.141, \"p\": 4612, \"fpr\": 0.998929794520548, \"tpr\": 1.0, \"n\": 4672}, {\"threshold\": 0.142, \"p\": 4612, \"fpr\": 0.9985017123287672, \"tpr\": 1.0, \"n\": 4672}, {\"threshold\": 0.143, \"p\": 4612, \"fpr\": 0.9985017123287672, \"tpr\": 1.0, \"n\": 4672}, {\"threshold\": 0.144, \"p\": 4612, \"fpr\": 0.9985017123287672, \"tpr\": 1.0, \"n\": 4672}, {\"threshold\": 0.145, \"p\": 4612, \"fpr\": 0.9985017123287672, \"tpr\": 1.0, \"n\": 4672}, {\"threshold\": 0.146, \"p\": 4612, \"fpr\": 0.9982876712328768, \"tpr\": 1.0, \"n\": 4672}, {\"threshold\": 0.147, \"p\": 4612, \"fpr\": 0.9982876712328768, \"tpr\": 1.0, \"n\": 4672}, {\"threshold\": 0.148, \"p\": 4612, \"fpr\": 0.9982876712328768, \"tpr\": 1.0, \"n\": 4672}, {\"threshold\": 0.149, \"p\": 4612, \"fpr\": 0.9982876712328768, \"tpr\": 1.0, \"n\": 4672}, {\"threshold\": 0.15, \"p\": 4612, \"fpr\": 0.9982876712328768, \"tpr\": 1.0, \"n\": 4672}, {\"threshold\": 0.151, \"p\": 4612, \"fpr\": 0.9982876712328768, \"tpr\": 1.0, \"n\": 4672}, {\"threshold\": 0.152, \"p\": 4612, \"fpr\": 0.9982876712328768, \"tpr\": 1.0, \"n\": 4672}, {\"threshold\": 0.153, \"p\": 4612, \"fpr\": 0.9961472602739726, \"tpr\": 1.0, \"n\": 4672}, {\"threshold\": 0.154, \"p\": 4612, \"fpr\": 0.9959332191780822, \"tpr\": 1.0, \"n\": 4672}, {\"threshold\": 0.155, \"p\": 4612, \"fpr\": 0.995291095890411, \"tpr\": 1.0, \"n\": 4672}, {\"threshold\": 0.156, \"p\": 4612, \"fpr\": 0.9933647260273972, \"tpr\": 0.9997831743278404, \"n\": 4672}, {\"threshold\": 0.157, \"p\": 4612, \"fpr\": 0.9929366438356164, \"tpr\": 0.9997831743278404, \"n\": 4672}, {\"threshold\": 0.158, \"p\": 4612, \"fpr\": 0.9929366438356164, \"tpr\": 0.9997831743278404, \"n\": 4672}, {\"threshold\": 0.159, \"p\": 4612, \"fpr\": 0.992722602739726, \"tpr\": 0.9997831743278404, \"n\": 4672}, {\"threshold\": 0.16, \"p\": 4612, \"fpr\": 0.992722602739726, \"tpr\": 0.9997831743278404, \"n\": 4672}, {\"threshold\": 0.161, \"p\": 4612, \"fpr\": 0.992722602739726, \"tpr\": 0.9997831743278404, \"n\": 4672}, {\"threshold\": 0.162, \"p\": 4612, \"fpr\": 0.9920804794520548, \"tpr\": 0.9995663486556808, \"n\": 4672}, {\"threshold\": 0.163, \"p\": 4612, \"fpr\": 0.9920804794520548, \"tpr\": 0.9995663486556808, \"n\": 4672}, {\"threshold\": 0.164, \"p\": 4612, \"fpr\": 0.9920804794520548, \"tpr\": 0.9995663486556808, \"n\": 4672}, {\"threshold\": 0.165, \"p\": 4612, \"fpr\": 0.9912243150684932, \"tpr\": 0.9995663486556808, \"n\": 4672}, {\"threshold\": 0.166, \"p\": 4612, \"fpr\": 0.9910102739726028, \"tpr\": 0.9995663486556808, \"n\": 4672}, {\"threshold\": 0.167, \"p\": 4612, \"fpr\": 0.990582191780822, \"tpr\": 0.9995663486556808, \"n\": 4672}, {\"threshold\": 0.168, \"p\": 4612, \"fpr\": 0.9903681506849316, \"tpr\": 0.9995663486556808, \"n\": 4672}, {\"threshold\": 0.169, \"p\": 4612, \"fpr\": 0.9892979452054794, \"tpr\": 0.9995663486556808, \"n\": 4672}, {\"threshold\": 0.17, \"p\": 4612, \"fpr\": 0.9892979452054794, \"tpr\": 0.9995663486556808, \"n\": 4672}, {\"threshold\": 0.171, \"p\": 4612, \"fpr\": 0.9892979452054794, \"tpr\": 0.9995663486556808, \"n\": 4672}, {\"threshold\": 0.172, \"p\": 4612, \"fpr\": 0.9892979452054794, \"tpr\": 0.9995663486556808, \"n\": 4672}, {\"threshold\": 0.173, \"p\": 4612, \"fpr\": 0.9865154109589042, \"tpr\": 0.9993495229835212, \"n\": 4672}, {\"threshold\": 0.174, \"p\": 4612, \"fpr\": 0.985445205479452, \"tpr\": 0.9993495229835212, \"n\": 4672}, {\"threshold\": 0.175, \"p\": 4612, \"fpr\": 0.9845890410958904, \"tpr\": 0.9993495229835212, \"n\": 4672}, {\"threshold\": 0.176, \"p\": 4612, \"fpr\": 0.9845890410958904, \"tpr\": 0.9993495229835212, \"n\": 4672}, {\"threshold\": 0.177, \"p\": 4612, \"fpr\": 0.9845890410958904, \"tpr\": 0.9993495229835212, \"n\": 4672}, {\"threshold\": 0.178, \"p\": 4612, \"fpr\": 0.9824486301369864, \"tpr\": 0.9991326973113617, \"n\": 4672}, {\"threshold\": 0.179, \"p\": 4612, \"fpr\": 0.9815924657534246, \"tpr\": 0.9991326973113617, \"n\": 4672}, {\"threshold\": 0.18, \"p\": 4612, \"fpr\": 0.980736301369863, \"tpr\": 0.9991326973113617, \"n\": 4672}, {\"threshold\": 0.181, \"p\": 4612, \"fpr\": 0.9794520547945206, \"tpr\": 0.998915871639202, \"n\": 4672}, {\"threshold\": 0.182, \"p\": 4612, \"fpr\": 0.9790239726027398, \"tpr\": 0.9986990459670425, \"n\": 4672}, {\"threshold\": 0.183, \"p\": 4612, \"fpr\": 0.978167808219178, \"tpr\": 0.9986990459670425, \"n\": 4672}, {\"threshold\": 0.184, \"p\": 4612, \"fpr\": 0.9779537671232876, \"tpr\": 0.9986990459670425, \"n\": 4672}, {\"threshold\": 0.185, \"p\": 4612, \"fpr\": 0.9775256849315068, \"tpr\": 0.9986990459670425, \"n\": 4672}, {\"threshold\": 0.186, \"p\": 4612, \"fpr\": 0.9775256849315068, \"tpr\": 0.9986990459670425, \"n\": 4672}, {\"threshold\": 0.187, \"p\": 4612, \"fpr\": 0.9775256849315068, \"tpr\": 0.9986990459670425, \"n\": 4672}, {\"threshold\": 0.188, \"p\": 4612, \"fpr\": 0.9773116438356164, \"tpr\": 0.9986990459670425, \"n\": 4672}, {\"threshold\": 0.189, \"p\": 4612, \"fpr\": 0.9773116438356164, \"tpr\": 0.9986990459670425, \"n\": 4672}, {\"threshold\": 0.19, \"p\": 4612, \"fpr\": 0.977097602739726, \"tpr\": 0.9984822202948829, \"n\": 4672}, {\"threshold\": 0.191, \"p\": 4612, \"fpr\": 0.9766695205479452, \"tpr\": 0.9984822202948829, \"n\": 4672}, {\"threshold\": 0.192, \"p\": 4612, \"fpr\": 0.9758133561643836, \"tpr\": 0.9984822202948829, \"n\": 4672}, {\"threshold\": 0.193, \"p\": 4612, \"fpr\": 0.9751712328767124, \"tpr\": 0.9984822202948829, \"n\": 4672}, {\"threshold\": 0.194, \"p\": 4612, \"fpr\": 0.974957191780822, \"tpr\": 0.9984822202948829, \"n\": 4672}, {\"threshold\": 0.195, \"p\": 4612, \"fpr\": 0.9736729452054794, \"tpr\": 0.9982653946227233, \"n\": 4672}, {\"threshold\": 0.196, \"p\": 4612, \"fpr\": 0.9721746575342466, \"tpr\": 0.9982653946227233, \"n\": 4672}, {\"threshold\": 0.197, \"p\": 4612, \"fpr\": 0.9719606164383562, \"tpr\": 0.9982653946227233, \"n\": 4672}, {\"threshold\": 0.198, \"p\": 4612, \"fpr\": 0.9719606164383562, \"tpr\": 0.9982653946227233, \"n\": 4672}, {\"threshold\": 0.199, \"p\": 4612, \"fpr\": 0.9717465753424658, \"tpr\": 0.9982653946227233, \"n\": 4672}, {\"threshold\": 0.2, \"p\": 4612, \"fpr\": 0.969820205479452, \"tpr\": 0.9980485689505637, \"n\": 4672}, {\"threshold\": 0.201, \"p\": 4612, \"fpr\": 0.9696061643835616, \"tpr\": 0.9980485689505637, \"n\": 4672}, {\"threshold\": 0.202, \"p\": 4612, \"fpr\": 0.9693921232876712, \"tpr\": 0.9978317432784042, \"n\": 4672}, {\"threshold\": 0.203, \"p\": 4612, \"fpr\": 0.9683219178082192, \"tpr\": 0.9976149176062445, \"n\": 4672}, {\"threshold\": 0.204, \"p\": 4612, \"fpr\": 0.9672517123287672, \"tpr\": 0.9976149176062445, \"n\": 4672}, {\"threshold\": 0.205, \"p\": 4612, \"fpr\": 0.9657534246575342, \"tpr\": 0.9976149176062445, \"n\": 4672}, {\"threshold\": 0.206, \"p\": 4612, \"fpr\": 0.9655393835616438, \"tpr\": 0.997398091934085, \"n\": 4672}, {\"threshold\": 0.207, \"p\": 4612, \"fpr\": 0.965111301369863, \"tpr\": 0.997398091934085, \"n\": 4672}, {\"threshold\": 0.208, \"p\": 4612, \"fpr\": 0.9644691780821918, \"tpr\": 0.9971812662619254, \"n\": 4672}, {\"threshold\": 0.209, \"p\": 4612, \"fpr\": 0.9644691780821918, \"tpr\": 0.9971812662619254, \"n\": 4672}, {\"threshold\": 0.21, \"p\": 4612, \"fpr\": 0.964041095890411, \"tpr\": 0.9971812662619254, \"n\": 4672}, {\"threshold\": 0.211, \"p\": 4612, \"fpr\": 0.9633989726027398, \"tpr\": 0.9971812662619254, \"n\": 4672}, {\"threshold\": 0.212, \"p\": 4612, \"fpr\": 0.9621147260273972, \"tpr\": 0.9969644405897659, \"n\": 4672}, {\"threshold\": 0.213, \"p\": 4612, \"fpr\": 0.961472602739726, \"tpr\": 0.9967476149176062, \"n\": 4672}, {\"threshold\": 0.214, \"p\": 4612, \"fpr\": 0.960402397260274, \"tpr\": 0.9965307892454467, \"n\": 4672}, {\"threshold\": 0.215, \"p\": 4612, \"fpr\": 0.9597602739726028, \"tpr\": 0.9965307892454467, \"n\": 4672}, {\"threshold\": 0.216, \"p\": 4612, \"fpr\": 0.9595462328767124, \"tpr\": 0.9965307892454467, \"n\": 4672}, {\"threshold\": 0.217, \"p\": 4612, \"fpr\": 0.959332191780822, \"tpr\": 0.9965307892454467, \"n\": 4672}, {\"threshold\": 0.218, \"p\": 4612, \"fpr\": 0.958904109589041, \"tpr\": 0.9965307892454467, \"n\": 4672}, {\"threshold\": 0.219, \"p\": 4612, \"fpr\": 0.957833904109589, \"tpr\": 0.996313963573287, \"n\": 4672}, {\"threshold\": 0.22, \"p\": 4612, \"fpr\": 0.9576198630136986, \"tpr\": 0.996313963573287, \"n\": 4672}, {\"threshold\": 0.221, \"p\": 4612, \"fpr\": 0.9571917808219178, \"tpr\": 0.996313963573287, \"n\": 4672}, {\"threshold\": 0.222, \"p\": 4612, \"fpr\": 0.956763698630137, \"tpr\": 0.9960971379011275, \"n\": 4672}, {\"threshold\": 0.223, \"p\": 4612, \"fpr\": 0.9554794520547946, \"tpr\": 0.9956634865568084, \"n\": 4672}, {\"threshold\": 0.224, \"p\": 4612, \"fpr\": 0.9548373287671232, \"tpr\": 0.9956634865568084, \"n\": 4672}, {\"threshold\": 0.225, \"p\": 4612, \"fpr\": 0.9535530821917808, \"tpr\": 0.9950130095403296, \"n\": 4672}, {\"threshold\": 0.226, \"p\": 4612, \"fpr\": 0.953125, \"tpr\": 0.9950130095403296, \"n\": 4672}, {\"threshold\": 0.227, \"p\": 4612, \"fpr\": 0.9524828767123288, \"tpr\": 0.9950130095403296, \"n\": 4672}, {\"threshold\": 0.228, \"p\": 4612, \"fpr\": 0.9518407534246576, \"tpr\": 0.99479618386817, \"n\": 4672}, {\"threshold\": 0.229, \"p\": 4612, \"fpr\": 0.9507705479452054, \"tpr\": 0.99479618386817, \"n\": 4672}, {\"threshold\": 0.23, \"p\": 4612, \"fpr\": 0.9503424657534246, \"tpr\": 0.99479618386817, \"n\": 4672}, {\"threshold\": 0.231, \"p\": 4612, \"fpr\": 0.9501284246575342, \"tpr\": 0.9945793581960104, \"n\": 4672}, {\"threshold\": 0.232, \"p\": 4612, \"fpr\": 0.949486301369863, \"tpr\": 0.9945793581960104, \"n\": 4672}, {\"threshold\": 0.233, \"p\": 4612, \"fpr\": 0.9490582191780822, \"tpr\": 0.9945793581960104, \"n\": 4672}, {\"threshold\": 0.234, \"p\": 4612, \"fpr\": 0.9479880136986302, \"tpr\": 0.9945793581960104, \"n\": 4672}, {\"threshold\": 0.235, \"p\": 4612, \"fpr\": 0.9475599315068494, \"tpr\": 0.9945793581960104, \"n\": 4672}, {\"threshold\": 0.236, \"p\": 4612, \"fpr\": 0.946917808219178, \"tpr\": 0.9945793581960104, \"n\": 4672}, {\"threshold\": 0.237, \"p\": 4612, \"fpr\": 0.9467037671232876, \"tpr\": 0.9945793581960104, \"n\": 4672}, {\"threshold\": 0.238, \"p\": 4612, \"fpr\": 0.9462756849315068, \"tpr\": 0.9945793581960104, \"n\": 4672}, {\"threshold\": 0.239, \"p\": 4612, \"fpr\": 0.9452054794520548, \"tpr\": 0.9943625325238509, \"n\": 4672}, {\"threshold\": 0.24, \"p\": 4612, \"fpr\": 0.9443493150684932, \"tpr\": 0.9943625325238509, \"n\": 4672}, {\"threshold\": 0.241, \"p\": 4612, \"fpr\": 0.943279109589041, \"tpr\": 0.9943625325238509, \"n\": 4672}, {\"threshold\": 0.242, \"p\": 4612, \"fpr\": 0.9426369863013698, \"tpr\": 0.9943625325238509, \"n\": 4672}, {\"threshold\": 0.243, \"p\": 4612, \"fpr\": 0.9424229452054794, \"tpr\": 0.9943625325238509, \"n\": 4672}, {\"threshold\": 0.244, \"p\": 4612, \"fpr\": 0.9409246575342466, \"tpr\": 0.9932784041630529, \"n\": 4672}, {\"threshold\": 0.245, \"p\": 4612, \"fpr\": 0.9404965753424658, \"tpr\": 0.9932784041630529, \"n\": 4672}, {\"threshold\": 0.246, \"p\": 4612, \"fpr\": 0.9402825342465754, \"tpr\": 0.9932784041630529, \"n\": 4672}, {\"threshold\": 0.247, \"p\": 4612, \"fpr\": 0.940068493150685, \"tpr\": 0.9930615784908933, \"n\": 4672}, {\"threshold\": 0.248, \"p\": 4612, \"fpr\": 0.9398544520547946, \"tpr\": 0.9930615784908933, \"n\": 4672}, {\"threshold\": 0.249, \"p\": 4612, \"fpr\": 0.9396404109589042, \"tpr\": 0.9930615784908933, \"n\": 4672}, {\"threshold\": 0.25, \"p\": 4612, \"fpr\": 0.9383561643835616, \"tpr\": 0.9930615784908933, \"n\": 4672}, {\"threshold\": 0.251, \"p\": 4612, \"fpr\": 0.9383561643835616, \"tpr\": 0.9930615784908933, \"n\": 4672}, {\"threshold\": 0.252, \"p\": 4612, \"fpr\": 0.9383561643835616, \"tpr\": 0.9928447528187337, \"n\": 4672}, {\"threshold\": 0.253, \"p\": 4612, \"fpr\": 0.9377140410958904, \"tpr\": 0.9926279271465741, \"n\": 4672}, {\"threshold\": 0.254, \"p\": 4612, \"fpr\": 0.9377140410958904, \"tpr\": 0.9926279271465741, \"n\": 4672}, {\"threshold\": 0.255, \"p\": 4612, \"fpr\": 0.9372859589041096, \"tpr\": 0.9926279271465741, \"n\": 4672}, {\"threshold\": 0.256, \"p\": 4612, \"fpr\": 0.9368578767123288, \"tpr\": 0.9926279271465741, \"n\": 4672}, {\"threshold\": 0.257, \"p\": 4612, \"fpr\": 0.9368578767123288, \"tpr\": 0.9926279271465741, \"n\": 4672}, {\"threshold\": 0.258, \"p\": 4612, \"fpr\": 0.936429794520548, \"tpr\": 0.9926279271465741, \"n\": 4672}, {\"threshold\": 0.259, \"p\": 4612, \"fpr\": 0.936429794520548, \"tpr\": 0.9924111014744146, \"n\": 4672}, {\"threshold\": 0.26, \"p\": 4612, \"fpr\": 0.9357876712328768, \"tpr\": 0.9921942758022549, \"n\": 4672}, {\"threshold\": 0.261, \"p\": 4612, \"fpr\": 0.9220890410958904, \"tpr\": 0.9891587163920208, \"n\": 4672}, {\"threshold\": 0.262, \"p\": 4612, \"fpr\": 0.9214469178082192, \"tpr\": 0.9891587163920208, \"n\": 4672}, {\"threshold\": 0.263, \"p\": 4612, \"fpr\": 0.9210188356164384, \"tpr\": 0.9891587163920208, \"n\": 4672}, {\"threshold\": 0.264, \"p\": 4612, \"fpr\": 0.9034674657534246, \"tpr\": 0.9835212489158717, \"n\": 4672}, {\"threshold\": 0.265, \"p\": 4612, \"fpr\": 0.9032534246575342, \"tpr\": 0.9835212489158717, \"n\": 4672}, {\"threshold\": 0.266, \"p\": 4612, \"fpr\": 0.902611301369863, \"tpr\": 0.9835212489158717, \"n\": 4672}, {\"threshold\": 0.267, \"p\": 4612, \"fpr\": 0.9023972602739726, \"tpr\": 0.9835212489158717, \"n\": 4672}, {\"threshold\": 0.268, \"p\": 4612, \"fpr\": 0.9023972602739726, \"tpr\": 0.9835212489158717, \"n\": 4672}, {\"threshold\": 0.269, \"p\": 4612, \"fpr\": 0.9019691780821918, \"tpr\": 0.9835212489158717, \"n\": 4672}, {\"threshold\": 0.27, \"p\": 4612, \"fpr\": 0.901541095890411, \"tpr\": 0.9835212489158717, \"n\": 4672}, {\"threshold\": 0.271, \"p\": 4612, \"fpr\": 0.9008989726027398, \"tpr\": 0.9835212489158717, \"n\": 4672}, {\"threshold\": 0.272, \"p\": 4612, \"fpr\": 0.9002568493150684, \"tpr\": 0.983304423243712, \"n\": 4672}, {\"threshold\": 0.273, \"p\": 4612, \"fpr\": 0.8994006849315068, \"tpr\": 0.983304423243712, \"n\": 4672}, {\"threshold\": 0.274, \"p\": 4612, \"fpr\": 0.8985445205479452, \"tpr\": 0.983304423243712, \"n\": 4672}, {\"threshold\": 0.275, \"p\": 4612, \"fpr\": 0.8983304794520548, \"tpr\": 0.983304423243712, \"n\": 4672}, {\"threshold\": 0.276, \"p\": 4612, \"fpr\": 0.897902397260274, \"tpr\": 0.983304423243712, \"n\": 4672}, {\"threshold\": 0.277, \"p\": 4612, \"fpr\": 0.8959760273972602, \"tpr\": 0.9822202948829142, \"n\": 4672}, {\"threshold\": 0.278, \"p\": 4612, \"fpr\": 0.8959760273972602, \"tpr\": 0.9822202948829142, \"n\": 4672}, {\"threshold\": 0.279, \"p\": 4612, \"fpr\": 0.8949058219178082, \"tpr\": 0.9820034692107545, \"n\": 4672}, {\"threshold\": 0.28, \"p\": 4612, \"fpr\": 0.8910530821917808, \"tpr\": 0.9809193408499567, \"n\": 4672}, {\"threshold\": 0.281, \"p\": 4612, \"fpr\": 0.8908390410958904, \"tpr\": 0.9809193408499567, \"n\": 4672}, {\"threshold\": 0.282, \"p\": 4612, \"fpr\": 0.8904109589041096, \"tpr\": 0.9809193408499567, \"n\": 4672}, {\"threshold\": 0.283, \"p\": 4612, \"fpr\": 0.8901969178082192, \"tpr\": 0.9809193408499567, \"n\": 4672}, {\"threshold\": 0.284, \"p\": 4612, \"fpr\": 0.8681506849315068, \"tpr\": 0.9741977450130095, \"n\": 4672}, {\"threshold\": 0.285, \"p\": 4612, \"fpr\": 0.8681506849315068, \"tpr\": 0.9741977450130095, \"n\": 4672}, {\"threshold\": 0.286, \"p\": 4612, \"fpr\": 0.8675085616438356, \"tpr\": 0.9741977450130095, \"n\": 4672}, {\"threshold\": 0.287, \"p\": 4612, \"fpr\": 0.8668664383561644, \"tpr\": 0.97398091934085, \"n\": 4672}, {\"threshold\": 0.288, \"p\": 4612, \"fpr\": 0.865154109589041, \"tpr\": 0.9737640936686903, \"n\": 4672}, {\"threshold\": 0.289, \"p\": 4612, \"fpr\": 0.8647260273972602, \"tpr\": 0.9737640936686903, \"n\": 4672}, {\"threshold\": 0.29, \"p\": 4612, \"fpr\": 0.8627996575342466, \"tpr\": 0.9733304423243712, \"n\": 4672}, {\"threshold\": 0.291, \"p\": 4612, \"fpr\": 0.8625856164383562, \"tpr\": 0.9733304423243712, \"n\": 4672}, {\"threshold\": 0.292, \"p\": 4612, \"fpr\": 0.861943493150685, \"tpr\": 0.9731136166522116, \"n\": 4672}, {\"threshold\": 0.293, \"p\": 4612, \"fpr\": 0.8615154109589042, \"tpr\": 0.9726799653078925, \"n\": 4672}, {\"threshold\": 0.294, \"p\": 4612, \"fpr\": 0.8615154109589042, \"tpr\": 0.9726799653078925, \"n\": 4672}, {\"threshold\": 0.295, \"p\": 4612, \"fpr\": 0.8578767123287672, \"tpr\": 0.9718126626192541, \"n\": 4672}, {\"threshold\": 0.296, \"p\": 4612, \"fpr\": 0.848458904109589, \"tpr\": 0.9683434518647008, \"n\": 4672}, {\"threshold\": 0.297, \"p\": 4612, \"fpr\": 0.8482448630136986, \"tpr\": 0.9683434518647008, \"n\": 4672}, {\"threshold\": 0.298, \"p\": 4612, \"fpr\": 0.8482448630136986, \"tpr\": 0.9683434518647008, \"n\": 4672}, {\"threshold\": 0.299, \"p\": 4612, \"fpr\": 0.8441780821917808, \"tpr\": 0.9674761491760624, \"n\": 4672}, {\"threshold\": 0.3, \"p\": 4612, \"fpr\": 0.8326198630136986, \"tpr\": 0.9655247181266262, \"n\": 4672}, {\"threshold\": 0.301, \"p\": 4612, \"fpr\": 0.8321917808219178, \"tpr\": 0.9655247181266262, \"n\": 4672}, {\"threshold\": 0.302, \"p\": 4612, \"fpr\": 0.8321917808219178, \"tpr\": 0.9655247181266262, \"n\": 4672}, {\"threshold\": 0.303, \"p\": 4612, \"fpr\": 0.831763698630137, \"tpr\": 0.9653078924544666, \"n\": 4672}, {\"threshold\": 0.304, \"p\": 4612, \"fpr\": 0.831763698630137, \"tpr\": 0.9653078924544666, \"n\": 4672}, {\"threshold\": 0.305, \"p\": 4612, \"fpr\": 0.8315496575342466, \"tpr\": 0.965091066782307, \"n\": 4672}, {\"threshold\": 0.306, \"p\": 4612, \"fpr\": 0.8309075342465754, \"tpr\": 0.965091066782307, \"n\": 4672}, {\"threshold\": 0.307, \"p\": 4612, \"fpr\": 0.8304794520547946, \"tpr\": 0.9648742411101474, \"n\": 4672}, {\"threshold\": 0.308, \"p\": 4612, \"fpr\": 0.8302654109589042, \"tpr\": 0.9644405897658282, \"n\": 4672}, {\"threshold\": 0.309, \"p\": 4612, \"fpr\": 0.8296232876712328, \"tpr\": 0.9642237640936687, \"n\": 4672}, {\"threshold\": 0.31, \"p\": 4612, \"fpr\": 0.8268407534246576, \"tpr\": 0.9635732870771899, \"n\": 4672}, {\"threshold\": 0.311, \"p\": 4612, \"fpr\": 0.8247003424657534, \"tpr\": 0.9631396357328708, \"n\": 4672}, {\"threshold\": 0.312, \"p\": 4612, \"fpr\": 0.820847602739726, \"tpr\": 0.9616218560277537, \"n\": 4672}, {\"threshold\": 0.313, \"p\": 4612, \"fpr\": 0.8169948630136986, \"tpr\": 0.9592367736339983, \"n\": 4672}, {\"threshold\": 0.314, \"p\": 4612, \"fpr\": 0.8163527397260274, \"tpr\": 0.9588031222896791, \"n\": 4672}, {\"threshold\": 0.315, \"p\": 4612, \"fpr\": 0.8148544520547946, \"tpr\": 0.95836947094536, \"n\": 4672}, {\"threshold\": 0.316, \"p\": 4612, \"fpr\": 0.8105736301369864, \"tpr\": 0.9564180398959237, \"n\": 4672}, {\"threshold\": 0.317, \"p\": 4612, \"fpr\": 0.8092893835616438, \"tpr\": 0.9559843885516045, \"n\": 4672}, {\"threshold\": 0.318, \"p\": 4612, \"fpr\": 0.8086472602739726, \"tpr\": 0.9559843885516045, \"n\": 4672}, {\"threshold\": 0.319, \"p\": 4612, \"fpr\": 0.8080051369863014, \"tpr\": 0.955767562879445, \"n\": 4672}, {\"threshold\": 0.32, \"p\": 4612, \"fpr\": 0.806720890410959, \"tpr\": 0.9555507372072853, \"n\": 4672}, {\"threshold\": 0.321, \"p\": 4612, \"fpr\": 0.8009417808219178, \"tpr\": 0.952081526452732, \"n\": 4672}, {\"threshold\": 0.322, \"p\": 4612, \"fpr\": 0.8007277397260274, \"tpr\": 0.952081526452732, \"n\": 4672}, {\"threshold\": 0.323, \"p\": 4612, \"fpr\": 0.7947345890410958, \"tpr\": 0.9496964440589766, \"n\": 4672}, {\"threshold\": 0.324, \"p\": 4612, \"fpr\": 0.7934503424657534, \"tpr\": 0.949479618386817, \"n\": 4672}, {\"threshold\": 0.325, \"p\": 4612, \"fpr\": 0.793236301369863, \"tpr\": 0.949479618386817, \"n\": 4672}, {\"threshold\": 0.326, \"p\": 4612, \"fpr\": 0.7915239726027398, \"tpr\": 0.9492627927146574, \"n\": 4672}, {\"threshold\": 0.327, \"p\": 4612, \"fpr\": 0.7908818493150684, \"tpr\": 0.9483954900260191, \"n\": 4672}, {\"threshold\": 0.328, \"p\": 4612, \"fpr\": 0.7900256849315068, \"tpr\": 0.9479618386816999, \"n\": 4672}, {\"threshold\": 0.329, \"p\": 4612, \"fpr\": 0.789597602739726, \"tpr\": 0.9475281873373808, \"n\": 4672}, {\"threshold\": 0.33, \"p\": 4612, \"fpr\": 0.7878852739726028, \"tpr\": 0.9462272333044233, \"n\": 4672}, {\"threshold\": 0.331, \"p\": 4612, \"fpr\": 0.7853167808219178, \"tpr\": 0.9447094535993061, \"n\": 4672}, {\"threshold\": 0.332, \"p\": 4612, \"fpr\": 0.7853167808219178, \"tpr\": 0.9444926279271466, \"n\": 4672}, {\"threshold\": 0.333, \"p\": 4612, \"fpr\": 0.7814640410958904, \"tpr\": 0.9429748482220295, \"n\": 4672}, {\"threshold\": 0.334, \"p\": 4612, \"fpr\": 0.7771832191780822, \"tpr\": 0.9425411968777103, \"n\": 4672}, {\"threshold\": 0.335, \"p\": 4612, \"fpr\": 0.7771832191780822, \"tpr\": 0.9425411968777103, \"n\": 4672}, {\"threshold\": 0.336, \"p\": 4612, \"fpr\": 0.7741866438356164, \"tpr\": 0.9421075455333912, \"n\": 4672}, {\"threshold\": 0.337, \"p\": 4612, \"fpr\": 0.7731164383561644, \"tpr\": 0.9418907198612315, \"n\": 4672}, {\"threshold\": 0.338, \"p\": 4612, \"fpr\": 0.770333904109589, \"tpr\": 0.9412402428447528, \"n\": 4672}, {\"threshold\": 0.339, \"p\": 4612, \"fpr\": 0.7658390410958904, \"tpr\": 0.9395056374674762, \"n\": 4672}, {\"threshold\": 0.34, \"p\": 4612, \"fpr\": 0.7617722602739726, \"tpr\": 0.9382046834345187, \"n\": 4672}, {\"threshold\": 0.341, \"p\": 4612, \"fpr\": 0.7611301369863014, \"tpr\": 0.9377710320901995, \"n\": 4672}, {\"threshold\": 0.342, \"p\": 4612, \"fpr\": 0.7604880136986302, \"tpr\": 0.9373373807458804, \"n\": 4672}, {\"threshold\": 0.343, \"p\": 4612, \"fpr\": 0.752568493150685, \"tpr\": 0.9345186470078057, \"n\": 4672}, {\"threshold\": 0.344, \"p\": 4612, \"fpr\": 0.7523544520547946, \"tpr\": 0.9345186470078057, \"n\": 4672}, {\"threshold\": 0.345, \"p\": 4612, \"fpr\": 0.7523544520547946, \"tpr\": 0.9343018213356461, \"n\": 4672}, {\"threshold\": 0.346, \"p\": 4612, \"fpr\": 0.7517123287671232, \"tpr\": 0.9343018213356461, \"n\": 4672}, {\"threshold\": 0.347, \"p\": 4612, \"fpr\": 0.75, \"tpr\": 0.9332176929748482, \"n\": 4672}, {\"threshold\": 0.348, \"p\": 4612, \"fpr\": 0.7487157534246576, \"tpr\": 0.9323503902862099, \"n\": 4672}, {\"threshold\": 0.349, \"p\": 4612, \"fpr\": 0.7467893835616438, \"tpr\": 0.9314830875975716, \"n\": 4672}, {\"threshold\": 0.35, \"p\": 4612, \"fpr\": 0.7457191780821918, \"tpr\": 0.9301821335646141, \"n\": 4672}, {\"threshold\": 0.351, \"p\": 4612, \"fpr\": 0.7403681506849316, \"tpr\": 0.9282307025151778, \"n\": 4672}, {\"threshold\": 0.352, \"p\": 4612, \"fpr\": 0.7373715753424658, \"tpr\": 0.9267129228100607, \"n\": 4672}, {\"threshold\": 0.353, \"p\": 4612, \"fpr\": 0.7339469178082192, \"tpr\": 0.926062445793582, \"n\": 4672}, {\"threshold\": 0.354, \"p\": 4612, \"fpr\": 0.733304794520548, \"tpr\": 0.924978317432784, \"n\": 4672}, {\"threshold\": 0.355, \"p\": 4612, \"fpr\": 0.7315924657534246, \"tpr\": 0.9245446660884649, \"n\": 4672}, {\"threshold\": 0.356, \"p\": 4612, \"fpr\": 0.7303082191780822, \"tpr\": 0.9243278404163053, \"n\": 4672}, {\"threshold\": 0.357, \"p\": 4612, \"fpr\": 0.7277397260273972, \"tpr\": 0.9221595836947094, \"n\": 4672}, {\"threshold\": 0.358, \"p\": 4612, \"fpr\": 0.7268835616438356, \"tpr\": 0.9217259323503902, \"n\": 4672}, {\"threshold\": 0.359, \"p\": 4612, \"fpr\": 0.7251712328767124, \"tpr\": 0.9206418039895924, \"n\": 4672}, {\"threshold\": 0.36, \"p\": 4612, \"fpr\": 0.724529109589041, \"tpr\": 0.9204249783174328, \"n\": 4672}, {\"threshold\": 0.361, \"p\": 4612, \"fpr\": 0.7181078767123288, \"tpr\": 0.9184735472679966, \"n\": 4672}, {\"threshold\": 0.362, \"p\": 4612, \"fpr\": 0.7116866438356164, \"tpr\": 0.9169557675628794, \"n\": 4672}, {\"threshold\": 0.363, \"p\": 4612, \"fpr\": 0.7097602739726028, \"tpr\": 0.9167389418907199, \"n\": 4672}, {\"threshold\": 0.364, \"p\": 4612, \"fpr\": 0.709332191780822, \"tpr\": 0.9160884648742411, \"n\": 4672}, {\"threshold\": 0.365, \"p\": 4612, \"fpr\": 0.7082619863013698, \"tpr\": 0.915654813529922, \"n\": 4672}, {\"threshold\": 0.366, \"p\": 4612, \"fpr\": 0.7069777397260274, \"tpr\": 0.9150043365134432, \"n\": 4672}, {\"threshold\": 0.367, \"p\": 4612, \"fpr\": 0.7059075342465754, \"tpr\": 0.914570685169124, \"n\": 4672}, {\"threshold\": 0.368, \"p\": 4612, \"fpr\": 0.7044092465753424, \"tpr\": 0.9143538594969645, \"n\": 4672}, {\"threshold\": 0.369, \"p\": 4612, \"fpr\": 0.7009845890410958, \"tpr\": 0.9126192541196878, \"n\": 4672}, {\"threshold\": 0.37, \"p\": 4612, \"fpr\": 0.6939212328767124, \"tpr\": 0.909366869037294, \"n\": 4672}, {\"threshold\": 0.371, \"p\": 4612, \"fpr\": 0.6930650684931506, \"tpr\": 0.9084995663486557, \"n\": 4672}, {\"threshold\": 0.372, \"p\": 4612, \"fpr\": 0.6919948630136986, \"tpr\": 0.9082827406764961, \"n\": 4672}, {\"threshold\": 0.373, \"p\": 4612, \"fpr\": 0.6904965753424658, \"tpr\": 0.9080659150043365, \"n\": 4672}, {\"threshold\": 0.374, \"p\": 4612, \"fpr\": 0.6883561643835616, \"tpr\": 0.9058976582827407, \"n\": 4672}, {\"threshold\": 0.375, \"p\": 4612, \"fpr\": 0.679152397260274, \"tpr\": 0.901561144839549, \"n\": 4672}, {\"threshold\": 0.376, \"p\": 4612, \"fpr\": 0.6785102739726028, \"tpr\": 0.9013443191673894, \"n\": 4672}, {\"threshold\": 0.377, \"p\": 4612, \"fpr\": 0.6772260273972602, \"tpr\": 0.9011274934952298, \"n\": 4672}, {\"threshold\": 0.378, \"p\": 4612, \"fpr\": 0.671875, \"tpr\": 0.8980919340849957, \"n\": 4672}, {\"threshold\": 0.379, \"p\": 4612, \"fpr\": 0.6712328767123288, \"tpr\": 0.8980919340849957, \"n\": 4672}, {\"threshold\": 0.38, \"p\": 4612, \"fpr\": 0.666095890410959, \"tpr\": 0.8939722463139635, \"n\": 4672}, {\"threshold\": 0.381, \"p\": 4612, \"fpr\": 0.6648116438356164, \"tpr\": 0.8933217692974849, \"n\": 4672}, {\"threshold\": 0.382, \"p\": 4612, \"fpr\": 0.664597602739726, \"tpr\": 0.8933217692974849, \"n\": 4672}, {\"threshold\": 0.383, \"p\": 4612, \"fpr\": 0.6633133561643836, \"tpr\": 0.8922376409366869, \"n\": 4672}, {\"threshold\": 0.384, \"p\": 4612, \"fpr\": 0.662457191780822, \"tpr\": 0.8913703382480486, \"n\": 4672}, {\"threshold\": 0.385, \"p\": 4612, \"fpr\": 0.6605308219178082, \"tpr\": 0.8900693842150911, \"n\": 4672}, {\"threshold\": 0.386, \"p\": 4612, \"fpr\": 0.655179794520548, \"tpr\": 0.8863833477883781, \"n\": 4672}, {\"threshold\": 0.387, \"p\": 4612, \"fpr\": 0.6545376712328768, \"tpr\": 0.8861665221162186, \"n\": 4672}, {\"threshold\": 0.388, \"p\": 4612, \"fpr\": 0.6506849315068494, \"tpr\": 0.8829141370338248, \"n\": 4672}, {\"threshold\": 0.389, \"p\": 4612, \"fpr\": 0.6436215753424658, \"tpr\": 0.8813963573287077, \"n\": 4672}, {\"threshold\": 0.39, \"p\": 4612, \"fpr\": 0.6414811643835616, \"tpr\": 0.8798785776235907, \"n\": 4672}, {\"threshold\": 0.391, \"p\": 4612, \"fpr\": 0.6382705479452054, \"tpr\": 0.8787944492627927, \"n\": 4672}, {\"threshold\": 0.392, \"p\": 4612, \"fpr\": 0.6372003424657534, \"tpr\": 0.8781439722463139, \"n\": 4672}, {\"threshold\": 0.393, \"p\": 4612, \"fpr\": 0.634845890410959, \"tpr\": 0.8757588898525586, \"n\": 4672}, {\"threshold\": 0.394, \"p\": 4612, \"fpr\": 0.6316352739726028, \"tpr\": 0.8731569817866436, \"n\": 4672}, {\"threshold\": 0.395, \"p\": 4612, \"fpr\": 0.630779109589041, \"tpr\": 0.8722896790980053, \"n\": 4672}, {\"threshold\": 0.396, \"p\": 4612, \"fpr\": 0.6303510273972602, \"tpr\": 0.8722896790980053, \"n\": 4672}, {\"threshold\": 0.397, \"p\": 4612, \"fpr\": 0.6198630136986302, \"tpr\": 0.8681699913269731, \"n\": 4672}, {\"threshold\": 0.398, \"p\": 4612, \"fpr\": 0.617722602739726, \"tpr\": 0.8668690372940157, \"n\": 4672}, {\"threshold\": 0.399, \"p\": 4612, \"fpr\": 0.6149400684931506, \"tpr\": 0.8649176062445794, \"n\": 4672}, {\"threshold\": 0.4, \"p\": 4612, \"fpr\": 0.6115154109589042, \"tpr\": 0.8627493495229835, \"n\": 4672}, {\"threshold\": 0.401, \"p\": 4612, \"fpr\": 0.6095890410958904, \"tpr\": 0.861448395490026, \"n\": 4672}, {\"threshold\": 0.402, \"p\": 4612, \"fpr\": 0.6072345890410958, \"tpr\": 0.8594969644405898, \"n\": 4672}, {\"threshold\": 0.403, \"p\": 4612, \"fpr\": 0.6070205479452054, \"tpr\": 0.8594969644405898, \"n\": 4672}, {\"threshold\": 0.404, \"p\": 4612, \"fpr\": 0.6059503424657534, \"tpr\": 0.8586296617519514, \"n\": 4672}, {\"threshold\": 0.405, \"p\": 4612, \"fpr\": 0.599529109589041, \"tpr\": 0.8568950563746748, \"n\": 4672}, {\"threshold\": 0.406, \"p\": 4612, \"fpr\": 0.5986729452054794, \"tpr\": 0.856244579358196, \"n\": 4672}, {\"threshold\": 0.407, \"p\": 4612, \"fpr\": 0.5971746575342466, \"tpr\": 0.8555941023417173, \"n\": 4672}, {\"threshold\": 0.408, \"p\": 4612, \"fpr\": 0.5913955479452054, \"tpr\": 0.8529921942758023, \"n\": 4672}, {\"threshold\": 0.409, \"p\": 4612, \"fpr\": 0.590111301369863, \"tpr\": 0.852558542931483, \"n\": 4672}, {\"threshold\": 0.41, \"p\": 4612, \"fpr\": 0.5862585616438356, \"tpr\": 0.8493061578490894, \"n\": 4672}, {\"threshold\": 0.411, \"p\": 4612, \"fpr\": 0.5832619863013698, \"tpr\": 0.8475715524718127, \"n\": 4672}, {\"threshold\": 0.412, \"p\": 4612, \"fpr\": 0.5811215753424658, \"tpr\": 0.8456201214223764, \"n\": 4672}, {\"threshold\": 0.413, \"p\": 4612, \"fpr\": 0.5794092465753424, \"tpr\": 0.8451864700780573, \"n\": 4672}, {\"threshold\": 0.414, \"p\": 4612, \"fpr\": 0.578125, \"tpr\": 0.8443191673894189, \"n\": 4672}, {\"threshold\": 0.415, \"p\": 4612, \"fpr\": 0.5766267123287672, \"tpr\": 0.8438855160450998, \"n\": 4672}, {\"threshold\": 0.416, \"p\": 4612, \"fpr\": 0.5699914383561644, \"tpr\": 0.8404163052905465, \"n\": 4672}, {\"threshold\": 0.417, \"p\": 4612, \"fpr\": 0.5669948630136986, \"tpr\": 0.8388985255854293, \"n\": 4672}, {\"threshold\": 0.418, \"p\": 4612, \"fpr\": 0.5654965753424658, \"tpr\": 0.8373807458803122, \"n\": 4672}, {\"threshold\": 0.419, \"p\": 4612, \"fpr\": 0.5622859589041096, \"tpr\": 0.8356461405030355, \"n\": 4672}, {\"threshold\": 0.42, \"p\": 4612, \"fpr\": 0.5586472602739726, \"tpr\": 0.8341283607979185, \"n\": 4672}, {\"threshold\": 0.421, \"p\": 4612, \"fpr\": 0.555222602739726, \"tpr\": 0.8319601040763226, \"n\": 4672}, {\"threshold\": 0.422, \"p\": 4612, \"fpr\": 0.553082191780822, \"tpr\": 0.8297918473547268, \"n\": 4672}, {\"threshold\": 0.423, \"p\": 4612, \"fpr\": 0.5500856164383562, \"tpr\": 0.8291413703382481, \"n\": 4672}, {\"threshold\": 0.424, \"p\": 4612, \"fpr\": 0.5496575342465754, \"tpr\": 0.8287077189939289, \"n\": 4672}, {\"threshold\": 0.425, \"p\": 4612, \"fpr\": 0.5488013698630136, \"tpr\": 0.8284908933217693, \"n\": 4672}, {\"threshold\": 0.426, \"p\": 4612, \"fpr\": 0.5475171232876712, \"tpr\": 0.8271899392888118, \"n\": 4672}, {\"threshold\": 0.427, \"p\": 4612, \"fpr\": 0.5425941780821918, \"tpr\": 0.8230702515177797, \"n\": 4672}, {\"threshold\": 0.428, \"p\": 4612, \"fpr\": 0.5387414383561644, \"tpr\": 0.821335646140503, \"n\": 4672}, {\"threshold\": 0.429, \"p\": 4612, \"fpr\": 0.534888698630137, \"tpr\": 0.8180832610581092, \"n\": 4672}, {\"threshold\": 0.43, \"p\": 4612, \"fpr\": 0.5196917808219178, \"tpr\": 0.8076756287944492, \"n\": 4672}, {\"threshold\": 0.431, \"p\": 4612, \"fpr\": 0.5164811643835616, \"tpr\": 0.80724197745013, \"n\": 4672}, {\"threshold\": 0.432, \"p\": 4612, \"fpr\": 0.5077054794520548, \"tpr\": 0.8026886383347789, \"n\": 4672}, {\"threshold\": 0.433, \"p\": 4612, \"fpr\": 0.5055650684931506, \"tpr\": 0.8016045099739809, \"n\": 4672}, {\"threshold\": 0.434, \"p\": 4612, \"fpr\": 0.5004280821917808, \"tpr\": 0.7987857762359063, \"n\": 4672}, {\"threshold\": 0.435, \"p\": 4612, \"fpr\": 0.4995719178082192, \"tpr\": 0.7981352992194276, \"n\": 4672}, {\"threshold\": 0.436, \"p\": 4612, \"fpr\": 0.4987157534246575, \"tpr\": 0.7972679965307893, \"n\": 4672}, {\"threshold\": 0.437, \"p\": 4612, \"fpr\": 0.4972174657534247, \"tpr\": 0.7966175195143105, \"n\": 4672}, {\"threshold\": 0.438, \"p\": 4612, \"fpr\": 0.4946489726027397, \"tpr\": 0.7948829141370338, \"n\": 4672}, {\"threshold\": 0.439, \"p\": 4612, \"fpr\": 0.4931506849315068, \"tpr\": 0.7940156114483955, \"n\": 4672}, {\"threshold\": 0.44, \"p\": 4612, \"fpr\": 0.4918664383561644, \"tpr\": 0.7924978317432784, \"n\": 4672}, {\"threshold\": 0.441, \"p\": 4612, \"fpr\": 0.4905821917808219, \"tpr\": 0.7924978317432784, \"n\": 4672}, {\"threshold\": 0.442, \"p\": 4612, \"fpr\": 0.4895119863013699, \"tpr\": 0.7911968777103209, \"n\": 4672}, {\"threshold\": 0.443, \"p\": 4612, \"fpr\": 0.4875856164383562, \"tpr\": 0.7903295750216826, \"n\": 4672}, {\"threshold\": 0.444, \"p\": 4612, \"fpr\": 0.4860873287671233, \"tpr\": 0.7898959236773634, \"n\": 4672}, {\"threshold\": 0.445, \"p\": 4612, \"fpr\": 0.4858732876712329, \"tpr\": 0.7898959236773634, \"n\": 4672}, {\"threshold\": 0.446, \"p\": 4612, \"fpr\": 0.4845890410958904, \"tpr\": 0.7888117953165655, \"n\": 4672}, {\"threshold\": 0.447, \"p\": 4612, \"fpr\": 0.4775256849315068, \"tpr\": 0.7836079791847355, \"n\": 4672}, {\"threshold\": 0.448, \"p\": 4612, \"fpr\": 0.4753852739726027, \"tpr\": 0.782307025151778, \"n\": 4672}, {\"threshold\": 0.449, \"p\": 4612, \"fpr\": 0.4715325342465753, \"tpr\": 0.7775368603642672, \"n\": 4672}, {\"threshold\": 0.45, \"p\": 4612, \"fpr\": 0.4663955479452055, \"tpr\": 0.7738508239375542, \"n\": 4672}, {\"threshold\": 0.451, \"p\": 4612, \"fpr\": 0.4638270547945205, \"tpr\": 0.7725498699045967, \"n\": 4672}, {\"threshold\": 0.452, \"p\": 4612, \"fpr\": 0.4591181506849315, \"tpr\": 0.769297484822203, \"n\": 4672}, {\"threshold\": 0.453, \"p\": 4612, \"fpr\": 0.456763698630137, \"tpr\": 0.7677797051170858, \"n\": 4672}, {\"threshold\": 0.454, \"p\": 4612, \"fpr\": 0.4554794520547945, \"tpr\": 0.7673460537727667, \"n\": 4672}, {\"threshold\": 0.455, \"p\": 4612, \"fpr\": 0.4537671232876712, \"tpr\": 0.7658282740676496, \"n\": 4672}, {\"threshold\": 0.456, \"p\": 4612, \"fpr\": 0.4505565068493151, \"tpr\": 0.7643104943625325, \"n\": 4672}, {\"threshold\": 0.457, \"p\": 4612, \"fpr\": 0.4490582191780822, \"tpr\": 0.763009540329575, \"n\": 4672}, {\"threshold\": 0.458, \"p\": 4612, \"fpr\": 0.4454195205479452, \"tpr\": 0.76040763226366, \"n\": 4672}, {\"threshold\": 0.459, \"p\": 4612, \"fpr\": 0.442208904109589, \"tpr\": 0.7591066782307025, \"n\": 4672}, {\"threshold\": 0.46, \"p\": 4612, \"fpr\": 0.4417808219178082, \"tpr\": 0.7586730268863834, \"n\": 4672}, {\"threshold\": 0.461, \"p\": 4612, \"fpr\": 0.4400684931506849, \"tpr\": 0.7571552471812663, \"n\": 4672}, {\"threshold\": 0.462, \"p\": 4612, \"fpr\": 0.4394263698630137, \"tpr\": 0.7556374674761491, \"n\": 4672}, {\"threshold\": 0.463, \"p\": 4612, \"fpr\": 0.4389982876712329, \"tpr\": 0.7554206418039896, \"n\": 4672}, {\"threshold\": 0.464, \"p\": 4612, \"fpr\": 0.4370719178082192, \"tpr\": 0.7543365134431916, \"n\": 4672}, {\"threshold\": 0.465, \"p\": 4612, \"fpr\": 0.4362157534246575, \"tpr\": 0.7539028620988725, \"n\": 4672}, {\"threshold\": 0.466, \"p\": 4612, \"fpr\": 0.4351455479452055, \"tpr\": 0.7532523850823938, \"n\": 4672}, {\"threshold\": 0.467, \"p\": 4612, \"fpr\": 0.4285102739726027, \"tpr\": 0.7493495229835212, \"n\": 4672}, {\"threshold\": 0.468, \"p\": 4612, \"fpr\": 0.4274400684931507, \"tpr\": 0.7491326973113617, \"n\": 4672}, {\"threshold\": 0.469, \"p\": 4612, \"fpr\": 0.4235873287671233, \"tpr\": 0.7465307892454467, \"n\": 4672}, {\"threshold\": 0.47, \"p\": 4612, \"fpr\": 0.4220890410958904, \"tpr\": 0.7452298352124892, \"n\": 4672}, {\"threshold\": 0.471, \"p\": 4612, \"fpr\": 0.4208047945205479, \"tpr\": 0.7437120555073721, \"n\": 4672}, {\"threshold\": 0.472, \"p\": 4612, \"fpr\": 0.4195205479452055, \"tpr\": 0.7428447528187337, \"n\": 4672}, {\"threshold\": 0.473, \"p\": 4612, \"fpr\": 0.4175941780821918, \"tpr\": 0.7415437987857763, \"n\": 4672}, {\"threshold\": 0.474, \"p\": 4612, \"fpr\": 0.4128852739726027, \"tpr\": 0.7372072853425846, \"n\": 4672}, {\"threshold\": 0.475, \"p\": 4612, \"fpr\": 0.4105308219178082, \"tpr\": 0.7354726799653079, \"n\": 4672}, {\"threshold\": 0.476, \"p\": 4612, \"fpr\": 0.4079623287671233, \"tpr\": 0.7348222029488292, \"n\": 4672}, {\"threshold\": 0.477, \"p\": 4612, \"fpr\": 0.4058219178082192, \"tpr\": 0.7326539462272333, \"n\": 4672}, {\"threshold\": 0.478, \"p\": 4612, \"fpr\": 0.401541095890411, \"tpr\": 0.7296183868169991, \"n\": 4672}, {\"threshold\": 0.479, \"p\": 4612, \"fpr\": 0.3970462328767123, \"tpr\": 0.7265828274067649, \"n\": 4672}, {\"threshold\": 0.48, \"p\": 4612, \"fpr\": 0.394263698630137, \"tpr\": 0.7237640936686903, \"n\": 4672}, {\"threshold\": 0.481, \"p\": 4612, \"fpr\": 0.3910530821917808, \"tpr\": 0.7220294882914137, \"n\": 4672}, {\"threshold\": 0.482, \"p\": 4612, \"fpr\": 0.3820633561643836, \"tpr\": 0.7144405897658282, \"n\": 4672}, {\"threshold\": 0.483, \"p\": 4612, \"fpr\": 0.3816352739726027, \"tpr\": 0.7140069384215091, \"n\": 4672}, {\"threshold\": 0.484, \"p\": 4612, \"fpr\": 0.3773544520547945, \"tpr\": 0.7103209019947961, \"n\": 4672}, {\"threshold\": 0.485, \"p\": 4612, \"fpr\": 0.3739297945205479, \"tpr\": 0.7079358196010408, \"n\": 4672}, {\"threshold\": 0.486, \"p\": 4612, \"fpr\": 0.3735017123287671, \"tpr\": 0.7077189939288812, \"n\": 4672}, {\"threshold\": 0.487, \"p\": 4612, \"fpr\": 0.370291095890411, \"tpr\": 0.7059843885516045, \"n\": 4672}, {\"threshold\": 0.488, \"p\": 4612, \"fpr\": 0.3692208904109589, \"tpr\": 0.704683434518647, \"n\": 4672}, {\"threshold\": 0.489, \"p\": 4612, \"fpr\": 0.367722602739726, \"tpr\": 0.7031656548135299, \"n\": 4672}, {\"threshold\": 0.49, \"p\": 4612, \"fpr\": 0.3655821917808219, \"tpr\": 0.7018647007805724, \"n\": 4672}, {\"threshold\": 0.491, \"p\": 4612, \"fpr\": 0.3645119863013699, \"tpr\": 0.7007805724197745, \"n\": 4672}, {\"threshold\": 0.492, \"p\": 4612, \"fpr\": 0.3627996575342466, \"tpr\": 0.6986123156981786, \"n\": 4672}, {\"threshold\": 0.493, \"p\": 4612, \"fpr\": 0.3619434931506849, \"tpr\": 0.6983954900260191, \"n\": 4672}, {\"threshold\": 0.494, \"p\": 4612, \"fpr\": 0.3604452054794521, \"tpr\": 0.6964440589765828, \"n\": 4672}, {\"threshold\": 0.495, \"p\": 4612, \"fpr\": 0.3602311643835616, \"tpr\": 0.6960104076322636, \"n\": 4672}, {\"threshold\": 0.496, \"p\": 4612, \"fpr\": 0.3589469178082192, \"tpr\": 0.6936253252385083, \"n\": 4672}, {\"threshold\": 0.497, \"p\": 4612, \"fpr\": 0.3544520547945205, \"tpr\": 0.6886383347788378, \"n\": 4672}, {\"threshold\": 0.498, \"p\": 4612, \"fpr\": 0.3533818493150685, \"tpr\": 0.687987857762359, \"n\": 4672}, {\"threshold\": 0.499, \"p\": 4612, \"fpr\": 0.3482448630136986, \"tpr\": 0.6843018213356461, \"n\": 4672}, {\"threshold\": 0.5, \"p\": 4612, \"fpr\": 0.3463184931506849, \"tpr\": 0.6827840416305291, \"n\": 4672}, {\"threshold\": 0.501, \"p\": 4612, \"fpr\": 0.3458904109589041, \"tpr\": 0.6827840416305291, \"n\": 4672}, {\"threshold\": 0.502, \"p\": 4612, \"fpr\": 0.3351883561643836, \"tpr\": 0.6747614917606245, \"n\": 4672}, {\"threshold\": 0.503, \"p\": 4612, \"fpr\": 0.3321917808219178, \"tpr\": 0.6715091066782307, \"n\": 4672}, {\"threshold\": 0.504, \"p\": 4612, \"fpr\": 0.3274828767123288, \"tpr\": 0.6660884648742411, \"n\": 4672}, {\"threshold\": 0.505, \"p\": 4612, \"fpr\": 0.3195633561643836, \"tpr\": 0.6584995663486557, \"n\": 4672}, {\"threshold\": 0.506, \"p\": 4612, \"fpr\": 0.3165667808219178, \"tpr\": 0.6541630529054641, \"n\": 4672}, {\"threshold\": 0.507, \"p\": 4612, \"fpr\": 0.3165667808219178, \"tpr\": 0.6537294015611448, \"n\": 4672}, {\"threshold\": 0.508, \"p\": 4612, \"fpr\": 0.3116438356164384, \"tpr\": 0.6472246313963573, \"n\": 4672}, {\"threshold\": 0.509, \"p\": 4612, \"fpr\": 0.3107876712328767, \"tpr\": 0.646357328707719, \"n\": 4672}, {\"threshold\": 0.51, \"p\": 4612, \"fpr\": 0.3082191780821918, \"tpr\": 0.6450563746747615, \"n\": 4672}, {\"threshold\": 0.511, \"p\": 4612, \"fpr\": 0.3054366438356164, \"tpr\": 0.6435385949696444, \"n\": 4672}, {\"threshold\": 0.512, \"p\": 4612, \"fpr\": 0.3039383561643836, \"tpr\": 0.6422376409366869, \"n\": 4672}, {\"threshold\": 0.513, \"p\": 4612, \"fpr\": 0.3026541095890411, \"tpr\": 0.6396357328707719, \"n\": 4672}, {\"threshold\": 0.514, \"p\": 4612, \"fpr\": 0.3007277397260274, \"tpr\": 0.6381179531656548, \"n\": 4672}, {\"threshold\": 0.515, \"p\": 4612, \"fpr\": 0.2977311643835616, \"tpr\": 0.6361665221162186, \"n\": 4672}, {\"threshold\": 0.516, \"p\": 4612, \"fpr\": 0.2962328767123288, \"tpr\": 0.6348655680832611, \"n\": 4672}, {\"threshold\": 0.517, \"p\": 4612, \"fpr\": 0.2943065068493151, \"tpr\": 0.6294449262792715, \"n\": 4672}, {\"threshold\": 0.518, \"p\": 4612, \"fpr\": 0.2917380136986301, \"tpr\": 0.6266261925411969, \"n\": 4672}, {\"threshold\": 0.519, \"p\": 4612, \"fpr\": 0.2874571917808219, \"tpr\": 0.6207718993928881, \"n\": 4672}, {\"threshold\": 0.52, \"p\": 4612, \"fpr\": 0.2866010273972603, \"tpr\": 0.6201214223764093, \"n\": 4672}, {\"threshold\": 0.521, \"p\": 4612, \"fpr\": 0.2863869863013699, \"tpr\": 0.6199045967042498, \"n\": 4672}, {\"threshold\": 0.522, \"p\": 4612, \"fpr\": 0.2861729452054795, \"tpr\": 0.6199045967042498, \"n\": 4672}, {\"threshold\": 0.523, \"p\": 4612, \"fpr\": 0.2831763698630137, \"tpr\": 0.6164353859496965, \"n\": 4672}, {\"threshold\": 0.524, \"p\": 4612, \"fpr\": 0.2788955479452055, \"tpr\": 0.6105810928013877, \"n\": 4672}, {\"threshold\": 0.525, \"p\": 4612, \"fpr\": 0.2716181506849315, \"tpr\": 0.5997398091934085, \"n\": 4672}, {\"threshold\": 0.526, \"p\": 4612, \"fpr\": 0.2679794520547945, \"tpr\": 0.5956201214223764, \"n\": 4672}, {\"threshold\": 0.527, \"p\": 4612, \"fpr\": 0.2673373287671233, \"tpr\": 0.593235039028621, \"n\": 4672}, {\"threshold\": 0.528, \"p\": 4612, \"fpr\": 0.2604880136986301, \"tpr\": 0.5865134431916739, \"n\": 4672}, {\"threshold\": 0.529, \"p\": 4612, \"fpr\": 0.258347602739726, \"tpr\": 0.5826105810928014, \"n\": 4672}, {\"threshold\": 0.53, \"p\": 4612, \"fpr\": 0.2579195205479452, \"tpr\": 0.5823937554206418, \"n\": 4672}, {\"threshold\": 0.531, \"p\": 4612, \"fpr\": 0.2544948630136986, \"tpr\": 0.5804423243712056, \"n\": 4672}, {\"threshold\": 0.532, \"p\": 4612, \"fpr\": 0.2529965753424658, \"tpr\": 0.5791413703382481, \"n\": 4672}, {\"threshold\": 0.533, \"p\": 4612, \"fpr\": 0.2527825342465753, \"tpr\": 0.5771899392888118, \"n\": 4672}, {\"threshold\": 0.534, \"p\": 4612, \"fpr\": 0.2525684931506849, \"tpr\": 0.5767562879444926, \"n\": 4672}, {\"threshold\": 0.535, \"p\": 4612, \"fpr\": 0.2504280821917808, \"tpr\": 0.5732870771899393, \"n\": 4672}, {\"threshold\": 0.536, \"p\": 4612, \"fpr\": 0.25, \"tpr\": 0.5728534258456202, \"n\": 4672}, {\"threshold\": 0.537, \"p\": 4612, \"fpr\": 0.2457191780821918, \"tpr\": 0.5656981786643539, \"n\": 4672}, {\"threshold\": 0.538, \"p\": 4612, \"fpr\": 0.24529109589041095, \"tpr\": 0.5646140503035559, \"n\": 4672}, {\"threshold\": 0.539, \"p\": 4612, \"fpr\": 0.24336472602739725, \"tpr\": 0.563529921942758, \"n\": 4672}, {\"threshold\": 0.54, \"p\": 4612, \"fpr\": 0.2377996575342466, \"tpr\": 0.5578924544666088, \"n\": 4672}, {\"threshold\": 0.541, \"p\": 4612, \"fpr\": 0.2365154109589041, \"tpr\": 0.5555073720728534, \"n\": 4672}, {\"threshold\": 0.542, \"p\": 4612, \"fpr\": 0.2339469178082192, \"tpr\": 0.5526886383347789, \"n\": 4672}, {\"threshold\": 0.543, \"p\": 4612, \"fpr\": 0.2322345890410959, \"tpr\": 0.5509540329575021, \"n\": 4672}, {\"threshold\": 0.544, \"p\": 4612, \"fpr\": 0.23159246575342465, \"tpr\": 0.5503035559410234, \"n\": 4672}, {\"threshold\": 0.545, \"p\": 4612, \"fpr\": 0.2303082191780822, \"tpr\": 0.5481352992194276, \"n\": 4672}, {\"threshold\": 0.546, \"p\": 4612, \"fpr\": 0.22581335616438356, \"tpr\": 0.5440156114483955, \"n\": 4672}, {\"threshold\": 0.547, \"p\": 4612, \"fpr\": 0.22324486301369864, \"tpr\": 0.5394622723330442, \"n\": 4672}, {\"threshold\": 0.548, \"p\": 4612, \"fpr\": 0.22153253424657535, \"tpr\": 0.5385949696444059, \"n\": 4672}, {\"threshold\": 0.549, \"p\": 4612, \"fpr\": 0.2208904109589041, \"tpr\": 0.5364267129228101, \"n\": 4672}, {\"threshold\": 0.55, \"p\": 4612, \"fpr\": 0.21939212328767124, \"tpr\": 0.5353425845620121, \"n\": 4672}, {\"threshold\": 0.551, \"p\": 4612, \"fpr\": 0.21789383561643835, \"tpr\": 0.5329575021682568, \"n\": 4672}, {\"threshold\": 0.552, \"p\": 4612, \"fpr\": 0.21618150684931506, \"tpr\": 0.5314397224631396, \"n\": 4672}, {\"threshold\": 0.553, \"p\": 4612, \"fpr\": 0.2148972602739726, \"tpr\": 0.5294882914137033, \"n\": 4672}, {\"threshold\": 0.554, \"p\": 4612, \"fpr\": 0.2127568493150685, \"tpr\": 0.52601908065915, \"n\": 4672}, {\"threshold\": 0.555, \"p\": 4612, \"fpr\": 0.21168664383561644, \"tpr\": 0.5242844752818734, \"n\": 4672}, {\"threshold\": 0.556, \"p\": 4612, \"fpr\": 0.21168664383561644, \"tpr\": 0.5238508239375542, \"n\": 4672}, {\"threshold\": 0.557, \"p\": 4612, \"fpr\": 0.21040239726027396, \"tpr\": 0.5221162185602776, \"n\": 4672}, {\"threshold\": 0.558, \"p\": 4612, \"fpr\": 0.20976027397260275, \"tpr\": 0.5210320901994796, \"n\": 4672}, {\"threshold\": 0.559, \"p\": 4612, \"fpr\": 0.20569349315068494, \"tpr\": 0.5136600173460538, \"n\": 4672}, {\"threshold\": 0.56, \"p\": 4612, \"fpr\": 0.2035530821917808, \"tpr\": 0.5112749349522984, \"n\": 4672}, {\"threshold\": 0.561, \"p\": 4612, \"fpr\": 0.2026969178082192, \"tpr\": 0.5101908065915004, \"n\": 4672}, {\"threshold\": 0.562, \"p\": 4612, \"fpr\": 0.1969178082191781, \"tpr\": 0.5021682567215958, \"n\": 4672}, {\"threshold\": 0.563, \"p\": 4612, \"fpr\": 0.19584760273972604, \"tpr\": 0.4991326973113617, \"n\": 4672}, {\"threshold\": 0.564, \"p\": 4612, \"fpr\": 0.1934931506849315, \"tpr\": 0.49522983521248914, \"n\": 4672}, {\"threshold\": 0.565, \"p\": 4612, \"fpr\": 0.1915667808219178, \"tpr\": 0.4924111014744146, \"n\": 4672}, {\"threshold\": 0.566, \"p\": 4612, \"fpr\": 0.19049657534246575, \"tpr\": 0.48959236773633996, \"n\": 4672}, {\"threshold\": 0.567, \"p\": 4612, \"fpr\": 0.1896404109589041, \"tpr\": 0.48850823937554205, \"n\": 4672}, {\"threshold\": 0.568, \"p\": 4612, \"fpr\": 0.1892123287671233, \"tpr\": 0.48742411101474414, \"n\": 4672}, {\"threshold\": 0.569, \"p\": 4612, \"fpr\": 0.18857020547945205, \"tpr\": 0.48438855160451, \"n\": 4672}, {\"threshold\": 0.57, \"p\": 4612, \"fpr\": 0.1870719178082192, \"tpr\": 0.4822202948829141, \"n\": 4672}, {\"threshold\": 0.571, \"p\": 4612, \"fpr\": 0.1832191780821918, \"tpr\": 0.4787510841283608, \"n\": 4672}, {\"threshold\": 0.572, \"p\": 4612, \"fpr\": 0.18279109589041095, \"tpr\": 0.47658282740676494, \"n\": 4672}, {\"threshold\": 0.573, \"p\": 4612, \"fpr\": 0.18086472602739725, \"tpr\": 0.4735472679965308, \"n\": 4672}, {\"threshold\": 0.574, \"p\": 4612, \"fpr\": 0.17915239726027396, \"tpr\": 0.46986123156981785, \"n\": 4672}, {\"threshold\": 0.575, \"p\": 4612, \"fpr\": 0.1780821917808219, \"tpr\": 0.46617519514310496, \"n\": 4672}, {\"threshold\": 0.576, \"p\": 4612, \"fpr\": 0.1752996575342466, \"tpr\": 0.462489158716392, \"n\": 4672}, {\"threshold\": 0.577, \"p\": 4612, \"fpr\": 0.171875, \"tpr\": 0.45945359930615787, \"n\": 4672}, {\"threshold\": 0.578, \"p\": 4612, \"fpr\": 0.17080479452054795, \"tpr\": 0.45685169124024283, \"n\": 4672}, {\"threshold\": 0.579, \"p\": 4612, \"fpr\": 0.1675941780821918, \"tpr\": 0.454683434518647, \"n\": 4672}, {\"threshold\": 0.58, \"p\": 4612, \"fpr\": 0.16309931506849315, \"tpr\": 0.45208152645273203, \"n\": 4672}, {\"threshold\": 0.581, \"p\": 4612, \"fpr\": 0.1618150684931507, \"tpr\": 0.4503469210754553, \"n\": 4672}, {\"threshold\": 0.582, \"p\": 4612, \"fpr\": 0.1603167808219178, \"tpr\": 0.44861231569817867, \"n\": 4672}, {\"threshold\": 0.583, \"p\": 4612, \"fpr\": 0.1601027397260274, \"tpr\": 0.44774501300954034, \"n\": 4672}, {\"threshold\": 0.584, \"p\": 4612, \"fpr\": 0.15710616438356165, \"tpr\": 0.44319167389418906, \"n\": 4672}, {\"threshold\": 0.585, \"p\": 4612, \"fpr\": 0.15625, \"tpr\": 0.43993928881179534, \"n\": 4672}, {\"threshold\": 0.586, \"p\": 4612, \"fpr\": 0.1560359589041096, \"tpr\": 0.43907198612315695, \"n\": 4672}, {\"threshold\": 0.587, \"p\": 4612, \"fpr\": 0.15517979452054795, \"tpr\": 0.4362532523850824, \"n\": 4672}, {\"threshold\": 0.588, \"p\": 4612, \"fpr\": 0.1547517123287671, \"tpr\": 0.43430182133564615, \"n\": 4672}, {\"threshold\": 0.589, \"p\": 4612, \"fpr\": 0.1543236301369863, \"tpr\": 0.433868169991327, \"n\": 4672}, {\"threshold\": 0.59, \"p\": 4612, \"fpr\": 0.15346746575342465, \"tpr\": 0.4316999132697311, \"n\": 4672}, {\"threshold\": 0.591, \"p\": 4612, \"fpr\": 0.152611301369863, \"tpr\": 0.4297484822202949, \"n\": 4672}, {\"threshold\": 0.592, \"p\": 4612, \"fpr\": 0.152611301369863, \"tpr\": 0.4295316565481353, \"n\": 4672}, {\"threshold\": 0.593, \"p\": 4612, \"fpr\": 0.15089897260273974, \"tpr\": 0.42606244579358193, \"n\": 4672}, {\"threshold\": 0.594, \"p\": 4612, \"fpr\": 0.1502568493150685, \"tpr\": 0.4243278404163053, \"n\": 4672}, {\"threshold\": 0.595, \"p\": 4612, \"fpr\": 0.14897260273972604, \"tpr\": 0.4228100607111882, \"n\": 4672}, {\"threshold\": 0.596, \"p\": 4612, \"fpr\": 0.14704623287671234, \"tpr\": 0.4204249783174328, \"n\": 4672}, {\"threshold\": 0.597, \"p\": 4612, \"fpr\": 0.14554794520547945, \"tpr\": 0.4160884648742411, \"n\": 4672}, {\"threshold\": 0.598, \"p\": 4612, \"fpr\": 0.144263698630137, \"tpr\": 0.41457068516912404, \"n\": 4672}, {\"threshold\": 0.599, \"p\": 4612, \"fpr\": 0.1429794520547945, \"tpr\": 0.41153512575888984, \"n\": 4672}, {\"threshold\": 0.6, \"p\": 4612, \"fpr\": 0.1410530821917808, \"tpr\": 0.406764960971379, \"n\": 4672}, {\"threshold\": 0.601, \"p\": 4612, \"fpr\": 0.13805650684931506, \"tpr\": 0.4043798785776236, \"n\": 4672}, {\"threshold\": 0.602, \"p\": 4612, \"fpr\": 0.1363441780821918, \"tpr\": 0.39960971379011273, \"n\": 4672}, {\"threshold\": 0.603, \"p\": 4612, \"fpr\": 0.13356164383561644, \"tpr\": 0.3954900260190807, \"n\": 4672}, {\"threshold\": 0.604, \"p\": 4612, \"fpr\": 0.13206335616438356, \"tpr\": 0.3924544666088465, \"n\": 4672}, {\"threshold\": 0.605, \"p\": 4612, \"fpr\": 0.13142123287671234, \"tpr\": 0.39158716392020815, \"n\": 4672}, {\"threshold\": 0.606, \"p\": 4612, \"fpr\": 0.12949486301369864, \"tpr\": 0.38811795316565484, \"n\": 4672}, {\"threshold\": 0.607, \"p\": 4612, \"fpr\": 0.12821061643835616, \"tpr\": 0.3852992194275802, \"n\": 4672}, {\"threshold\": 0.608, \"p\": 4612, \"fpr\": 0.1271404109589041, \"tpr\": 0.38356461405030357, \"n\": 4672}, {\"threshold\": 0.609, \"p\": 4612, \"fpr\": 0.1267123287671233, \"tpr\": 0.3820468343451865, \"n\": 4672}, {\"threshold\": 0.61, \"p\": 4612, \"fpr\": 0.12564212328767124, \"tpr\": 0.38074588031222895, \"n\": 4672}, {\"threshold\": 0.611, \"p\": 4612, \"fpr\": 0.1252140410958904, \"tpr\": 0.3798785776235906, \"n\": 4672}, {\"threshold\": 0.612, \"p\": 4612, \"fpr\": 0.12221746575342465, \"tpr\": 0.3738074588031223, \"n\": 4672}, {\"threshold\": 0.613, \"p\": 4612, \"fpr\": 0.12157534246575342, \"tpr\": 0.37294015611448394, \"n\": 4672}, {\"threshold\": 0.614, \"p\": 4612, \"fpr\": 0.11943493150684932, \"tpr\": 0.36925411968777105, \"n\": 4672}, {\"threshold\": 0.615, \"p\": 4612, \"fpr\": 0.11857876712328767, \"tpr\": 0.366652211621856, \"n\": 4672}, {\"threshold\": 0.616, \"p\": 4612, \"fpr\": 0.11643835616438356, \"tpr\": 0.3633998265394623, \"n\": 4672}, {\"threshold\": 0.617, \"p\": 4612, \"fpr\": 0.1153681506849315, \"tpr\": 0.36101474414570683, \"n\": 4672}, {\"threshold\": 0.618, \"p\": 4612, \"fpr\": 0.11494006849315068, \"tpr\": 0.36079791847354725, \"n\": 4672}, {\"threshold\": 0.619, \"p\": 4612, \"fpr\": 0.11365582191780822, \"tpr\": 0.35949696444058976, \"n\": 4672}, {\"threshold\": 0.62, \"p\": 4612, \"fpr\": 0.11365582191780822, \"tpr\": 0.3579791847354727, \"n\": 4672}, {\"threshold\": 0.621, \"p\": 4612, \"fpr\": 0.11215753424657535, \"tpr\": 0.35624457935819603, \"n\": 4672}, {\"threshold\": 0.622, \"p\": 4612, \"fpr\": 0.11023116438356165, \"tpr\": 0.35169124024284476, \"n\": 4672}, {\"threshold\": 0.623, \"p\": 4612, \"fpr\": 0.10894691780821918, \"tpr\": 0.34865568083261056, \"n\": 4672}, {\"threshold\": 0.624, \"p\": 4612, \"fpr\": 0.1076626712328767, \"tpr\": 0.3434518647007806, \"n\": 4672}, {\"threshold\": 0.625, \"p\": 4612, \"fpr\": 0.10595034246575342, \"tpr\": 0.3412836079791847, \"n\": 4672}, {\"threshold\": 0.626, \"p\": 4612, \"fpr\": 0.10509417808219178, \"tpr\": 0.3393321769297485, \"n\": 4672}, {\"threshold\": 0.627, \"p\": 4612, \"fpr\": 0.10102739726027397, \"tpr\": 0.33326105810928014, \"n\": 4672}, {\"threshold\": 0.628, \"p\": 4612, \"fpr\": 0.09931506849315068, \"tpr\": 0.33000867302688636, \"n\": 4672}, {\"threshold\": 0.629, \"p\": 4612, \"fpr\": 0.09888698630136987, \"tpr\": 0.32762359063313096, \"n\": 4672}, {\"threshold\": 0.63, \"p\": 4612, \"fpr\": 0.09803082191780822, \"tpr\": 0.3258889852558543, \"n\": 4672}, {\"threshold\": 0.631, \"p\": 4612, \"fpr\": 0.0976027397260274, \"tpr\": 0.32545533391153514, \"n\": 4672}, {\"threshold\": 0.632, \"p\": 4612, \"fpr\": 0.09738869863013698, \"tpr\": 0.3245880312228968, \"n\": 4672}, {\"threshold\": 0.633, \"p\": 4612, \"fpr\": 0.09738869863013698, \"tpr\": 0.32350390286209885, \"n\": 4672}, {\"threshold\": 0.634, \"p\": 4612, \"fpr\": 0.0939640410958904, \"tpr\": 0.3183000867302689, \"n\": 4672}, {\"threshold\": 0.635, \"p\": 4612, \"fpr\": 0.09267979452054795, \"tpr\": 0.31699913269731134, \"n\": 4672}, {\"threshold\": 0.636, \"p\": 4612, \"fpr\": 0.09118150684931507, \"tpr\": 0.3137467476149176, \"n\": 4672}, {\"threshold\": 0.637, \"p\": 4612, \"fpr\": 0.09053938356164383, \"tpr\": 0.3096270598438855, \"n\": 4672}, {\"threshold\": 0.638, \"p\": 4612, \"fpr\": 0.09032534246575342, \"tpr\": 0.30897658282740675, \"n\": 4672}, {\"threshold\": 0.639, \"p\": 4612, \"fpr\": 0.08882705479452055, \"tpr\": 0.3048568950563747, \"n\": 4672}, {\"threshold\": 0.64, \"p\": 4612, \"fpr\": 0.0879708904109589, \"tpr\": 0.30333911535125757, \"n\": 4672}, {\"threshold\": 0.641, \"p\": 4612, \"fpr\": 0.0877568493150685, \"tpr\": 0.30333911535125757, \"n\": 4672}, {\"threshold\": 0.642, \"p\": 4612, \"fpr\": 0.0877568493150685, \"tpr\": 0.3020381613183001, \"n\": 4672}, {\"threshold\": 0.643, \"p\": 4612, \"fpr\": 0.08711472602739725, \"tpr\": 0.3003035559410234, \"n\": 4672}, {\"threshold\": 0.644, \"p\": 4612, \"fpr\": 0.08454623287671233, \"tpr\": 0.29466608846487424, \"n\": 4672}, {\"threshold\": 0.645, \"p\": 4612, \"fpr\": 0.0819777397260274, \"tpr\": 0.2885949696444059, \"n\": 4672}, {\"threshold\": 0.646, \"p\": 4612, \"fpr\": 0.0802654109589041, \"tpr\": 0.28577623590633133, \"n\": 4672}, {\"threshold\": 0.647, \"p\": 4612, \"fpr\": 0.07876712328767123, \"tpr\": 0.2831743278404163, \"n\": 4672}, {\"threshold\": 0.648, \"p\": 4612, \"fpr\": 0.0783390410958904, \"tpr\": 0.28252385082393755, \"n\": 4672}, {\"threshold\": 0.649, \"p\": 4612, \"fpr\": 0.0764126712328767, \"tpr\": 0.27818733738074586, \"n\": 4672}, {\"threshold\": 0.65, \"p\": 4612, \"fpr\": 0.07384417808219178, \"tpr\": 0.2712489158716392, \"n\": 4672}, {\"threshold\": 0.651, \"p\": 4612, \"fpr\": 0.07363013698630137, \"tpr\": 0.2697311361665221, \"n\": 4672}, {\"threshold\": 0.652, \"p\": 4612, \"fpr\": 0.07277397260273973, \"tpr\": 0.2688638334778838, \"n\": 4672}, {\"threshold\": 0.653, \"p\": 4612, \"fpr\": 0.07277397260273973, \"tpr\": 0.2673460537727667, \"n\": 4672}, {\"threshold\": 0.654, \"p\": 4612, \"fpr\": 0.0721318493150685, \"tpr\": 0.26517779705117084, \"n\": 4672}, {\"threshold\": 0.655, \"p\": 4612, \"fpr\": 0.07106164383561644, \"tpr\": 0.2634431916738942, \"n\": 4672}, {\"threshold\": 0.656, \"p\": 4612, \"fpr\": 0.06956335616438356, \"tpr\": 0.26170858629661753, \"n\": 4672}, {\"threshold\": 0.657, \"p\": 4612, \"fpr\": 0.0684931506849315, \"tpr\": 0.25823937554206416, \"n\": 4672}, {\"threshold\": 0.658, \"p\": 4612, \"fpr\": 0.06785102739726027, \"tpr\": 0.2541196877710321, \"n\": 4672}, {\"threshold\": 0.659, \"p\": 4612, \"fpr\": 0.06720890410958905, \"tpr\": 0.2513009540329575, \"n\": 4672}, {\"threshold\": 0.66, \"p\": 4612, \"fpr\": 0.06678082191780822, \"tpr\": 0.2508673026886383, \"n\": 4672}, {\"threshold\": 0.661, \"p\": 4612, \"fpr\": 0.0663527397260274, \"tpr\": 0.24956634865568084, \"n\": 4672}, {\"threshold\": 0.662, \"p\": 4612, \"fpr\": 0.06613869863013698, \"tpr\": 0.2486990459670425, \"n\": 4672}, {\"threshold\": 0.663, \"p\": 4612, \"fpr\": 0.06571061643835617, \"tpr\": 0.247398091934085, \"n\": 4672}, {\"threshold\": 0.664, \"p\": 4612, \"fpr\": 0.06528253424657535, \"tpr\": 0.24566348655680834, \"n\": 4672}, {\"threshold\": 0.665, \"p\": 4612, \"fpr\": 0.06357020547945205, \"tpr\": 0.24002601908065915, \"n\": 4672}, {\"threshold\": 0.666, \"p\": 4612, \"fpr\": 0.06292808219178082, \"tpr\": 0.23764093668690373, \"n\": 4672}, {\"threshold\": 0.667, \"p\": 4612, \"fpr\": 0.0625, \"tpr\": 0.23655680832610582, \"n\": 4672}, {\"threshold\": 0.668, \"p\": 4612, \"fpr\": 0.06014554794520548, \"tpr\": 0.23265394622723332, \"n\": 4672}, {\"threshold\": 0.669, \"p\": 4612, \"fpr\": 0.05950342465753425, \"tpr\": 0.22810060711188204, \"n\": 4672}, {\"threshold\": 0.67, \"p\": 4612, \"fpr\": 0.05843321917808219, \"tpr\": 0.2261491760624458, \"n\": 4672}, {\"threshold\": 0.671, \"p\": 4612, \"fpr\": 0.05843321917808219, \"tpr\": 0.22376409366869038, \"n\": 4672}, {\"threshold\": 0.672, \"p\": 4612, \"fpr\": 0.05779109589041096, \"tpr\": 0.22246313963573286, \"n\": 4672}, {\"threshold\": 0.673, \"p\": 4612, \"fpr\": 0.05757705479452055, \"tpr\": 0.2220294882914137, \"n\": 4672}, {\"threshold\": 0.674, \"p\": 4612, \"fpr\": 0.056934931506849314, \"tpr\": 0.2194275802254987, \"n\": 4672}, {\"threshold\": 0.675, \"p\": 4612, \"fpr\": 0.05586472602739726, \"tpr\": 0.21660884648742412, \"n\": 4672}, {\"threshold\": 0.676, \"p\": 4612, \"fpr\": 0.055222602739726026, \"tpr\": 0.21487424111014744, \"n\": 4672}, {\"threshold\": 0.677, \"p\": 4612, \"fpr\": 0.0545804794520548, \"tpr\": 0.21379011274934953, \"n\": 4672}, {\"threshold\": 0.678, \"p\": 4612, \"fpr\": 0.05115582191780822, \"tpr\": 0.21162185602775369, \"n\": 4672}, {\"threshold\": 0.679, \"p\": 4612, \"fpr\": 0.05051369863013699, \"tpr\": 0.20923677363399826, \"n\": 4672}, {\"threshold\": 0.68, \"p\": 4612, \"fpr\": 0.049443493150684935, \"tpr\": 0.20685169124024286, \"n\": 4672}, {\"threshold\": 0.681, \"p\": 4612, \"fpr\": 0.04901541095890411, \"tpr\": 0.204683434518647, \"n\": 4672}, {\"threshold\": 0.682, \"p\": 4612, \"fpr\": 0.04901541095890411, \"tpr\": 0.20403295750216827, \"n\": 4672}, {\"threshold\": 0.683, \"p\": 4612, \"fpr\": 0.04858732876712329, \"tpr\": 0.20273200346921075, \"n\": 4672}, {\"threshold\": 0.684, \"p\": 4612, \"fpr\": 0.047303082191780824, \"tpr\": 0.19861231569817867, \"n\": 4672}, {\"threshold\": 0.685, \"p\": 4612, \"fpr\": 0.04666095890410959, \"tpr\": 0.19210754553339116, \"n\": 4672}, {\"threshold\": 0.686, \"p\": 4612, \"fpr\": 0.04601883561643835, \"tpr\": 0.19058976582827405, \"n\": 4672}, {\"threshold\": 0.687, \"p\": 4612, \"fpr\": 0.04580479452054795, \"tpr\": 0.1899392888117953, \"n\": 4672}, {\"threshold\": 0.688, \"p\": 4612, \"fpr\": 0.04580479452054795, \"tpr\": 0.18928881179531656, \"n\": 4672}, {\"threshold\": 0.689, \"p\": 4612, \"fpr\": 0.04580479452054795, \"tpr\": 0.1888551604509974, \"n\": 4672}, {\"threshold\": 0.69, \"p\": 4612, \"fpr\": 0.04580479452054795, \"tpr\": 0.1888551604509974, \"n\": 4672}, {\"threshold\": 0.691, \"p\": 4612, \"fpr\": 0.04409246575342466, \"tpr\": 0.18647007805724197, \"n\": 4672}, {\"threshold\": 0.692, \"p\": 4612, \"fpr\": 0.04238013698630137, \"tpr\": 0.18408499566348654, \"n\": 4672}, {\"threshold\": 0.693, \"p\": 4612, \"fpr\": 0.0410958904109589, \"tpr\": 0.18104943625325237, \"n\": 4672}, {\"threshold\": 0.694, \"p\": 4612, \"fpr\": 0.039383561643835614, \"tpr\": 0.17432784041630528, \"n\": 4672}, {\"threshold\": 0.695, \"p\": 4612, \"fpr\": 0.039383561643835614, \"tpr\": 0.17367736339982653, \"n\": 4672}, {\"threshold\": 0.696, \"p\": 4612, \"fpr\": 0.0391695205479452, \"tpr\": 0.17324371205550737, \"n\": 4672}, {\"threshold\": 0.697, \"p\": 4612, \"fpr\": 0.038527397260273974, \"tpr\": 0.17107545533391152, \"n\": 4672}, {\"threshold\": 0.698, \"p\": 4612, \"fpr\": 0.03788527397260274, \"tpr\": 0.17064180398959236, \"n\": 4672}, {\"threshold\": 0.699, \"p\": 4612, \"fpr\": 0.03724315068493151, \"tpr\": 0.17064180398959236, \"n\": 4672}, {\"threshold\": 0.7, \"p\": 4612, \"fpr\": 0.0370291095890411, \"tpr\": 0.1689071986123157, \"n\": 4672}, {\"threshold\": 0.701, \"p\": 4612, \"fpr\": 0.03638698630136986, \"tpr\": 0.16587163920208153, \"n\": 4672}, {\"threshold\": 0.702, \"p\": 4612, \"fpr\": 0.03574486301369863, \"tpr\": 0.16413703382480485, \"n\": 4672}, {\"threshold\": 0.703, \"p\": 4612, \"fpr\": 0.03531678082191781, \"tpr\": 0.16305290546400694, \"n\": 4672}, {\"threshold\": 0.704, \"p\": 4612, \"fpr\": 0.03488869863013699, \"tpr\": 0.16131830008673026, \"n\": 4672}, {\"threshold\": 0.705, \"p\": 4612, \"fpr\": 0.033818493150684935, \"tpr\": 0.15719861231569818, \"n\": 4672}, {\"threshold\": 0.706, \"p\": 4612, \"fpr\": 0.03360445205479452, \"tpr\": 0.1558976582827407, \"n\": 4672}, {\"threshold\": 0.707, \"p\": 4612, \"fpr\": 0.03360445205479452, \"tpr\": 0.1558976582827407, \"n\": 4672}, {\"threshold\": 0.708, \"p\": 4612, \"fpr\": 0.0331763698630137, \"tpr\": 0.15351257588898526, \"n\": 4672}, {\"threshold\": 0.709, \"p\": 4612, \"fpr\": 0.03296232876712329, \"tpr\": 0.1530789245446661, \"n\": 4672}, {\"threshold\": 0.71, \"p\": 4612, \"fpr\": 0.03296232876712329, \"tpr\": 0.1528620988725065, \"n\": 4672}, {\"threshold\": 0.711, \"p\": 4612, \"fpr\": 0.03296232876712329, \"tpr\": 0.1528620988725065, \"n\": 4672}, {\"threshold\": 0.712, \"p\": 4612, \"fpr\": 0.032748287671232876, \"tpr\": 0.1513443191673894, \"n\": 4672}, {\"threshold\": 0.713, \"p\": 4612, \"fpr\": 0.030179794520547944, \"tpr\": 0.14440589765828274, \"n\": 4672}, {\"threshold\": 0.714, \"p\": 4612, \"fpr\": 0.02889554794520548, \"tpr\": 0.14245446660884648, \"n\": 4672}, {\"threshold\": 0.715, \"p\": 4612, \"fpr\": 0.028039383561643837, \"tpr\": 0.13898525585429314, \"n\": 4672}, {\"threshold\": 0.716, \"p\": 4612, \"fpr\": 0.028039383561643837, \"tpr\": 0.13768430182133565, \"n\": 4672}, {\"threshold\": 0.717, \"p\": 4612, \"fpr\": 0.027825342465753425, \"tpr\": 0.13768430182133565, \"n\": 4672}, {\"threshold\": 0.718, \"p\": 4612, \"fpr\": 0.027825342465753425, \"tpr\": 0.13725065047701648, \"n\": 4672}, {\"threshold\": 0.719, \"p\": 4612, \"fpr\": 0.02696917808219178, \"tpr\": 0.13573287077189938, \"n\": 4672}, {\"threshold\": 0.72, \"p\": 4612, \"fpr\": 0.02675513698630137, \"tpr\": 0.13486556808326106, \"n\": 4672}, {\"threshold\": 0.721, \"p\": 4612, \"fpr\": 0.02632705479452055, \"tpr\": 0.1316131830008673, \"n\": 4672}, {\"threshold\": 0.722, \"p\": 4612, \"fpr\": 0.026113013698630137, \"tpr\": 0.13117953165654814, \"n\": 4672}, {\"threshold\": 0.723, \"p\": 4612, \"fpr\": 0.025684931506849314, \"tpr\": 0.12857762359063313, \"n\": 4672}, {\"threshold\": 0.724, \"p\": 4612, \"fpr\": 0.025256849315068493, \"tpr\": 0.12597571552471812, \"n\": 4672}, {\"threshold\": 0.725, \"p\": 4612, \"fpr\": 0.025256849315068493, \"tpr\": 0.12554206418039895, \"n\": 4672}, {\"threshold\": 0.726, \"p\": 4612, \"fpr\": 0.025256849315068493, \"tpr\": 0.12467476149176063, \"n\": 4672}, {\"threshold\": 0.727, \"p\": 4612, \"fpr\": 0.02504280821917808, \"tpr\": 0.12402428447528187, \"n\": 4672}, {\"threshold\": 0.728, \"p\": 4612, \"fpr\": 0.024186643835616438, \"tpr\": 0.12142237640936687, \"n\": 4672}, {\"threshold\": 0.729, \"p\": 4612, \"fpr\": 0.023972602739726026, \"tpr\": 0.11947094535993062, \"n\": 4672}, {\"threshold\": 0.73, \"p\": 4612, \"fpr\": 0.023758561643835618, \"tpr\": 0.11903729401561144, \"n\": 4672}, {\"threshold\": 0.731, \"p\": 4612, \"fpr\": 0.023116438356164382, \"tpr\": 0.11513443191673894, \"n\": 4672}, {\"threshold\": 0.732, \"p\": 4612, \"fpr\": 0.022688356164383562, \"tpr\": 0.1131830008673027, \"n\": 4672}, {\"threshold\": 0.733, \"p\": 4612, \"fpr\": 0.02247431506849315, \"tpr\": 0.11253252385082393, \"n\": 4672}, {\"threshold\": 0.734, \"p\": 4612, \"fpr\": 0.02247431506849315, \"tpr\": 0.11209887250650477, \"n\": 4672}, {\"threshold\": 0.735, \"p\": 4612, \"fpr\": 0.02247431506849315, \"tpr\": 0.11101474414570685, \"n\": 4672}, {\"threshold\": 0.736, \"p\": 4612, \"fpr\": 0.02183219178082192, \"tpr\": 0.10689505637467477, \"n\": 4672}, {\"threshold\": 0.737, \"p\": 4612, \"fpr\": 0.02183219178082192, \"tpr\": 0.10646140503035559, \"n\": 4672}, {\"threshold\": 0.738, \"p\": 4612, \"fpr\": 0.021618150684931507, \"tpr\": 0.10602775368603642, \"n\": 4672}, {\"threshold\": 0.739, \"p\": 4612, \"fpr\": 0.021618150684931507, \"tpr\": 0.10537727666955768, \"n\": 4672}, {\"threshold\": 0.74, \"p\": 4612, \"fpr\": 0.021404109589041095, \"tpr\": 0.10537727666955768, \"n\": 4672}, {\"threshold\": 0.741, \"p\": 4612, \"fpr\": 0.020976027397260275, \"tpr\": 0.10429314830875976, \"n\": 4672}, {\"threshold\": 0.742, \"p\": 4612, \"fpr\": 0.020976027397260275, \"tpr\": 0.10385949696444059, \"n\": 4672}, {\"threshold\": 0.743, \"p\": 4612, \"fpr\": 0.0194777397260274, \"tpr\": 0.09908933217692975, \"n\": 4672}, {\"threshold\": 0.744, \"p\": 4612, \"fpr\": 0.0194777397260274, \"tpr\": 0.09800520381613183, \"n\": 4672}, {\"threshold\": 0.745, \"p\": 4612, \"fpr\": 0.01797945205479452, \"tpr\": 0.08976582827406765, \"n\": 4672}, {\"threshold\": 0.746, \"p\": 4612, \"fpr\": 0.01797945205479452, \"tpr\": 0.08976582827406765, \"n\": 4672}, {\"threshold\": 0.747, \"p\": 4612, \"fpr\": 0.01776541095890411, \"tpr\": 0.08803122289679098, \"n\": 4672}, {\"threshold\": 0.748, \"p\": 4612, \"fpr\": 0.017337328767123288, \"tpr\": 0.08803122289679098, \"n\": 4672}, {\"threshold\": 0.749, \"p\": 4612, \"fpr\": 0.016909246575342467, \"tpr\": 0.08673026886383348, \"n\": 4672}, {\"threshold\": 0.75, \"p\": 4612, \"fpr\": 0.016481164383561644, \"tpr\": 0.08629661751951431, \"n\": 4672}, {\"threshold\": 0.751, \"p\": 4612, \"fpr\": 0.015839041095890412, \"tpr\": 0.08412836079791847, \"n\": 4672}, {\"threshold\": 0.752, \"p\": 4612, \"fpr\": 0.015625, \"tpr\": 0.08304423243712056, \"n\": 4672}, {\"threshold\": 0.753, \"p\": 4612, \"fpr\": 0.015196917808219178, \"tpr\": 0.0823937554206418, \"n\": 4672}, {\"threshold\": 0.754, \"p\": 4612, \"fpr\": 0.015196917808219178, \"tpr\": 0.0823937554206418, \"n\": 4672}, {\"threshold\": 0.755, \"p\": 4612, \"fpr\": 0.015196917808219178, \"tpr\": 0.08174327840416305, \"n\": 4672}, {\"threshold\": 0.756, \"p\": 4612, \"fpr\": 0.015196917808219178, \"tpr\": 0.08174327840416305, \"n\": 4672}, {\"threshold\": 0.757, \"p\": 4612, \"fpr\": 0.015196917808219178, \"tpr\": 0.08065915004336513, \"n\": 4672}, {\"threshold\": 0.758, \"p\": 4612, \"fpr\": 0.015196917808219178, \"tpr\": 0.08065915004336513, \"n\": 4672}, {\"threshold\": 0.759, \"p\": 4612, \"fpr\": 0.014554794520547944, \"tpr\": 0.08044232437120555, \"n\": 4672}, {\"threshold\": 0.76, \"p\": 4612, \"fpr\": 0.01113013698630137, \"tpr\": 0.0704683434518647, \"n\": 4672}, {\"threshold\": 0.761, \"p\": 4612, \"fpr\": 0.01113013698630137, \"tpr\": 0.07025151777970512, \"n\": 4672}, {\"threshold\": 0.762, \"p\": 4612, \"fpr\": 0.01113013698630137, \"tpr\": 0.07003469210754554, \"n\": 4672}, {\"threshold\": 0.763, \"p\": 4612, \"fpr\": 0.01091609589041096, \"tpr\": 0.06938421509106678, \"n\": 4672}, {\"threshold\": 0.764, \"p\": 4612, \"fpr\": 0.01091609589041096, \"tpr\": 0.0691673894189072, \"n\": 4672}, {\"threshold\": 0.765, \"p\": 4612, \"fpr\": 0.01091609589041096, \"tpr\": 0.0691673894189072, \"n\": 4672}, {\"threshold\": 0.766, \"p\": 4612, \"fpr\": 0.01091609589041096, \"tpr\": 0.0691673894189072, \"n\": 4672}, {\"threshold\": 0.767, \"p\": 4612, \"fpr\": 0.01091609589041096, \"tpr\": 0.06786643538594969, \"n\": 4672}, {\"threshold\": 0.768, \"p\": 4612, \"fpr\": 0.01091609589041096, \"tpr\": 0.06764960971379011, \"n\": 4672}, {\"threshold\": 0.769, \"p\": 4612, \"fpr\": 0.010059931506849315, \"tpr\": 0.06439722463139635, \"n\": 4672}, {\"threshold\": 0.77, \"p\": 4612, \"fpr\": 0.010059931506849315, \"tpr\": 0.06439722463139635, \"n\": 4672}, {\"threshold\": 0.771, \"p\": 4612, \"fpr\": 0.010059931506849315, \"tpr\": 0.06374674761491761, \"n\": 4672}, {\"threshold\": 0.772, \"p\": 4612, \"fpr\": 0.010059931506849315, \"tpr\": 0.06374674761491761, \"n\": 4672}, {\"threshold\": 0.773, \"p\": 4612, \"fpr\": 0.009203767123287672, \"tpr\": 0.060277536860364266, \"n\": 4672}, {\"threshold\": 0.774, \"p\": 4612, \"fpr\": 0.009203767123287672, \"tpr\": 0.060060711188204684, \"n\": 4672}, {\"threshold\": 0.775, \"p\": 4612, \"fpr\": 0.009203767123287672, \"tpr\": 0.0598438855160451, \"n\": 4672}, {\"threshold\": 0.776, \"p\": 4612, \"fpr\": 0.009203767123287672, \"tpr\": 0.0598438855160451, \"n\": 4672}, {\"threshold\": 0.777, \"p\": 4612, \"fpr\": 0.00898972602739726, \"tpr\": 0.05919340849956635, \"n\": 4672}, {\"threshold\": 0.778, \"p\": 4612, \"fpr\": 0.008561643835616438, \"tpr\": 0.057892454466608845, \"n\": 4672}, {\"threshold\": 0.779, \"p\": 4612, \"fpr\": 0.008347602739726028, \"tpr\": 0.05485689505637467, \"n\": 4672}, {\"threshold\": 0.78, \"p\": 4612, \"fpr\": 0.007277397260273972, \"tpr\": 0.05160450997398092, \"n\": 4672}, {\"threshold\": 0.781, \"p\": 4612, \"fpr\": 0.007277397260273972, \"tpr\": 0.051387684301821335, \"n\": 4672}, {\"threshold\": 0.782, \"p\": 4612, \"fpr\": 0.007277397260273972, \"tpr\": 0.05117085862966175, \"n\": 4672}, {\"threshold\": 0.783, \"p\": 4612, \"fpr\": 0.007063356164383561, \"tpr\": 0.04986990459670425, \"n\": 4672}, {\"threshold\": 0.784, \"p\": 4612, \"fpr\": 0.007063356164383561, \"tpr\": 0.049653078924544666, \"n\": 4672}, {\"threshold\": 0.785, \"p\": 4612, \"fpr\": 0.007063356164383561, \"tpr\": 0.049653078924544666, \"n\": 4672}, {\"threshold\": 0.786, \"p\": 4612, \"fpr\": 0.007063356164383561, \"tpr\": 0.049219427580225496, \"n\": 4672}, {\"threshold\": 0.787, \"p\": 4612, \"fpr\": 0.007063356164383561, \"tpr\": 0.049002601908065914, \"n\": 4672}, {\"threshold\": 0.788, \"p\": 4612, \"fpr\": 0.007063356164383561, \"tpr\": 0.04813529921942758, \"n\": 4672}, {\"threshold\": 0.789, \"p\": 4612, \"fpr\": 0.006635273972602739, \"tpr\": 0.04748482220294883, \"n\": 4672}, {\"threshold\": 0.79, \"p\": 4612, \"fpr\": 0.006635273972602739, \"tpr\": 0.047267996530789246, \"n\": 4672}, {\"threshold\": 0.791, \"p\": 4612, \"fpr\": 0.0062071917808219175, \"tpr\": 0.04575021682567216, \"n\": 4672}, {\"threshold\": 0.792, \"p\": 4612, \"fpr\": 0.0062071917808219175, \"tpr\": 0.045316565481352995, \"n\": 4672}, {\"threshold\": 0.793, \"p\": 4612, \"fpr\": 0.005565068493150685, \"tpr\": 0.04184735472679965, \"n\": 4672}, {\"threshold\": 0.794, \"p\": 4612, \"fpr\": 0.005565068493150685, \"tpr\": 0.04184735472679965, \"n\": 4672}, {\"threshold\": 0.795, \"p\": 4612, \"fpr\": 0.005565068493150685, \"tpr\": 0.04141370338248049, \"n\": 4672}, {\"threshold\": 0.796, \"p\": 4612, \"fpr\": 0.005136986301369863, \"tpr\": 0.040763226366001735, \"n\": 4672}, {\"threshold\": 0.797, \"p\": 4612, \"fpr\": 0.005136986301369863, \"tpr\": 0.03816131830008673, \"n\": 4672}, {\"threshold\": 0.798, \"p\": 4612, \"fpr\": 0.003852739726027397, \"tpr\": 0.03360797918473547, \"n\": 4672}, {\"threshold\": 0.799, \"p\": 4612, \"fpr\": 0.003638698630136986, \"tpr\": 0.03360797918473547, \"n\": 4672}, {\"threshold\": 0.8, \"p\": 4612, \"fpr\": 0.003638698630136986, \"tpr\": 0.0331743278404163, \"n\": 4672}, {\"threshold\": 0.801, \"p\": 4612, \"fpr\": 0.003638698630136986, \"tpr\": 0.03295750216825672, \"n\": 4672}, {\"threshold\": 0.802, \"p\": 4612, \"fpr\": 0.003210616438356164, \"tpr\": 0.03274067649609714, \"n\": 4672}, {\"threshold\": 0.803, \"p\": 4612, \"fpr\": 0.003210616438356164, \"tpr\": 0.031873373807458805, \"n\": 4672}, {\"threshold\": 0.804, \"p\": 4612, \"fpr\": 0.0027825342465753423, \"tpr\": 0.0305724197745013, \"n\": 4672}, {\"threshold\": 0.805, \"p\": 4612, \"fpr\": 0.0027825342465753423, \"tpr\": 0.02992194275802255, \"n\": 4672}, {\"threshold\": 0.806, \"p\": 4612, \"fpr\": 0.0025684931506849314, \"tpr\": 0.0292714657415438, \"n\": 4672}, {\"threshold\": 0.807, \"p\": 4612, \"fpr\": 0.0023544520547945204, \"tpr\": 0.027970511708586297, \"n\": 4672}, {\"threshold\": 0.808, \"p\": 4612, \"fpr\": 0.0023544520547945204, \"tpr\": 0.027103209019947963, \"n\": 4672}, {\"threshold\": 0.809, \"p\": 4612, \"fpr\": 0.0021404109589041095, \"tpr\": 0.026886383347788378, \"n\": 4672}, {\"threshold\": 0.81, \"p\": 4612, \"fpr\": 0.0021404109589041095, \"tpr\": 0.026669557675628796, \"n\": 4672}, {\"threshold\": 0.811, \"p\": 4612, \"fpr\": 0.0021404109589041095, \"tpr\": 0.026669557675628796, \"n\": 4672}, {\"threshold\": 0.812, \"p\": 4612, \"fpr\": 0.0017123287671232876, \"tpr\": 0.02515177797051171, \"n\": 4672}, {\"threshold\": 0.813, \"p\": 4612, \"fpr\": 0.0017123287671232876, \"tpr\": 0.024718126626192542, \"n\": 4672}, {\"threshold\": 0.814, \"p\": 4612, \"fpr\": 0.0017123287671232876, \"tpr\": 0.022549869904596703, \"n\": 4672}, {\"threshold\": 0.815, \"p\": 4612, \"fpr\": 0.0017123287671232876, \"tpr\": 0.022549869904596703, \"n\": 4672}, {\"threshold\": 0.816, \"p\": 4612, \"fpr\": 0.0017123287671232876, \"tpr\": 0.022549869904596703, \"n\": 4672}, {\"threshold\": 0.817, \"p\": 4612, \"fpr\": 0.0017123287671232876, \"tpr\": 0.02233304423243712, \"n\": 4672}, {\"threshold\": 0.818, \"p\": 4612, \"fpr\": 0.0006421232876712328, \"tpr\": 0.020381613183000868, \"n\": 4672}, {\"threshold\": 0.819, \"p\": 4612, \"fpr\": 0.0006421232876712328, \"tpr\": 0.01777970511708586, \"n\": 4672}, {\"threshold\": 0.82, \"p\": 4612, \"fpr\": 0.0006421232876712328, \"tpr\": 0.01777970511708586, \"n\": 4672}, {\"threshold\": 0.821, \"p\": 4612, \"fpr\": 0.0, \"tpr\": 0.014527320034692108, \"n\": 4672}, {\"threshold\": 0.822, \"p\": 4612, \"fpr\": 0.0, \"tpr\": 0.014527320034692108, \"n\": 4672}, {\"threshold\": 0.823, \"p\": 4612, \"fpr\": 0.0, \"tpr\": 0.01409366869037294, \"n\": 4672}, {\"threshold\": 0.824, \"p\": 4612, \"fpr\": 0.0, \"tpr\": 0.01409366869037294, \"n\": 4672}, {\"threshold\": 0.825, \"p\": 4612, \"fpr\": 0.0, \"tpr\": 0.01409366869037294, \"n\": 4672}, {\"threshold\": 0.826, \"p\": 4612, \"fpr\": 0.0, \"tpr\": 0.013876843018213356, \"n\": 4672}, {\"threshold\": 0.827, \"p\": 4612, \"fpr\": 0.0, \"tpr\": 0.013876843018213356, \"n\": 4672}, {\"threshold\": 0.828, \"p\": 4612, \"fpr\": 0.0, \"tpr\": 0.012142237640936688, \"n\": 4672}, {\"threshold\": 0.829, \"p\": 4612, \"fpr\": 0.0, \"tpr\": 0.011708586296617519, \"n\": 4672}, {\"threshold\": 0.83, \"p\": 4612, \"fpr\": 0.0, \"tpr\": 0.011708586296617519, \"n\": 4672}, {\"threshold\": 0.831, \"p\": 4612, \"fpr\": 0.0, \"tpr\": 0.011708586296617519, \"n\": 4672}, {\"threshold\": 0.832, \"p\": 4612, \"fpr\": 0.0, \"tpr\": 0.011708586296617519, \"n\": 4672}, {\"threshold\": 0.833, \"p\": 4612, \"fpr\": 0.0, \"tpr\": 0.011708586296617519, \"n\": 4672}, {\"threshold\": 0.834, \"p\": 4612, \"fpr\": 0.0, \"tpr\": 0.004770164787510842, \"n\": 4672}, {\"threshold\": 0.835, \"p\": 4612, \"fpr\": 0.0, \"tpr\": 0.004770164787510842, \"n\": 4672}, {\"threshold\": 0.836, \"p\": 4612, \"fpr\": 0.0, \"tpr\": 0.004770164787510842, \"n\": 4672}, {\"threshold\": 0.837, \"p\": 4612, \"fpr\": 0.0, \"tpr\": 0.004553339115351257, \"n\": 4672}, {\"threshold\": 0.838, \"p\": 4612, \"fpr\": 0.0, \"tpr\": 0.004553339115351257, \"n\": 4672}, {\"threshold\": 0.839, \"p\": 4612, \"fpr\": 0.0, \"tpr\": 0.004553339115351257, \"n\": 4672}, {\"threshold\": 0.84, \"p\": 4612, \"fpr\": 0.0, \"tpr\": 0.004336513443191674, \"n\": 4672}, {\"threshold\": 0.841, \"p\": 4612, \"fpr\": 0.0, \"tpr\": 0.004336513443191674, \"n\": 4672}, {\"threshold\": 0.842, \"p\": 4612, \"fpr\": 0.0, \"tpr\": 0.0004336513443191674, \"n\": 4672}, {\"threshold\": 0.843, \"p\": 4612, \"fpr\": 0.0, \"tpr\": 0.0004336513443191674, \"n\": 4672}, {\"threshold\": 0.844, \"p\": 4612, \"fpr\": 0.0, \"tpr\": 0.0004336513443191674, \"n\": 4672}, {\"threshold\": 0.845, \"p\": 4612, \"fpr\": 0.0, \"tpr\": 0.0004336513443191674, \"n\": 4672}, {\"threshold\": 0.846, \"p\": 4612, \"fpr\": 0.0, \"tpr\": 0.0004336513443191674, \"n\": 4672}, {\"threshold\": 0.847, \"p\": 4612, \"fpr\": 0.0, \"tpr\": 0.0004336513443191674, \"n\": 4672}, {\"threshold\": 0.848, \"p\": 4612, \"fpr\": 0.0, \"tpr\": 0.0004336513443191674, \"n\": 4672}, {\"threshold\": 0.849, \"p\": 4612, \"fpr\": 0.0, \"tpr\": 0.0, \"n\": 4672}, {\"threshold\": 0.85, \"p\": 4612, \"fpr\": 0.0, \"tpr\": 0.0, \"n\": 4672}, {\"threshold\": 0.851, \"p\": 4612, \"fpr\": 0.0, \"tpr\": 0.0, \"n\": 4672}, {\"threshold\": 0.852, \"p\": 4612, \"fpr\": 0.0, \"tpr\": 0.0, \"n\": 4672}, {\"threshold\": 0.853, \"p\": 4612, \"fpr\": 0.0, \"tpr\": 0.0, \"n\": 4672}, {\"threshold\": 0.854, \"p\": 4612, \"fpr\": 0.0, \"tpr\": 0.0, \"n\": 4672}, {\"threshold\": 0.855, \"p\": 4612, \"fpr\": 0.0, \"tpr\": 0.0, \"n\": 4672}, {\"threshold\": 0.856, \"p\": 4612, \"fpr\": 0.0, \"tpr\": 0.0, \"n\": 4672}, {\"threshold\": 0.857, \"p\": 4612, \"fpr\": 0.0, \"tpr\": 0.0, \"n\": 4672}, {\"threshold\": 0.858, \"p\": 4612, \"fpr\": 0.0, \"tpr\": 0.0, \"n\": 4672}, {\"threshold\": 0.859, \"p\": 4612, \"fpr\": 0.0, \"tpr\": 0.0, \"n\": 4672}, {\"threshold\": 0.86, \"p\": 4612, \"fpr\": 0.0, \"tpr\": 0.0, \"n\": 4672}, {\"threshold\": 0.861, \"p\": 4612, \"fpr\": 0.0, \"tpr\": 0.0, \"n\": 4672}, {\"threshold\": 0.862, \"p\": 4612, \"fpr\": 0.0, \"tpr\": 0.0, \"n\": 4672}, {\"threshold\": 0.863, \"p\": 4612, \"fpr\": 0.0, \"tpr\": 0.0, \"n\": 4672}, {\"threshold\": 0.864, \"p\": 4612, \"fpr\": 0.0, \"tpr\": 0.0, \"n\": 4672}, {\"threshold\": 0.865, \"p\": 4612, \"fpr\": 0.0, \"tpr\": 0.0, \"n\": 4672}, {\"threshold\": 0.866, \"p\": 4612, \"fpr\": 0.0, \"tpr\": 0.0, \"n\": 4672}, {\"threshold\": 0.867, \"p\": 4612, \"fpr\": 0.0, \"tpr\": 0.0, \"n\": 4672}, {\"threshold\": 0.868, \"p\": 4612, \"fpr\": 0.0, \"tpr\": 0.0, \"n\": 4672}, {\"threshold\": 0.869, \"p\": 4612, \"fpr\": 0.0, \"tpr\": 0.0, \"n\": 4672}, {\"threshold\": 0.87, \"p\": 4612, \"fpr\": 0.0, \"tpr\": 0.0, \"n\": 4672}, {\"threshold\": 0.871, \"p\": 4612, \"fpr\": 0.0, \"tpr\": 0.0, \"n\": 4672}, {\"threshold\": 0.872, \"p\": 4612, \"fpr\": 0.0, \"tpr\": 0.0, \"n\": 4672}, {\"threshold\": 0.873, \"p\": 4612, \"fpr\": 0.0, \"tpr\": 0.0, \"n\": 4672}, {\"threshold\": 0.874, \"p\": 4612, \"fpr\": 0.0, \"tpr\": 0.0, \"n\": 4672}, {\"threshold\": 0.875, \"p\": 4612, \"fpr\": 0.0, \"tpr\": 0.0, \"n\": 4672}, {\"threshold\": 0.876, \"p\": 4612, \"fpr\": 0.0, \"tpr\": 0.0, \"n\": 4672}, {\"threshold\": 0.877, \"p\": 4612, \"fpr\": 0.0, \"tpr\": 0.0, \"n\": 4672}, {\"threshold\": 0.878, \"p\": 4612, \"fpr\": 0.0, \"tpr\": 0.0, \"n\": 4672}, {\"threshold\": 0.879, \"p\": 4612, \"fpr\": 0.0, \"tpr\": 0.0, \"n\": 4672}, {\"threshold\": 0.88, \"p\": 4612, \"fpr\": 0.0, \"tpr\": 0.0, \"n\": 4672}, {\"threshold\": 0.881, \"p\": 4612, \"fpr\": 0.0, \"tpr\": 0.0, \"n\": 4672}, {\"threshold\": 0.882, \"p\": 4612, \"fpr\": 0.0, \"tpr\": 0.0, \"n\": 4672}, {\"threshold\": 0.883, \"p\": 4612, \"fpr\": 0.0, \"tpr\": 0.0, \"n\": 4672}, {\"threshold\": 0.884, \"p\": 4612, \"fpr\": 0.0, \"tpr\": 0.0, \"n\": 4672}, {\"threshold\": 0.885, \"p\": 4612, \"fpr\": 0.0, \"tpr\": 0.0, \"n\": 4672}, {\"threshold\": 0.886, \"p\": 4612, \"fpr\": 0.0, \"tpr\": 0.0, \"n\": 4672}, {\"threshold\": 0.887, \"p\": 4612, \"fpr\": 0.0, \"tpr\": 0.0, \"n\": 4672}, {\"threshold\": 0.888, \"p\": 4612, \"fpr\": 0.0, \"tpr\": 0.0, \"n\": 4672}, {\"threshold\": 0.889, \"p\": 4612, \"fpr\": 0.0, \"tpr\": 0.0, \"n\": 4672}, {\"threshold\": 0.89, \"p\": 4612, \"fpr\": 0.0, \"tpr\": 0.0, \"n\": 4672}, {\"threshold\": 0.891, \"p\": 4612, \"fpr\": 0.0, \"tpr\": 0.0, \"n\": 4672}, {\"threshold\": 0.892, \"p\": 4612, \"fpr\": 0.0, \"tpr\": 0.0, \"n\": 4672}, {\"threshold\": 0.893, \"p\": 4612, \"fpr\": 0.0, \"tpr\": 0.0, \"n\": 4672}, {\"threshold\": 0.894, \"p\": 4612, \"fpr\": 0.0, \"tpr\": 0.0, \"n\": 4672}, {\"threshold\": 0.895, \"p\": 4612, \"fpr\": 0.0, \"tpr\": 0.0, \"n\": 4672}, {\"threshold\": 0.896, \"p\": 4612, \"fpr\": 0.0, \"tpr\": 0.0, \"n\": 4672}, {\"threshold\": 0.897, \"p\": 4612, \"fpr\": 0.0, \"tpr\": 0.0, \"n\": 4672}, {\"threshold\": 0.898, \"p\": 4612, \"fpr\": 0.0, \"tpr\": 0.0, \"n\": 4672}, {\"threshold\": 0.899, \"p\": 4612, \"fpr\": 0.0, \"tpr\": 0.0, \"n\": 4672}, {\"threshold\": 0.9, \"p\": 4612, \"fpr\": 0.0, \"tpr\": 0.0, \"n\": 4672}, {\"threshold\": 0.901, \"p\": 4612, \"fpr\": 0.0, \"tpr\": 0.0, \"n\": 4672}, {\"threshold\": 0.902, \"p\": 4612, \"fpr\": 0.0, \"tpr\": 0.0, \"n\": 4672}, {\"threshold\": 0.903, \"p\": 4612, \"fpr\": 0.0, \"tpr\": 0.0, \"n\": 4672}, {\"threshold\": 0.904, \"p\": 4612, \"fpr\": 0.0, \"tpr\": 0.0, \"n\": 4672}, {\"threshold\": 0.905, \"p\": 4612, \"fpr\": 0.0, \"tpr\": 0.0, \"n\": 4672}, {\"threshold\": 0.906, \"p\": 4612, \"fpr\": 0.0, \"tpr\": 0.0, \"n\": 4672}, {\"threshold\": 0.907, \"p\": 4612, \"fpr\": 0.0, \"tpr\": 0.0, \"n\": 4672}, {\"threshold\": 0.908, \"p\": 4612, \"fpr\": 0.0, \"tpr\": 0.0, \"n\": 4672}, {\"threshold\": 0.909, \"p\": 4612, \"fpr\": 0.0, \"tpr\": 0.0, \"n\": 4672}, {\"threshold\": 0.91, \"p\": 4612, \"fpr\": 0.0, \"tpr\": 0.0, \"n\": 4672}, {\"threshold\": 0.911, \"p\": 4612, \"fpr\": 0.0, \"tpr\": 0.0, \"n\": 4672}, {\"threshold\": 0.912, \"p\": 4612, \"fpr\": 0.0, \"tpr\": 0.0, \"n\": 4672}, {\"threshold\": 0.913, \"p\": 4612, \"fpr\": 0.0, \"tpr\": 0.0, \"n\": 4672}, {\"threshold\": 0.914, \"p\": 4612, \"fpr\": 0.0, \"tpr\": 0.0, \"n\": 4672}, {\"threshold\": 0.915, \"p\": 4612, \"fpr\": 0.0, \"tpr\": 0.0, \"n\": 4672}, {\"threshold\": 0.916, \"p\": 4612, \"fpr\": 0.0, \"tpr\": 0.0, \"n\": 4672}, {\"threshold\": 0.917, \"p\": 4612, \"fpr\": 0.0, \"tpr\": 0.0, \"n\": 4672}, {\"threshold\": 0.918, \"p\": 4612, \"fpr\": 0.0, \"tpr\": 0.0, \"n\": 4672}, {\"threshold\": 0.919, \"p\": 4612, \"fpr\": 0.0, \"tpr\": 0.0, \"n\": 4672}, {\"threshold\": 0.92, \"p\": 4612, \"fpr\": 0.0, \"tpr\": 0.0, \"n\": 4672}, {\"threshold\": 0.921, \"p\": 4612, \"fpr\": 0.0, \"tpr\": 0.0, \"n\": 4672}, {\"threshold\": 0.922, \"p\": 4612, \"fpr\": 0.0, \"tpr\": 0.0, \"n\": 4672}, {\"threshold\": 0.923, \"p\": 4612, \"fpr\": 0.0, \"tpr\": 0.0, \"n\": 4672}, {\"threshold\": 0.924, \"p\": 4612, \"fpr\": 0.0, \"tpr\": 0.0, \"n\": 4672}, {\"threshold\": 0.925, \"p\": 4612, \"fpr\": 0.0, \"tpr\": 0.0, \"n\": 4672}, {\"threshold\": 0.926, \"p\": 4612, \"fpr\": 0.0, \"tpr\": 0.0, \"n\": 4672}, {\"threshold\": 0.927, \"p\": 4612, \"fpr\": 0.0, \"tpr\": 0.0, \"n\": 4672}, {\"threshold\": 0.928, \"p\": 4612, \"fpr\": 0.0, \"tpr\": 0.0, \"n\": 4672}, {\"threshold\": 0.929, \"p\": 4612, \"fpr\": 0.0, \"tpr\": 0.0, \"n\": 4672}, {\"threshold\": 0.93, \"p\": 4612, \"fpr\": 0.0, \"tpr\": 0.0, \"n\": 4672}, {\"threshold\": 0.931, \"p\": 4612, \"fpr\": 0.0, \"tpr\": 0.0, \"n\": 4672}, {\"threshold\": 0.932, \"p\": 4612, \"fpr\": 0.0, \"tpr\": 0.0, \"n\": 4672}, {\"threshold\": 0.933, \"p\": 4612, \"fpr\": 0.0, \"tpr\": 0.0, \"n\": 4672}, {\"threshold\": 0.934, \"p\": 4612, \"fpr\": 0.0, \"tpr\": 0.0, \"n\": 4672}, {\"threshold\": 0.935, \"p\": 4612, \"fpr\": 0.0, \"tpr\": 0.0, \"n\": 4672}, {\"threshold\": 0.936, \"p\": 4612, \"fpr\": 0.0, \"tpr\": 0.0, \"n\": 4672}, {\"threshold\": 0.937, \"p\": 4612, \"fpr\": 0.0, \"tpr\": 0.0, \"n\": 4672}, {\"threshold\": 0.938, \"p\": 4612, \"fpr\": 0.0, \"tpr\": 0.0, \"n\": 4672}, {\"threshold\": 0.939, \"p\": 4612, \"fpr\": 0.0, \"tpr\": 0.0, \"n\": 4672}, {\"threshold\": 0.94, \"p\": 4612, \"fpr\": 0.0, \"tpr\": 0.0, \"n\": 4672}, {\"threshold\": 0.941, \"p\": 4612, \"fpr\": 0.0, \"tpr\": 0.0, \"n\": 4672}, {\"threshold\": 0.942, \"p\": 4612, \"fpr\": 0.0, \"tpr\": 0.0, \"n\": 4672}, {\"threshold\": 0.943, \"p\": 4612, \"fpr\": 0.0, \"tpr\": 0.0, \"n\": 4672}, {\"threshold\": 0.944, \"p\": 4612, \"fpr\": 0.0, \"tpr\": 0.0, \"n\": 4672}, {\"threshold\": 0.945, \"p\": 4612, \"fpr\": 0.0, \"tpr\": 0.0, \"n\": 4672}, {\"threshold\": 0.946, \"p\": 4612, \"fpr\": 0.0, \"tpr\": 0.0, \"n\": 4672}, {\"threshold\": 0.947, \"p\": 4612, \"fpr\": 0.0, \"tpr\": 0.0, \"n\": 4672}, {\"threshold\": 0.948, \"p\": 4612, \"fpr\": 0.0, \"tpr\": 0.0, \"n\": 4672}, {\"threshold\": 0.949, \"p\": 4612, \"fpr\": 0.0, \"tpr\": 0.0, \"n\": 4672}, {\"threshold\": 0.95, \"p\": 4612, \"fpr\": 0.0, \"tpr\": 0.0, \"n\": 4672}, {\"threshold\": 0.951, \"p\": 4612, \"fpr\": 0.0, \"tpr\": 0.0, \"n\": 4672}, {\"threshold\": 0.952, \"p\": 4612, \"fpr\": 0.0, \"tpr\": 0.0, \"n\": 4672}, {\"threshold\": 0.953, \"p\": 4612, \"fpr\": 0.0, \"tpr\": 0.0, \"n\": 4672}, {\"threshold\": 0.954, \"p\": 4612, \"fpr\": 0.0, \"tpr\": 0.0, \"n\": 4672}, {\"threshold\": 0.955, \"p\": 4612, \"fpr\": 0.0, \"tpr\": 0.0, \"n\": 4672}, {\"threshold\": 0.956, \"p\": 4612, \"fpr\": 0.0, \"tpr\": 0.0, \"n\": 4672}, {\"threshold\": 0.957, \"p\": 4612, \"fpr\": 0.0, \"tpr\": 0.0, \"n\": 4672}, {\"threshold\": 0.958, \"p\": 4612, \"fpr\": 0.0, \"tpr\": 0.0, \"n\": 4672}, {\"threshold\": 0.959, \"p\": 4612, \"fpr\": 0.0, \"tpr\": 0.0, \"n\": 4672}, {\"threshold\": 0.96, \"p\": 4612, \"fpr\": 0.0, \"tpr\": 0.0, \"n\": 4672}, {\"threshold\": 0.961, \"p\": 4612, \"fpr\": 0.0, \"tpr\": 0.0, \"n\": 4672}, {\"threshold\": 0.962, \"p\": 4612, \"fpr\": 0.0, \"tpr\": 0.0, \"n\": 4672}, {\"threshold\": 0.963, \"p\": 4612, \"fpr\": 0.0, \"tpr\": 0.0, \"n\": 4672}, {\"threshold\": 0.964, \"p\": 4612, \"fpr\": 0.0, \"tpr\": 0.0, \"n\": 4672}, {\"threshold\": 0.965, \"p\": 4612, \"fpr\": 0.0, \"tpr\": 0.0, \"n\": 4672}, {\"threshold\": 0.966, \"p\": 4612, \"fpr\": 0.0, \"tpr\": 0.0, \"n\": 4672}, {\"threshold\": 0.967, \"p\": 4612, \"fpr\": 0.0, \"tpr\": 0.0, \"n\": 4672}, {\"threshold\": 0.968, \"p\": 4612, \"fpr\": 0.0, \"tpr\": 0.0, \"n\": 4672}, {\"threshold\": 0.969, \"p\": 4612, \"fpr\": 0.0, \"tpr\": 0.0, \"n\": 4672}, {\"threshold\": 0.97, \"p\": 4612, \"fpr\": 0.0, \"tpr\": 0.0, \"n\": 4672}, {\"threshold\": 0.971, \"p\": 4612, \"fpr\": 0.0, \"tpr\": 0.0, \"n\": 4672}, {\"threshold\": 0.972, \"p\": 4612, \"fpr\": 0.0, \"tpr\": 0.0, \"n\": 4672}, {\"threshold\": 0.973, \"p\": 4612, \"fpr\": 0.0, \"tpr\": 0.0, \"n\": 4672}, {\"threshold\": 0.974, \"p\": 4612, \"fpr\": 0.0, \"tpr\": 0.0, \"n\": 4672}, {\"threshold\": 0.975, \"p\": 4612, \"fpr\": 0.0, \"tpr\": 0.0, \"n\": 4672}, {\"threshold\": 0.976, \"p\": 4612, \"fpr\": 0.0, \"tpr\": 0.0, \"n\": 4672}, {\"threshold\": 0.977, \"p\": 4612, \"fpr\": 0.0, \"tpr\": 0.0, \"n\": 4672}, {\"threshold\": 0.978, \"p\": 4612, \"fpr\": 0.0, \"tpr\": 0.0, \"n\": 4672}, {\"threshold\": 0.979, \"p\": 4612, \"fpr\": 0.0, \"tpr\": 0.0, \"n\": 4672}, {\"threshold\": 0.98, \"p\": 4612, \"fpr\": 0.0, \"tpr\": 0.0, \"n\": 4672}, {\"threshold\": 0.981, \"p\": 4612, \"fpr\": 0.0, \"tpr\": 0.0, \"n\": 4672}, {\"threshold\": 0.982, \"p\": 4612, \"fpr\": 0.0, \"tpr\": 0.0, \"n\": 4672}, {\"threshold\": 0.983, \"p\": 4612, \"fpr\": 0.0, \"tpr\": 0.0, \"n\": 4672}, {\"threshold\": 0.984, \"p\": 4612, \"fpr\": 0.0, \"tpr\": 0.0, \"n\": 4672}, {\"threshold\": 0.985, \"p\": 4612, \"fpr\": 0.0, \"tpr\": 0.0, \"n\": 4672}, {\"threshold\": 0.986, \"p\": 4612, \"fpr\": 0.0, \"tpr\": 0.0, \"n\": 4672}, {\"threshold\": 0.987, \"p\": 4612, \"fpr\": 0.0, \"tpr\": 0.0, \"n\": 4672}, {\"threshold\": 0.988, \"p\": 4612, \"fpr\": 0.0, \"tpr\": 0.0, \"n\": 4672}, {\"threshold\": 0.989, \"p\": 4612, \"fpr\": 0.0, \"tpr\": 0.0, \"n\": 4672}, {\"threshold\": 0.99, \"p\": 4612, \"fpr\": 0.0, \"tpr\": 0.0, \"n\": 4672}, {\"threshold\": 0.991, \"p\": 4612, \"fpr\": 0.0, \"tpr\": 0.0, \"n\": 4672}, {\"threshold\": 0.992, \"p\": 4612, \"fpr\": 0.0, \"tpr\": 0.0, \"n\": 4672}, {\"threshold\": 0.993, \"p\": 4612, \"fpr\": 0.0, \"tpr\": 0.0, \"n\": 4672}, {\"threshold\": 0.994, \"p\": 4612, \"fpr\": 0.0, \"tpr\": 0.0, \"n\": 4672}, {\"threshold\": 0.995, \"p\": 4612, \"fpr\": 0.0, \"tpr\": 0.0, \"n\": 4672}, {\"threshold\": 0.996, \"p\": 4612, \"fpr\": 0.0, \"tpr\": 0.0, \"n\": 4672}, {\"threshold\": 0.997, \"p\": 4612, \"fpr\": 0.0, \"tpr\": 0.0, \"n\": 4672}, {\"threshold\": 0.998, \"p\": 4612, \"fpr\": 0.0, \"tpr\": 0.0, \"n\": 4672}, {\"threshold\": 0.999, \"p\": 4612, \"fpr\": 0.0, \"tpr\": 0.0, \"n\": 4672}, {\"threshold\": 1.0, \"p\": 4612, \"fpr\": 0.0, \"tpr\": 0.0, \"n\": 4672}], \"confusion_matrix\": [{\"count\": 1618, \"target_label\": -1, \"predicted_label\": 1}, {\"count\": 1463, \"target_label\": 1, \"predicted_label\": -1}, {\"count\": 3054, \"target_label\": -1, \"predicted_label\": -1}, {\"count\": 3149, \"target_label\": 1, \"predicted_label\": 1}], \"accuracy\": 0.66813873330461}]]}, e);\n",
       "                });\n",
       "            })();\n",
       "        "
      ]
     },
     "metadata": {},
     "output_type": "display_data"
    }
   ],
   "source": [
    "graphlab.canvas.set_target('ipynb')\n",
    "model_5.show(view='Evaluation')"
   ]
  },
  {
   "cell_type": "code",
   "execution_count": 16,
   "metadata": {
    "collapsed": true
   },
   "outputs": [],
   "source": [
    "predictions = model_5.predict(validation_data)"
   ]
  },
  {
   "cell_type": "code",
   "execution_count": 17,
   "metadata": {
    "collapsed": false
   },
   "outputs": [
    {
     "data": {
      "text/html": [
       "<div style=\"max-height:1000px;max-width:1500px;overflow:auto;\"><table frame=\"box\" rules=\"cols\">\n",
       "    <tr>\n",
       "        <th style=\"padding-left: 1em; padding-right: 1em; text-align: center\">target_label</th>\n",
       "        <th style=\"padding-left: 1em; padding-right: 1em; text-align: center\">predicted_label</th>\n",
       "        <th style=\"padding-left: 1em; padding-right: 1em; text-align: center\">count</th>\n",
       "    </tr>\n",
       "    <tr>\n",
       "        <td style=\"padding-left: 1em; padding-right: 1em; text-align: center; vertical-align: top\">-1</td>\n",
       "        <td style=\"padding-left: 1em; padding-right: 1em; text-align: center; vertical-align: top\">1</td>\n",
       "        <td style=\"padding-left: 1em; padding-right: 1em; text-align: center; vertical-align: top\">1618</td>\n",
       "    </tr>\n",
       "    <tr>\n",
       "        <td style=\"padding-left: 1em; padding-right: 1em; text-align: center; vertical-align: top\">1</td>\n",
       "        <td style=\"padding-left: 1em; padding-right: 1em; text-align: center; vertical-align: top\">-1</td>\n",
       "        <td style=\"padding-left: 1em; padding-right: 1em; text-align: center; vertical-align: top\">1463</td>\n",
       "    </tr>\n",
       "    <tr>\n",
       "        <td style=\"padding-left: 1em; padding-right: 1em; text-align: center; vertical-align: top\">-1</td>\n",
       "        <td style=\"padding-left: 1em; padding-right: 1em; text-align: center; vertical-align: top\">-1</td>\n",
       "        <td style=\"padding-left: 1em; padding-right: 1em; text-align: center; vertical-align: top\">3054</td>\n",
       "    </tr>\n",
       "    <tr>\n",
       "        <td style=\"padding-left: 1em; padding-right: 1em; text-align: center; vertical-align: top\">1</td>\n",
       "        <td style=\"padding-left: 1em; padding-right: 1em; text-align: center; vertical-align: top\">1</td>\n",
       "        <td style=\"padding-left: 1em; padding-right: 1em; text-align: center; vertical-align: top\">3149</td>\n",
       "    </tr>\n",
       "</table>\n",
       "[4 rows x 3 columns]<br/>\n",
       "</div>"
      ],
      "text/plain": [
       "Columns:\n",
       "\ttarget_label\tint\n",
       "\tpredicted_label\tint\n",
       "\tcount\tint\n",
       "\n",
       "Rows: 4\n",
       "\n",
       "Data:\n",
       "+--------------+-----------------+-------+\n",
       "| target_label | predicted_label | count |\n",
       "+--------------+-----------------+-------+\n",
       "|      -1      |        1        |  1618 |\n",
       "|      1       |        -1       |  1463 |\n",
       "|      -1      |        -1       |  3054 |\n",
       "|      1       |        1        |  3149 |\n",
       "+--------------+-----------------+-------+\n",
       "[4 rows x 3 columns]"
      ]
     },
     "execution_count": 17,
     "metadata": {},
     "output_type": "execute_result"
    }
   ],
   "source": [
    "confusion_matrix = model_5.evaluate(validation_data)['confusion_matrix']\n",
    "confusion_matrix"
   ]
  },
  {
   "cell_type": "code",
   "execution_count": 18,
   "metadata": {
    "collapsed": false
   },
   "outputs": [
    {
     "data": {
      "text/html": [
       "<div style=\"max-height:1000px;max-width:1500px;overflow:auto;\"><table frame=\"box\" rules=\"cols\">\n",
       "    <tr>\n",
       "        <th style=\"padding-left: 1em; padding-right: 1em; text-align: center\">target_label</th>\n",
       "        <th style=\"padding-left: 1em; padding-right: 1em; text-align: center\">predicted_label</th>\n",
       "        <th style=\"padding-left: 1em; padding-right: 1em; text-align: center\">count</th>\n",
       "    </tr>\n",
       "    <tr>\n",
       "        <td style=\"padding-left: 1em; padding-right: 1em; text-align: center; vertical-align: top\">-1</td>\n",
       "        <td style=\"padding-left: 1em; padding-right: 1em; text-align: center; vertical-align: top\">1</td>\n",
       "        <td style=\"padding-left: 1em; padding-right: 1em; text-align: center; vertical-align: top\">1618</td>\n",
       "    </tr>\n",
       "</table>\n",
       "[? rows x 3 columns]<br/>Note: Only the head of the SFrame is printed. This SFrame is lazily evaluated.<br/>You can use sf.materialize() to force materialization.\n",
       "</div>"
      ],
      "text/plain": [
       "Columns:\n",
       "\ttarget_label\tint\n",
       "\tpredicted_label\tint\n",
       "\tcount\tint\n",
       "\n",
       "Rows: Unknown\n",
       "\n",
       "Data:\n",
       "+--------------+-----------------+-------+\n",
       "| target_label | predicted_label | count |\n",
       "+--------------+-----------------+-------+\n",
       "|      -1      |        1        |  1618 |\n",
       "+--------------+-----------------+-------+\n",
       "[? rows x 3 columns]\n",
       "Note: Only the head of the SFrame is printed. This SFrame is lazily evaluated.\n",
       "You can use sf.materialize() to force materialization."
      ]
     },
     "execution_count": 18,
     "metadata": {},
     "output_type": "execute_result"
    }
   ],
   "source": [
    "confusion_matrix[(confusion_matrix['target_label'] == -1) & (confusion_matrix['predicted_label'] == 1)]"
   ]
  },
  {
   "cell_type": "markdown",
   "metadata": {},
   "source": [
    "Calculate the number of **false positives** made by the model."
   ]
  },
  {
   "cell_type": "markdown",
   "metadata": {},
   "source": [
    "**Quiz Question**: What is the number of **false positives** on the **validation_data**?"
   ]
  },
  {
   "cell_type": "code",
   "execution_count": 21,
   "metadata": {
    "collapsed": false
   },
   "outputs": [
    {
     "name": "stdout",
     "output_type": "stream",
     "text": [
      "1618\n"
     ]
    }
   ],
   "source": [
    "false_positives = confusion_matrix[(confusion_matrix['target_label'] == -1) & (confusion_matrix['predicted_label'] == 1)]['count'][0]\n",
    "print false_positives"
   ]
  },
  {
   "cell_type": "markdown",
   "metadata": {},
   "source": [
    "Calculate the number of **false negatives** made by the model."
   ]
  },
  {
   "cell_type": "code",
   "execution_count": 20,
   "metadata": {
    "collapsed": false
   },
   "outputs": [
    {
     "name": "stdout",
     "output_type": "stream",
     "text": [
      "1463\n"
     ]
    }
   ],
   "source": [
    "false_negatives = confusion_matrix[(confusion_matrix['target_label'] == 1) & (confusion_matrix['predicted_label'] == -1)]['count'][0]\n",
    "print false_negatives"
   ]
  },
  {
   "cell_type": "markdown",
   "metadata": {},
   "source": [
    "## Comparison with decision trees\n",
    "\n",
    "In the earlier assignment, we saw that the prediction accuracy of the decision trees was around **0.64** (rounded). In this assignment, we saw that **model_5** has an accuracy of **0.67** (rounded).\n",
    "\n",
    "Here, we quantify the benefit of the extra 3% increase in accuracy of **model_5** in comparison with a single decision tree from the original decision tree assignment.\n",
    "\n",
    "As we explored in the earlier assignment, we calculated the cost of the mistakes made by the model. We again consider the same costs as follows:\n",
    "\n",
    "* **False negatives**: Assume a cost of \\$10,000 per false negative.\n",
    "* **False positives**: Assume a cost of \\$20,000 per false positive.\n",
    "\n",
    "Assume that the number of false positives and false negatives for the learned decision tree was\n",
    "\n",
    "* **False negatives**: 1936\n",
    "* **False positives**: 1503\n",
    "\n",
    "Using the costs defined above and the number of false positives and false negatives for the decision tree, we can calculate the total cost of the mistakes made by the decision tree model as follows:\n",
    "\n",
    "```\n",
    "cost = $10,000 * 1936  + $20,000 * 1503 = $49,420,000\n",
    "```\n",
    "\n",
    "The total cost of the mistakes of the model is $49.42M. That is a **lot of money**!.\n",
    "\n",
    "**Quiz Question**: Using the same costs of the false positives and false negatives, what is the cost of the mistakes made by the boosted tree model (**model_5**) as evaluated on the **validation_set**?"
   ]
  },
  {
   "cell_type": "code",
   "execution_count": 22,
   "metadata": {
    "collapsed": false
   },
   "outputs": [
    {
     "name": "stdout",
     "output_type": "stream",
     "text": [
      "46990000\n"
     ]
    }
   ],
   "source": [
    "cost_of_mistakes = (false_negatives * 10000) + (false_positives * 20000)\n",
    "print cost_of_mistakes"
   ]
  },
  {
   "cell_type": "markdown",
   "metadata": {},
   "source": [
    "**Reminder**: Compare the cost of the mistakes made by the boosted trees model with the decision tree model. The extra 3% improvement in prediction accuracy can translate to several million dollars!  And, it was so easy to get by simply boosting our decision trees."
   ]
  },
  {
   "cell_type": "markdown",
   "metadata": {},
   "source": [
    "## Most positive & negative loans.\n",
    "\n",
    "In this section, we will find the loans that are most likely to be predicted **safe**. We can do this in a few steps:\n",
    "\n",
    "* **Step 1**: Use the **model_5** (the model with 5 trees) and make **probability predictions** for all the loans in the **validation_data**.\n",
    "* **Step 2**: Similar to what we did in the very first assignment, add the probability predictions as a column called **predictions** into the validation_data.\n",
    "* **Step 3**: Sort the data (in descreasing order) by the probability predictions.\n",
    "\n",
    "Start here with **Step 1** & **Step 2**. Make predictions using **model_5** for examples in the **validation_data**. Use `output_type = probability`."
   ]
  },
  {
   "cell_type": "code",
   "execution_count": 23,
   "metadata": {
    "collapsed": false
   },
   "outputs": [],
   "source": [
    "validation_data['predictions'] = model_5.predict(validation_data, output_type='probability')"
   ]
  },
  {
   "cell_type": "markdown",
   "metadata": {},
   "source": [
    "**Checkpoint:** For each row, the probabilities should be a number in the range **[0, 1]**. We have provided a simple check here to make sure your answers are correct."
   ]
  },
  {
   "cell_type": "code",
   "execution_count": 24,
   "metadata": {
    "collapsed": false
   },
   "outputs": [
    {
     "name": "stdout",
     "output_type": "stream",
     "text": [
      "Your loans      : [0.44925159215927124, 0.6119099855422974, 0.38359811902046204, 0.3693307042121887]\n",
      "\n",
      "Expected answer : [0.4492515948736132, 0.6119100103640573, 0.3835981314851436, 0.3693306705994325]\n"
     ]
    }
   ],
   "source": [
    "print \"Your loans      : %s\\n\" % validation_data['predictions'].head(4)\n",
    "print \"Expected answer : %s\" % [0.4492515948736132, 0.6119100103640573,\n",
    "                                0.3835981314851436, 0.3693306705994325]"
   ]
  },
  {
   "cell_type": "markdown",
   "metadata": {},
   "source": [
    "Now, we are ready to go to **Step 3**. You can now use the `prediction` column to sort the loans in **validation_data** (in descending order) by prediction probability. Find the top 5 loans with the highest probability of being predicted as a **safe loan**."
   ]
  },
  {
   "cell_type": "code",
   "execution_count": 25,
   "metadata": {
    "collapsed": false
   },
   "outputs": [
    {
     "data": {
      "text/html": [
       "<div style=\"max-height:1000px;max-width:1500px;overflow:auto;\"><table frame=\"box\" rules=\"cols\">\n",
       "    <tr>\n",
       "        <th style=\"padding-left: 1em; padding-right: 1em; text-align: center\">grade</th>\n",
       "        <th style=\"padding-left: 1em; padding-right: 1em; text-align: center\">predictions</th>\n",
       "    </tr>\n",
       "    <tr>\n",
       "        <td style=\"padding-left: 1em; padding-right: 1em; text-align: center; vertical-align: top\">A</td>\n",
       "        <td style=\"padding-left: 1em; padding-right: 1em; text-align: center; vertical-align: top\">0.848508358002</td>\n",
       "    </tr>\n",
       "    <tr>\n",
       "        <td style=\"padding-left: 1em; padding-right: 1em; text-align: center; vertical-align: top\">A</td>\n",
       "        <td style=\"padding-left: 1em; padding-right: 1em; text-align: center; vertical-align: top\">0.848508358002</td>\n",
       "    </tr>\n",
       "    <tr>\n",
       "        <td style=\"padding-left: 1em; padding-right: 1em; text-align: center; vertical-align: top\">A</td>\n",
       "        <td style=\"padding-left: 1em; padding-right: 1em; text-align: center; vertical-align: top\">0.841295421124</td>\n",
       "    </tr>\n",
       "    <tr>\n",
       "        <td style=\"padding-left: 1em; padding-right: 1em; text-align: center; vertical-align: top\">A</td>\n",
       "        <td style=\"padding-left: 1em; padding-right: 1em; text-align: center; vertical-align: top\">0.841295421124</td>\n",
       "    </tr>\n",
       "    <tr>\n",
       "        <td style=\"padding-left: 1em; padding-right: 1em; text-align: center; vertical-align: top\">A</td>\n",
       "        <td style=\"padding-left: 1em; padding-right: 1em; text-align: center; vertical-align: top\">0.841295421124</td>\n",
       "    </tr>\n",
       "</table>\n",
       "[5 rows x 2 columns]<br/>\n",
       "</div>"
      ],
      "text/plain": [
       "Columns:\n",
       "\tgrade\tstr\n",
       "\tpredictions\tfloat\n",
       "\n",
       "Rows: 5\n",
       "\n",
       "Data:\n",
       "+-------+----------------+\n",
       "| grade |  predictions   |\n",
       "+-------+----------------+\n",
       "|   A   | 0.848508358002 |\n",
       "|   A   | 0.848508358002 |\n",
       "|   A   | 0.841295421124 |\n",
       "|   A   | 0.841295421124 |\n",
       "|   A   | 0.841295421124 |\n",
       "+-------+----------------+\n",
       "[5 rows x 2 columns]"
      ]
     },
     "execution_count": 25,
     "metadata": {},
     "output_type": "execute_result"
    }
   ],
   "source": [
    "validation_data[['grade','predictions']].sort('predictions', ascending = False)[0:5]"
   ]
  },
  {
   "cell_type": "markdown",
   "metadata": {},
   "source": [
    "** Quiz Question**: What grades are the top 5 loans?\n",
    "\n",
    "Let us repeat this excercise to find the top 5 loans (in the **validation_data**) with the **lowest probability** of being predicted as a **safe loan**:"
   ]
  },
  {
   "cell_type": "code",
   "execution_count": 26,
   "metadata": {
    "collapsed": false
   },
   "outputs": [
    {
     "data": {
      "text/html": [
       "<div style=\"max-height:1000px;max-width:1500px;overflow:auto;\"><table frame=\"box\" rules=\"cols\">\n",
       "    <tr>\n",
       "        <th style=\"padding-left: 1em; padding-right: 1em; text-align: center\">grade</th>\n",
       "        <th style=\"padding-left: 1em; padding-right: 1em; text-align: center\">predictions</th>\n",
       "    </tr>\n",
       "    <tr>\n",
       "        <td style=\"padding-left: 1em; padding-right: 1em; text-align: center; vertical-align: top\">D</td>\n",
       "        <td style=\"padding-left: 1em; padding-right: 1em; text-align: center; vertical-align: top\">0.134275108576</td>\n",
       "    </tr>\n",
       "    <tr>\n",
       "        <td style=\"padding-left: 1em; padding-right: 1em; text-align: center; vertical-align: top\">C</td>\n",
       "        <td style=\"padding-left: 1em; padding-right: 1em; text-align: center; vertical-align: top\">0.134275108576</td>\n",
       "    </tr>\n",
       "    <tr>\n",
       "        <td style=\"padding-left: 1em; padding-right: 1em; text-align: center; vertical-align: top\">C</td>\n",
       "        <td style=\"padding-left: 1em; padding-right: 1em; text-align: center; vertical-align: top\">0.134275108576</td>\n",
       "    </tr>\n",
       "    <tr>\n",
       "        <td style=\"padding-left: 1em; padding-right: 1em; text-align: center; vertical-align: top\">C</td>\n",
       "        <td style=\"padding-left: 1em; padding-right: 1em; text-align: center; vertical-align: top\">0.134275108576</td>\n",
       "    </tr>\n",
       "    <tr>\n",
       "        <td style=\"padding-left: 1em; padding-right: 1em; text-align: center; vertical-align: top\">B</td>\n",
       "        <td style=\"padding-left: 1em; padding-right: 1em; text-align: center; vertical-align: top\">0.134275108576</td>\n",
       "    </tr>\n",
       "</table>\n",
       "[5 rows x 2 columns]<br/>\n",
       "</div>"
      ],
      "text/plain": [
       "Columns:\n",
       "\tgrade\tstr\n",
       "\tpredictions\tfloat\n",
       "\n",
       "Rows: 5\n",
       "\n",
       "Data:\n",
       "+-------+----------------+\n",
       "| grade |  predictions   |\n",
       "+-------+----------------+\n",
       "|   D   | 0.134275108576 |\n",
       "|   C   | 0.134275108576 |\n",
       "|   C   | 0.134275108576 |\n",
       "|   C   | 0.134275108576 |\n",
       "|   B   | 0.134275108576 |\n",
       "+-------+----------------+\n",
       "[5 rows x 2 columns]"
      ]
     },
     "execution_count": 26,
     "metadata": {},
     "output_type": "execute_result"
    }
   ],
   "source": [
    "validation_data[['grade','predictions']].sort('predictions', ascending = True)[0:5]"
   ]
  },
  {
   "cell_type": "markdown",
   "metadata": {},
   "source": [
    "**Checkpoint:** You should expect to see 5 loans with the grade ['**D**', '**C**', '**C**', '**C**', '**B**'] or with ['**D**', '**C**', '**B**', '**C**', '**C**']."
   ]
  },
  {
   "cell_type": "markdown",
   "metadata": {},
   "source": [
    "## Effect of adding more trees"
   ]
  },
  {
   "cell_type": "markdown",
   "metadata": {},
   "source": [
    "In this assignment, we will train 5 different ensemble classifiers in the form of gradient boosted trees. We will train models with 10, 50, 100, 200, and 500 trees.  We use the **max_iterations** parameter in the boosted tree module. \n",
    "\n",
    "Let's get sarted with a model with **max_iterations = 10**:"
   ]
  },
  {
   "cell_type": "code",
   "execution_count": 27,
   "metadata": {
    "collapsed": false
   },
   "outputs": [],
   "source": [
    "model_10 = graphlab.boosted_trees_classifier.create(train_data, validation_set=None, \n",
    "        target = target, features = features, max_iterations = 10, verbose=False)"
   ]
  },
  {
   "cell_type": "markdown",
   "metadata": {},
   "source": [
    "Now, train 4 models with **max_iterations** to be:\n",
    "* `max_iterations = 50`, \n",
    "* `max_iterations = 100`\n",
    "* `max_iterations = 200`\n",
    "* `max_iterations = 500`. \n",
    "\n",
    "Let us call these models **model_50**, **model_100**, **model_200**, and **model_500**. You can pass in `verbose=False` in order to suppress the printed output.\n",
    "\n",
    "**Warning:** This could take a couple of minutes to run."
   ]
  },
  {
   "cell_type": "code",
   "execution_count": 28,
   "metadata": {
    "collapsed": false
   },
   "outputs": [],
   "source": [
    "model_50 = graphlab.boosted_trees_classifier.create(train_data, validation_set=None, \n",
    "        target = target, features = features, max_iterations = 50, verbose=False)\n",
    "model_100 = graphlab.boosted_trees_classifier.create(train_data, validation_set=None, \n",
    "        target = target, features = features, max_iterations = 100, verbose=False)\n",
    "model_200 = graphlab.boosted_trees_classifier.create(train_data, validation_set=None, \n",
    "        target = target, features = features, max_iterations = 200, verbose=False)\n",
    "model_500 = graphlab.boosted_trees_classifier.create(train_data, validation_set=None, \n",
    "        target = target, features = features, max_iterations = 500, verbose=False)"
   ]
  },
  {
   "cell_type": "markdown",
   "metadata": {},
   "source": [
    "## Compare accuracy on entire validation set"
   ]
  },
  {
   "cell_type": "markdown",
   "metadata": {},
   "source": [
    "Now we will compare the predicitve accuracy of our models on the validation set. Evaluate the **accuracy** of the 10, 50, 100, 200, and 500 tree models on the **validation_data**. Use the `.evaluate` method."
   ]
  },
  {
   "cell_type": "code",
   "execution_count": 29,
   "metadata": {
    "collapsed": false
   },
   "outputs": [
    {
     "name": "stdout",
     "output_type": "stream",
     "text": [
      "0.672770357604\n",
      "0.690758293839\n",
      "0.691727703576\n",
      "0.684510986644\n",
      "0.671800947867\n"
     ]
    }
   ],
   "source": [
    "print model_10.evaluate(validation_data)['accuracy']\n",
    "print model_50.evaluate(validation_data)['accuracy']\n",
    "print model_100.evaluate(validation_data)['accuracy']\n",
    "print model_200.evaluate(validation_data)['accuracy']\n",
    "print model_500.evaluate(validation_data)['accuracy']"
   ]
  },
  {
   "cell_type": "markdown",
   "metadata": {},
   "source": [
    "**Quiz Question:** Which model has the **best** accuracy on the **validation_data**?\n",
    "\n",
    "**Quiz Question:** Is it always true that the model with the most trees will perform best on test data?"
   ]
  },
  {
   "cell_type": "markdown",
   "metadata": {},
   "source": [
    "## Plot the training and validation error vs. number of trees"
   ]
  },
  {
   "cell_type": "markdown",
   "metadata": {},
   "source": [
    "Recall from the lecture that the classification error is defined as\n",
    "\n",
    "$$\n",
    "\\mbox{classification error} = 1 - \\mbox{accuracy} \n",
    "$$\n",
    "\n",
    "In this section, we will plot the **training and validation errors versus the number of trees** to get a sense of how these models are performing. We will compare the 10, 50, 100, 200, and 500 tree models. You will need [matplotlib](http://matplotlib.org/downloads.html) in order to visualize the plots. \n",
    "\n",
    "First, make sure this block of code runs on your computer."
   ]
  },
  {
   "cell_type": "code",
   "execution_count": 30,
   "metadata": {
    "collapsed": true
   },
   "outputs": [],
   "source": [
    "import matplotlib.pyplot as plt\n",
    "%matplotlib inline\n",
    "def make_figure(dim, title, xlabel, ylabel, legend):\n",
    "    plt.rcParams['figure.figsize'] = dim\n",
    "    plt.title(title)\n",
    "    plt.xlabel(xlabel)\n",
    "    plt.ylabel(ylabel)\n",
    "    if legend is not None:\n",
    "        plt.legend(loc=legend, prop={'size':15})\n",
    "    plt.rcParams.update({'font.size': 16})\n",
    "    plt.tight_layout()"
   ]
  },
  {
   "cell_type": "markdown",
   "metadata": {},
   "source": [
    "In order to plot the classification errors (on the **train_data** and **validation_data**) versus the number of trees, we will need lists of these accuracies, which we get by applying the method `.evaluate`. \n",
    "\n",
    "**Steps to follow:**\n",
    "\n",
    "* **Step 1:** Calculate the classification error for model on the training data (**train_data**).\n",
    "* **Step 2:** Store the training errors into a list (called `training_errors`) that looks like this:\n",
    "```\n",
    "[train_err_10, train_err_50, ..., train_err_500]\n",
    "```\n",
    "* **Step 3:** Calculate the classification error of each model on the validation data (**validation_data**).\n",
    "* **Step 4:** Store the validation classification error into a list (called `validation_errors`) that looks like this:\n",
    "```\n",
    "[validation_err_10, validation_err_50, ..., validation_err_500]\n",
    "```\n",
    "Once that has been completed, the rest of the code should be able to evaluate correctly and generate the plot.\n",
    "\n",
    "\n",
    "Let us start with **Step 1**. Write code to compute the classification error on the **train_data** for models **model_10**, **model_50**, **model_100**, **model_200**, and **model_500**."
   ]
  },
  {
   "cell_type": "code",
   "execution_count": 31,
   "metadata": {
    "collapsed": false
   },
   "outputs": [],
   "source": [
    "train_err_10 = 1 - model_10.evaluate(train_data)['accuracy']\n",
    "train_err_50 = 1 - model_50.evaluate(train_data)['accuracy']\n",
    "train_err_100 = 1 - model_100.evaluate(train_data)['accuracy']\n",
    "train_err_200 = 1 - model_200.evaluate(train_data)['accuracy']\n",
    "train_err_500 = 1 - model_500.evaluate(train_data)['accuracy']"
   ]
  },
  {
   "cell_type": "markdown",
   "metadata": {},
   "source": [
    "Now, let us run **Step 2**. Save the training errors into a list called **training_errors**"
   ]
  },
  {
   "cell_type": "code",
   "execution_count": 32,
   "metadata": {
    "collapsed": true
   },
   "outputs": [],
   "source": [
    "training_errors = [train_err_10, train_err_50, train_err_100, \n",
    "                   train_err_200, train_err_500]"
   ]
  },
  {
   "cell_type": "markdown",
   "metadata": {},
   "source": [
    "Now, onto **Step 3**. Write code to compute the classification error on the **validation_data** for models **model_10**, **model_50**, **model_100**, **model_200**, and **model_500**."
   ]
  },
  {
   "cell_type": "code",
   "execution_count": 33,
   "metadata": {
    "collapsed": true
   },
   "outputs": [],
   "source": [
    "validation_err_10 = 1 - model_10.evaluate(validation_data)['accuracy']\n",
    "validation_err_50 = 1 - model_50.evaluate(validation_data)['accuracy']\n",
    "validation_err_100 = 1 - model_100.evaluate(validation_data)['accuracy']\n",
    "validation_err_200 = 1 - model_200.evaluate(validation_data)['accuracy']\n",
    "validation_err_500 = 1 - model_500.evaluate(validation_data)['accuracy']"
   ]
  },
  {
   "cell_type": "markdown",
   "metadata": {},
   "source": [
    "Now, let us run **Step 4**. Save the training errors into a list called **validation_errors**"
   ]
  },
  {
   "cell_type": "code",
   "execution_count": 34,
   "metadata": {
    "collapsed": false
   },
   "outputs": [],
   "source": [
    "validation_errors = [validation_err_10, validation_err_50, validation_err_100, \n",
    "                     validation_err_200, validation_err_500]"
   ]
  },
  {
   "cell_type": "markdown",
   "metadata": {},
   "source": [
    "Now, we will plot the **training_errors** and **validation_errors** versus the number of trees. We will compare the 10, 50, 100, 200, and 500 tree models. We provide some plotting code to visualize the plots within this notebook. \n",
    "\n",
    "Run the following code to visualize the plots."
   ]
  },
  {
   "cell_type": "code",
   "execution_count": 35,
   "metadata": {
    "collapsed": false
   },
   "outputs": [
    {
     "data": {
      "image/png": "[encoded data removed]",
      "text/plain": [
       "<matplotlib.figure.Figure at 0x1121fa890>"
      ]
     },
     "metadata": {},
     "output_type": "display_data"
    }
   ],
   "source": [
    "plt.plot([10, 50, 100, 200, 500], training_errors, linewidth=4.0, label='Training error')\n",
    "plt.plot([10, 50, 100, 200, 500], validation_errors, linewidth=4.0, label='Validation error')\n",
    "\n",
    "make_figure(dim=(10,5), title='Error vs number of trees',\n",
    "            xlabel='Number of trees',\n",
    "            ylabel='Classification error',\n",
    "            legend='best')"
   ]
  },
  {
   "cell_type": "markdown",
   "metadata": {},
   "source": [
    "**Quiz Question**: Does the training error reduce as the number of trees increases?\n",
    "\n",
    "**Quiz Question**: Is it always true that the validation error will reduce as the number of trees increases?"
   ]
  },
  {
   "cell_type": "code",
   "execution_count": null,
   "metadata": {
    "collapsed": true
   },
   "outputs": [],
   "source": []
  }
 ],
 "metadata": {
  "kernelspec": {
   "display_name": "Python 2 gl-env",
   "language": "python",
   "name": "gl-env"
  },
  "language_info": {
   "codemirror_mode": {
    "name": "ipython",
    "version": 2
   },
   "file_extension": ".py",
   "mimetype": "text/x-python",
   "name": "python",
   "nbconvert_exporter": "python",
   "pygments_lexer": "ipython2",
   "version": "2.7.13"
  }
 },
 "nbformat": 4,
 "nbformat_minor": 0
}
