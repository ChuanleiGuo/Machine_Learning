{
 "cells": [
  {
   "cell_type": "markdown",
   "metadata": {},
   "source": [
    "# 使用 TensorFlow 实现 Linear Regression"
   ]
  },
  {
   "cell_type": "code",
   "execution_count": 3,
   "metadata": {
    "collapsed": false
   },
   "outputs": [],
   "source": [
    "import tensorflow as tf\n",
    "import numpy as np\n",
    "import matplotlib.pyplot as plt\n",
    "\n",
    "%matplotlib inline\n",
    "rng = np.random"
   ]
  },
  {
   "cell_type": "code",
   "execution_count": 4,
   "metadata": {
    "collapsed": true
   },
   "outputs": [],
   "source": [
    "# Parameters\n",
    "learning_rate = 0.01\n",
    "training_epochs = 1000\n",
    "display_step = 50"
   ]
  },
  {
   "cell_type": "code",
   "execution_count": 6,
   "metadata": {
    "collapsed": false
   },
   "outputs": [],
   "source": [
    "# Training Data\n",
    "train_X = np.asarray([3.3,4.4,5.5,6.71,6.93,4.168,9.779,6.182,7.59,2.167,\n",
    "                         7.042,10.791,5.313,7.997,5.654,9.27,3.1])\n",
    "train_Y = np.asarray([1.7,2.76,2.09,3.19,1.694,1.573,3.366,2.596,2.53,1.221,\n",
    "                         2.827,3.465,1.65,2.904,2.42,2.94,1.3])\n",
    "n_samples = train_X.shape[0]"
   ]
  },
  {
   "cell_type": "code",
   "execution_count": 8,
   "metadata": {
    "collapsed": false
   },
   "outputs": [],
   "source": [
    "X = tf.placeholder(tf.float32)\n",
    "Y = tf.placeholder(tf.float32)\n",
    "\n",
    "W = tf.Variable(rng.randn(), name=\"weight\")\n",
    "b = tf.Variable(rng.randn(), name=\"bias\")"
   ]
  },
  {
   "cell_type": "code",
   "execution_count": 9,
   "metadata": {
    "collapsed": true
   },
   "outputs": [],
   "source": [
    "pred = tf.add(tf.mul(X, W), b)"
   ]
  },
  {
   "cell_type": "code",
   "execution_count": 10,
   "metadata": {
    "collapsed": true
   },
   "outputs": [],
   "source": [
    "# 代价函数\n",
    "cost = tf.reduce_sum(tf.pow(pred-Y, 2))/(2*n_samples)"
   ]
  },
  {
   "cell_type": "code",
   "execution_count": 11,
   "metadata": {
    "collapsed": true
   },
   "outputs": [],
   "source": [
    "# Gradient Descent\n",
    "# Docs: https://www.tensorflow.org/api_docs/python/train/optimizers#Optimizer.minimize\n",
    "\n",
    "optimizer = tf.train.GradientDescentOptimizer(learning_rate).minimize(cost)"
   ]
  },
  {
   "cell_type": "code",
   "execution_count": 12,
   "metadata": {
    "collapsed": true
   },
   "outputs": [],
   "source": [
    "init = tf.global_variables_initializer()"
   ]
  },
  {
   "cell_type": "code",
   "execution_count": 16,
   "metadata": {
    "collapsed": false
   },
   "outputs": [
    {
     "name": "stdout",
     "output_type": "stream",
     "text": [
      "Epoch: 0050 cost=0.398565024 W=0.56651371717453 b=-1.478433609008789\n",
      "Epoch: 0100 cost=0.361425459 W=0.5476650595664978 b=-1.3428391218185425\n",
      "Epoch: 0150 cost=0.328573108 W=0.5299373269081116 b=-1.215306282043457\n",
      "Epoch: 0200 cost=0.299514413 W=0.513264000415802 b=-1.095360517501831\n",
      "Epoch: 0250 cost=0.273810267 W=0.4975823163986206 b=-0.9825466871261597\n",
      "Epoch: 0300 cost=0.251074433 W=0.4828333258628845 b=-0.8764439225196838\n",
      "Epoch: 0350 cost=0.230963275 W=0.46896135807037354 b=-0.7766493558883667\n",
      "Epoch: 0400 cost=0.213174775 W=0.4559144675731659 b=-0.6827916502952576\n",
      "Epoch: 0450 cost=0.197439909 W=0.4436434209346771 b=-0.5945140719413757\n",
      "Epoch: 0500 cost=0.183522582 W=0.4321025013923645 b=-0.5114894509315491\n",
      "Epoch: 0550 cost=0.171212196 W=0.4212477207183838 b=-0.43340134620666504\n",
      "Epoch: 0600 cost=0.160323575 W=0.4110387861728668 b=-0.35995811223983765\n",
      "Epoch: 0650 cost=0.150692448 W=0.4014367461204529 b=-0.2908823490142822\n",
      "Epoch: 0700 cost=0.142173767 W=0.39240601658821106 b=-0.22591572999954224\n",
      "Epoch: 0750 cost=0.134638935 W=0.38391226530075073 b=-0.16481243073940277\n",
      "Epoch: 0800 cost=0.127974406 W=0.37592366337776184 b=-0.10734321922063828\n",
      "Epoch: 0850 cost=0.122079723 W=0.3684101998806 b=-0.05329196900129318\n",
      "Epoch: 0900 cost=0.116865970 W=0.36134371161460876 b=-0.002455440117046237\n",
      "Epoch: 0950 cost=0.112254567 W=0.3546973466873169 b=0.04535756632685661\n",
      "Epoch: 1000 cost=0.108175926 W=0.3484463691711426 b=0.09032692760229111\n",
      "Optimization Finished!\n",
      "Training cost=0.10817592591047287 W=0.3484463691711426 b=0.09032692760229111\n"
     ]
    },
    {
     "data": {
      "image/png": "[encoded data removed]",
      "text/plain": [
       "<matplotlib.figure.Figure at 0x7fb5e1f0bf98>"
      ]
     },
     "metadata": {},
     "output_type": "display_data"
    }
   ],
   "source": [
    "with tf.Session() as sess:\n",
    "    sess.run(init)\n",
    "    \n",
    "    for epoch in range(training_epochs):\n",
    "        for (x, y) in zip(train_X, train_Y):\n",
    "            sess.run(optimizer, feed_dict={X: x, Y: y})\n",
    "            \n",
    "        if (epoch + 1) % display_step == 0:\n",
    "            c = sess.run(cost, feed_dict={X: train_X, Y:train_Y})\n",
    "            print(\"Epoch: {:04d} cost={:.9f} W={} b={}\".format(epoch + 1, c, sess.run(W), sess.run(b)))\n",
    "    \n",
    "    print(\"Optimization Finished!\")\n",
    "    training_cost = sess.run(cost, feed_dict={X: train_X, Y: train_Y})\n",
    "    print(\"Training cost={} W={} b={}\".format(training_cost, sess.run(W), sess.run(b)))\n",
    "    \n",
    "    plt.plot(train_X, train_Y, 'ro', label='Original data')\n",
    "    plt.plot(train_X, sess.run(W) * train_X + sess.run(b), label='Fitted line')\n",
    "    plt.legend()\n",
    "    plt.show()"
   ]
  },
  {
   "cell_type": "code",
   "execution_count": null,
   "metadata": {
    "collapsed": true
   },
   "outputs": [],
   "source": []
  }
 ],
 "metadata": {
  "kernelspec": {
   "display_name": "Python 3",
   "language": "python",
   "name": "python3"
  },
  "language_info": {
   "codemirror_mode": {
    "name": "ipython",
    "version": 3
   },
   "file_extension": ".py",
   "mimetype": "text/x-python",
   "name": "python",
   "nbconvert_exporter": "python",
   "pygments_lexer": "ipython3",
   "version": "3.5.3"
  }
 },
 "nbformat": 4,
 "nbformat_minor": 0
}
