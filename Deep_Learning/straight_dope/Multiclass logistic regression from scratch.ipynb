{
 "cells": [
  {
   "cell_type": "code",
   "execution_count": 1,
   "metadata": {},
   "outputs": [
    {
     "name": "stderr",
     "output_type": "stream",
     "text": [
      "/home/chuanleiguo/anaconda3/lib/python3.6/site-packages/h5py/tests/old/test_attrs_data.py:251: DeprecationWarning: invalid escape sequence \\H\n",
      "  s = b\"Hello\\x00\\Hello\"\n",
      "/home/chuanleiguo/anaconda3/lib/python3.6/site-packages/sklearn/__init__.py:22: DeprecationWarning: invalid escape sequence \\.\n",
      "  module='^{0}\\.'.format(re.escape(__name__)))\n",
      "/home/chuanleiguo/anaconda3/lib/python3.6/site-packages/scipy/_lib/_numpy_compat.py:287: DeprecationWarning: invalid escape sequence \\p\n",
      "  \"\"\"\n",
      "/home/chuanleiguo/anaconda3/lib/python3.6/site-packages/sklearn/externals/joblib/func_inspect.py:53: DeprecationWarning: invalid escape sequence \\<\n",
      "  '\\<doctest (.*\\.rst)\\[(.*)\\]\\>', source_file).groups()\n",
      "/home/chuanleiguo/anaconda3/lib/python3.6/site-packages/sklearn/externals/joblib/_memory_helpers.py:10: DeprecationWarning: invalid escape sequence \\s\n",
      "  cookie_re = re.compile(\"coding[:=]\\s*([-\\w.]+)\")\n"
     ]
    }
   ],
   "source": [
    "import mxnet as mx\n",
    "from mxnet import nd, autograd\n",
    "import numpy as np"
   ]
  },
  {
   "cell_type": "code",
   "execution_count": 2,
   "metadata": {
    "collapsed": true
   },
   "outputs": [],
   "source": [
    "ctx = mx.cpu()"
   ]
  },
  {
   "cell_type": "code",
   "execution_count": 3,
   "metadata": {
    "collapsed": true
   },
   "outputs": [],
   "source": [
    "def transform(data, label):\n",
    "    return data.astype(np.float32) / 255, label.astype(np.float32)"
   ]
  },
  {
   "cell_type": "code",
   "execution_count": 4,
   "metadata": {
    "collapsed": true
   },
   "outputs": [],
   "source": [
    "mnist_train = mx.gluon.data.vision.MNIST(train=True, transform=transform)\n",
    "mnist_test = mx.gluon.data.vision.MNIST(train=False, transform=transform)"
   ]
  },
  {
   "cell_type": "code",
   "execution_count": 5,
   "metadata": {},
   "outputs": [
    {
     "name": "stdout",
     "output_type": "stream",
     "text": [
      "(28, 28, 1) 5.0\n"
     ]
    }
   ],
   "source": [
    "image, label = mnist_train[0]\n",
    "print(image.shape, label)"
   ]
  },
  {
   "cell_type": "code",
   "execution_count": 6,
   "metadata": {
    "collapsed": true
   },
   "outputs": [],
   "source": [
    "num_inputs = 784\n",
    "num_outputs = 10"
   ]
  },
  {
   "cell_type": "code",
   "execution_count": 7,
   "metadata": {},
   "outputs": [
    {
     "name": "stdout",
     "output_type": "stream",
     "text": [
      "(28, 28, 3)\n"
     ]
    }
   ],
   "source": [
    "im = mx.nd.tile(image, (1, 1, 3))\n",
    "print(im.shape)"
   ]
  },
  {
   "cell_type": "code",
   "execution_count": 8,
   "metadata": {},
   "outputs": [
    {
     "name": "stderr",
     "output_type": "stream",
     "text": [
      "/home/chuanleiguo/anaconda3/lib/python3.6/site-packages/matplotlib/cbook.py:550: DeprecationWarning: invalid escape sequence \\*\n",
      "  \"\"\"\n",
      "/home/chuanleiguo/anaconda3/lib/python3.6/site-packages/matplotlib/cbook.py:1126: DeprecationWarning: invalid escape sequence \\S\n",
      "  _find_dedent_regex = re.compile(\"(?:(?:\\n\\r?)|^)( *)\\S\")\n",
      "/home/chuanleiguo/anaconda3/lib/python3.6/site-packages/matplotlib/cbook.py:1961: DeprecationWarning: invalid escape sequence \\m\n",
      "  \"\"\"\n",
      "/home/chuanleiguo/anaconda3/lib/python3.6/site-packages/pyparsing.py:131: DeprecationWarning: invalid escape sequence \\d\n",
      "  xmlcharref = Regex('&#\\d+;')\n",
      "/home/chuanleiguo/anaconda3/lib/python3.6/site-packages/pyparsing.py:2127: DeprecationWarning: invalid escape sequence \\g\n",
      "  ret = re.sub(self.escCharReplacePattern,\"\\g<1>\",ret)\n",
      "/home/chuanleiguo/anaconda3/lib/python3.6/site-packages/matplotlib/colors.py:265: DeprecationWarning: invalid escape sequence \\A\n",
      "  hexColorPattern = re.compile(\"\\A#[a-fA-F0-9]{6}\\Z\")\n",
      "/home/chuanleiguo/anaconda3/lib/python3.6/site-packages/matplotlib/collections.py:442: DeprecationWarning: invalid escape sequence \\ \n",
      "  \"\"\"\n",
      "/home/chuanleiguo/anaconda3/lib/python3.6/site-packages/matplotlib/mlab.py:2210: DeprecationWarning: invalid escape sequence \\ \n",
      "  \"\"\"\n",
      "/home/chuanleiguo/anaconda3/lib/python3.6/site-packages/matplotlib/mlab.py:2892: DeprecationWarning: invalid escape sequence \\|\n",
      "  delete = set(\"\"\"~!@#$%^&*()-=+~\\|]}[{';: /?.>,<\"\"\")\n",
      "/home/chuanleiguo/anaconda3/lib/python3.6/site-packages/matplotlib/font_manager.py:190: DeprecationWarning: invalid escape sequence \\S\n",
      "  \"\"\"\n",
      "/home/chuanleiguo/anaconda3/lib/python3.6/site-packages/matplotlib/patches.py:515: DeprecationWarning: invalid escape sequence \\ \n",
      "  \"\"\"\n",
      "/home/chuanleiguo/anaconda3/lib/python3.6/site-packages/matplotlib/mathtext.py:78: DeprecationWarning: invalid escape sequence \\p\n",
      "  \"\"\"\n",
      "/home/chuanleiguo/anaconda3/lib/python3.6/site-packages/matplotlib/mathtext.py:442: DeprecationWarning: invalid escape sequence \\s\n",
      "  \"\"\"\n",
      "/home/chuanleiguo/anaconda3/lib/python3.6/site-packages/matplotlib/mathtext.py:474: DeprecationWarning: invalid escape sequence \\s\n",
      "  \"\"\"\n",
      "/home/chuanleiguo/anaconda3/lib/python3.6/site-packages/matplotlib/mathtext.py:756: DeprecationWarning: invalid escape sequence \\l\n",
      "  for alias, target in [('\\leftparen', '('),\n",
      "/home/chuanleiguo/anaconda3/lib/python3.6/site-packages/matplotlib/mathtext.py:758: DeprecationWarning: invalid escape sequence \\l\n",
      "  ('\\leftbrace', '{'),\n",
      "/home/chuanleiguo/anaconda3/lib/python3.6/site-packages/matplotlib/mathtext.py:760: DeprecationWarning: invalid escape sequence \\l\n",
      "  ('\\leftbracket', '['),\n",
      "/home/chuanleiguo/anaconda3/lib/python3.6/site-packages/matplotlib/mathtext.py:1041: DeprecationWarning: invalid escape sequence \\{\n",
      "  fixes = {'\\{': '{', '\\}': '}', '\\[': '[', '\\]': ']'}\n",
      "/home/chuanleiguo/anaconda3/lib/python3.6/site-packages/matplotlib/mathtext.py:1041: DeprecationWarning: invalid escape sequence \\}\n",
      "  fixes = {'\\{': '{', '\\}': '}', '\\[': '[', '\\]': ']'}\n",
      "/home/chuanleiguo/anaconda3/lib/python3.6/site-packages/matplotlib/mathtext.py:1041: DeprecationWarning: invalid escape sequence \\[\n",
      "  fixes = {'\\{': '{', '\\}': '}', '\\[': '[', '\\]': ']'}\n",
      "/home/chuanleiguo/anaconda3/lib/python3.6/site-packages/matplotlib/mathtext.py:1041: DeprecationWarning: invalid escape sequence \\]\n",
      "  fixes = {'\\{': '{', '\\}': '}', '\\[': '[', '\\]': ']'}\n",
      "/home/chuanleiguo/anaconda3/lib/python3.6/site-packages/matplotlib/mathtext.py:2432: DeprecationWarning: invalid escape sequence \\s\n",
      "  | Error(\"Expected \\sqrt{value}\"))\n",
      "/home/chuanleiguo/anaconda3/lib/python3.6/site-packages/matplotlib/mathtext.py:2437: DeprecationWarning: invalid escape sequence \\o\n",
      "  - (p.required_group | Error(\"Expected \\overline{value}\"))\n",
      "/home/chuanleiguo/anaconda3/lib/python3.6/site-packages/matplotlib/mathtext.py:2445: DeprecationWarning: invalid escape sequence \\o\n",
      "  | Error(\"Expected \\operatorname{value}\"))\n",
      "/home/chuanleiguo/anaconda3/lib/python3.6/site-packages/matplotlib/mathtext.py:2700: DeprecationWarning: invalid escape sequence \\c\n",
      "  r'AA' : (  ('it', 'A', 1.0), (None, '\\circ', 0.5), 0.0),\n",
      "/home/chuanleiguo/anaconda3/lib/python3.6/site-packages/matplotlib/mathtext.py:2922: DeprecationWarning: invalid escape sequence \\p\n",
      "  super.children.extend(self.symbol(s, loc, ['\\prime']))\n",
      "/home/chuanleiguo/anaconda3/lib/python3.6/site-packages/matplotlib/mathtext.py:3310: DeprecationWarning: invalid escape sequence \\s\n",
      "  \"\"\"\n",
      "/home/chuanleiguo/anaconda3/lib/python3.6/site-packages/matplotlib/mathtext.py:3339: DeprecationWarning: invalid escape sequence \\s\n",
      "  \"\"\"\n",
      "/home/chuanleiguo/anaconda3/lib/python3.6/site-packages/matplotlib/mathtext.py:3374: DeprecationWarning: invalid escape sequence \\s\n",
      "  \"\"\"\n",
      "/home/chuanleiguo/anaconda3/lib/python3.6/site-packages/matplotlib/mathtext.py:3392: DeprecationWarning: invalid escape sequence \\s\n",
      "  \"\"\"\n",
      "/home/chuanleiguo/anaconda3/lib/python3.6/site-packages/matplotlib/dviread.py:502: DeprecationWarning: invalid escape sequence \\*\n",
      "  \"\"\"\n",
      "/home/chuanleiguo/anaconda3/lib/python3.6/site-packages/matplotlib/dviread.py:796: DeprecationWarning: invalid escape sequence \\*\n",
      "  \"\"\"\n",
      "/home/chuanleiguo/anaconda3/lib/python3.6/site-packages/matplotlib/texmanager.py:35: DeprecationWarning: invalid escape sequence \\*\n",
      "  \"\"\"\n",
      "/home/chuanleiguo/anaconda3/lib/python3.6/site-packages/matplotlib/style/core.py:35: DeprecationWarning: invalid escape sequence \\S\n",
      "  STYLE_FILE_PATTERN = re.compile('([\\S]+).%s$' % STYLE_EXTENSION)\n",
      "/home/chuanleiguo/anaconda3/lib/python3.6/site-packages/matplotlib/axes/_axes.py:6722: DeprecationWarning: invalid escape sequence \\l\n",
      "  \"\"\"\n",
      "/home/chuanleiguo/anaconda3/lib/python3.6/site-packages/matplotlib/quiver.py:175: DeprecationWarning: invalid escape sequence \\s\n",
      "  \"\"\" % docstring.interpd.params\n",
      "/home/chuanleiguo/anaconda3/lib/python3.6/site-packages/matplotlib/quiver.py:885: DeprecationWarning: invalid escape sequence \\ \n",
      "  \"\"\" % docstring.interpd.params\n"
     ]
    },
    {
     "data": {
      "image/png": "[encoded data removed]",
      "text/plain": [
       "<matplotlib.figure.Figure at 0x7f8ece38d0f0>"
      ]
     },
     "metadata": {},
     "output_type": "display_data"
    }
   ],
   "source": [
    "import matplotlib.pyplot as plt\n",
    "plt.imshow(im.asnumpy())\n",
    "plt.show()"
   ]
  },
  {
   "cell_type": "code",
   "execution_count": 9,
   "metadata": {
    "collapsed": true
   },
   "outputs": [],
   "source": [
    "batch_size = 64\n",
    "train_data = mx.gluon.data.DataLoader(mnist_train, batch_size, shuffle=True)"
   ]
  },
  {
   "cell_type": "code",
   "execution_count": 10,
   "metadata": {
    "collapsed": true
   },
   "outputs": [],
   "source": [
    "test_data = mx.gluon.data.DataLoader(mnist_test, batch_size, shuffle=False)"
   ]
  },
  {
   "cell_type": "code",
   "execution_count": 11,
   "metadata": {
    "collapsed": true
   },
   "outputs": [],
   "source": [
    "W = nd.random_normal(shape=(num_inputs, num_outputs))\n",
    "b = nd.random_normal(shape=num_outputs)\n",
    "\n",
    "params = [W, b]"
   ]
  },
  {
   "cell_type": "code",
   "execution_count": 12,
   "metadata": {
    "collapsed": true
   },
   "outputs": [],
   "source": [
    "for param in params:\n",
    "    param.attach_grad()"
   ]
  },
  {
   "cell_type": "code",
   "execution_count": 14,
   "metadata": {},
   "outputs": [],
   "source": [
    "def softmax(y_linear):\n",
    "    exp = nd.exp(y_linear - nd.max(y_linear))\n",
    "    norms = nd.sum(exp, axis=0, exclude=True).reshape((-1, 1))\n",
    "    return exp / norms"
   ]
  },
  {
   "cell_type": "code",
   "execution_count": 15,
   "metadata": {},
   "outputs": [
    {
     "name": "stdout",
     "output_type": "stream",
     "text": [
      "\n",
      "[[ 0.01466005  0.03104205  0.09487285  0.11615293  0.07316667  0.01516553\n",
      "   0.44094777  0.08199082  0.0917872   0.04021411]\n",
      " [ 0.0309542   0.07588483  0.37230074  0.03313261  0.0499984   0.13276106\n",
      "   0.14566724  0.02354518  0.08515968  0.05059606]]\n",
      "<NDArray 2x10 @cpu(0)>\n"
     ]
    }
   ],
   "source": [
    "sample_y_linear = nd.random_normal(shape=(2, 10))\n",
    "sample_yhat = softmax(sample_y_linear)\n",
    "print(sample_yhat)"
   ]
  },
  {
   "cell_type": "code",
   "execution_count": 16,
   "metadata": {},
   "outputs": [
    {
     "name": "stdout",
     "output_type": "stream",
     "text": [
      "\n",
      "[ 1.  1.]\n",
      "<NDArray 2 @cpu(0)>\n"
     ]
    }
   ],
   "source": [
    "print(nd.sum(sample_yhat, axis=1))"
   ]
  },
  {
   "cell_type": "code",
   "execution_count": 17,
   "metadata": {
    "collapsed": true
   },
   "outputs": [],
   "source": [
    "def net(X):\n",
    "    y_linear = nd.dot(X, W) + b\n",
    "    yhat = softmax(y_linear)\n",
    "    return yhat"
   ]
  },
  {
   "cell_type": "code",
   "execution_count": 18,
   "metadata": {
    "collapsed": true
   },
   "outputs": [],
   "source": [
    "def cross_entropy(yhat, y):\n",
    "    return - nd.sum(y * nd.log(yhat), axis=0, exclude=True)"
   ]
  },
  {
   "cell_type": "code",
   "execution_count": 19,
   "metadata": {
    "collapsed": true
   },
   "outputs": [],
   "source": [
    "def SGD(params, lr):\n",
    "    for param in params:\n",
    "        param[:] = param - lr * param.grad"
   ]
  },
  {
   "cell_type": "code",
   "execution_count": 20,
   "metadata": {
    "collapsed": true
   },
   "outputs": [],
   "source": [
    "def evaluate_accuracy(data_iterator, net):\n",
    "    numerator = 0.\n",
    "    denominator = 0.\n",
    "    for i, (data, label) in enumerate(data_iterator):\n",
    "        data = data.as_in_context(ctx).reshape((-1, 784))\n",
    "        label = label.as_in_context(ctx)\n",
    "        label_one_hot = nd.one_hot(label, 10)\n",
    "        output = net(data)\n",
    "        predictions = nd.argmax(output, axis=-1)\n",
    "        numerator += nd.sum(predictions == label)\n",
    "        denominator += data.shape[0]\n",
    "    return (numerator / denominator).asscalar()"
   ]
  },
  {
   "cell_type": "code",
   "execution_count": 21,
   "metadata": {},
   "outputs": [
    {
     "data": {
      "text/plain": [
       "0.079499997"
      ]
     },
     "execution_count": 21,
     "metadata": {},
     "output_type": "execute_result"
    }
   ],
   "source": [
    "evaluate_accuracy(test_data, net)"
   ]
  },
  {
   "cell_type": "code",
   "execution_count": 22,
   "metadata": {},
   "outputs": [
    {
     "name": "stdout",
     "output_type": "stream",
     "text": [
      "Epoch 0. Loss: 1.32932401929, Train_acc 0.7555, Test_acc 0.766\n",
      "Epoch 1. Loss: 0.977667200022, Train_acc 0.81215, Test_acc 0.8204\n",
      "Epoch 2. Loss: 0.809557151644, Train_acc 0.836, Test_acc 0.8431\n",
      "Epoch 3. Loss: 0.711106824243, Train_acc 0.849233, Test_acc 0.8578\n",
      "Epoch 4. Loss: 0.663962293751, Train_acc 0.858583, Test_acc 0.8656\n",
      "Epoch 5. Loss: 0.607308888513, Train_acc 0.865283, Test_acc 0.8705\n",
      "Epoch 6. Loss: 0.592547143782, Train_acc 0.870533, Test_acc 0.8759\n",
      "Epoch 7. Loss: 0.553879088623, Train_acc 0.874617, Test_acc 0.8789\n",
      "Epoch 8. Loss: 0.534050706312, Train_acc 0.877583, Test_acc 0.8821\n",
      "Epoch 9. Loss: 0.517923389092, Train_acc 0.881017, Test_acc 0.8834\n"
     ]
    }
   ],
   "source": [
    "epochs = 10\n",
    "moving_loss = 0.\n",
    "learning_rate = .001\n",
    "smoothing_constant = .01\n",
    "niter=0\n",
    "\n",
    "for e in range(epochs):\n",
    "    for i, (data, label) in enumerate(train_data):\n",
    "        data = data.as_in_context(ctx).reshape((-1,784))\n",
    "        label = label.as_in_context(ctx)\n",
    "        label_one_hot = nd.one_hot(label, 10)\n",
    "        with autograd.record():\n",
    "            output = net(data)\n",
    "            loss = cross_entropy(output, label_one_hot)\n",
    "        loss.backward()\n",
    "        SGD(params, learning_rate)\n",
    "\n",
    "        ##########################\n",
    "        #  Keep a moving average of the losses\n",
    "        ##########################\n",
    "        niter +=1\n",
    "        moving_loss = (1 - smoothing_constant) * moving_loss + (smoothing_constant) * nd.mean(loss).asscalar()\n",
    "        est_loss = moving_loss/(1-(1-smoothing_constant)**niter)\n",
    "\n",
    "    test_accuracy = evaluate_accuracy(test_data, net)\n",
    "    train_accuracy = evaluate_accuracy(train_data, net)\n",
    "    print(\"Epoch %s. Loss: %s, Train_acc %s, Test_acc %s\" % (e, est_loss, train_accuracy, test_accuracy))"
   ]
  },
  {
   "cell_type": "code",
   "execution_count": 23,
   "metadata": {},
   "outputs": [
    {
     "name": "stdout",
     "output_type": "stream",
     "text": [
      "(10, 28, 28, 1)\n"
     ]
    },
    {
     "data": {
      "image/png": "[encoded data removed]",
      "text/plain": [
       "<matplotlib.figure.Figure at 0x7f8ece5fd438>"
      ]
     },
     "metadata": {},
     "output_type": "display_data"
    },
    {
     "name": "stdout",
     "output_type": "stream",
     "text": [
      "model predictions are: \n",
      "[ 5.  4.  3.  3.  5.  0.  1.  2.  8.  5.]\n",
      "<NDArray 10 @cpu(0)>\n"
     ]
    }
   ],
   "source": [
    "# Define the function to do prediction\n",
    "def model_predict(net,data):\n",
    "    output = net(data)\n",
    "    return nd.argmax(output, axis=1)\n",
    "\n",
    "# let's sample 10 random data points from the test set\n",
    "sample_data = mx.gluon.data.DataLoader(mnist_test, 10, shuffle=True)\n",
    "for i, (data, label) in enumerate(sample_data):\n",
    "    data = data.as_in_context(ctx)\n",
    "    print(data.shape)\n",
    "    im = nd.transpose(data,(1,0,2,3))\n",
    "    im = nd.reshape(im,(28,10*28,1))\n",
    "    imtiles = nd.tile(im, (1,1,3))\n",
    "\n",
    "    plt.imshow(imtiles.asnumpy())\n",
    "    plt.show()\n",
    "    pred=model_predict(net,data.reshape((-1,784)))\n",
    "    print('model predictions are:', pred)\n",
    "    break"
   ]
  },
  {
   "cell_type": "code",
   "execution_count": null,
   "metadata": {
    "collapsed": true
   },
   "outputs": [],
   "source": []
  }
 ],
 "metadata": {
  "kernelspec": {
   "display_name": "Python 3",
   "language": "python",
   "name": "python3"
  },
  "language_info": {
   "codemirror_mode": {
    "name": "ipython",
    "version": 3
   },
   "file_extension": ".py",
   "mimetype": "text/x-python",
   "name": "python",
   "nbconvert_exporter": "python",
   "pygments_lexer": "ipython3",
   "version": "3.6.1"
  }
 },
 "nbformat": 4,
 "nbformat_minor": 2
}
