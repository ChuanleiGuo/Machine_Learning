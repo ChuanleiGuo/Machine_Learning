{
 "cells": [
  {
   "cell_type": "markdown",
   "metadata": {},
   "source": [
    "# 使用 TensorFlow 实现 Logstic Regression"
   ]
  },
  {
   "cell_type": "code",
   "execution_count": 2,
   "metadata": {
    "collapsed": false
   },
   "outputs": [
    {
     "name": "stdout",
     "output_type": "stream",
     "text": [
      "Extracting MNIST_data/train-images-idx3-ubyte.gz\n",
      "Extracting MNIST_data/train-labels-idx1-ubyte.gz\n",
      "Extracting MNIST_data/t10k-images-idx3-ubyte.gz\n",
      "Extracting MNIST_data/t10k-labels-idx1-ubyte.gz\n"
     ]
    }
   ],
   "source": [
    "import tensorflow as tf\n",
    "\n",
    "# Import MINST data\n",
    "from tensorflow.examples.tutorials.mnist import input_data\n",
    "mnist = input_data.read_data_sets(\"MNIST_data/\", one_hot=True)"
   ]
  },
  {
   "cell_type": "code",
   "execution_count": 4,
   "metadata": {
    "collapsed": true
   },
   "outputs": [],
   "source": [
    "learning_rate = 0.01\n",
    "training_epochs = 25\n",
    "batch_size = 100\n",
    "display_step = 1\n",
    "\n",
    "x = tf.placeholder(tf.float32, [None, 784]) \n",
    "y = tf.placeholder(tf.float32, [None, 10]) \n",
    "\n",
    "W = tf.Variable(tf.zeros([784, 10]))\n",
    "b = tf.Variable(tf.zeros([10]))\n",
    "\n",
    "pred = tf.nn.softmax(tf.matmul(x, W) + b) # Softmax\n",
    "\n",
    "cost = tf.reduce_mean(-tf.reduce_sum(y * tf.log(pred), reduction_indices=1))\n",
    "\n",
    "optimizer = tf.train.GradientDescentOptimizer(learning_rate).minimize(cost)\n",
    "\n",
    "init = tf.global_variables_initializer()"
   ]
  },
  {
   "cell_type": "code",
   "execution_count": 5,
   "metadata": {
    "collapsed": false
   },
   "outputs": [
    {
     "name": "stdout",
     "output_type": "stream",
     "text": [
      "Epoch: 0001 cost=1.182138977\n",
      "Epoch: 0002 cost=0.664735188\n",
      "Epoch: 0003 cost=0.552656599\n",
      "Epoch: 0004 cost=0.498585564\n",
      "Epoch: 0005 cost=0.465472468\n",
      "Epoch: 0006 cost=0.442510201\n",
      "Epoch: 0007 cost=0.425415071\n",
      "Epoch: 0008 cost=0.412211099\n",
      "Epoch: 0009 cost=0.401351537\n",
      "Epoch: 0010 cost=0.392388601\n",
      "Epoch: 0011 cost=0.384776677\n",
      "Epoch: 0012 cost=0.378171012\n",
      "Epoch: 0013 cost=0.372413185\n",
      "Epoch: 0014 cost=0.367241022\n",
      "Epoch: 0015 cost=0.362735600\n",
      "Epoch: 0016 cost=0.358598444\n",
      "Epoch: 0017 cost=0.354876620\n",
      "Epoch: 0018 cost=0.351460960\n",
      "Epoch: 0019 cost=0.348326691\n",
      "Epoch: 0020 cost=0.345434799\n",
      "Epoch: 0021 cost=0.342748548\n",
      "Epoch: 0022 cost=0.340215150\n",
      "Epoch: 0023 cost=0.337919777\n",
      "Epoch: 0024 cost=0.335727969\n",
      "Epoch: 0025 cost=0.333642425\n",
      "Optimization Finished!\n",
      "Accuracy: 0.889667\n"
     ]
    }
   ],
   "source": [
    "with tf.Session() as sess:\n",
    "    sess.run(init)\n",
    "\n",
    "    for epoch in range(training_epochs):\n",
    "        avg_cost = 0.\n",
    "        total_batch = int(mnist.train.num_examples/batch_size)\n",
    "\n",
    "        for i in range(total_batch):\n",
    "            batch_xs, batch_ys = mnist.train.next_batch(batch_size)\n",
    "            \n",
    "            _, c = sess.run([optimizer, cost], feed_dict={x: batch_xs,\n",
    "                                                          y: batch_ys})\n",
    "            avg_cost += c / total_batch\n",
    "\n",
    "        if (epoch+1) % display_step == 0:\n",
    "            print(\"Epoch: {:04d} cost={:.9f}\".format((epoch + 1), avg_cost))\n",
    "\n",
    "    print(\"Optimization Finished!\")\n",
    "\n",
    "    correct_prediction = tf.equal(tf.argmax(pred, 1), tf.argmax(y, 1))\n",
    "\n",
    "    accuracy = tf.reduce_mean(tf.cast(correct_prediction, tf.float32))\n",
    "    print(\"Accuracy: %f\" % accuracy.eval({x: mnist.test.images[:3000], y: mnist.test.labels[:3000]}))"
   ]
  },
  {
   "cell_type": "code",
   "execution_count": null,
   "metadata": {
    "collapsed": true
   },
   "outputs": [],
   "source": []
  }
 ],
 "metadata": {
  "kernelspec": {
   "display_name": "Python 3",
   "language": "python",
   "name": "python3"
  },
  "language_info": {
   "codemirror_mode": {
    "name": "ipython",
    "version": 3
   },
   "file_extension": ".py",
   "mimetype": "text/x-python",
   "name": "python",
   "nbconvert_exporter": "python",
   "pygments_lexer": "ipython3",
   "version": "3.5.3"
  }
 },
 "nbformat": 4,
 "nbformat_minor": 0
}
