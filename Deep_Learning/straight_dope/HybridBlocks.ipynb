{
 "cells": [
  {
   "cell_type": "code",
   "execution_count": 1,
   "metadata": {
    "collapsed": true
   },
   "outputs": [],
   "source": [
    "import mxnet as mx\n",
    "from mxnet.gluon import nn\n",
    "from mxnet import nd"
   ]
  },
  {
   "cell_type": "code",
   "execution_count": 4,
   "metadata": {
    "collapsed": true
   },
   "outputs": [],
   "source": [
    "def get_net():\n",
    "    net = nn.HybridSequential()\n",
    "    with net.name_scope():\n",
    "        net.add(nn.Dense(256, activation=\"relu\"))\n",
    "        net.add(nn.Dense(128, activation=\"relu\"))\n",
    "        net.add(nn.Dense(2))\n",
    "    net.collect_params().initialize()\n",
    "    return net"
   ]
  },
  {
   "cell_type": "code",
   "execution_count": 5,
   "metadata": {},
   "outputs": [
    {
     "name": "stdout",
     "output_type": "stream",
     "text": [
      "=== net(x) ===\n",
      "[[-0.03882251  0.03861449]]\n",
      "<NDArray 1x2 @cpu(0)>\n"
     ]
    }
   ],
   "source": [
    "x = nd.random_normal(shape=(1, 512))\n",
    "net = get_net()\n",
    "print(\"=== net(x) ==={}\".format(net(x)))"
   ]
  },
  {
   "cell_type": "code",
   "execution_count": 6,
   "metadata": {},
   "outputs": [
    {
     "name": "stdout",
     "output_type": "stream",
     "text": [
      "=== net(x) ===\n",
      "[[-0.03882251  0.03861449]]\n",
      "<NDArray 1x2 @cpu(0)>\n"
     ]
    }
   ],
   "source": [
    "net.hybridize()\n",
    "print('=== net(x) ==={}'.format(net(x)))"
   ]
  },
  {
   "cell_type": "code",
   "execution_count": 7,
   "metadata": {},
   "outputs": [
    {
     "name": "stdout",
     "output_type": "stream",
     "text": [
      "Before hybridizing: 0.4969 sec\n",
      "After hybridizing: 0.2551 sec\n"
     ]
    }
   ],
   "source": [
    "from time import time\n",
    "\n",
    "def bench(net, x):\n",
    "    mx.nd.waitall()\n",
    "    start = time()\n",
    "    for i in range(1000):\n",
    "        y = net(x)\n",
    "    mx.nd.waitall()\n",
    "    return time() - start\n",
    "\n",
    "net = get_net()\n",
    "print('Before hybridizing: %.4f sec'%(bench(net, x)))\n",
    "net.hybridize()\n",
    "print('After hybridizing: %.4f sec'%(bench(net, x)))"
   ]
  },
  {
   "cell_type": "code",
   "execution_count": 8,
   "metadata": {},
   "outputs": [
    {
     "name": "stdout",
     "output_type": "stream",
     "text": [
      "=== input data holder ===\n",
      "<Symbol data>\n",
      "\n",
      "=== the symbolic program of net===\n",
      "<Symbol hybridsequential2_dense2_fwd>\n",
      "\n",
      "=== the according json definition===\n",
      "{\n",
      "  \"nodes\": [\n",
      "    {\n",
      "      \"op\": \"null\", \n",
      "      \"name\": \"data\", \n",
      "      \"inputs\": []\n",
      "    }, \n",
      "    {\n",
      "      \"op\": \"null\", \n",
      "      \"name\": \"hybridsequential2_dense0_weight\", \n",
      "      \"attr\": {\n",
      "        \"__dtype__\": \"0\", \n",
      "        \"__lr_mult__\": \"1.0\", \n",
      "        \"__shape__\": \"(256, 0)\", \n",
      "        \"__wd_mult__\": \"1.0\"\n",
      "      }, \n",
      "      \"inputs\": []\n",
      "    }, \n",
      "    {\n",
      "      \"op\": \"null\", \n",
      "      \"name\": \"hybridsequential2_dense0_bias\", \n",
      "      \"attr\": {\n",
      "        \"__dtype__\": \"0\", \n",
      "        \"__init__\": \"zeros\", \n",
      "        \"__lr_mult__\": \"1.0\", \n",
      "        \"__shape__\": \"(256,)\", \n",
      "        \"__wd_mult__\": \"1.0\"\n",
      "      }, \n",
      "      \"inputs\": []\n",
      "    }, \n",
      "    {\n",
      "      \"op\": \"FullyConnected\", \n",
      "      \"name\": \"hybridsequential2_dense0_fwd\", \n",
      "      \"attr\": {\n",
      "        \"flatten\": \"True\", \n",
      "        \"no_bias\": \"False\", \n",
      "        \"num_hidden\": \"256\"\n",
      "      }, \n",
      "      \"inputs\": [[0, 0, 0], [1, 0, 0], [2, 0, 0]]\n",
      "    }, \n",
      "    {\n",
      "      \"op\": \"Activation\", \n",
      "      \"name\": \"hybridsequential2_dense0_relu_fwd\", \n",
      "      \"attr\": {\"act_type\": \"relu\"}, \n",
      "      \"inputs\": [[3, 0, 0]]\n",
      "    }, \n",
      "    {\n",
      "      \"op\": \"null\", \n",
      "      \"name\": \"hybridsequential2_dense1_weight\", \n",
      "      \"attr\": {\n",
      "        \"__dtype__\": \"0\", \n",
      "        \"__lr_mult__\": \"1.0\", \n",
      "        \"__shape__\": \"(128, 0)\", \n",
      "        \"__wd_mult__\": \"1.0\"\n",
      "      }, \n",
      "      \"inputs\": []\n",
      "    }, \n",
      "    {\n",
      "      \"op\": \"null\", \n",
      "      \"name\": \"hybridsequential2_dense1_bias\", \n",
      "      \"attr\": {\n",
      "        \"__dtype__\": \"0\", \n",
      "        \"__init__\": \"zeros\", \n",
      "        \"__lr_mult__\": \"1.0\", \n",
      "        \"__shape__\": \"(128,)\", \n",
      "        \"__wd_mult__\": \"1.0\"\n",
      "      }, \n",
      "      \"inputs\": []\n",
      "    }, \n",
      "    {\n",
      "      \"op\": \"FullyConnected\", \n",
      "      \"name\": \"hybridsequential2_dense1_fwd\", \n",
      "      \"attr\": {\n",
      "        \"flatten\": \"True\", \n",
      "        \"no_bias\": \"False\", \n",
      "        \"num_hidden\": \"128\"\n",
      "      }, \n",
      "      \"inputs\": [[4, 0, 0], [5, 0, 0], [6, 0, 0]]\n",
      "    }, \n",
      "    {\n",
      "      \"op\": \"Activation\", \n",
      "      \"name\": \"hybridsequential2_dense1_relu_fwd\", \n",
      "      \"attr\": {\"act_type\": \"relu\"}, \n",
      "      \"inputs\": [[7, 0, 0]]\n",
      "    }, \n",
      "    {\n",
      "      \"op\": \"null\", \n",
      "      \"name\": \"hybridsequential2_dense2_weight\", \n",
      "      \"attr\": {\n",
      "        \"__dtype__\": \"0\", \n",
      "        \"__lr_mult__\": \"1.0\", \n",
      "        \"__shape__\": \"(2, 0)\", \n",
      "        \"__wd_mult__\": \"1.0\"\n",
      "      }, \n",
      "      \"inputs\": []\n",
      "    }, \n",
      "    {\n",
      "      \"op\": \"null\", \n",
      "      \"name\": \"hybridsequential2_dense2_bias\", \n",
      "      \"attr\": {\n",
      "        \"__dtype__\": \"0\", \n",
      "        \"__init__\": \"zeros\", \n",
      "        \"__lr_mult__\": \"1.0\", \n",
      "        \"__shape__\": \"(2,)\", \n",
      "        \"__wd_mult__\": \"1.0\"\n",
      "      }, \n",
      "      \"inputs\": []\n",
      "    }, \n",
      "    {\n",
      "      \"op\": \"FullyConnected\", \n",
      "      \"name\": \"hybridsequential2_dense2_fwd\", \n",
      "      \"attr\": {\n",
      "        \"flatten\": \"True\", \n",
      "        \"no_bias\": \"False\", \n",
      "        \"num_hidden\": \"2\"\n",
      "      }, \n",
      "      \"inputs\": [[8, 0, 0], [9, 0, 0], [10, 0, 0]]\n",
      "    }\n",
      "  ], \n",
      "  \"arg_nodes\": [0, 1, 2, 5, 6, 9, 10], \n",
      "  \"node_row_ptr\": [\n",
      "    0, \n",
      "    1, \n",
      "    2, \n",
      "    3, \n",
      "    4, \n",
      "    5, \n",
      "    6, \n",
      "    7, \n",
      "    8, \n",
      "    9, \n",
      "    10, \n",
      "    11, \n",
      "    12\n",
      "  ], \n",
      "  \"heads\": [[11, 0, 0]], \n",
      "  \"attrs\": {\"mxnet_version\": [\"int\", 1200]}\n",
      "}\n"
     ]
    }
   ],
   "source": [
    "from mxnet import sym\n",
    "\n",
    "x = sym.var(\"data\")\n",
    "print('=== input data holder ===')\n",
    "print(x)\n",
    "\n",
    "y = net(x)\n",
    "print('\\n=== the symbolic program of net===')\n",
    "print(y)\n",
    "\n",
    "y_json = y.tojson()\n",
    "print('\\n=== the according json definition===')\n",
    "print(y_json)"
   ]
  },
  {
   "cell_type": "code",
   "execution_count": 9,
   "metadata": {
    "collapsed": true
   },
   "outputs": [],
   "source": [
    "from mxnet import gluon"
   ]
  },
  {
   "cell_type": "code",
   "execution_count": 10,
   "metadata": {
    "collapsed": true
   },
   "outputs": [],
   "source": [
    "class Net(gluon.HybridBlock):\n",
    "    def __init__(self, **kwargs):\n",
    "        super(Net, self).__init__(**kwargs)\n",
    "        with self.name_scope():\n",
    "            self.fc1 = nn.Dense(256)\n",
    "            self.fc2 = nn.Dense(128)\n",
    "            self.fc3 = nn.Dense(2)\n",
    "            \n",
    "    def hybrid_forward(self, F, x):\n",
    "        print('type(x): {}, F: {}'.format(\n",
    "                type(x).__name__, F.__name__))\n",
    "        x = F.relu(self.fc1(x))\n",
    "        x = F.relu(self.fc2(x))\n",
    "        return self.fc3(x)"
   ]
  },
  {
   "cell_type": "code",
   "execution_count": 11,
   "metadata": {},
   "outputs": [
    {
     "name": "stdout",
     "output_type": "stream",
     "text": [
      "=== 1st forward ===\n",
      "type(x): NDArray, F: mxnet.ndarray\n",
      "=== 2nd forward ===\n",
      "type(x): NDArray, F: mxnet.ndarray\n"
     ]
    }
   ],
   "source": [
    "net = Net()\n",
    "net.collect_params().initialize()\n",
    "x = nd.random_normal(shape=(1, 512))\n",
    "print('=== 1st forward ===')\n",
    "y = net(x)\n",
    "print('=== 2nd forward ===')\n",
    "y = net(x)"
   ]
  },
  {
   "cell_type": "code",
   "execution_count": 12,
   "metadata": {},
   "outputs": [
    {
     "name": "stdout",
     "output_type": "stream",
     "text": [
      "=== 1st forward ===\n",
      "type(x): Symbol, F: mxnet.symbol\n",
      "=== 2nd forward ===\n"
     ]
    }
   ],
   "source": [
    "net.hybridize()\n",
    "print('=== 1st forward ===')\n",
    "y = net(x)\n",
    "print('=== 2nd forward ===')\n",
    "y = net(x)"
   ]
  },
  {
   "cell_type": "code",
   "execution_count": null,
   "metadata": {
    "collapsed": true
   },
   "outputs": [],
   "source": []
  }
 ],
 "metadata": {
  "kernelspec": {
   "display_name": "Python 3",
   "language": "python",
   "name": "python3"
  },
  "language_info": {
   "codemirror_mode": {
    "name": "ipython",
    "version": 3
   },
   "file_extension": ".py",
   "mimetype": "text/x-python",
   "name": "python",
   "nbconvert_exporter": "python",
   "pygments_lexer": "ipython3",
   "version": "3.6.2"
  }
 },
 "nbformat": 4,
 "nbformat_minor": 2
}
