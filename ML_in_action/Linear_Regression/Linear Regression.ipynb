{
 "cells": [
  {
   "cell_type": "code",
   "execution_count": 1,
   "metadata": {
    "collapsed": true
   },
   "outputs": [],
   "source": [
    "import numpy as np\n",
    "import matplotlib.pyplot as plt\n",
    "%matplotlib inline"
   ]
  },
  {
   "cell_type": "markdown",
   "metadata": {},
   "source": [
    "# Linear Regression"
   ]
  },
  {
   "cell_type": "code",
   "execution_count": 3,
   "metadata": {
    "collapsed": true
   },
   "outputs": [],
   "source": [
    "def load_data_set(filename):\n",
    "    data_mat = []\n",
    "    label_mat = []\n",
    "    num_feat = len(open(filename).readline().split('\\t')) - 1\n",
    "    \n",
    "    with open(filename) as file:\n",
    "        for line in file:\n",
    "            line_arr = []\n",
    "            cur_line = line.strip().split('\\t')\n",
    "            \n",
    "            for i in range(num_feat):\n",
    "                line_arr.append(float(cur_line[i]))\n",
    "            data_mat.append(line_arr)\n",
    "            label_mat.append(float(cur_line[-1]))\n",
    "    return data_mat, label_mat"
   ]
  },
  {
   "cell_type": "code",
   "execution_count": 4,
   "metadata": {
    "collapsed": true
   },
   "outputs": [],
   "source": [
    "def stand_regres(x_arr, y_arr):\n",
    "    x_mat = np.mat(x_arr)\n",
    "    y_mat = np.mat(y_arr).T\n",
    "    x_T_x = x_mat.T * x_mat\n",
    "    if np.linalg.det(x_T_x) == 0.0:\n",
    "        print(\"This matrix is singular, cannot do incerse\")\n",
    "        return \n",
    "    ws = x_T_x.I * (x_mat.T * y_mat)\n",
    "    return ws"
   ]
  },
  {
   "cell_type": "code",
   "execution_count": 5,
   "metadata": {
    "collapsed": true
   },
   "outputs": [],
   "source": [
    "x_arr, y_arr = load_data_set(\"ex0.txt\")"
   ]
  },
  {
   "cell_type": "code",
   "execution_count": 8,
   "metadata": {
    "collapsed": false
   },
   "outputs": [],
   "source": [
    "ws = stand_regres(x_arr, y_arr)"
   ]
  },
  {
   "cell_type": "code",
   "execution_count": 9,
   "metadata": {
    "collapsed": false
   },
   "outputs": [
    {
     "data": {
      "text/plain": [
       "matrix([[ 3.00774324],\n",
       "        [ 1.69532264]])"
      ]
     },
     "execution_count": 9,
     "metadata": {},
     "output_type": "execute_result"
    }
   ],
   "source": [
    "ws"
   ]
  },
  {
   "cell_type": "code",
   "execution_count": 10,
   "metadata": {
    "collapsed": true
   },
   "outputs": [],
   "source": [
    "x_mat, y_mat = np.mat(x_arr), np.mat(y_arr)\n",
    "y_hat = x_mat * ws"
   ]
  },
  {
   "cell_type": "code",
   "execution_count": 22,
   "metadata": {
    "collapsed": false
   },
   "outputs": [
    {
     "data": {
      "image/png": "[encoded data removed]",
      "text/plain": [
       "<matplotlib.figure.Figure at 0x112618d30>"
      ]
     },
     "metadata": {},
     "output_type": "display_data"
    }
   ],
   "source": [
    "fig = plt.figure()\n",
    "ax = fig.add_subplot(1, 1, 1)\n",
    "ax.scatter(x_mat[:, 1].flatten().A[0],\n",
    "           y_mat.T[:, 0].flatten().A[0])\n",
    "\n",
    "x_copy = x_mat.copy()\n",
    "x_copy.sort(0)\n",
    "y_hat = x_copy * ws\n",
    "ax.plot(x_copy[:, 1], y_hat)\n",
    "plt.show()"
   ]
  },
  {
   "cell_type": "code",
   "execution_count": 23,
   "metadata": {
    "collapsed": false
   },
   "outputs": [
    {
     "data": {
      "text/plain": [
       "array([[ 1.        ,  0.98647356],\n",
       "       [ 0.98647356,  1.        ]])"
      ]
     },
     "execution_count": 23,
     "metadata": {},
     "output_type": "execute_result"
    }
   ],
   "source": [
    "y_hat = x_mat * ws\n",
    "np.corrcoef(y_hat.T, y_mat)"
   ]
  },
  {
   "cell_type": "markdown",
   "metadata": {},
   "source": [
    "# Locally Weighted Linear Regression"
   ]
  },
  {
   "cell_type": "markdown",
   "metadata": {},
   "source": [
    "$$ \\hat{w} = (X^{T}WX)^{-1}X^{T}Wy $$"
   ]
  },
  {
   "cell_type": "code",
   "execution_count": 37,
   "metadata": {
    "collapsed": false
   },
   "outputs": [],
   "source": [
    "def lwlr(test_points, x_arr, y_arr, k=1.0):\n",
    "    x_mat = np.mat(x_arr)\n",
    "    y_mat = np.mat(y_arr).T\n",
    "    m = x_mat.shape[0]\n",
    "    weights = np.mat(np.eye(m))\n",
    "    \n",
    "    for j in range(m):\n",
    "        diff_mat = test_points - x_mat[j, :]\n",
    "        weights[j, j] = np.exp(diff_mat * diff_mat.T / (-2.0 * k ** 2))\n",
    "    xTx = x_mat.T * (weights * x_mat)\n",
    "    if np.linalg.det(xTx) == 0.0:\n",
    "        print(\"This matrix is singular, cannot do inverse\")\n",
    "        return\n",
    "    ws = xTx.I * (x_mat.T * (weights * y_mat))\n",
    "    return test_points * ws"
   ]
  },
  {
   "cell_type": "code",
   "execution_count": 43,
   "metadata": {
    "collapsed": true
   },
   "outputs": [],
   "source": [
    "def lwlr_test(test_arr, x_arr, y_arr, k=1.0):\n",
    "    m = np.shape(test_arr)[0]\n",
    "    y_hat = np.zeros(m)\n",
    "    for i in range(m):\n",
    "        y_hat[i] = lwlr(test_arr[i], x_arr, y_arr, k)\n",
    "    return y_hat"
   ]
  },
  {
   "cell_type": "code",
   "execution_count": 44,
   "metadata": {
    "collapsed": true
   },
   "outputs": [],
   "source": [
    "x_arr, y_arr = load_data_set(\"ex0.txt\")"
   ]
  },
  {
   "cell_type": "code",
   "execution_count": 45,
   "metadata": {
    "collapsed": false
   },
   "outputs": [
    {
     "data": {
      "text/plain": [
       "matrix([[ 3.12204471]])"
      ]
     },
     "execution_count": 45,
     "metadata": {},
     "output_type": "execute_result"
    }
   ],
   "source": [
    "lwlr(x_arr[0], x_arr, y_arr, 1.0)"
   ]
  },
  {
   "cell_type": "code",
   "execution_count": 46,
   "metadata": {
    "collapsed": false
   },
   "outputs": [
    {
     "data": {
      "text/plain": [
       "matrix([[ 3.20175729]])"
      ]
     },
     "execution_count": 46,
     "metadata": {},
     "output_type": "execute_result"
    }
   ],
   "source": [
    "lwlr(x_arr[0], x_arr, y_arr, 0.001)"
   ]
  },
  {
   "cell_type": "code",
   "execution_count": 47,
   "metadata": {
    "collapsed": false
   },
   "outputs": [],
   "source": [
    "y_hat = lwlr_test(x_arr, x_arr, y_arr, 0.003)"
   ]
  },
  {
   "cell_type": "code",
   "execution_count": 50,
   "metadata": {
    "collapsed": true
   },
   "outputs": [],
   "source": [
    "x_mat = np.mat(x_arr)\n",
    "srt_ind = x_mat[:, 1].argsort(0)\n",
    "x_sort = x_mat[srt_ind][:, 0, :]"
   ]
  },
  {
   "cell_type": "code",
   "execution_count": 54,
   "metadata": {
    "collapsed": false
   },
   "outputs": [
    {
     "data": {
      "image/png": "[encoded data removed]",
      "text/plain": [
       "<matplotlib.figure.Figure at 0x113a43f60>"
      ]
     },
     "metadata": {},
     "output_type": "display_data"
    }
   ],
   "source": [
    "fig = plt.figure()\n",
    "ax = fig.add_subplot(1, 1, 1)\n",
    "ax.plot(x_sort[:, 1], y_hat[srt_ind])\n",
    "\n",
    "ax.scatter(x_mat[:, 1].flatten().A[0],\n",
    "           np.mat(y_arr).T.flatten().A[0],\n",
    "           s=2, c=\"red\")\n",
    "plt.show()"
   ]
  },
  {
   "cell_type": "code",
   "execution_count": 53,
   "metadata": {
    "collapsed": false
   },
   "outputs": [],
   "source": []
  },
  {
   "cell_type": "code",
   "execution_count": null,
   "metadata": {
    "collapsed": true
   },
   "outputs": [],
   "source": []
  }
 ],
 "metadata": {
  "kernelspec": {
   "display_name": "Python 3",
   "language": "python",
   "name": "python3"
  },
  "language_info": {
   "codemirror_mode": {
    "name": "ipython",
    "version": 3
   },
   "file_extension": ".py",
   "mimetype": "text/x-python",
   "name": "python",
   "nbconvert_exporter": "python",
   "pygments_lexer": "ipython3",
   "version": "3.5.2"
  }
 },
 "nbformat": 4,
 "nbformat_minor": 2
}
